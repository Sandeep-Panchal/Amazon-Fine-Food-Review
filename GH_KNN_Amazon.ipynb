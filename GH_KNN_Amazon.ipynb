{
 "cells": [
  {
   "cell_type": "markdown",
   "metadata": {},
   "source": [
    "# Multinomial Naive Bayes on Amzon Fine Food Review"
   ]
  },
  {
   "cell_type": "markdown",
   "metadata": {},
   "source": [
    "# Amazon Fine Food Review is about the reviews of customers on the food.\n",
    "\n",
    "Number of columns: 10\n",
    "Number of rows: 568454\n",
    "Number of reviews: 568454\n",
    "Number of products: 74258\n",
    "Number of users: 256059\n",
    "\n",
    "# Attribute information:\n",
    " \n",
    "1) Id: Number of rows\n",
    "\n",
    "2) ProductId: Unique ID of product \n",
    "\n",
    "3) UserId: User identification number\n",
    "\n",
    "4) ProfileName: User name\n",
    "\n",
    "5) HelpfulnessNumerator: Number of user found the review helpful\n",
    "\n",
    "6) HelpfulnessDenominator: Number of user who found the review helpful or not\n",
    "\n",
    "7) Score: Rating given to the product\n",
    "\n",
    "8) Time: Timestamp at the time of review posted\n",
    "\n",
    "9) Summary: Short version of text review\n",
    "\n",
    "10) Text: Detailed text review\n",
    "\n",
    "# Objective:\n",
    "\n",
    "We need to find if the review is positive (1) or negative (0).\n",
    "\n",
    "We are provided with the score from 1 to 5. Let's assume score 1 & 2 are negative and score 4 & 5 are positive. We are ignoring 3 as it can be considered as neutral."
   ]
  },
  {
   "cell_type": "markdown",
   "metadata": {},
   "source": [
    "# Loading dataset"
   ]
  },
  {
   "cell_type": "code",
   "execution_count": 1,
   "metadata": {},
   "outputs": [],
   "source": [
    "# Importing libraries\n",
    "\n",
    "import numpy as np\n",
    "import pandas as pd\n",
    "import seaborn as sns\n",
    "import scikitplot as skplt\n",
    "import matplotlib.pyplot as plt\n",
    "%matplotlib inline\n",
    "\n",
    "from time import time\n",
    "\n",
    "# warnings library is to ignore warnings.\n",
    "import warnings\n",
    "warnings.filterwarnings('ignore')"
   ]
  },
  {
   "cell_type": "code",
   "execution_count": 2,
   "metadata": {},
   "outputs": [
    {
     "data": {
      "text/html": [
       "<div>\n",
       "<style scoped>\n",
       "    .dataframe tbody tr th:only-of-type {\n",
       "        vertical-align: middle;\n",
       "    }\n",
       "\n",
       "    .dataframe tbody tr th {\n",
       "        vertical-align: top;\n",
       "    }\n",
       "\n",
       "    .dataframe thead th {\n",
       "        text-align: right;\n",
       "    }\n",
       "</style>\n",
       "<table border=\"1\" class=\"dataframe\">\n",
       "  <thead>\n",
       "    <tr style=\"text-align: right;\">\n",
       "      <th></th>\n",
       "      <th>Id</th>\n",
       "      <th>ProductId</th>\n",
       "      <th>UserId</th>\n",
       "      <th>ProfileName</th>\n",
       "      <th>HelpfulnessNumerator</th>\n",
       "      <th>HelpfulnessDenominator</th>\n",
       "      <th>Score</th>\n",
       "      <th>Time</th>\n",
       "      <th>Summary</th>\n",
       "      <th>Text</th>\n",
       "    </tr>\n",
       "  </thead>\n",
       "  <tbody>\n",
       "    <tr>\n",
       "      <th>0</th>\n",
       "      <td>1</td>\n",
       "      <td>B001E4KFG0</td>\n",
       "      <td>A3SGXH7AUHU8GW</td>\n",
       "      <td>delmartian</td>\n",
       "      <td>1</td>\n",
       "      <td>1</td>\n",
       "      <td>5</td>\n",
       "      <td>1303862400</td>\n",
       "      <td>Good Quality Dog Food</td>\n",
       "      <td>I have bought several of the Vitality canned d...</td>\n",
       "    </tr>\n",
       "    <tr>\n",
       "      <th>1</th>\n",
       "      <td>2</td>\n",
       "      <td>B00813GRG4</td>\n",
       "      <td>A1D87F6ZCVE5NK</td>\n",
       "      <td>dll pa</td>\n",
       "      <td>0</td>\n",
       "      <td>0</td>\n",
       "      <td>1</td>\n",
       "      <td>1346976000</td>\n",
       "      <td>Not as Advertised</td>\n",
       "      <td>Product arrived labeled as Jumbo Salted Peanut...</td>\n",
       "    </tr>\n",
       "    <tr>\n",
       "      <th>2</th>\n",
       "      <td>3</td>\n",
       "      <td>B000LQOCH0</td>\n",
       "      <td>ABXLMWJIXXAIN</td>\n",
       "      <td>Natalia Corres \"Natalia Corres\"</td>\n",
       "      <td>1</td>\n",
       "      <td>1</td>\n",
       "      <td>4</td>\n",
       "      <td>1219017600</td>\n",
       "      <td>\"Delight\" says it all</td>\n",
       "      <td>This is a confection that has been around a fe...</td>\n",
       "    </tr>\n",
       "    <tr>\n",
       "      <th>3</th>\n",
       "      <td>4</td>\n",
       "      <td>B000UA0QIQ</td>\n",
       "      <td>A395BORC6FGVXV</td>\n",
       "      <td>Karl</td>\n",
       "      <td>3</td>\n",
       "      <td>3</td>\n",
       "      <td>2</td>\n",
       "      <td>1307923200</td>\n",
       "      <td>Cough Medicine</td>\n",
       "      <td>If you are looking for the secret ingredient i...</td>\n",
       "    </tr>\n",
       "    <tr>\n",
       "      <th>4</th>\n",
       "      <td>5</td>\n",
       "      <td>B006K2ZZ7K</td>\n",
       "      <td>A1UQRSCLF8GW1T</td>\n",
       "      <td>Michael D. Bigham \"M. Wassir\"</td>\n",
       "      <td>0</td>\n",
       "      <td>0</td>\n",
       "      <td>5</td>\n",
       "      <td>1350777600</td>\n",
       "      <td>Great taffy</td>\n",
       "      <td>Great taffy at a great price.  There was a wid...</td>\n",
       "    </tr>\n",
       "  </tbody>\n",
       "</table>\n",
       "</div>"
      ],
      "text/plain": [
       "   Id   ProductId          UserId                      ProfileName  \\\n",
       "0   1  B001E4KFG0  A3SGXH7AUHU8GW                       delmartian   \n",
       "1   2  B00813GRG4  A1D87F6ZCVE5NK                           dll pa   \n",
       "2   3  B000LQOCH0   ABXLMWJIXXAIN  Natalia Corres \"Natalia Corres\"   \n",
       "3   4  B000UA0QIQ  A395BORC6FGVXV                             Karl   \n",
       "4   5  B006K2ZZ7K  A1UQRSCLF8GW1T    Michael D. Bigham \"M. Wassir\"   \n",
       "\n",
       "   HelpfulnessNumerator  HelpfulnessDenominator  Score        Time  \\\n",
       "0                     1                       1      5  1303862400   \n",
       "1                     0                       0      1  1346976000   \n",
       "2                     1                       1      4  1219017600   \n",
       "3                     3                       3      2  1307923200   \n",
       "4                     0                       0      5  1350777600   \n",
       "\n",
       "                 Summary                                               Text  \n",
       "0  Good Quality Dog Food  I have bought several of the Vitality canned d...  \n",
       "1      Not as Advertised  Product arrived labeled as Jumbo Salted Peanut...  \n",
       "2  \"Delight\" says it all  This is a confection that has been around a fe...  \n",
       "3         Cough Medicine  If you are looking for the secret ingredient i...  \n",
       "4            Great taffy  Great taffy at a great price.  There was a wid...  "
      ]
     },
     "execution_count": 2,
     "metadata": {},
     "output_type": "execute_result"
    }
   ],
   "source": [
    "# Importing dataset\n",
    "\n",
    "df = pd.read_csv('Reviews.csv')\n",
    "\n",
    "# Displaying first 5 rows\n",
    "df.head()"
   ]
  },
  {
   "cell_type": "markdown",
   "metadata": {},
   "source": [
    "# Data Information"
   ]
  },
  {
   "cell_type": "code",
   "execution_count": 3,
   "metadata": {},
   "outputs": [
    {
     "name": "stdout",
     "output_type": "stream",
     "text": [
      "<class 'pandas.core.frame.DataFrame'>\n",
      "RangeIndex: 568454 entries, 0 to 568453\n",
      "Data columns (total 10 columns):\n",
      "Id                        568454 non-null int64\n",
      "ProductId                 568454 non-null object\n",
      "UserId                    568454 non-null object\n",
      "ProfileName               568438 non-null object\n",
      "HelpfulnessNumerator      568454 non-null int64\n",
      "HelpfulnessDenominator    568454 non-null int64\n",
      "Score                     568454 non-null int64\n",
      "Time                      568454 non-null int64\n",
      "Summary                   568427 non-null object\n",
      "Text                      568454 non-null object\n",
      "dtypes: int64(5), object(5)\n",
      "memory usage: 43.4+ MB\n"
     ]
    }
   ],
   "source": [
    "df.info()"
   ]
  },
  {
   "cell_type": "code",
   "execution_count": 4,
   "metadata": {},
   "outputs": [
    {
     "name": "stdout",
     "output_type": "stream",
     "text": [
      "Number of columns: 10\n",
      "Number of rows: 568454\n",
      "Number of reviews: 568454\n",
      "Number of products: 74258\n",
      "Number of users: 256059\n"
     ]
    }
   ],
   "source": [
    "print('Number of columns:' + ' ' + str(len(df.columns)))\n",
    "print('Number of rows:' + ' ' + str(df['Id'].nunique()))\n",
    "print('Number of reviews:' + ' ' + str(df['Id'].nunique()))\n",
    "print('Number of products:' + ' ' + str(df['ProductId'].nunique()))\n",
    "print('Number of users:' + ' ' + str(df['UserId'].nunique()))"
   ]
  },
  {
   "cell_type": "markdown",
   "metadata": {},
   "source": [
    "# Assign Polarity\n",
    "\n",
    "Let us assign positive (1) to the score 4 and 5\n",
    "\n",
    "Let us assign negative (0) to the score 1 and 2\n",
    "\n",
    "Let us ignore score having 3"
   ]
  },
  {
   "cell_type": "code",
   "execution_count": 5,
   "metadata": {},
   "outputs": [
    {
     "name": "stdout",
     "output_type": "stream",
     "text": [
      "Number of rows before removing score 3: 568454\n",
      "Number of rows after removing score 3: 525814\n"
     ]
    }
   ],
   "source": [
    "# Let us first create a new dataset which doesn't have score 3 and it's respective rows.\n",
    "\n",
    "print('Number of rows before removing score 3:' + ' ' + str(df['Id'].nunique()))\n",
    "\n",
    "df_score = df[df['Score'] != 3]\n",
    "\n",
    "print('Number of rows after removing score 3:' + ' ' + str(df_score['Id'].nunique()))"
   ]
  },
  {
   "cell_type": "code",
   "execution_count": 6,
   "metadata": {},
   "outputs": [],
   "source": [
    "# Defining a function to assign polarity.\n",
    "\n",
    "def scr(sc):\n",
    "    if sc > 3:\n",
    "        return 1\n",
    "    return 0"
   ]
  },
  {
   "cell_type": "code",
   "execution_count": 7,
   "metadata": {},
   "outputs": [
    {
     "name": "stdout",
     "output_type": "stream",
     "text": [
      "Number of positive (1) and negative (0) reviews\n"
     ]
    },
    {
     "data": {
      "text/plain": [
       "1    443777\n",
       "0     82037\n",
       "Name: Score, dtype: int64"
      ]
     },
     "execution_count": 7,
     "metadata": {},
     "output_type": "execute_result"
    }
   ],
   "source": [
    "# Calling function to assign polarity using .apply()\n",
    "df_score['Score'] = df_score['Score'].apply(scr)\n",
    "\n",
    "print(\"Number of positive (1) and negative (0) reviews\")\n",
    "\n",
    "df_score['Score'].value_counts()"
   ]
  },
  {
   "cell_type": "code",
   "execution_count": 8,
   "metadata": {},
   "outputs": [
    {
     "name": "stdout",
     "output_type": "stream",
     "text": [
      "Data percentage reduced to: 92.4989533014105\n"
     ]
    }
   ],
   "source": [
    "# Check the reduction percentage of data\n",
    "print(\"Data percentage reduced to:\" + ' ' + str(100*(len(df_score['Id'])/len(df['Id']))))"
   ]
  },
  {
   "cell_type": "markdown",
   "metadata": {},
   "source": [
    "# Exploratory Data Analysis"
   ]
  },
  {
   "cell_type": "code",
   "execution_count": 9,
   "metadata": {},
   "outputs": [
    {
     "data": {
      "text/plain": [
       "<matplotlib.axes._subplots.AxesSubplot at 0x1b02f470>"
      ]
     },
     "execution_count": 9,
     "metadata": {},
     "output_type": "execute_result"
    },
    {
     "data": {
      "image/png": "[encoded data removed]",
      "text/plain": [
       "<Figure size 432x288 with 1 Axes>"
      ]
     },
     "metadata": {
      "needs_background": "light"
     },
     "output_type": "display_data"
    }
   ],
   "source": [
    "sns.countplot(df_score['Score'], hue = df_score['Score'])"
   ]
  },
  {
   "cell_type": "markdown",
   "metadata": {},
   "source": [
    "# Observation:\n",
    "As we can see, number of negative reviews are closer to 10k while positive review is more than 400k.\n",
    "\n",
    "Ratio of negative and positive review can be assumed to be ~ 1:4.\n",
    "\n",
    "Also, we can conclude that ~90% of the reviews are positive."
   ]
  },
  {
   "cell_type": "markdown",
   "metadata": {},
   "source": [
    "# Data Cleaning"
   ]
  },
  {
   "cell_type": "markdown",
   "metadata": {},
   "source": [
    "# Null values"
   ]
  },
  {
   "cell_type": "code",
   "execution_count": 10,
   "metadata": {},
   "outputs": [
    {
     "data": {
      "text/plain": [
       "<matplotlib.axes._subplots.AxesSubplot at 0x1b0cc1d0>"
      ]
     },
     "execution_count": 10,
     "metadata": {},
     "output_type": "execute_result"
    },
    {
     "data": {
      "image/png": "[encoded data removed]",
      "text/plain": [
       "<Figure size 432x288 with 2 Axes>"
      ]
     },
     "metadata": {
      "needs_background": "light"
     },
     "output_type": "display_data"
    }
   ],
   "source": [
    "sns.heatmap(df_score.isnull(), cmap = 'viridis')"
   ]
  },
  {
   "cell_type": "markdown",
   "metadata": {},
   "source": [
    "# Observation:\n",
    "From the heat, it is clear that there are no null values"
   ]
  },
  {
   "cell_type": "markdown",
   "metadata": {},
   "source": [
    "# Duplication"
   ]
  },
  {
   "cell_type": "code",
   "execution_count": 11,
   "metadata": {},
   "outputs": [
    {
     "data": {
      "text/html": [
       "<div>\n",
       "<style scoped>\n",
       "    .dataframe tbody tr th:only-of-type {\n",
       "        vertical-align: middle;\n",
       "    }\n",
       "\n",
       "    .dataframe tbody tr th {\n",
       "        vertical-align: top;\n",
       "    }\n",
       "\n",
       "    .dataframe thead th {\n",
       "        text-align: right;\n",
       "    }\n",
       "</style>\n",
       "<table border=\"1\" class=\"dataframe\">\n",
       "  <thead>\n",
       "    <tr style=\"text-align: right;\">\n",
       "      <th></th>\n",
       "      <th>Id</th>\n",
       "      <th>ProductId</th>\n",
       "      <th>UserId</th>\n",
       "      <th>ProfileName</th>\n",
       "      <th>HelpfulnessNumerator</th>\n",
       "      <th>HelpfulnessDenominator</th>\n",
       "      <th>Score</th>\n",
       "      <th>Time</th>\n",
       "      <th>Summary</th>\n",
       "      <th>Text</th>\n",
       "    </tr>\n",
       "  </thead>\n",
       "  <tbody>\n",
       "    <tr>\n",
       "      <th>29</th>\n",
       "      <td>30</td>\n",
       "      <td>B0001PB9FY</td>\n",
       "      <td>A3HDKO7OW0QNK4</td>\n",
       "      <td>Canadian Fan</td>\n",
       "      <td>1</td>\n",
       "      <td>1</td>\n",
       "      <td>1</td>\n",
       "      <td>1107820800</td>\n",
       "      <td>The Best Hot Sauce in the World</td>\n",
       "      <td>I don't know if it's the cactus or the tequila...</td>\n",
       "    </tr>\n",
       "    <tr>\n",
       "      <th>574</th>\n",
       "      <td>575</td>\n",
       "      <td>B000G6RYNE</td>\n",
       "      <td>A3PJZ8TU8FDQ1K</td>\n",
       "      <td>Jared Castle</td>\n",
       "      <td>2</td>\n",
       "      <td>2</td>\n",
       "      <td>1</td>\n",
       "      <td>1231718400</td>\n",
       "      <td>One bite and you'll become a \"chippoisseur\"</td>\n",
       "      <td>I'm addicted to salty and tangy flavors, so wh...</td>\n",
       "    </tr>\n",
       "    <tr>\n",
       "      <th>2309</th>\n",
       "      <td>2310</td>\n",
       "      <td>B0001VWE0M</td>\n",
       "      <td>AQM74O8Z4FMS0</td>\n",
       "      <td>Sunshine</td>\n",
       "      <td>0</td>\n",
       "      <td>0</td>\n",
       "      <td>0</td>\n",
       "      <td>1127606400</td>\n",
       "      <td>Below standard</td>\n",
       "      <td>Too much of the white pith on this orange peel...</td>\n",
       "    </tr>\n",
       "    <tr>\n",
       "      <th>2323</th>\n",
       "      <td>2324</td>\n",
       "      <td>B0001VWE0C</td>\n",
       "      <td>AQM74O8Z4FMS0</td>\n",
       "      <td>Sunshine</td>\n",
       "      <td>0</td>\n",
       "      <td>0</td>\n",
       "      <td>0</td>\n",
       "      <td>1127606400</td>\n",
       "      <td>Below standard</td>\n",
       "      <td>Too much of the white pith on this orange peel...</td>\n",
       "    </tr>\n",
       "    <tr>\n",
       "      <th>2336</th>\n",
       "      <td>2337</td>\n",
       "      <td>B0001FQVCK</td>\n",
       "      <td>A5D06XJHDXK75</td>\n",
       "      <td>C. Po</td>\n",
       "      <td>1</td>\n",
       "      <td>1</td>\n",
       "      <td>1</td>\n",
       "      <td>1190592000</td>\n",
       "      <td>Baci's are pure heaven - great gift, stocking ...</td>\n",
       "      <td>My family has been in love with Baci's ever si...</td>\n",
       "    </tr>\n",
       "    <tr>\n",
       "      <th>2647</th>\n",
       "      <td>2648</td>\n",
       "      <td>B0016FY6H6</td>\n",
       "      <td>A2NLZ3M0OJV9NX</td>\n",
       "      <td>Mark Bodzin</td>\n",
       "      <td>0</td>\n",
       "      <td>0</td>\n",
       "      <td>0</td>\n",
       "      <td>1313107200</td>\n",
       "      <td>way too weak for my tastes</td>\n",
       "      <td>What can i say, I love iced tea. I drink a lot...</td>\n",
       "    </tr>\n",
       "    <tr>\n",
       "      <th>2653</th>\n",
       "      <td>2654</td>\n",
       "      <td>B0016FY6H6</td>\n",
       "      <td>A3I4PCBRENJNG2</td>\n",
       "      <td>L. Cain</td>\n",
       "      <td>0</td>\n",
       "      <td>0</td>\n",
       "      <td>1</td>\n",
       "      <td>1300579200</td>\n",
       "      <td>quality lightly sweetened green tea powder</td>\n",
       "      <td>lots of uses for this green tea...&lt;br /&gt;&lt;br /&gt;...</td>\n",
       "    </tr>\n",
       "    <tr>\n",
       "      <th>2946</th>\n",
       "      <td>2947</td>\n",
       "      <td>B0002TJAZK</td>\n",
       "      <td>A2ISKAWUPGGOLZ</td>\n",
       "      <td>M. S. Handley</td>\n",
       "      <td>0</td>\n",
       "      <td>1</td>\n",
       "      <td>0</td>\n",
       "      <td>1310774400</td>\n",
       "      <td>Kitty Junk Food</td>\n",
       "      <td>We have five cats - one an elderly cat of 15 y...</td>\n",
       "    </tr>\n",
       "    <tr>\n",
       "      <th>2947</th>\n",
       "      <td>2948</td>\n",
       "      <td>B0002TJAZK</td>\n",
       "      <td>A3TVZM3ZIXG8YW</td>\n",
       "      <td>christopher hayes</td>\n",
       "      <td>0</td>\n",
       "      <td>2</td>\n",
       "      <td>0</td>\n",
       "      <td>1291420800</td>\n",
       "      <td>Filler food is empty, leaves your cat always n...</td>\n",
       "      <td>This review will make me sound really stupid, ...</td>\n",
       "    </tr>\n",
       "    <tr>\n",
       "      <th>3885</th>\n",
       "      <td>3886</td>\n",
       "      <td>B005GX7GVW</td>\n",
       "      <td>AS1FCKNKY95ID</td>\n",
       "      <td>Juli A. Lee \"JingleJL\"</td>\n",
       "      <td>1</td>\n",
       "      <td>1</td>\n",
       "      <td>1</td>\n",
       "      <td>1336953600</td>\n",
       "      <td>Great and good price!</td>\n",
       "      <td>I love these noodles.  They are really great f...</td>\n",
       "    </tr>\n",
       "    <tr>\n",
       "      <th>3886</th>\n",
       "      <td>3887</td>\n",
       "      <td>B005GX7GVW</td>\n",
       "      <td>A1I34N9LFOSCX7</td>\n",
       "      <td>Smeggy</td>\n",
       "      <td>0</td>\n",
       "      <td>0</td>\n",
       "      <td>1</td>\n",
       "      <td>1349136000</td>\n",
       "      <td>Yum!</td>\n",
       "      <td>This soup cooks up quickly and is very yummy! ...</td>\n",
       "    </tr>\n",
       "    <tr>\n",
       "      <th>4640</th>\n",
       "      <td>4641</td>\n",
       "      <td>B0002NYO9I</td>\n",
       "      <td>A5DVX3B075B09</td>\n",
       "      <td>Patricia Kays</td>\n",
       "      <td>0</td>\n",
       "      <td>0</td>\n",
       "      <td>1</td>\n",
       "      <td>1338940800</td>\n",
       "      <td>LOVELY JUNIPER BERRIES</td>\n",
       "      <td>Dried berries, still with texture and the quin...</td>\n",
       "    </tr>\n",
       "    <tr>\n",
       "      <th>4641</th>\n",
       "      <td>4642</td>\n",
       "      <td>B0002NYO9I</td>\n",
       "      <td>A376TWN7I4HMZ8</td>\n",
       "      <td>helios</td>\n",
       "      <td>0</td>\n",
       "      <td>1</td>\n",
       "      <td>1</td>\n",
       "      <td>1324252800</td>\n",
       "      <td>Exaclty what i ordered</td>\n",
       "      <td>Again, exactly what I ordered. No fuss, no mus...</td>\n",
       "    </tr>\n",
       "    <tr>\n",
       "      <th>5397</th>\n",
       "      <td>5398</td>\n",
       "      <td>B00622CYVS</td>\n",
       "      <td>ATIHDHZYNQ0EI</td>\n",
       "      <td>Kristen O'donnell \"twinsmom\"</td>\n",
       "      <td>1</td>\n",
       "      <td>1</td>\n",
       "      <td>1</td>\n",
       "      <td>1270425600</td>\n",
       "      <td>Organic and Tasty</td>\n",
       "      <td>I'd continue to buy but I'm moving over to mor...</td>\n",
       "    </tr>\n",
       "    <tr>\n",
       "      <th>5451</th>\n",
       "      <td>5452</td>\n",
       "      <td>B00622CYVI</td>\n",
       "      <td>ATIHDHZYNQ0EI</td>\n",
       "      <td>Kristen O'donnell \"twinsmom\"</td>\n",
       "      <td>2</td>\n",
       "      <td>2</td>\n",
       "      <td>1</td>\n",
       "      <td>1270425600</td>\n",
       "      <td>Organic and Tasty</td>\n",
       "      <td>I'd continue to buy but I'm moving over to mor...</td>\n",
       "    </tr>\n",
       "    <tr>\n",
       "      <th>5463</th>\n",
       "      <td>5464</td>\n",
       "      <td>B00622CYVI</td>\n",
       "      <td>A2ETT9SL9AN39O</td>\n",
       "      <td>Danielle L Bostic</td>\n",
       "      <td>0</td>\n",
       "      <td>0</td>\n",
       "      <td>1</td>\n",
       "      <td>1333324800</td>\n",
       "      <td>Great Product</td>\n",
       "      <td>My one year old loves this product. She eats o...</td>\n",
       "    </tr>\n",
       "    <tr>\n",
       "      <th>5476</th>\n",
       "      <td>5477</td>\n",
       "      <td>B00622CYVI</td>\n",
       "      <td>A2MF0C4E7GYCI</td>\n",
       "      <td>VW \"VW\"</td>\n",
       "      <td>0</td>\n",
       "      <td>0</td>\n",
       "      <td>1</td>\n",
       "      <td>1298678400</td>\n",
       "      <td>My child loves this food!</td>\n",
       "      <td>Great value if you buy it as a subscribe and s...</td>\n",
       "    </tr>\n",
       "    <tr>\n",
       "      <th>5488</th>\n",
       "      <td>5489</td>\n",
       "      <td>B00622CYVI</td>\n",
       "      <td>ASEAKR59G0SLT</td>\n",
       "      <td>Reviewer \"Jason\"</td>\n",
       "      <td>1</td>\n",
       "      <td>3</td>\n",
       "      <td>0</td>\n",
       "      <td>1329782400</td>\n",
       "      <td>Product is good; Amazon fulfillment is poor</td>\n",
       "      <td>Amazon normally does a fantastic job getting p...</td>\n",
       "    </tr>\n",
       "    <tr>\n",
       "      <th>5603</th>\n",
       "      <td>5604</td>\n",
       "      <td>B000G1X45G</td>\n",
       "      <td>A36HK6V63C02XE</td>\n",
       "      <td>Renee \"supermom\"</td>\n",
       "      <td>0</td>\n",
       "      <td>0</td>\n",
       "      <td>1</td>\n",
       "      <td>1236556800</td>\n",
       "      <td>If you love strong full flavored coffee---this...</td>\n",
       "      <td>If you like strong coffee, this is it!  The fl...</td>\n",
       "    </tr>\n",
       "    <tr>\n",
       "      <th>5958</th>\n",
       "      <td>5959</td>\n",
       "      <td>B001O2IX8E</td>\n",
       "      <td>A3KDZCQ82JFWLN</td>\n",
       "      <td>Phoebe Oh</td>\n",
       "      <td>0</td>\n",
       "      <td>1</td>\n",
       "      <td>0</td>\n",
       "      <td>1245888000</td>\n",
       "      <td>Some broken jars</td>\n",
       "      <td>When I saw some of the Earth's Best jars offer...</td>\n",
       "    </tr>\n",
       "    <tr>\n",
       "      <th>6441</th>\n",
       "      <td>6442</td>\n",
       "      <td>B000QB0WUG</td>\n",
       "      <td>A16TI8YVRRC8AN</td>\n",
       "      <td>M. Vega</td>\n",
       "      <td>0</td>\n",
       "      <td>0</td>\n",
       "      <td>1</td>\n",
       "      <td>1329868800</td>\n",
       "      <td>Yummy</td>\n",
       "      <td>Tried this in a turkey burger and it was sooo ...</td>\n",
       "    </tr>\n",
       "    <tr>\n",
       "      <th>6517</th>\n",
       "      <td>6518</td>\n",
       "      <td>B005O8BLLU</td>\n",
       "      <td>APH7I7OZ8WUJP</td>\n",
       "      <td>J. Simpson</td>\n",
       "      <td>0</td>\n",
       "      <td>0</td>\n",
       "      <td>1</td>\n",
       "      <td>1347494400</td>\n",
       "      <td>Great first food</td>\n",
       "      <td>This is excellent for a baby's first taste. Th...</td>\n",
       "    </tr>\n",
       "    <tr>\n",
       "      <th>7321</th>\n",
       "      <td>7322</td>\n",
       "      <td>B0042395CA</td>\n",
       "      <td>AKZKG2Z7CNV27</td>\n",
       "      <td>BreezyPaige</td>\n",
       "      <td>0</td>\n",
       "      <td>0</td>\n",
       "      <td>0</td>\n",
       "      <td>1332547200</td>\n",
       "      <td>Decent, but not great</td>\n",
       "      <td>When I first started to use IAMS Savory Sauce,...</td>\n",
       "    </tr>\n",
       "    <tr>\n",
       "      <th>7899</th>\n",
       "      <td>7900</td>\n",
       "      <td>B00126EQ8I</td>\n",
       "      <td>A3O646NL6SH3ZL</td>\n",
       "      <td>J McCool</td>\n",
       "      <td>1</td>\n",
       "      <td>1</td>\n",
       "      <td>1</td>\n",
       "      <td>1255392000</td>\n",
       "      <td>The real deal (ALMOST)</td>\n",
       "      <td>I pass around favorable endorsements very seld...</td>\n",
       "    </tr>\n",
       "    <tr>\n",
       "      <th>7904</th>\n",
       "      <td>7905</td>\n",
       "      <td>B00285FFCS</td>\n",
       "      <td>ARXORJX86X1J2</td>\n",
       "      <td>Yvette Mendoza</td>\n",
       "      <td>0</td>\n",
       "      <td>0</td>\n",
       "      <td>1</td>\n",
       "      <td>1327017600</td>\n",
       "      <td>Chocolate heaven</td>\n",
       "      <td>My mother and father were the recipient of the...</td>\n",
       "    </tr>\n",
       "    <tr>\n",
       "      <th>8762</th>\n",
       "      <td>8763</td>\n",
       "      <td>B004OLUCAE</td>\n",
       "      <td>A281NPSIMI1C2R</td>\n",
       "      <td>Rebecca of Amazon \"The Rebecca Review\"</td>\n",
       "      <td>0</td>\n",
       "      <td>0</td>\n",
       "      <td>1</td>\n",
       "      <td>1316131200</td>\n",
       "      <td>Delicious Alternative to Sugar</td>\n",
       "      <td>If you are looking for a sweetener that is del...</td>\n",
       "    </tr>\n",
       "    <tr>\n",
       "      <th>8993</th>\n",
       "      <td>8994</td>\n",
       "      <td>B006N3IG4K</td>\n",
       "      <td>A5U24IWH64IFF</td>\n",
       "      <td>Kimdoll</td>\n",
       "      <td>1</td>\n",
       "      <td>1</td>\n",
       "      <td>1</td>\n",
       "      <td>1302480000</td>\n",
       "      <td>Absolutely delicious coffee!</td>\n",
       "      <td>I am a huge coffee drinker, and love the k-cup...</td>\n",
       "    </tr>\n",
       "    <tr>\n",
       "      <th>8994</th>\n",
       "      <td>8995</td>\n",
       "      <td>B006N3IG4K</td>\n",
       "      <td>A1RVCWFP3SC3GU</td>\n",
       "      <td>Cakediva</td>\n",
       "      <td>1</td>\n",
       "      <td>1</td>\n",
       "      <td>1</td>\n",
       "      <td>1300233600</td>\n",
       "      <td>YUMMY</td>\n",
       "      <td>We always drink Timmothy's or Emeril's. Though...</td>\n",
       "    </tr>\n",
       "    <tr>\n",
       "      <th>8995</th>\n",
       "      <td>8996</td>\n",
       "      <td>B006N3IG4K</td>\n",
       "      <td>A12SO47JRQGUPR</td>\n",
       "      <td>Thomas Smith \"tjaye\"</td>\n",
       "      <td>1</td>\n",
       "      <td>1</td>\n",
       "      <td>1</td>\n",
       "      <td>1299801600</td>\n",
       "      <td>Good Stuff</td>\n",
       "      <td>Good subtle flavored coffee for the mid-aftern...</td>\n",
       "    </tr>\n",
       "    <tr>\n",
       "      <th>8996</th>\n",
       "      <td>8997</td>\n",
       "      <td>B006N3IG4K</td>\n",
       "      <td>A86RUZGD22FDR</td>\n",
       "      <td>Another coffee drinker</td>\n",
       "      <td>1</td>\n",
       "      <td>1</td>\n",
       "      <td>1</td>\n",
       "      <td>1299110400</td>\n",
       "      <td>Delivers what was promises</td>\n",
       "      <td>Wolfgang Puck's Chef's Reserve Colombian (Dark...</td>\n",
       "    </tr>\n",
       "    <tr>\n",
       "      <th>...</th>\n",
       "      <td>...</td>\n",
       "      <td>...</td>\n",
       "      <td>...</td>\n",
       "      <td>...</td>\n",
       "      <td>...</td>\n",
       "      <td>...</td>\n",
       "      <td>...</td>\n",
       "      <td>...</td>\n",
       "      <td>...</td>\n",
       "      <td>...</td>\n",
       "    </tr>\n",
       "    <tr>\n",
       "      <th>568323</th>\n",
       "      <td>568324</td>\n",
       "      <td>B0013Z0PTW</td>\n",
       "      <td>A18AAABCIJKC5Q</td>\n",
       "      <td>Rhiever</td>\n",
       "      <td>1</td>\n",
       "      <td>3</td>\n",
       "      <td>0</td>\n",
       "      <td>1295740800</td>\n",
       "      <td>High fiber isn't necessarily a good thing!</td>\n",
       "      <td>I recently cut fiber one bars out of my diet a...</td>\n",
       "    </tr>\n",
       "    <tr>\n",
       "      <th>568351</th>\n",
       "      <td>568352</td>\n",
       "      <td>B003O5Q3KE</td>\n",
       "      <td>A2T26HRHG8172X</td>\n",
       "      <td>pompoodlejr</td>\n",
       "      <td>0</td>\n",
       "      <td>0</td>\n",
       "      <td>1</td>\n",
       "      <td>1293321600</td>\n",
       "      <td>dog treats</td>\n",
       "      <td>i have 4 dogs, 3 of them love these peanut but...</td>\n",
       "    </tr>\n",
       "    <tr>\n",
       "      <th>568352</th>\n",
       "      <td>568353</td>\n",
       "      <td>B003O5Q3KE</td>\n",
       "      <td>A3J8TD7DX73JK0</td>\n",
       "      <td>Joni</td>\n",
       "      <td>0</td>\n",
       "      <td>0</td>\n",
       "      <td>1</td>\n",
       "      <td>1292198400</td>\n",
       "      <td>Repeat Purchaser - My dogs love these</td>\n",
       "      <td>I order several of these everytime I place an ...</td>\n",
       "    </tr>\n",
       "    <tr>\n",
       "      <th>568353</th>\n",
       "      <td>568354</td>\n",
       "      <td>B003O5Q3KE</td>\n",
       "      <td>A2U4L18LOGSHQ1</td>\n",
       "      <td>Larry L. Wieskamp \"larwie\"</td>\n",
       "      <td>0</td>\n",
       "      <td>0</td>\n",
       "      <td>0</td>\n",
       "      <td>1291161600</td>\n",
       "      <td>doggy crackers</td>\n",
       "      <td>These were kind of expensive for a dog treat a...</td>\n",
       "    </tr>\n",
       "    <tr>\n",
       "      <th>568354</th>\n",
       "      <td>568355</td>\n",
       "      <td>B003O5Q3KE</td>\n",
       "      <td>A2Q833MV8UEM37</td>\n",
       "      <td>Josh Crick</td>\n",
       "      <td>0</td>\n",
       "      <td>2</td>\n",
       "      <td>0</td>\n",
       "      <td>1286841600</td>\n",
       "      <td>My Dog HATED these treats</td>\n",
       "      <td>Went into the dumpster the very first night. M...</td>\n",
       "    </tr>\n",
       "    <tr>\n",
       "      <th>568361</th>\n",
       "      <td>568362</td>\n",
       "      <td>B000LKVRQA</td>\n",
       "      <td>A1YUL9PCJR3JTY</td>\n",
       "      <td>O. Brown \"Ms. O. Khannah-Brown\"</td>\n",
       "      <td>1</td>\n",
       "      <td>1</td>\n",
       "      <td>1</td>\n",
       "      <td>1282608000</td>\n",
       "      <td>An Earl Grey Tea That Won't Disappoint</td>\n",
       "      <td>*****&lt;br /&gt;St. Dalfour's wonderful Certified O...</td>\n",
       "    </tr>\n",
       "    <tr>\n",
       "      <th>568370</th>\n",
       "      <td>568371</td>\n",
       "      <td>B003NQMPYM</td>\n",
       "      <td>A26EL6HQW6SJZ4</td>\n",
       "      <td>Michael Larson</td>\n",
       "      <td>0</td>\n",
       "      <td>0</td>\n",
       "      <td>1</td>\n",
       "      <td>1328313600</td>\n",
       "      <td>M. Larson</td>\n",
       "      <td>We tried these \"candy bars\" in Hawaii.  They a...</td>\n",
       "    </tr>\n",
       "    <tr>\n",
       "      <th>568386</th>\n",
       "      <td>568387</td>\n",
       "      <td>B001EQ5O6Y</td>\n",
       "      <td>A1U36T07L3HM0E</td>\n",
       "      <td>F. Dias</td>\n",
       "      <td>7</td>\n",
       "      <td>7</td>\n",
       "      <td>1</td>\n",
       "      <td>1256688000</td>\n",
       "      <td>Just some info to help...</td>\n",
       "      <td>Just FYI, I checked the nutritional informatio...</td>\n",
       "    </tr>\n",
       "    <tr>\n",
       "      <th>568387</th>\n",
       "      <td>568388</td>\n",
       "      <td>B001EQ5O6Y</td>\n",
       "      <td>A3NL4VV8FXZ266</td>\n",
       "      <td>Ruby \"Tuesday\"</td>\n",
       "      <td>3</td>\n",
       "      <td>3</td>\n",
       "      <td>0</td>\n",
       "      <td>1187395200</td>\n",
       "      <td>good idea but messy</td>\n",
       "      <td>this ia a good idea; however, difficult to ope...</td>\n",
       "    </tr>\n",
       "    <tr>\n",
       "      <th>568388</th>\n",
       "      <td>568389</td>\n",
       "      <td>B001EQ5O6Y</td>\n",
       "      <td>A3JDX65QJO3Q2F</td>\n",
       "      <td>Don't believe it just because someone told yo...</td>\n",
       "      <td>5</td>\n",
       "      <td>6</td>\n",
       "      <td>1</td>\n",
       "      <td>1187395200</td>\n",
       "      <td>Awesome product</td>\n",
       "      <td>I have used agave for many things and find tha...</td>\n",
       "    </tr>\n",
       "    <tr>\n",
       "      <th>568389</th>\n",
       "      <td>568390</td>\n",
       "      <td>B001EQ5O6Y</td>\n",
       "      <td>A2LGOMSYQJ5PZS</td>\n",
       "      <td>N. Hjort</td>\n",
       "      <td>2</td>\n",
       "      <td>2</td>\n",
       "      <td>1</td>\n",
       "      <td>1257552000</td>\n",
       "      <td>great flavor</td>\n",
       "      <td>The cinnamon honey sticks flavor was excellent...</td>\n",
       "    </tr>\n",
       "    <tr>\n",
       "      <th>568390</th>\n",
       "      <td>568391</td>\n",
       "      <td>B001EQ5O6Y</td>\n",
       "      <td>A3HRWZW3ZK6W49</td>\n",
       "      <td>Kristen McDaniel</td>\n",
       "      <td>1</td>\n",
       "      <td>1</td>\n",
       "      <td>1</td>\n",
       "      <td>1239148800</td>\n",
       "      <td>Yummy honey in a convenient portion.</td>\n",
       "      <td>I bought this in an effort to help myself quit...</td>\n",
       "    </tr>\n",
       "    <tr>\n",
       "      <th>568391</th>\n",
       "      <td>568392</td>\n",
       "      <td>B001EQ5O6Y</td>\n",
       "      <td>A31YNKI4TS6ZJW</td>\n",
       "      <td>Lauren L.</td>\n",
       "      <td>1</td>\n",
       "      <td>1</td>\n",
       "      <td>1</td>\n",
       "      <td>1234310400</td>\n",
       "      <td>convenient way of taking your agave with you!</td>\n",
       "      <td>I was hesitant about this product based on som...</td>\n",
       "    </tr>\n",
       "    <tr>\n",
       "      <th>568392</th>\n",
       "      <td>568393</td>\n",
       "      <td>B001EQ5O6Y</td>\n",
       "      <td>A1XDASQ60YMQLN</td>\n",
       "      <td>Karen Pratt \"tudie\"</td>\n",
       "      <td>1</td>\n",
       "      <td>1</td>\n",
       "      <td>1</td>\n",
       "      <td>1207526400</td>\n",
       "      <td>Wonderful Flavor</td>\n",
       "      <td>These little goodies are so full of flavor and...</td>\n",
       "    </tr>\n",
       "    <tr>\n",
       "      <th>568393</th>\n",
       "      <td>568394</td>\n",
       "      <td>B001EQ5O6Y</td>\n",
       "      <td>AJGGU9YEZNPY7</td>\n",
       "      <td>Kah-tay</td>\n",
       "      <td>0</td>\n",
       "      <td>0</td>\n",
       "      <td>1</td>\n",
       "      <td>1327795200</td>\n",
       "      <td>Sweet DEAL!</td>\n",
       "      <td>These are great to have!  I toss one in my dau...</td>\n",
       "    </tr>\n",
       "    <tr>\n",
       "      <th>568395</th>\n",
       "      <td>568396</td>\n",
       "      <td>B001EQ5O6Y</td>\n",
       "      <td>A2NEOGFAJDJMFV</td>\n",
       "      <td>SUZANNE L. ARASIM</td>\n",
       "      <td>0</td>\n",
       "      <td>0</td>\n",
       "      <td>1</td>\n",
       "      <td>1279411200</td>\n",
       "      <td>Very handy, yummy too</td>\n",
       "      <td>My mom-in-law had rec'd 1 box of these in a gi...</td>\n",
       "    </tr>\n",
       "    <tr>\n",
       "      <th>568396</th>\n",
       "      <td>568397</td>\n",
       "      <td>B001EQ5O6Y</td>\n",
       "      <td>A27OFOL5ERMRWE</td>\n",
       "      <td>Mary A. Simpson \"Boatlady13\"</td>\n",
       "      <td>0</td>\n",
       "      <td>0</td>\n",
       "      <td>1</td>\n",
       "      <td>1236729600</td>\n",
       "      <td>Lemon Honey Sticks</td>\n",
       "      <td>These honey sticks are so nice in a cup of tea...</td>\n",
       "    </tr>\n",
       "    <tr>\n",
       "      <th>568397</th>\n",
       "      <td>568398</td>\n",
       "      <td>B001EQ5O6Y</td>\n",
       "      <td>AWLK6NSSV0YNA</td>\n",
       "      <td>Midwest Mommy</td>\n",
       "      <td>0</td>\n",
       "      <td>0</td>\n",
       "      <td>1</td>\n",
       "      <td>1219363200</td>\n",
       "      <td>Sweet Treat!</td>\n",
       "      <td>These Chai Honey Sticks are SO good!  I enjoy ...</td>\n",
       "    </tr>\n",
       "    <tr>\n",
       "      <th>568398</th>\n",
       "      <td>568399</td>\n",
       "      <td>B001EQ5O6Y</td>\n",
       "      <td>AU5C3IYBH9JCW</td>\n",
       "      <td>S. Musicant \"Bermusicant\"</td>\n",
       "      <td>0</td>\n",
       "      <td>0</td>\n",
       "      <td>1</td>\n",
       "      <td>1216512000</td>\n",
       "      <td>Portable Health</td>\n",
       "      <td>I agree with other reviewers about Agave in ge...</td>\n",
       "    </tr>\n",
       "    <tr>\n",
       "      <th>568399</th>\n",
       "      <td>568400</td>\n",
       "      <td>B001EQ5O6Y</td>\n",
       "      <td>A339H0D2F669XI</td>\n",
       "      <td>C. Nicholls</td>\n",
       "      <td>0</td>\n",
       "      <td>0</td>\n",
       "      <td>1</td>\n",
       "      <td>1208217600</td>\n",
       "      <td>honey sticks</td>\n",
       "      <td>These are straws filled with lemon flavored ho...</td>\n",
       "    </tr>\n",
       "    <tr>\n",
       "      <th>568400</th>\n",
       "      <td>568401</td>\n",
       "      <td>B001EQ5O6Y</td>\n",
       "      <td>A3AIZS4BZXUKIP</td>\n",
       "      <td>Shirley Watt \"gmaof7\"</td>\n",
       "      <td>0</td>\n",
       "      <td>0</td>\n",
       "      <td>1</td>\n",
       "      <td>1202428800</td>\n",
       "      <td>Great for traveling or eating out!</td>\n",
       "      <td>These are GREAT for carrying in my purse for e...</td>\n",
       "    </tr>\n",
       "    <tr>\n",
       "      <th>568402</th>\n",
       "      <td>568403</td>\n",
       "      <td>B001EQ5O6Y</td>\n",
       "      <td>A1A3H22VVZYUKW</td>\n",
       "      <td>msfreixy</td>\n",
       "      <td>1</td>\n",
       "      <td>3</td>\n",
       "      <td>0</td>\n",
       "      <td>1187049600</td>\n",
       "      <td>alternative sweetner</td>\n",
       "      <td>I was disappointed in this product, as I had r...</td>\n",
       "    </tr>\n",
       "    <tr>\n",
       "      <th>568403</th>\n",
       "      <td>568404</td>\n",
       "      <td>B001EQ5O6Y</td>\n",
       "      <td>A2891E3BMAKGYN</td>\n",
       "      <td>PCNiles \"reader/writer\"</td>\n",
       "      <td>0</td>\n",
       "      <td>6</td>\n",
       "      <td>0</td>\n",
       "      <td>1264118400</td>\n",
       "      <td>Deceptive Term = \"Sticks\"</td>\n",
       "      <td>When I ordered these, based on the description...</td>\n",
       "    </tr>\n",
       "    <tr>\n",
       "      <th>568407</th>\n",
       "      <td>568408</td>\n",
       "      <td>B0018CLWM4</td>\n",
       "      <td>ANKM1RMQ4RKQ6</td>\n",
       "      <td>Spaceman</td>\n",
       "      <td>6</td>\n",
       "      <td>6</td>\n",
       "      <td>1</td>\n",
       "      <td>1291420800</td>\n",
       "      <td>Premium Edge Dry Cat Food for Kitten</td>\n",
       "      <td>My 6 month old male Tuxedo cat likes Premium E...</td>\n",
       "    </tr>\n",
       "    <tr>\n",
       "      <th>568408</th>\n",
       "      <td>568409</td>\n",
       "      <td>B0018CLWM4</td>\n",
       "      <td>AJGOF4W50ZNB4</td>\n",
       "      <td>je2u</td>\n",
       "      <td>3</td>\n",
       "      <td>3</td>\n",
       "      <td>1</td>\n",
       "      <td>1310515200</td>\n",
       "      <td>Premium Edge Kitten Food</td>\n",
       "      <td>This is a good food with decent ingredients &amp; ...</td>\n",
       "    </tr>\n",
       "    <tr>\n",
       "      <th>568409</th>\n",
       "      <td>568410</td>\n",
       "      <td>B0018CLWM4</td>\n",
       "      <td>A2PE0AGWV6OPL7</td>\n",
       "      <td>Dark Water Mermaid</td>\n",
       "      <td>3</td>\n",
       "      <td>3</td>\n",
       "      <td>1</td>\n",
       "      <td>1309651200</td>\n",
       "      <td>Quality &amp; affordable food</td>\n",
       "      <td>I was very pleased with the ingredient quality...</td>\n",
       "    </tr>\n",
       "    <tr>\n",
       "      <th>568410</th>\n",
       "      <td>568411</td>\n",
       "      <td>B0018CLWM4</td>\n",
       "      <td>A88HLWDCU57WG</td>\n",
       "      <td>R28</td>\n",
       "      <td>2</td>\n",
       "      <td>2</td>\n",
       "      <td>1</td>\n",
       "      <td>1332979200</td>\n",
       "      <td>litter box</td>\n",
       "      <td>My main reason for the five star review has to...</td>\n",
       "    </tr>\n",
       "    <tr>\n",
       "      <th>568411</th>\n",
       "      <td>568412</td>\n",
       "      <td>B0018CLWM4</td>\n",
       "      <td>AUX1HSY8FX55S</td>\n",
       "      <td>DAW</td>\n",
       "      <td>1</td>\n",
       "      <td>1</td>\n",
       "      <td>1</td>\n",
       "      <td>1319500800</td>\n",
       "      <td>Happy Camper</td>\n",
       "      <td>I bought this to try on two registered Maine C...</td>\n",
       "    </tr>\n",
       "    <tr>\n",
       "      <th>568412</th>\n",
       "      <td>568413</td>\n",
       "      <td>B0018CLWM4</td>\n",
       "      <td>AVZ2OZ479Q9E8</td>\n",
       "      <td>Ai Ling Chow</td>\n",
       "      <td>0</td>\n",
       "      <td>0</td>\n",
       "      <td>1</td>\n",
       "      <td>1336435200</td>\n",
       "      <td>Two Siberians like it!</td>\n",
       "      <td>When we brought home two 3-month-old purebred ...</td>\n",
       "    </tr>\n",
       "    <tr>\n",
       "      <th>568413</th>\n",
       "      <td>568414</td>\n",
       "      <td>B0018CLWM4</td>\n",
       "      <td>AI3Y26HLPYW4L</td>\n",
       "      <td>kimosabe</td>\n",
       "      <td>1</td>\n",
       "      <td>2</td>\n",
       "      <td>0</td>\n",
       "      <td>1330041600</td>\n",
       "      <td>premium edge cat food</td>\n",
       "      <td>My cats don't like it. what else can I say to ...</td>\n",
       "    </tr>\n",
       "  </tbody>\n",
       "</table>\n",
       "<p>161949 rows × 10 columns</p>\n",
       "</div>"
      ],
      "text/plain": [
       "            Id   ProductId          UserId  \\\n",
       "29          30  B0001PB9FY  A3HDKO7OW0QNK4   \n",
       "574        575  B000G6RYNE  A3PJZ8TU8FDQ1K   \n",
       "2309      2310  B0001VWE0M   AQM74O8Z4FMS0   \n",
       "2323      2324  B0001VWE0C   AQM74O8Z4FMS0   \n",
       "2336      2337  B0001FQVCK   A5D06XJHDXK75   \n",
       "2647      2648  B0016FY6H6  A2NLZ3M0OJV9NX   \n",
       "2653      2654  B0016FY6H6  A3I4PCBRENJNG2   \n",
       "2946      2947  B0002TJAZK  A2ISKAWUPGGOLZ   \n",
       "2947      2948  B0002TJAZK  A3TVZM3ZIXG8YW   \n",
       "3885      3886  B005GX7GVW   AS1FCKNKY95ID   \n",
       "3886      3887  B005GX7GVW  A1I34N9LFOSCX7   \n",
       "4640      4641  B0002NYO9I   A5DVX3B075B09   \n",
       "4641      4642  B0002NYO9I  A376TWN7I4HMZ8   \n",
       "5397      5398  B00622CYVS   ATIHDHZYNQ0EI   \n",
       "5451      5452  B00622CYVI   ATIHDHZYNQ0EI   \n",
       "5463      5464  B00622CYVI  A2ETT9SL9AN39O   \n",
       "5476      5477  B00622CYVI   A2MF0C4E7GYCI   \n",
       "5488      5489  B00622CYVI   ASEAKR59G0SLT   \n",
       "5603      5604  B000G1X45G  A36HK6V63C02XE   \n",
       "5958      5959  B001O2IX8E  A3KDZCQ82JFWLN   \n",
       "6441      6442  B000QB0WUG  A16TI8YVRRC8AN   \n",
       "6517      6518  B005O8BLLU   APH7I7OZ8WUJP   \n",
       "7321      7322  B0042395CA   AKZKG2Z7CNV27   \n",
       "7899      7900  B00126EQ8I  A3O646NL6SH3ZL   \n",
       "7904      7905  B00285FFCS   ARXORJX86X1J2   \n",
       "8762      8763  B004OLUCAE  A281NPSIMI1C2R   \n",
       "8993      8994  B006N3IG4K   A5U24IWH64IFF   \n",
       "8994      8995  B006N3IG4K  A1RVCWFP3SC3GU   \n",
       "8995      8996  B006N3IG4K  A12SO47JRQGUPR   \n",
       "8996      8997  B006N3IG4K   A86RUZGD22FDR   \n",
       "...        ...         ...             ...   \n",
       "568323  568324  B0013Z0PTW  A18AAABCIJKC5Q   \n",
       "568351  568352  B003O5Q3KE  A2T26HRHG8172X   \n",
       "568352  568353  B003O5Q3KE  A3J8TD7DX73JK0   \n",
       "568353  568354  B003O5Q3KE  A2U4L18LOGSHQ1   \n",
       "568354  568355  B003O5Q3KE  A2Q833MV8UEM37   \n",
       "568361  568362  B000LKVRQA  A1YUL9PCJR3JTY   \n",
       "568370  568371  B003NQMPYM  A26EL6HQW6SJZ4   \n",
       "568386  568387  B001EQ5O6Y  A1U36T07L3HM0E   \n",
       "568387  568388  B001EQ5O6Y  A3NL4VV8FXZ266   \n",
       "568388  568389  B001EQ5O6Y  A3JDX65QJO3Q2F   \n",
       "568389  568390  B001EQ5O6Y  A2LGOMSYQJ5PZS   \n",
       "568390  568391  B001EQ5O6Y  A3HRWZW3ZK6W49   \n",
       "568391  568392  B001EQ5O6Y  A31YNKI4TS6ZJW   \n",
       "568392  568393  B001EQ5O6Y  A1XDASQ60YMQLN   \n",
       "568393  568394  B001EQ5O6Y   AJGGU9YEZNPY7   \n",
       "568395  568396  B001EQ5O6Y  A2NEOGFAJDJMFV   \n",
       "568396  568397  B001EQ5O6Y  A27OFOL5ERMRWE   \n",
       "568397  568398  B001EQ5O6Y   AWLK6NSSV0YNA   \n",
       "568398  568399  B001EQ5O6Y   AU5C3IYBH9JCW   \n",
       "568399  568400  B001EQ5O6Y  A339H0D2F669XI   \n",
       "568400  568401  B001EQ5O6Y  A3AIZS4BZXUKIP   \n",
       "568402  568403  B001EQ5O6Y  A1A3H22VVZYUKW   \n",
       "568403  568404  B001EQ5O6Y  A2891E3BMAKGYN   \n",
       "568407  568408  B0018CLWM4   ANKM1RMQ4RKQ6   \n",
       "568408  568409  B0018CLWM4   AJGOF4W50ZNB4   \n",
       "568409  568410  B0018CLWM4  A2PE0AGWV6OPL7   \n",
       "568410  568411  B0018CLWM4   A88HLWDCU57WG   \n",
       "568411  568412  B0018CLWM4   AUX1HSY8FX55S   \n",
       "568412  568413  B0018CLWM4   AVZ2OZ479Q9E8   \n",
       "568413  568414  B0018CLWM4   AI3Y26HLPYW4L   \n",
       "\n",
       "                                             ProfileName  \\\n",
       "29                                          Canadian Fan   \n",
       "574                                         Jared Castle   \n",
       "2309                                            Sunshine   \n",
       "2323                                            Sunshine   \n",
       "2336                                               C. Po   \n",
       "2647                                         Mark Bodzin   \n",
       "2653                                             L. Cain   \n",
       "2946                                       M. S. Handley   \n",
       "2947                                   christopher hayes   \n",
       "3885                              Juli A. Lee \"JingleJL\"   \n",
       "3886                                              Smeggy   \n",
       "4640                                       Patricia Kays   \n",
       "4641                                              helios   \n",
       "5397                        Kristen O'donnell \"twinsmom\"   \n",
       "5451                        Kristen O'donnell \"twinsmom\"   \n",
       "5463                                   Danielle L Bostic   \n",
       "5476                                             VW \"VW\"   \n",
       "5488                                    Reviewer \"Jason\"   \n",
       "5603                                    Renee \"supermom\"   \n",
       "5958                                           Phoebe Oh   \n",
       "6441                                             M. Vega   \n",
       "6517                                          J. Simpson   \n",
       "7321                                         BreezyPaige   \n",
       "7899                                            J McCool   \n",
       "7904                                      Yvette Mendoza   \n",
       "8762              Rebecca of Amazon \"The Rebecca Review\"   \n",
       "8993                                             Kimdoll   \n",
       "8994                                            Cakediva   \n",
       "8995                                Thomas Smith \"tjaye\"   \n",
       "8996                              Another coffee drinker   \n",
       "...                                                  ...   \n",
       "568323                                           Rhiever   \n",
       "568351                                       pompoodlejr   \n",
       "568352                                              Joni   \n",
       "568353                        Larry L. Wieskamp \"larwie\"   \n",
       "568354                                        Josh Crick   \n",
       "568361                   O. Brown \"Ms. O. Khannah-Brown\"   \n",
       "568370                                    Michael Larson   \n",
       "568386                                           F. Dias   \n",
       "568387                                    Ruby \"Tuesday\"   \n",
       "568388  Don't believe it just because someone told yo...   \n",
       "568389                                          N. Hjort   \n",
       "568390                                  Kristen McDaniel   \n",
       "568391                                         Lauren L.   \n",
       "568392                               Karen Pratt \"tudie\"   \n",
       "568393                                           Kah-tay   \n",
       "568395                                 SUZANNE L. ARASIM   \n",
       "568396                      Mary A. Simpson \"Boatlady13\"   \n",
       "568397                                     Midwest Mommy   \n",
       "568398                         S. Musicant \"Bermusicant\"   \n",
       "568399                                       C. Nicholls   \n",
       "568400                             Shirley Watt \"gmaof7\"   \n",
       "568402                                          msfreixy   \n",
       "568403                           PCNiles \"reader/writer\"   \n",
       "568407                                          Spaceman   \n",
       "568408                                              je2u   \n",
       "568409                                Dark Water Mermaid   \n",
       "568410                                               R28   \n",
       "568411                                               DAW   \n",
       "568412                                      Ai Ling Chow   \n",
       "568413                                          kimosabe   \n",
       "\n",
       "        HelpfulnessNumerator  HelpfulnessDenominator  Score        Time  \\\n",
       "29                         1                       1      1  1107820800   \n",
       "574                        2                       2      1  1231718400   \n",
       "2309                       0                       0      0  1127606400   \n",
       "2323                       0                       0      0  1127606400   \n",
       "2336                       1                       1      1  1190592000   \n",
       "2647                       0                       0      0  1313107200   \n",
       "2653                       0                       0      1  1300579200   \n",
       "2946                       0                       1      0  1310774400   \n",
       "2947                       0                       2      0  1291420800   \n",
       "3885                       1                       1      1  1336953600   \n",
       "3886                       0                       0      1  1349136000   \n",
       "4640                       0                       0      1  1338940800   \n",
       "4641                       0                       1      1  1324252800   \n",
       "5397                       1                       1      1  1270425600   \n",
       "5451                       2                       2      1  1270425600   \n",
       "5463                       0                       0      1  1333324800   \n",
       "5476                       0                       0      1  1298678400   \n",
       "5488                       1                       3      0  1329782400   \n",
       "5603                       0                       0      1  1236556800   \n",
       "5958                       0                       1      0  1245888000   \n",
       "6441                       0                       0      1  1329868800   \n",
       "6517                       0                       0      1  1347494400   \n",
       "7321                       0                       0      0  1332547200   \n",
       "7899                       1                       1      1  1255392000   \n",
       "7904                       0                       0      1  1327017600   \n",
       "8762                       0                       0      1  1316131200   \n",
       "8993                       1                       1      1  1302480000   \n",
       "8994                       1                       1      1  1300233600   \n",
       "8995                       1                       1      1  1299801600   \n",
       "8996                       1                       1      1  1299110400   \n",
       "...                      ...                     ...    ...         ...   \n",
       "568323                     1                       3      0  1295740800   \n",
       "568351                     0                       0      1  1293321600   \n",
       "568352                     0                       0      1  1292198400   \n",
       "568353                     0                       0      0  1291161600   \n",
       "568354                     0                       2      0  1286841600   \n",
       "568361                     1                       1      1  1282608000   \n",
       "568370                     0                       0      1  1328313600   \n",
       "568386                     7                       7      1  1256688000   \n",
       "568387                     3                       3      0  1187395200   \n",
       "568388                     5                       6      1  1187395200   \n",
       "568389                     2                       2      1  1257552000   \n",
       "568390                     1                       1      1  1239148800   \n",
       "568391                     1                       1      1  1234310400   \n",
       "568392                     1                       1      1  1207526400   \n",
       "568393                     0                       0      1  1327795200   \n",
       "568395                     0                       0      1  1279411200   \n",
       "568396                     0                       0      1  1236729600   \n",
       "568397                     0                       0      1  1219363200   \n",
       "568398                     0                       0      1  1216512000   \n",
       "568399                     0                       0      1  1208217600   \n",
       "568400                     0                       0      1  1202428800   \n",
       "568402                     1                       3      0  1187049600   \n",
       "568403                     0                       6      0  1264118400   \n",
       "568407                     6                       6      1  1291420800   \n",
       "568408                     3                       3      1  1310515200   \n",
       "568409                     3                       3      1  1309651200   \n",
       "568410                     2                       2      1  1332979200   \n",
       "568411                     1                       1      1  1319500800   \n",
       "568412                     0                       0      1  1336435200   \n",
       "568413                     1                       2      0  1330041600   \n",
       "\n",
       "                                                  Summary  \\\n",
       "29                        The Best Hot Sauce in the World   \n",
       "574           One bite and you'll become a \"chippoisseur\"   \n",
       "2309                                       Below standard   \n",
       "2323                                       Below standard   \n",
       "2336    Baci's are pure heaven - great gift, stocking ...   \n",
       "2647                           way too weak for my tastes   \n",
       "2653           quality lightly sweetened green tea powder   \n",
       "2946                                      Kitty Junk Food   \n",
       "2947    Filler food is empty, leaves your cat always n...   \n",
       "3885                                Great and good price!   \n",
       "3886                                                 Yum!   \n",
       "4640                               LOVELY JUNIPER BERRIES   \n",
       "4641                               Exaclty what i ordered   \n",
       "5397                                    Organic and Tasty   \n",
       "5451                                    Organic and Tasty   \n",
       "5463                                        Great Product   \n",
       "5476                            My child loves this food!   \n",
       "5488          Product is good; Amazon fulfillment is poor   \n",
       "5603    If you love strong full flavored coffee---this...   \n",
       "5958                                     Some broken jars   \n",
       "6441                                                Yummy   \n",
       "6517                                     Great first food   \n",
       "7321                                Decent, but not great   \n",
       "7899                               The real deal (ALMOST)   \n",
       "7904                                     Chocolate heaven   \n",
       "8762                       Delicious Alternative to Sugar   \n",
       "8993                         Absolutely delicious coffee!   \n",
       "8994                                                YUMMY   \n",
       "8995                                           Good Stuff   \n",
       "8996                           Delivers what was promises   \n",
       "...                                                   ...   \n",
       "568323         High fiber isn't necessarily a good thing!   \n",
       "568351                                         dog treats   \n",
       "568352              Repeat Purchaser - My dogs love these   \n",
       "568353                                     doggy crackers   \n",
       "568354                          My Dog HATED these treats   \n",
       "568361             An Earl Grey Tea That Won't Disappoint   \n",
       "568370                                          M. Larson   \n",
       "568386                          Just some info to help...   \n",
       "568387                                good idea but messy   \n",
       "568388                                    Awesome product   \n",
       "568389                                       great flavor   \n",
       "568390               Yummy honey in a convenient portion.   \n",
       "568391      convenient way of taking your agave with you!   \n",
       "568392                                   Wonderful Flavor   \n",
       "568393                                        Sweet DEAL!   \n",
       "568395                              Very handy, yummy too   \n",
       "568396                                 Lemon Honey Sticks   \n",
       "568397                                       Sweet Treat!   \n",
       "568398                                    Portable Health   \n",
       "568399                                       honey sticks   \n",
       "568400                 Great for traveling or eating out!   \n",
       "568402                               alternative sweetner   \n",
       "568403                          Deceptive Term = \"Sticks\"   \n",
       "568407               Premium Edge Dry Cat Food for Kitten   \n",
       "568408                           Premium Edge Kitten Food   \n",
       "568409                          Quality & affordable food   \n",
       "568410                                         litter box   \n",
       "568411                                       Happy Camper   \n",
       "568412                             Two Siberians like it!   \n",
       "568413                              premium edge cat food   \n",
       "\n",
       "                                                     Text  \n",
       "29      I don't know if it's the cactus or the tequila...  \n",
       "574     I'm addicted to salty and tangy flavors, so wh...  \n",
       "2309    Too much of the white pith on this orange peel...  \n",
       "2323    Too much of the white pith on this orange peel...  \n",
       "2336    My family has been in love with Baci's ever si...  \n",
       "2647    What can i say, I love iced tea. I drink a lot...  \n",
       "2653    lots of uses for this green tea...<br /><br />...  \n",
       "2946    We have five cats - one an elderly cat of 15 y...  \n",
       "2947    This review will make me sound really stupid, ...  \n",
       "3885    I love these noodles.  They are really great f...  \n",
       "3886    This soup cooks up quickly and is very yummy! ...  \n",
       "4640    Dried berries, still with texture and the quin...  \n",
       "4641    Again, exactly what I ordered. No fuss, no mus...  \n",
       "5397    I'd continue to buy but I'm moving over to mor...  \n",
       "5451    I'd continue to buy but I'm moving over to mor...  \n",
       "5463    My one year old loves this product. She eats o...  \n",
       "5476    Great value if you buy it as a subscribe and s...  \n",
       "5488    Amazon normally does a fantastic job getting p...  \n",
       "5603    If you like strong coffee, this is it!  The fl...  \n",
       "5958    When I saw some of the Earth's Best jars offer...  \n",
       "6441    Tried this in a turkey burger and it was sooo ...  \n",
       "6517    This is excellent for a baby's first taste. Th...  \n",
       "7321    When I first started to use IAMS Savory Sauce,...  \n",
       "7899    I pass around favorable endorsements very seld...  \n",
       "7904    My mother and father were the recipient of the...  \n",
       "8762    If you are looking for a sweetener that is del...  \n",
       "8993    I am a huge coffee drinker, and love the k-cup...  \n",
       "8994    We always drink Timmothy's or Emeril's. Though...  \n",
       "8995    Good subtle flavored coffee for the mid-aftern...  \n",
       "8996    Wolfgang Puck's Chef's Reserve Colombian (Dark...  \n",
       "...                                                   ...  \n",
       "568323  I recently cut fiber one bars out of my diet a...  \n",
       "568351  i have 4 dogs, 3 of them love these peanut but...  \n",
       "568352  I order several of these everytime I place an ...  \n",
       "568353  These were kind of expensive for a dog treat a...  \n",
       "568354  Went into the dumpster the very first night. M...  \n",
       "568361  *****<br />St. Dalfour's wonderful Certified O...  \n",
       "568370  We tried these \"candy bars\" in Hawaii.  They a...  \n",
       "568386  Just FYI, I checked the nutritional informatio...  \n",
       "568387  this ia a good idea; however, difficult to ope...  \n",
       "568388  I have used agave for many things and find tha...  \n",
       "568389  The cinnamon honey sticks flavor was excellent...  \n",
       "568390  I bought this in an effort to help myself quit...  \n",
       "568391  I was hesitant about this product based on som...  \n",
       "568392  These little goodies are so full of flavor and...  \n",
       "568393  These are great to have!  I toss one in my dau...  \n",
       "568395  My mom-in-law had rec'd 1 box of these in a gi...  \n",
       "568396  These honey sticks are so nice in a cup of tea...  \n",
       "568397  These Chai Honey Sticks are SO good!  I enjoy ...  \n",
       "568398  I agree with other reviewers about Agave in ge...  \n",
       "568399  These are straws filled with lemon flavored ho...  \n",
       "568400  These are GREAT for carrying in my purse for e...  \n",
       "568402  I was disappointed in this product, as I had r...  \n",
       "568403  When I ordered these, based on the description...  \n",
       "568407  My 6 month old male Tuxedo cat likes Premium E...  \n",
       "568408  This is a good food with decent ingredients & ...  \n",
       "568409  I was very pleased with the ingredient quality...  \n",
       "568410  My main reason for the five star review has to...  \n",
       "568411  I bought this to try on two registered Maine C...  \n",
       "568412  When we brought home two 3-month-old purebred ...  \n",
       "568413  My cats don't like it. what else can I say to ...  \n",
       "\n",
       "[161949 rows x 10 columns]"
      ]
     },
     "execution_count": 11,
     "metadata": {},
     "output_type": "execute_result"
    }
   ],
   "source": [
    "# Check if there are any duplicates or not\n",
    "\n",
    "df_score[(df_score['UserId'].duplicated() == True) & (df_score['ProfileName'].duplicated() == True) &\n",
    "         (df_score['Time'].duplicated() == True) & (df_score['Text'].duplicated() == True)]"
   ]
  },
  {
   "cell_type": "markdown",
   "metadata": {},
   "source": [
    "# Observation:\n",
    "    \n",
    "We can see lot many duplicates in the dataset. Let's remove duplicates from the dataset.\n",
    "We should first sort the dataset by ProductId so that we can keep the 1st review and remove duplicates without any mess."
   ]
  },
  {
   "cell_type": "code",
   "execution_count": 12,
   "metadata": {},
   "outputs": [
    {
     "name": "stdout",
     "output_type": "stream",
     "text": [
      "Data percentage reduced to after removing duplicates: 64.06375889693801\n"
     ]
    }
   ],
   "source": [
    "# First let's sort the dataset by product ids.\n",
    "df_sorted = df_score.sort_values('ProductId', axis = 0, ascending = True)\n",
    "\n",
    "# Now removing duplicates from the sorted dataset.\n",
    "df_dup = df_sorted.drop_duplicates(subset={\"UserId\",\"ProfileName\",\"Time\",\"Text\"}, keep='first', inplace=False)\n",
    "\n",
    "print(\"Data percentage reduced to after removing duplicates:\" + ' ' + str(100*(len(df_dup['Id'])/len(df['Id']))))"
   ]
  },
  {
   "cell_type": "markdown",
   "metadata": {},
   "source": [
    "# Compare HelpfulnessNumerator and HelpfulnessDenominator\n",
    "\n",
    "HelpfulnessNumerator should always be less than or equal to HelpfulnessDenominator"
   ]
  },
  {
   "cell_type": "code",
   "execution_count": 13,
   "metadata": {},
   "outputs": [
    {
     "data": {
      "text/html": [
       "<div>\n",
       "<style scoped>\n",
       "    .dataframe tbody tr th:only-of-type {\n",
       "        vertical-align: middle;\n",
       "    }\n",
       "\n",
       "    .dataframe tbody tr th {\n",
       "        vertical-align: top;\n",
       "    }\n",
       "\n",
       "    .dataframe thead th {\n",
       "        text-align: right;\n",
       "    }\n",
       "</style>\n",
       "<table border=\"1\" class=\"dataframe\">\n",
       "  <thead>\n",
       "    <tr style=\"text-align: right;\">\n",
       "      <th></th>\n",
       "      <th>Id</th>\n",
       "      <th>ProductId</th>\n",
       "      <th>UserId</th>\n",
       "      <th>ProfileName</th>\n",
       "      <th>HelpfulnessNumerator</th>\n",
       "      <th>HelpfulnessDenominator</th>\n",
       "      <th>Score</th>\n",
       "      <th>Time</th>\n",
       "      <th>Summary</th>\n",
       "      <th>Text</th>\n",
       "    </tr>\n",
       "  </thead>\n",
       "  <tbody>\n",
       "    <tr>\n",
       "      <th>64421</th>\n",
       "      <td>64422</td>\n",
       "      <td>B000MIDROQ</td>\n",
       "      <td>A161DK06JJMCYF</td>\n",
       "      <td>J. E. Stephens \"Jeanne\"</td>\n",
       "      <td>3</td>\n",
       "      <td>1</td>\n",
       "      <td>1</td>\n",
       "      <td>1224892800</td>\n",
       "      <td>Bought This for My Son at College</td>\n",
       "      <td>My son loves spaghetti so I didn't hesitate or...</td>\n",
       "    </tr>\n",
       "    <tr>\n",
       "      <th>44736</th>\n",
       "      <td>44737</td>\n",
       "      <td>B001EQ55RW</td>\n",
       "      <td>A2V0I904FH7ABY</td>\n",
       "      <td>Ram</td>\n",
       "      <td>3</td>\n",
       "      <td>2</td>\n",
       "      <td>1</td>\n",
       "      <td>1212883200</td>\n",
       "      <td>Pure cocoa taste with crunchy almonds inside</td>\n",
       "      <td>It was almost a 'love at first bite' - the per...</td>\n",
       "    </tr>\n",
       "  </tbody>\n",
       "</table>\n",
       "</div>"
      ],
      "text/plain": [
       "          Id   ProductId          UserId              ProfileName  \\\n",
       "64421  64422  B000MIDROQ  A161DK06JJMCYF  J. E. Stephens \"Jeanne\"   \n",
       "44736  44737  B001EQ55RW  A2V0I904FH7ABY                      Ram   \n",
       "\n",
       "       HelpfulnessNumerator  HelpfulnessDenominator  Score        Time  \\\n",
       "64421                     3                       1      1  1224892800   \n",
       "44736                     3                       2      1  1212883200   \n",
       "\n",
       "                                            Summary  \\\n",
       "64421             Bought This for My Son at College   \n",
       "44736  Pure cocoa taste with crunchy almonds inside   \n",
       "\n",
       "                                                    Text  \n",
       "64421  My son loves spaghetti so I didn't hesitate or...  \n",
       "44736  It was almost a 'love at first bite' - the per...  "
      ]
     },
     "execution_count": 13,
     "metadata": {},
     "output_type": "execute_result"
    }
   ],
   "source": [
    "df_dup[df_dup['HelpfulnessNumerator'] > df_dup['HelpfulnessDenominator']]"
   ]
  },
  {
   "cell_type": "markdown",
   "metadata": {},
   "source": [
    "# Observation:\n",
    "    \n",
    "We can see 2 data where HelpfulnessNumerator is greater than HelpfulnessDenominator. We need to remove such data."
   ]
  },
  {
   "cell_type": "code",
   "execution_count": 14,
   "metadata": {},
   "outputs": [
    {
     "data": {
      "text/html": [
       "<div>\n",
       "<style scoped>\n",
       "    .dataframe tbody tr th:only-of-type {\n",
       "        vertical-align: middle;\n",
       "    }\n",
       "\n",
       "    .dataframe tbody tr th {\n",
       "        vertical-align: top;\n",
       "    }\n",
       "\n",
       "    .dataframe thead th {\n",
       "        text-align: right;\n",
       "    }\n",
       "</style>\n",
       "<table border=\"1\" class=\"dataframe\">\n",
       "  <thead>\n",
       "    <tr style=\"text-align: right;\">\n",
       "      <th></th>\n",
       "      <th>Id</th>\n",
       "      <th>ProductId</th>\n",
       "      <th>UserId</th>\n",
       "      <th>ProfileName</th>\n",
       "      <th>HelpfulnessNumerator</th>\n",
       "      <th>HelpfulnessDenominator</th>\n",
       "      <th>Score</th>\n",
       "      <th>Time</th>\n",
       "      <th>Summary</th>\n",
       "      <th>Text</th>\n",
       "    </tr>\n",
       "  </thead>\n",
       "  <tbody>\n",
       "  </tbody>\n",
       "</table>\n",
       "</div>"
      ],
      "text/plain": [
       "Empty DataFrame\n",
       "Columns: [Id, ProductId, UserId, ProfileName, HelpfulnessNumerator, HelpfulnessDenominator, Score, Time, Summary, Text]\n",
       "Index: []"
      ]
     },
     "execution_count": 14,
     "metadata": {},
     "output_type": "execute_result"
    }
   ],
   "source": [
    "df_final = df_dup[df_dup['HelpfulnessNumerator'] <= df_dup['HelpfulnessDenominator']]\n",
    "\n",
    "# Check if there is any data where HelpfulnessNumerator is greater than HelpfulnessDenominator\n",
    "df_final[df_final['HelpfulnessNumerator'] > df_final['HelpfulnessDenominator']]"
   ]
  },
  {
   "cell_type": "markdown",
   "metadata": {},
   "source": [
    "We can see now that the dataset has HelpfulnessNumerator less than or equal HelpfulnessDenominator."
   ]
  },
  {
   "cell_type": "code",
   "execution_count": 15,
   "metadata": {},
   "outputs": [
    {
     "name": "stdout",
     "output_type": "stream",
     "text": [
      "Data percentage reduced to: 64.06340706547935\n"
     ]
    }
   ],
   "source": [
    "print(\"Data percentage reduced to:\" + ' ' + str(100*(len(df_final['Id'])/len(df['Id']))))"
   ]
  },
  {
   "cell_type": "markdown",
   "metadata": {},
   "source": [
    "# Text Preprocessing:\n",
    "\n",
    "1) Remove HTML tag\n",
    "\n",
    "2) Remove punctuations and numbers\n",
    "\n",
    "3) Remove URLs\n",
    "\n",
    "4) Renaming short forms like can't to can not, 's to is, 're to are, etc\n",
    "\n",
    "5) Stop-word removal\n",
    "\n",
    "6) Stemming\n",
    "\n",
    "7) Change it to lowercase and join it."
   ]
  },
  {
   "cell_type": "code",
   "execution_count": 16,
   "metadata": {},
   "outputs": [],
   "source": [
    "# Importing libraries\n",
    "\n",
    "import re\n",
    "from nltk.corpus import stopwords\n",
    "from nltk.stem.snowball import SnowballStemmer\n",
    "from bs4 import BeautifulSoup\n",
    "from tqdm import tqdm\n",
    "\n",
    "# Create an instance for SnowballStemmer\n",
    "ss = SnowballStemmer('english')"
   ]
  },
  {
   "cell_type": "markdown",
   "metadata": {},
   "source": [
    "# Defining functions for HTML, URL, Punctuation, Stopwords removal and getting stem words"
   ]
  },
  {
   "cell_type": "code",
   "execution_count": 17,
   "metadata": {},
   "outputs": [],
   "source": [
    "# To remove HTML tags\n",
    "def html(ht):\n",
    "    ht = BeautifulSoup(ht, 'lxml').get_text()\n",
    "    return ht\n",
    "\n",
    "\n",
    "# To remove URL\n",
    "def url(ur):\n",
    "    ur = re.sub(r\"http\\S+\", '', ur)\n",
    "    return ur\n",
    "\n",
    "# To convert from shortform to fullform\n",
    "def short_word(full_word):\n",
    "    \n",
    "    full_word = full_word.lower()              # Python reads Won't and won't as separate words. So change to lowercase\n",
    "    \n",
    "    full_word = re.sub(r\"won't\", \"will not\", full_word)\n",
    "    full_word = re.sub(r\"wouldn't\", \"would not\", full_word)\n",
    "    full_word = re.sub(r\"can't\", \"can not\", full_word)\n",
    "    full_word = re.sub(r\"don't\", \"don not\", full_word)\n",
    "    full_word = re.sub(r\"shouldn't\", \"should not\", full_word)\n",
    "    full_word = re.sub(r\"couldn't\", \"could not\", full_word)\n",
    "    full_word = re.sub(r\"\\'re\", \" are\", full_word)\n",
    "    full_word = re.sub(r\"\\'s\", \" is\", full_word)\n",
    "    full_word = re.sub(r\"\\'d\", \" would\", full_word)\n",
    "    full_word = re.sub(r\"\\'ll\", \" will\", full_word)\n",
    "    full_word = re.sub(r\"\\'ve\", \" have\", full_word)\n",
    "    full_word = re.sub(r\"\\'m\", \" am\", full_word)\n",
    "    return full_word\n",
    "\n",
    "# To remove punctuations, numbers, stopwords and get stem of words\n",
    "def punc(pun):\n",
    "    \n",
    "    pun = re.sub('[^a-zA-Z]', ' ', pun)\n",
    "    pun = pun.lower()\n",
    "    pun = pun.split()\n",
    "    \n",
    "    if len(pun) > 2:\n",
    "        pun = [ss.stem(sw) for sw in pun if sw not in stopwords.words('english')]\n",
    "        pun = ' '.join(pun)\n",
    "        return pun \n"
   ]
  },
  {
   "cell_type": "code",
   "execution_count": null,
   "metadata": {},
   "outputs": [],
   "source": []
  },
  {
   "cell_type": "markdown",
   "metadata": {},
   "source": [
    "# Apply text processing functions to 'Text' data\n",
    "HTML tag removal, url, punctuation, stop word removal, rename"
   ]
  },
  {
   "cell_type": "code",
   "execution_count": 19,
   "metadata": {},
   "outputs": [
    {
     "name": "stderr",
     "output_type": "stream",
     "text": [
      "100%|████████████████████████████████| 364171/364171 [8:57:33<00:00, 11.29it/s]\n"
     ]
    },
    {
     "name": "stdout",
     "output_type": "stream",
     "text": [
      "Wall time: 8h 57min 33s\n"
     ]
    }
   ],
   "source": [
    "%%time\n",
    "\n",
    "filtered = []                                    # All the filtered data is stored in this list\n",
    "positive = []                                    # All the positive review data is stored in this list\n",
    "negative = []                                    # All the negative review data is stored in this list\n",
    "\n",
    "for i, s in enumerate (tqdm(df_final['Text'].values)):\n",
    "     \n",
    "    h = html(s)                                         # Removes HTML tag\n",
    "    u = url(h)                                          # Removes URL\n",
    "    f = short_word(u)                                   # Converts from short form to full form\n",
    "    p = punc(f)                                         # Removes punctuation, numbers, does stemming for the words > 2\n",
    "    \n",
    "    if df_final['Score'].values[i] == 1:\n",
    "        positive.append(p)                               # Positive review list\n",
    "    if df_final['Score'].values[i] == 0:\n",
    "        negative.append(p)                               # Negative review list\n",
    "        \n",
    "    filtered.append(p)                                   # Complete filtered list"
   ]
  },
  {
   "cell_type": "markdown",
   "metadata": {},
   "source": [
    "# Apply text processing functions to 'Summary' data\n",
    "HTML tag removal, url, punctuation, stop word removal, rename"
   ]
  },
  {
   "cell_type": "code",
   "execution_count": 145,
   "metadata": {},
   "outputs": [
    {
     "name": "stdout",
     "output_type": "stream",
     "text": [
      "Wall time: 25min 22s\n"
     ]
    }
   ],
   "source": [
    "%%time\n",
    "\n",
    "filtered_smr = []                                    # All the filtered data is stored in this list\n",
    "positive_smr = []                                    # All the positive review data is stored in this list\n",
    "negative_smr = []                                    # All the negative review data is stored in this list\n",
    "\n",
    "for i, s in enumerate (df_final['Summary'].values):\n",
    "    \n",
    "    st = str(s)\n",
    "    h = html(st)                                         # Removes HTML tag\n",
    "    u = url(h)                                          # Removes URL\n",
    "    f = short_word(u)                                   # Converts from short form to full form\n",
    "    p = punc(f)                                         # Removes punctuation, numbers, does stemming for the words > 2\n",
    "    \n",
    "    if df_final['Score'].values[i] == 1:\n",
    "        positive_smr.append(pun)                               # Positive review list\n",
    "    if df_final['Score'].values[i] == 0:\n",
    "        negative_smr.append(pun)                               # Negative review list\n",
    "        \n",
    "    filtered_smr.append(pun)                                   # Complete filtered list "
   ]
  },
  {
   "cell_type": "code",
   "execution_count": 50,
   "metadata": {},
   "outputs": [
    {
     "data": {
      "text/html": [
       "<div>\n",
       "<style scoped>\n",
       "    .dataframe tbody tr th:only-of-type {\n",
       "        vertical-align: middle;\n",
       "    }\n",
       "\n",
       "    .dataframe tbody tr th {\n",
       "        vertical-align: top;\n",
       "    }\n",
       "\n",
       "    .dataframe thead th {\n",
       "        text-align: right;\n",
       "    }\n",
       "</style>\n",
       "<table border=\"1\" class=\"dataframe\">\n",
       "  <thead>\n",
       "    <tr style=\"text-align: right;\">\n",
       "      <th></th>\n",
       "      <th>Id</th>\n",
       "      <th>ProductId</th>\n",
       "      <th>UserId</th>\n",
       "      <th>ProfileName</th>\n",
       "      <th>HelpfulnessNumerator</th>\n",
       "      <th>HelpfulnessDenominator</th>\n",
       "      <th>Score</th>\n",
       "      <th>Time</th>\n",
       "      <th>Summary</th>\n",
       "      <th>Text</th>\n",
       "      <th>Clean_Text</th>\n",
       "      <th>Clean_Summary</th>\n",
       "    </tr>\n",
       "  </thead>\n",
       "  <tbody>\n",
       "    <tr>\n",
       "      <th>150523</th>\n",
       "      <td>150524</td>\n",
       "      <td>0006641040</td>\n",
       "      <td>ACITT7DI6IDDL</td>\n",
       "      <td>shari zychinski</td>\n",
       "      <td>0</td>\n",
       "      <td>0</td>\n",
       "      <td>1</td>\n",
       "      <td>939340800</td>\n",
       "      <td>EVERY book is educational</td>\n",
       "      <td>this witty little book makes my son laugh at l...</td>\n",
       "      <td>witti littl book make son laugh loud recit car...</td>\n",
       "      <td>pay expedit deliveri</td>\n",
       "    </tr>\n",
       "    <tr>\n",
       "      <th>150505</th>\n",
       "      <td>150506</td>\n",
       "      <td>0006641040</td>\n",
       "      <td>A2IW4PEEKO2R0U</td>\n",
       "      <td>Tracy</td>\n",
       "      <td>1</td>\n",
       "      <td>1</td>\n",
       "      <td>1</td>\n",
       "      <td>1194739200</td>\n",
       "      <td>Love the book, miss the hard cover version</td>\n",
       "      <td>I grew up reading these Sendak books, and watc...</td>\n",
       "      <td>grew read sendak book watch realli rosi movi i...</td>\n",
       "      <td>pay expedit deliveri</td>\n",
       "    </tr>\n",
       "  </tbody>\n",
       "</table>\n",
       "</div>"
      ],
      "text/plain": [
       "            Id   ProductId          UserId      ProfileName  \\\n",
       "150523  150524  0006641040   ACITT7DI6IDDL  shari zychinski   \n",
       "150505  150506  0006641040  A2IW4PEEKO2R0U            Tracy   \n",
       "\n",
       "        HelpfulnessNumerator  HelpfulnessDenominator  Score        Time  \\\n",
       "150523                     0                       0      1   939340800   \n",
       "150505                     1                       1      1  1194739200   \n",
       "\n",
       "                                           Summary  \\\n",
       "150523                   EVERY book is educational   \n",
       "150505  Love the book, miss the hard cover version   \n",
       "\n",
       "                                                     Text  \\\n",
       "150523  this witty little book makes my son laugh at l...   \n",
       "150505  I grew up reading these Sendak books, and watc...   \n",
       "\n",
       "                                               Clean_Text  \\\n",
       "150523  witti littl book make son laugh loud recit car...   \n",
       "150505  grew read sendak book watch realli rosi movi i...   \n",
       "\n",
       "               Clean_Summary  \n",
       "150523  pay expedit deliveri  \n",
       "150505  pay expedit deliveri  "
      ]
     },
     "execution_count": 50,
     "metadata": {},
     "output_type": "execute_result"
    }
   ],
   "source": [
    "# Adding a new column  which contains clean text from Text column\n",
    "df_final['Clean_Text'] = filtered\n",
    "\n",
    "# Adding filtered summary data.\n",
    "df_final['Clean_Summary'] = filtered_smr\n",
    "\n",
    "df_final.head(2)"
   ]
  },
  {
   "cell_type": "code",
   "execution_count": null,
   "metadata": {},
   "outputs": [],
   "source": []
  },
  {
   "cell_type": "code",
   "execution_count": 36,
   "metadata": {},
   "outputs": [
    {
     "data": {
      "text/plain": [
       "<matplotlib.axes._subplots.AxesSubplot at 0x67c07f60>"
      ]
     },
     "execution_count": 36,
     "metadata": {},
     "output_type": "execute_result"
    },
    {
     "data": {
      "image/png": "[encoded data removed]",
      "text/plain": [
       "<Figure size 432x288 with 2 Axes>"
      ]
     },
     "metadata": {
      "needs_background": "light"
     },
     "output_type": "display_data"
    }
   ],
   "source": [
    "# After cleaning text data, let's check if there is any null values\n",
    "\n",
    "sns.heatmap(df_final.isnull"
   ]
  },
  {
   "cell_type": "markdown",
   "metadata": {},
   "source": [
    "# Observation:\n",
    "\n",
    "Clean_Summary have no null values.\n",
    "\n",
    "But under clean text, there is a null value. We shall check how it is null."
   ]
  },
  {
   "cell_type": "code",
   "execution_count": 40,
   "metadata": {},
   "outputs": [
    {
     "data": {
      "text/html": [
       "<div>\n",
       "<style scoped>\n",
       "    .dataframe tbody tr th:only-of-type {\n",
       "        vertical-align: middle;\n",
       "    }\n",
       "\n",
       "    .dataframe tbody tr th {\n",
       "        vertical-align: top;\n",
       "    }\n",
       "\n",
       "    .dataframe thead th {\n",
       "        text-align: right;\n",
       "    }\n",
       "</style>\n",
       "<table border=\"1\" class=\"dataframe\">\n",
       "  <thead>\n",
       "    <tr style=\"text-align: right;\">\n",
       "      <th></th>\n",
       "      <th>Id</th>\n",
       "      <th>ProductId</th>\n",
       "      <th>UserId</th>\n",
       "      <th>ProfileName</th>\n",
       "      <th>HelpfulnessNumerator</th>\n",
       "      <th>HelpfulnessDenominator</th>\n",
       "      <th>Score</th>\n",
       "      <th>Time</th>\n",
       "      <th>Summary</th>\n",
       "      <th>Text</th>\n",
       "      <th>Clean_Text</th>\n",
       "      <th>Clean_Summary</th>\n",
       "    </tr>\n",
       "  </thead>\n",
       "  <tbody>\n",
       "    <tr>\n",
       "      <th>345314</th>\n",
       "      <td>345315</td>\n",
       "      <td>B00023T3IA</td>\n",
       "      <td>A3NID9D9WMIV01</td>\n",
       "      <td>Louie Arrighi \"Lou da Joo\"</td>\n",
       "      <td>2</td>\n",
       "      <td>2</td>\n",
       "      <td>1</td>\n",
       "      <td>1290211200</td>\n",
       "      <td>Popcorn and Kewpie</td>\n",
       "      <td>&lt;span class=\"tiny\"&gt; Length:: 0:26 Mins&lt;br /&gt;&lt;b...</td>\n",
       "      <td>None</td>\n",
       "      <td>pay expedit deliveri</td>\n",
       "    </tr>\n",
       "    <tr>\n",
       "      <th>143403</th>\n",
       "      <td>143404</td>\n",
       "      <td>B0007A0AQM</td>\n",
       "      <td>AZOCULM8WEV27</td>\n",
       "      <td>Sweetone</td>\n",
       "      <td>8</td>\n",
       "      <td>11</td>\n",
       "      <td>1</td>\n",
       "      <td>1300406400</td>\n",
       "      <td>Best Treats for my Yorkie/Maltese</td>\n",
       "      <td>&lt;span class=\"tiny\"&gt; Length:: 0:42 Mins&lt;br /&gt;&lt;b...</td>\n",
       "      <td>None</td>\n",
       "      <td>pay expedit deliveri</td>\n",
       "    </tr>\n",
       "    <tr>\n",
       "      <th>459486</th>\n",
       "      <td>459487</td>\n",
       "      <td>B000SANU7C</td>\n",
       "      <td>A3LO09M9VISVBV</td>\n",
       "      <td>Myron Slover</td>\n",
       "      <td>1</td>\n",
       "      <td>1</td>\n",
       "      <td>0</td>\n",
       "      <td>1341100800</td>\n",
       "      <td>What happened!</td>\n",
       "      <td>&lt;span class=\"tiny\"&gt; Length:: 1:30 Mins&lt;br /&gt;&lt;b...</td>\n",
       "      <td>None</td>\n",
       "      <td>pay expedit deliveri</td>\n",
       "    </tr>\n",
       "    <tr>\n",
       "      <th>409877</th>\n",
       "      <td>409878</td>\n",
       "      <td>B000TV8STA</td>\n",
       "      <td>A3TFSOU5B2CIUT</td>\n",
       "      <td>justntym</td>\n",
       "      <td>7</td>\n",
       "      <td>8</td>\n",
       "      <td>1</td>\n",
       "      <td>1243382400</td>\n",
       "      <td>Smoke and Spice and everything nice</td>\n",
       "      <td>&lt;span class=\"tiny\"&gt; Length:: 0:39 Mins&lt;br /&gt;&lt;b...</td>\n",
       "      <td>None</td>\n",
       "      <td>pay expedit deliveri</td>\n",
       "    </tr>\n",
       "    <tr>\n",
       "      <th>234305</th>\n",
       "      <td>234306</td>\n",
       "      <td>B001EJN8IC</td>\n",
       "      <td>A3NID9D9WMIV01</td>\n",
       "      <td>Louie Arrighi \"Lou da Joo\"</td>\n",
       "      <td>2</td>\n",
       "      <td>2</td>\n",
       "      <td>1</td>\n",
       "      <td>1289433600</td>\n",
       "      <td>best tasting protein yet</td>\n",
       "      <td>&lt;span class=\"tiny\"&gt; Length:: 0:35 Mins&lt;br /&gt;&lt;b...</td>\n",
       "      <td>None</td>\n",
       "      <td>pay expedit deliveri</td>\n",
       "    </tr>\n",
       "    <tr>\n",
       "      <th>202220</th>\n",
       "      <td>202221</td>\n",
       "      <td>B001M2YXPI</td>\n",
       "      <td>A4ZFB125AR0GK</td>\n",
       "      <td>Teas Etc</td>\n",
       "      <td>9</td>\n",
       "      <td>9</td>\n",
       "      <td>1</td>\n",
       "      <td>1247529600</td>\n",
       "      <td>Pu'erh Tuo Cha From Teas Etc</td>\n",
       "      <td>&lt;span class=\"tiny\"&gt; Length:: 4:34 Mins&lt;br /&gt;&lt;b...</td>\n",
       "      <td>None</td>\n",
       "      <td>pay expedit deliveri</td>\n",
       "    </tr>\n",
       "    <tr>\n",
       "      <th>233938</th>\n",
       "      <td>233939</td>\n",
       "      <td>B003E6COMO</td>\n",
       "      <td>A2ZE58VIDDCMR7</td>\n",
       "      <td>inna</td>\n",
       "      <td>1</td>\n",
       "      <td>2</td>\n",
       "      <td>1</td>\n",
       "      <td>1350000000</td>\n",
       "      <td>&amp;#1091;&amp;#1076;&amp;#1086;&amp;#1073;&amp;#1085;&amp;#1072;&amp;#11...</td>\n",
       "      <td>&amp;#1056;&amp;#1077;&amp;#1096;&amp;#1080;&amp;#1083;&amp;#1072; &amp;#1...</td>\n",
       "      <td>None</td>\n",
       "      <td>pay expedit deliveri</td>\n",
       "    </tr>\n",
       "    <tr>\n",
       "      <th>201631</th>\n",
       "      <td>201632</td>\n",
       "      <td>B007R900WA</td>\n",
       "      <td>A2OU17T4K6S644</td>\n",
       "      <td>Thomas W Hill</td>\n",
       "      <td>1</td>\n",
       "      <td>3</td>\n",
       "      <td>1</td>\n",
       "      <td>1349654400</td>\n",
       "      <td>coffee storage drawer</td>\n",
       "      <td>&lt;span class=\"tiny\"&gt; Length:: 0:43 Mins&lt;br /&gt;&lt;b...</td>\n",
       "      <td>None</td>\n",
       "      <td>pay expedit deliveri</td>\n",
       "    </tr>\n",
       "    <tr>\n",
       "      <th>49025</th>\n",
       "      <td>49026</td>\n",
       "      <td>B007S0FZY6</td>\n",
       "      <td>A2FP1XVV2QTOCO</td>\n",
       "      <td>gumguy6667</td>\n",
       "      <td>1</td>\n",
       "      <td>1</td>\n",
       "      <td>0</td>\n",
       "      <td>1337126400</td>\n",
       "      <td>Fruity fresh?  More like Fruity LAME</td>\n",
       "      <td>&lt;span class=\"tiny\"&gt; Length:: 1:02 Mins&lt;br /&gt;&lt;b...</td>\n",
       "      <td>None</td>\n",
       "      <td>pay expedit deliveri</td>\n",
       "    </tr>\n",
       "    <tr>\n",
       "      <th>495800</th>\n",
       "      <td>495801</td>\n",
       "      <td>B0098WV8F2</td>\n",
       "      <td>A24RZIZ09CUO7Z</td>\n",
       "      <td>Donald THomas</td>\n",
       "      <td>0</td>\n",
       "      <td>0</td>\n",
       "      <td>1</td>\n",
       "      <td>1351036800</td>\n",
       "      <td>Tasted Great and DELIVERED FAST.</td>\n",
       "      <td>&lt;span class=\"tiny\"&gt; Length:: 0:17 Mins&lt;br /&gt;&lt;b...</td>\n",
       "      <td>None</td>\n",
       "      <td>pay expedit deliveri</td>\n",
       "    </tr>\n",
       "  </tbody>\n",
       "</table>\n",
       "</div>"
      ],
      "text/plain": [
       "            Id   ProductId          UserId                 ProfileName  \\\n",
       "345314  345315  B00023T3IA  A3NID9D9WMIV01  Louie Arrighi \"Lou da Joo\"   \n",
       "143403  143404  B0007A0AQM   AZOCULM8WEV27                    Sweetone   \n",
       "459486  459487  B000SANU7C  A3LO09M9VISVBV                Myron Slover   \n",
       "409877  409878  B000TV8STA  A3TFSOU5B2CIUT                    justntym   \n",
       "234305  234306  B001EJN8IC  A3NID9D9WMIV01  Louie Arrighi \"Lou da Joo\"   \n",
       "202220  202221  B001M2YXPI   A4ZFB125AR0GK                    Teas Etc   \n",
       "233938  233939  B003E6COMO  A2ZE58VIDDCMR7                        inna   \n",
       "201631  201632  B007R900WA  A2OU17T4K6S644               Thomas W Hill   \n",
       "49025    49026  B007S0FZY6  A2FP1XVV2QTOCO                  gumguy6667   \n",
       "495800  495801  B0098WV8F2  A24RZIZ09CUO7Z               Donald THomas   \n",
       "\n",
       "        HelpfulnessNumerator  HelpfulnessDenominator  Score        Time  \\\n",
       "345314                     2                       2      1  1290211200   \n",
       "143403                     8                      11      1  1300406400   \n",
       "459486                     1                       1      0  1341100800   \n",
       "409877                     7                       8      1  1243382400   \n",
       "234305                     2                       2      1  1289433600   \n",
       "202220                     9                       9      1  1247529600   \n",
       "233938                     1                       2      1  1350000000   \n",
       "201631                     1                       3      1  1349654400   \n",
       "49025                      1                       1      0  1337126400   \n",
       "495800                     0                       0      1  1351036800   \n",
       "\n",
       "                                                  Summary  \\\n",
       "345314                                 Popcorn and Kewpie   \n",
       "143403                  Best Treats for my Yorkie/Maltese   \n",
       "459486                                     What happened!   \n",
       "409877                Smoke and Spice and everything nice   \n",
       "234305                           best tasting protein yet   \n",
       "202220                       Pu'erh Tuo Cha From Teas Etc   \n",
       "233938  &#1091;&#1076;&#1086;&#1073;&#1085;&#1072;&#11...   \n",
       "201631                              coffee storage drawer   \n",
       "49025                Fruity fresh?  More like Fruity LAME   \n",
       "495800                   Tasted Great and DELIVERED FAST.   \n",
       "\n",
       "                                                     Text Clean_Text  \\\n",
       "345314  <span class=\"tiny\"> Length:: 0:26 Mins<br /><b...       None   \n",
       "143403  <span class=\"tiny\"> Length:: 0:42 Mins<br /><b...       None   \n",
       "459486  <span class=\"tiny\"> Length:: 1:30 Mins<br /><b...       None   \n",
       "409877  <span class=\"tiny\"> Length:: 0:39 Mins<br /><b...       None   \n",
       "234305  <span class=\"tiny\"> Length:: 0:35 Mins<br /><b...       None   \n",
       "202220  <span class=\"tiny\"> Length:: 4:34 Mins<br /><b...       None   \n",
       "233938  &#1056;&#1077;&#1096;&#1080;&#1083;&#1072; &#1...       None   \n",
       "201631  <span class=\"tiny\"> Length:: 0:43 Mins<br /><b...       None   \n",
       "49025   <span class=\"tiny\"> Length:: 1:02 Mins<br /><b...       None   \n",
       "495800  <span class=\"tiny\"> Length:: 0:17 Mins<br /><b...       None   \n",
       "\n",
       "               Clean_Summary  \n",
       "345314  pay expedit deliveri  \n",
       "143403  pay expedit deliveri  \n",
       "459486  pay expedit deliveri  \n",
       "409877  pay expedit deliveri  \n",
       "234305  pay expedit deliveri  \n",
       "202220  pay expedit deliveri  \n",
       "233938  pay expedit deliveri  \n",
       "201631  pay expedit deliveri  \n",
       "49025   pay expedit deliveri  \n",
       "495800  pay expedit deliveri  "
      ]
     },
     "execution_count": 40,
     "metadata": {},
     "output_type": "execute_result"
    }
   ],
   "source": [
    "df_final[df_final['Clean_Text'].isnull()==True]"
   ]
  },
  {
   "cell_type": "markdown",
   "metadata": {},
   "source": [
    "# Observation:\n",
    "    \n",
    "We can see around 10 null values under clean text. We can deal with null values either by imputation or removing it. Depends on the count of null values.\n",
    "\n",
    "Since just 10 are null values, and will not effect if we remove them. We will remove null values under clean text and respective columns.\n",
    "\n",
    "Imputation can also be applied but filling null values with correspoinding review is a time taking. Since, removing will not affect, we will remove it."
   ]
  },
  {
   "cell_type": "code",
   "execution_count": 46,
   "metadata": {},
   "outputs": [],
   "source": [
    "df_final_f = df_final.dropna()"
   ]
  },
  {
   "cell_type": "code",
   "execution_count": 48,
   "metadata": {},
   "outputs": [
    {
     "data": {
      "text/html": [
       "<div>\n",
       "<style scoped>\n",
       "    .dataframe tbody tr th:only-of-type {\n",
       "        vertical-align: middle;\n",
       "    }\n",
       "\n",
       "    .dataframe tbody tr th {\n",
       "        vertical-align: top;\n",
       "    }\n",
       "\n",
       "    .dataframe thead th {\n",
       "        text-align: right;\n",
       "    }\n",
       "</style>\n",
       "<table border=\"1\" class=\"dataframe\">\n",
       "  <thead>\n",
       "    <tr style=\"text-align: right;\">\n",
       "      <th></th>\n",
       "      <th>Id</th>\n",
       "      <th>ProductId</th>\n",
       "      <th>UserId</th>\n",
       "      <th>ProfileName</th>\n",
       "      <th>HelpfulnessNumerator</th>\n",
       "      <th>HelpfulnessDenominator</th>\n",
       "      <th>Score</th>\n",
       "      <th>Time</th>\n",
       "      <th>Summary</th>\n",
       "      <th>Text</th>\n",
       "      <th>Clean_Text</th>\n",
       "      <th>Clean_Summary</th>\n",
       "    </tr>\n",
       "  </thead>\n",
       "  <tbody>\n",
       "  </tbody>\n",
       "</table>\n",
       "</div>"
      ],
      "text/plain": [
       "Empty DataFrame\n",
       "Columns: [Id, ProductId, UserId, ProfileName, HelpfulnessNumerator, HelpfulnessDenominator, Score, Time, Summary, Text, Clean_Text, Clean_Summary]\n",
       "Index: []"
      ]
     },
     "execution_count": 48,
     "metadata": {},
     "output_type": "execute_result"
    }
   ],
   "source": [
    "df_final_f[df_final_f['Clean_Text'].isnull()==True]"
   ]
  },
  {
   "cell_type": "code",
   "execution_count": 49,
   "metadata": {},
   "outputs": [
    {
     "data": {
      "text/plain": [
       "<matplotlib.axes._subplots.AxesSubplot at 0x351f7668>"
      ]
     },
     "execution_count": 49,
     "metadata": {},
     "output_type": "execute_result"
    },
    {
     "data": {
      "image/png": "[encoded data removed]",
      "text/plain": [
       "<Figure size 432x288 with 2 Axes>"
      ]
     },
     "metadata": {
      "needs_background": "light"
     },
     "output_type": "display_data"
    }
   ],
   "source": [
    "# After removing null values, check if there is any null value(s)\n",
    "\n",
    "sns.heatmap(df_final_f.isnull())"
   ]
  },
  {
   "cell_type": "markdown",
   "metadata": {},
   "source": [
    "# Observation:\n",
    "    \n",
    "Now we can see no null values. Good to go."
   ]
  },
  {
   "cell_type": "markdown",
   "metadata": {},
   "source": [
    "# Time based splitting\n",
    "We need to sort the data based on time in an increasing order.\n",
    "\n",
    "Reason: We need to predict the new input data based on the built KNN model. Built model should be trained based on increasing time order which is more helpfull in building a better model to predict new input data."
   ]
  },
  {
   "cell_type": "code",
   "execution_count": 51,
   "metadata": {},
   "outputs": [],
   "source": [
    "df_final_f = df_final_f.sort_values('Time', ascending = True)"
   ]
  },
  {
   "cell_type": "code",
   "execution_count": 53,
   "metadata": {},
   "outputs": [],
   "source": [
    "# Saving the file which is sorted based on time\n",
    "\n",
    "# df_final_f.to_csv('Amazon_Final_f_time.csv', index_label = False)"
   ]
  },
  {
   "cell_type": "markdown",
   "metadata": {},
   "source": [
    "# 30k data point\n",
    "\n",
    "Considering 30k data points as it is throwing laptop is crashing for huge data points"
   ]
  },
  {
   "cell_type": "code",
   "execution_count": 165,
   "metadata": {},
   "outputs": [
    {
     "name": "stdout",
     "output_type": "stream",
     "text": [
      "<class 'pandas.core.frame.DataFrame'>\n",
      "Int64Index: 30000 entries, 374419 to 550495\n",
      "Data columns (total 12 columns):\n",
      "Id                        30000 non-null int64\n",
      "ProductId                 30000 non-null object\n",
      "UserId                    30000 non-null object\n",
      "ProfileName               30000 non-null object\n",
      "HelpfulnessNumerator      30000 non-null int64\n",
      "HelpfulnessDenominator    30000 non-null int64\n",
      "Score                     30000 non-null int64\n",
      "Time                      30000 non-null int64\n",
      "Summary                   30000 non-null object\n",
      "Text                      30000 non-null object\n",
      "Clean_Text                30000 non-null object\n",
      "Clean_Summary             30000 non-null object\n",
      "dtypes: int64(5), object(7)\n",
      "memory usage: 3.0+ MB\n"
     ]
    }
   ],
   "source": [
    "# Sample of 30k points\n",
    "df_30k = df_100k.sample(n = 30000)\n",
    "\n",
    "# Sort based on time\n",
    "df_30k = df_30k.sort_values('Time', ascending = True)\n",
    "\n",
    "# Info of df_30k\n",
    "df_30k.info()"
   ]
  },
  {
   "cell_type": "code",
   "execution_count": 73,
   "metadata": {},
   "outputs": [
    {
     "name": "stdout",
     "output_type": "stream",
     "text": [
      "Shape of x_30k is: (30000,)\n",
      "Shape of y_30k is: (30000,) \n",
      "\n"
     ]
    }
   ],
   "source": [
    "x_30k = df_30k['Clean_Text']\n",
    "print(\"Shape of x_30k is:\" + ' ' + str(x_30k.shape))\n",
    "\n",
    "y_30k = df_30k['Score']\n",
    "print(\"Shape of y_30k is:\" + ' ' + str(y_30k.shape),'\\n')"
   ]
  },
  {
   "cell_type": "markdown",
   "metadata": {},
   "source": [
    "# Algorithm: Brute Force Bag of words, TF-IDF, Avg Word2Vec, TF-IDF Word2Vec"
   ]
  },
  {
   "cell_type": "markdown",
   "metadata": {},
   "source": [
    "# Train, Test, Split\n",
    "\n",
    "Split the x and y into train and test data."
   ]
  },
  {
   "cell_type": "code",
   "execution_count": 74,
   "metadata": {},
   "outputs": [],
   "source": [
    "# Import train test and split library\n",
    "\n",
    "from sklearn.model_selection import train_test_split\n",
    "\n",
    "x_train, x_test, y_train, y_test = train_test_split(x_30k, y_30k, random_state = 0, test_size = 0.2, shuffle = False)"
   ]
  },
  {
   "cell_type": "markdown",
   "metadata": {},
   "source": [
    "# Bag of words"
   ]
  },
  {
   "cell_type": "code",
   "execution_count": 75,
   "metadata": {},
   "outputs": [],
   "source": [
    "# Import CountVectorizer library\n",
    "\n",
    "from sklearn.feature_extraction.text import CountVectorizer\n",
    "\n",
    "# Create an object to CountVectorizer\n",
    "# Taking bi-gram\n",
    "cv = CountVectorizer(ngram_range = (1,2))\n",
    "\n",
    "# Fit and transform train\n",
    "x_train_f = cv.fit_transform(x_train)\n",
    "\n",
    "# Transform test\n",
    "x_test_f = cv.transform(x_test)"
   ]
  },
  {
   "cell_type": "markdown",
   "metadata": {},
   "source": [
    "# Normalization\n",
    "\n",
    "Normalization is applied to bring all the values into single scale"
   ]
  },
  {
   "cell_type": "code",
   "execution_count": 76,
   "metadata": {},
   "outputs": [
    {
     "name": "stdout",
     "output_type": "stream",
     "text": [
      "Shape of normalized BOW train data: (24000, 461512) \n",
      "\n",
      "Shape of normalized BOW test data: (6000, 461512)\n"
     ]
    }
   ],
   "source": [
    "# Import Normalize library\n",
    "from sklearn.preprocessing import normalize\n",
    "\n",
    "x_train_b_n = normalize(x_train_f)\n",
    "x_test_b_n = normalize(x_test_f)\n",
    "\n",
    "print(\"Shape of normalized BOW train data:\" + ' ' + str(x_train_b_n.shape), '\\n')\n",
    "print(\"Shape of normalized BOW test data:\" + ' ' + str(x_test_b_n.shape))"
   ]
  },
  {
   "cell_type": "markdown",
   "metadata": {},
   "source": [
    "# Split into train and cv\n",
    "\n",
    "train and cv data is used to find the best hyperparameter 'k' and build the model"
   ]
  },
  {
   "cell_type": "code",
   "execution_count": 77,
   "metadata": {},
   "outputs": [],
   "source": [
    "x_tr_b, x_cv_b, y_tr_b, y_cv_b = train_test_split(x_train_b_n, y_train, random_state = 0, test_size = 0.2, shuffle = False)"
   ]
  },
  {
   "cell_type": "markdown",
   "metadata": {},
   "source": [
    "# Find optimal hyperparameter 'k'\n",
    "\n",
    "Train: train and cv\n",
    "\n",
    "Test: train and cv"
   ]
  },
  {
   "cell_type": "code",
   "execution_count": 78,
   "metadata": {},
   "outputs": [],
   "source": [
    "# Import KNN and AUC score library\n",
    "\n",
    "from sklearn.neighbors import KNeighborsClassifier\n",
    "from sklearn.metrics import auc, roc_auc_score"
   ]
  },
  {
   "cell_type": "code",
   "execution_count": 80,
   "metadata": {},
   "outputs": [
    {
     "name": "stdout",
     "output_type": "stream",
     "text": [
      "Maximum AUC score of cv is: 0.81732659114196\n",
      "Corresponding k value of cv is: 49 \n",
      "\n",
      "**************************************************\n",
      "Maximum AUC score of train is: 1.0\n",
      "Corresponding k value of train is: 1 \n",
      "\n"
     ]
    }
   ],
   "source": [
    "# Creating a 'for loop' to find the optimal k value\n",
    "\n",
    "auc_b_cv = []\n",
    "auc_b_tr = []\n",
    "\n",
    "k = range(1,50,2)\n",
    "\n",
    "for i in k:\n",
    "    knn = KNeighborsClassifier(n_neighbors = i, algorithm = 'brute')\n",
    "    knn_b = knn.fit(x_tr_b, y_tr_b)\n",
    "    \n",
    "    # cv\n",
    "    pred_b_cv = knn_b.predict_proba(x_cv_b)[:,1]\n",
    "    auc_scr_b_cv = roc_auc_score(y_cv_b, pred_b_cv)\n",
    "    auc_b_cv.append(auc_scr_b_cv)\n",
    "    \n",
    "    # train\n",
    "    pred_b_tr = knn_b.predict_proba(x_tr_b)[:,1]\n",
    "    auc_scr_b_tr = roc_auc_score(y_tr_b, pred_b_tr)\n",
    "    auc_b_tr.append(auc_scr_b_tr)\n",
    "    \n",
    "# Optimal k\n",
    "score_b_cv = [x for x in auc_b_cv]\n",
    "opt_b_cv = k[score_b_cv.index(max(score_b_cv))]\n",
    "print(\"Maximum AUC score of cv is:\" + ' ' + str(max(score_b_cv)))\n",
    "print(\"Corresponding k value of cv is:\",opt_b_cv, '\\n')\n",
    "\n",
    "print('*'*50)\n",
    "\n",
    "score_b_tr = [x for x in auc_b_tr]\n",
    "opt_b_tr = k[score_b_tr.index(max(score_b_tr))]\n",
    "print(\"Maximum AUC score of train is:\" + ' ' + str(max(score_b_tr)) )\n",
    "print(\"Corresponding k value of train is:\", opt_b_tr, '\\n')"
   ]
  },
  {
   "cell_type": "markdown",
   "metadata": {},
   "source": [
    "# Observation:\n",
    "\n",
    "For cv, Maximum AUC score we got is ~81% and k value is 49. For train, Maximum AUC score we got is 100% and k value is 1\n",
    "\n",
    "Taking 1 which resulted in 100% score may lead to overfit. We can probably consider 49 as k.\n",
    "\n",
    "Let's check graphically and then confirm the k value"
   ]
  },
  {
   "cell_type": "markdown",
   "metadata": {},
   "source": [
    "# Plot k v/s AUC score of train and cv"
   ]
  },
  {
   "cell_type": "code",
   "execution_count": 81,
   "metadata": {},
   "outputs": [
    {
     "data": {
      "text/plain": [
       "Text(0.5, 1.0, 'K values v/s AUC')"
      ]
     },
     "execution_count": 81,
     "metadata": {},
     "output_type": "execute_result"
    },
    {
     "data": {
      "image/png": "[encoded data removed]",
      "text/plain": [
       "<Figure size 864x576 with 1 Axes>"
      ]
     },
     "metadata": {
      "needs_background": "light"
     },
     "output_type": "display_data"
    }
   ],
   "source": [
    "plt.figure(figsize = (12,8))\n",
    "plt.plot(k, score_b_cv, marker = 'o', color = 'blue', markerfacecolor = 'g', markersize = '10', alpha = 0.5)\n",
    "\n",
    "for xy in zip(k, np.round(auc_b_cv,3)):\n",
    "    plt.annotate('(%s, %s)' % xy, xy=xy, textcoords='data')\n",
    "\n",
    "plt.plot(k, score_b_tr, marker = '*', color = 'black', markerfacecolor = 'r', markersize = '10', alpha = 0.5)\n",
    "\n",
    "for xy in zip(k, np.round(auc_b_tr,3)):\n",
    "    plt.annotate('(%s, %s)' % xy, xy=xy, textcoords='data')\n",
    "    \n",
    "plt.xlabel(\"K values\")\n",
    "plt.ylabel(\"AUC values\")\n",
    "plt.title(\"K values v/s AUC\")"
   ]
  },
  {
   "cell_type": "markdown",
   "metadata": {},
   "source": [
    "# Observation:\n",
    "    \n",
    "Graphically, we can see that train curve decreasing gradually while cv cure is increasing gradually. The gap between traiv cure and cv curve, as we can see, is less at the k value of 49 with ~81% score.\n",
    "\n",
    "We will consider k value as 49 and will predict the test data."
   ]
  },
  {
   "cell_type": "markdown",
   "metadata": {},
   "source": [
    "# Model performance on train and cv with ROC curve"
   ]
  },
  {
   "cell_type": "code",
   "execution_count": 84,
   "metadata": {},
   "outputs": [
    {
     "data": {
      "text/plain": [
       "Text(0.5, 0, 'False Positive Rate')"
      ]
     },
     "execution_count": 84,
     "metadata": {},
     "output_type": "execute_result"
    },
    {
     "data": {
      "image/png": "[encoded data removed]",
      "text/plain": [
       "<Figure size 432x288 with 1 Axes>"
      ]
     },
     "metadata": {
      "needs_background": "light"
     },
     "output_type": "display_data"
    }
   ],
   "source": [
    "# Referred the concept from https://towardsdatascience.com/understanding-auc-roc-curve-68b2303cc9c5\n",
    "# Referred the code part from https://scikit-learn.org/stable/modules/generated/sklearn.metrics.roc_curve.html\n",
    "\n",
    "# calculating the FPR and TPR for all thresholds of the classification\n",
    "\n",
    "from sklearn import metrics\n",
    "\n",
    "knn_p_b= KNeighborsClassifier(n_neighbors = opt_b_cv, algorithm = 'brute')\n",
    "knn_p_b = knn_p_b.fit(x_tr_b, y_tr_b)\n",
    "\n",
    "prob_p_b = knn_p_b.predict_proba(x_cv_b)[:,1]\n",
    "fpr, tpr, threshold = metrics.roc_curve(y_cv_b, prob_p_b)\n",
    "roc_auc_curve_p_b = metrics.auc(fpr, tpr)\n",
    "\n",
    "\n",
    "plt.title('ROC curve for train and cv')\n",
    "plt.plot(fpr, tpr, 'b', label = roc_auc_curve_p_b)\n",
    "plt.legend()\n",
    "plt.plot([0, 1], [0, 1],'r--')\n",
    "\n",
    "plt.ylabel('True Positive Rate')\n",
    "plt.xlabel('False Positive Rate')"
   ]
  },
  {
   "cell_type": "markdown",
   "metadata": {},
   "source": [
    "# Observation:\n",
    "    \n",
    "We got 0.817 which 81% AUC score. Probability of model in separating positive and negative reply is 81%"
   ]
  },
  {
   "cell_type": "markdown",
   "metadata": {},
   "source": [
    "# Applying KNN on test data with alpha 49."
   ]
  },
  {
   "cell_type": "code",
   "execution_count": 85,
   "metadata": {},
   "outputs": [],
   "source": [
    "kn_test_b = KNeighborsClassifier(n_neighbors = opt_b_cv, algorithm = 'brute')\n",
    "kn_test_b = kn_test_b.fit(x_train_b_n, y_train)\n",
    "pred_test_b = kn_test_b.predict(x_test_b_n)\n",
    "\n",
    "# predict_proba_ for roc_auc_score\n",
    "pred_pro_test_b = kn_test_b.predict_proba(x_test_b_n)[:,1]"
   ]
  },
  {
   "cell_type": "markdown",
   "metadata": {},
   "source": [
    "# Metrics"
   ]
  },
  {
   "cell_type": "code",
   "execution_count": 86,
   "metadata": {},
   "outputs": [
    {
     "name": "stdout",
     "output_type": "stream",
     "text": [
      "ROC AUC score is  0.81 \n",
      "\n",
      "**************************************************\n",
      "f1 score is  0.914 \n",
      "\n",
      "**************************************************\n",
      "Precision score is  0.843 \n",
      "\n",
      "**************************************************\n",
      "ROC AUC Score is  0.999 \n",
      "\n",
      "**************************************************\n",
      "Classification report \n",
      "\n",
      "              precision    recall  f1-score   support\n",
      "\n",
      "           0       0.90      0.04      0.09       978\n",
      "           1       0.84      1.00      0.91      5022\n",
      "\n",
      "   micro avg       0.84      0.84      0.84      6000\n",
      "   macro avg       0.87      0.52      0.50      6000\n",
      "weighted avg       0.85      0.84      0.78      6000\n",
      "\n",
      "**************************************************\n",
      "Confusion matrix table: \n",
      "\n"
     ]
    },
    {
     "data": {
      "text/plain": [
       "<matplotlib.axes._subplots.AxesSubplot at 0x5a8f0a58>"
      ]
     },
     "execution_count": 86,
     "metadata": {},
     "output_type": "execute_result"
    },
    {
     "data": {
      "image/png": "[encoded data removed]",
      "text/plain": [
       "<Figure size 432x288 with 2 Axes>"
      ]
     },
     "metadata": {
      "needs_background": "light"
     },
     "output_type": "display_data"
    }
   ],
   "source": [
    "from sklearn.metrics import confusion_matrix, roc_auc_score, precision_score, recall_score, f1_score, classification_report\n",
    "\n",
    "rab = np.round(roc_auc_score(y_test, pred_pro_test_b),3)\n",
    "print(\"ROC AUC score is \", rab, '\\n')\n",
    "print('*'*50)\n",
    "\n",
    "fb = np.round(f1_score(y_test, pred_test_b),3)\n",
    "print(\"f1 score is \", fb, '\\n')\n",
    "print('*'*50)\n",
    "\n",
    "pb = np.round(precision_score(y_test, pred_test_b),3)\n",
    "print(\"Precision score is \", pb, '\\n')\n",
    "print('*'*50)\n",
    "\n",
    "reb = np.round(recall_score(y_test, pred_test_b),3)\n",
    "print(\"ROC AUC Score is \", reb, '\\n')\n",
    "print('*'*50)\n",
    "\n",
    "print(\"Classification report\", '\\n')\n",
    "print(classification_report(y_test, pred_test_b))\n",
    "print('*'*50)\n",
    "\n",
    "# Referred from: https://scikit-plot.readthedocs.io/en/stable/Quickstart.html\n",
    "print(\"Confusion matrix table:\", '\\n')\n",
    "skplt.metrics.plot_confusion_matrix(y_test, pred_test_b)"
   ]
  },
  {
   "cell_type": "markdown",
   "metadata": {},
   "source": [
    "# ROC curve on train and test data"
   ]
  },
  {
   "cell_type": "code",
   "execution_count": 87,
   "metadata": {},
   "outputs": [
    {
     "data": {
      "text/plain": [
       "Text(0.5, 0, 'False Positive Rate')"
      ]
     },
     "execution_count": 87,
     "metadata": {},
     "output_type": "execute_result"
    },
    {
     "data": {
      "image/png": "[encoded data removed]",
      "text/plain": [
       "<Figure size 432x288 with 1 Axes>"
      ]
     },
     "metadata": {
      "needs_background": "light"
     },
     "output_type": "display_data"
    }
   ],
   "source": [
    "# Referred the concept from https://towardsdatascience.com/understanding-auc-roc-curve-68b2303cc9c5\n",
    "# Referred the code part from https://scikit-learn.org/stable/modules/generated/sklearn.metrics.roc_curve.html\n",
    "\n",
    "# calculating the FPR and TPR for all thresholds of the classification\n",
    "\n",
    "prob_test_b = kn_test_b.predict_proba(x_test_b_n)[:,1]\n",
    "fpr, tpr, threshold = metrics.roc_curve(y_test, prob_test_b)\n",
    "roc_auc_curve_test_b = metrics.auc(fpr, tpr)\n",
    "\n",
    "\n",
    "plt.title('ROC curve on test data')\n",
    "plt.plot(fpr, tpr, 'b', label = roc_auc_curve_test_b)\n",
    "plt.legend()\n",
    "plt.plot([0, 1], [0, 1],'r--')\n",
    "\n",
    "plt.ylabel('True Positive Rate')\n",
    "plt.xlabel('False Positive Rate')"
   ]
  },
  {
   "cell_type": "markdown",
   "metadata": {},
   "source": [
    "# Observation:\n",
    "    \n",
    "Threshold value: 0.5\n",
    "    \n",
    "AUC we got is 0.80 which means the probability of separation of positive and negative review will be ~80% good.\n",
    "\n",
    "Curve represents the ROC while the area under the curve represents the AUC (Area Under Curve)"
   ]
  },
  {
   "cell_type": "markdown",
   "metadata": {},
   "source": [
    "# Tf-Idf"
   ]
  },
  {
   "cell_type": "code",
   "execution_count": 88,
   "metadata": {},
   "outputs": [],
   "source": [
    "# Import Tf-Idf\n",
    "from sklearn.feature_extraction.text import TfidfVectorizer\n",
    "\n",
    "# Create an instance\n",
    "tf = TfidfVectorizer(ngram_range = (1,2))\n",
    "\n",
    "# Fit and transform the x_train\n",
    "x_train_tf = tf.fit_transform(x_train)\n",
    "\n",
    "# Transform the x_test\n",
    "x_test_tf = tf.transform(x_test)"
   ]
  },
  {
   "cell_type": "markdown",
   "metadata": {},
   "source": [
    "# Normalization"
   ]
  },
  {
   "cell_type": "code",
   "execution_count": 89,
   "metadata": {},
   "outputs": [
    {
     "name": "stdout",
     "output_type": "stream",
     "text": [
      "Shape of normalized TFIDF train data: (24000, 461512) \n",
      "\n",
      "Shape of normalized TFIDF test data: (6000, 461512)\n"
     ]
    }
   ],
   "source": [
    "# Normalize train and test data\n",
    "x_train_tn = normalize(x_train_tf)\n",
    "x_test_tn = normalize(x_test_tf)\n",
    "\n",
    "print(\"Shape of normalized TFIDF train data:\" + ' ' + str(x_train_tn.shape), '\\n')\n",
    "print(\"Shape of normalized TFIDF test data:\" + ' ' + str(x_test_tn.shape))"
   ]
  },
  {
   "cell_type": "markdown",
   "metadata": {},
   "source": [
    "# Split into train and cv"
   ]
  },
  {
   "cell_type": "code",
   "execution_count": 90,
   "metadata": {},
   "outputs": [],
   "source": [
    "x_tr_t, x_cv_t, y_tr_t, y_cv_t = train_test_split(x_train_tn, y_train, random_state = 0, test_size = 0.2, shuffle = False)"
   ]
  },
  {
   "cell_type": "markdown",
   "metadata": {},
   "source": [
    "# Find optimal hyperparameter 'k'\n",
    "\n",
    "Train: train and cv\n",
    "\n",
    "Test: train and cv"
   ]
  },
  {
   "cell_type": "code",
   "execution_count": 91,
   "metadata": {},
   "outputs": [
    {
     "name": "stdout",
     "output_type": "stream",
     "text": [
      "Maximum AUC score of cv is: 0.8299155824933169\n",
      "Corresponding k value of cv is: 49 \n",
      "\n",
      "**************************************************\n",
      "Maximum AUC score of train is: 1.0\n",
      "Corresponding k value of train is: 1 \n",
      "\n"
     ]
    }
   ],
   "source": [
    "# Creating a 'for loop' to find the optimal k value\n",
    "\n",
    "auc_t_cv = []\n",
    "auc_t_tr = []\n",
    "\n",
    "k = range(1,50,2)\n",
    "\n",
    "for i in k:\n",
    "    knn = KNeighborsClassifier(n_neighbors = i, algorithm = 'brute')\n",
    "    knn_t = knn.fit(x_tr_t, y_tr_t)\n",
    "    \n",
    "    # cv\n",
    "    pred_t_cv = knn_t.predict_proba(x_cv_t)[:,1]\n",
    "    auc_scr_t_cv = roc_auc_score(y_cv_t, pred_t_cv)\n",
    "    auc_t_cv.append(auc_scr_t_cv)\n",
    "    \n",
    "    # train\n",
    "    pred_t_tr = knn_t.predict_proba(x_tr_t)[:,1]\n",
    "    auc_scr_t_tr = roc_auc_score(y_tr_t, pred_t_tr)\n",
    "    auc_t_tr.append(auc_scr_t_tr)\n",
    "    \n",
    "# Optimal k\n",
    "score_t_cv = [x for x in auc_t_cv]\n",
    "opt_t_cv = k[score_t_cv.index(max(score_t_cv))]\n",
    "print(\"Maximum AUC score of cv is:\" + ' ' + str(max(score_t_cv)))\n",
    "print(\"Corresponding k value of cv is:\",opt_t_cv, '\\n')\n",
    "\n",
    "print('*'*50)\n",
    "\n",
    "score_t_tr = [x for x in auc_t_tr]\n",
    "opt_t_tr = k[score_t_tr.index(max(score_t_tr))]\n",
    "print(\"Maximum AUC score of train is:\" + ' ' + str(max(score_t_tr)) )\n",
    "print(\"Corresponding k value of train is:\", opt_t_tr, '\\n')"
   ]
  },
  {
   "cell_type": "markdown",
   "metadata": {},
   "source": [
    "# Observation:\n",
    "\n",
    "For cv, Maximum AUC score we got is ~82% and k value is 49. For train, Maximum AUC score we got is 100% and k value is 1\n",
    "\n",
    "Taking 1 which resulted in 100% score may lead to overfit. We can probably consider 49 as k.\n",
    "\n",
    "Let's check graphically and then confirm the k value"
   ]
  },
  {
   "cell_type": "markdown",
   "metadata": {},
   "source": [
    "# Plot k v/s AUC score of train and cv"
   ]
  },
  {
   "cell_type": "code",
   "execution_count": 92,
   "metadata": {},
   "outputs": [
    {
     "data": {
      "text/plain": [
       "Text(0.5, 1.0, 'K values v/s AUC')"
      ]
     },
     "execution_count": 92,
     "metadata": {},
     "output_type": "execute_result"
    },
    {
     "data": {
      "image/png": "[encoded data removed]",
      "text/plain": [
       "<Figure size 864x576 with 1 Axes>"
      ]
     },
     "metadata": {
      "needs_background": "light"
     },
     "output_type": "display_data"
    }
   ],
   "source": [
    "plt.figure(figsize = (12,8))\n",
    "plt.plot(k, score_t_cv, marker = 'o', color = 'blue', markerfacecolor = 'g', markersize = '10', alpha = 0.5)\n",
    "\n",
    "for xy in zip(k, np.round(auc_t_cv,3)):\n",
    "    plt.annotate('(%s, %s)' % xy, xy=xy, textcoords='data')\n",
    "\n",
    "plt.plot(k, score_t_tr, marker = '*', color = 'black', markerfacecolor = 'r', markersize = '10', alpha = 0.5)\n",
    "\n",
    "for xy in zip(k, np.round(auc_t_tr,3)):\n",
    "    plt.annotate('(%s, %s)' % xy, xy=xy, textcoords='data')\n",
    "    \n",
    "plt.xlabel(\"K values\")\n",
    "plt.ylabel(\"AUC values\")\n",
    "plt.title(\"K values v/s AUC\")"
   ]
  },
  {
   "cell_type": "markdown",
   "metadata": {},
   "source": [
    "# Observation:\n",
    "    \n",
    "Graphically, we can see that train curve decreasing gradually while cv cure is increasing gradually. The gap between traiv cure and cv curve, as we can see, is less at the k value of 49 with ~82% score.\n",
    "\n",
    "We will consider k value as 49 and will predict the test data."
   ]
  },
  {
   "cell_type": "markdown",
   "metadata": {},
   "source": [
    "# Model performance on train and cv with ROC curve"
   ]
  },
  {
   "cell_type": "code",
   "execution_count": 93,
   "metadata": {},
   "outputs": [
    {
     "data": {
      "text/plain": [
       "Text(0.5, 0, 'False Positive Rate')"
      ]
     },
     "execution_count": 93,
     "metadata": {},
     "output_type": "execute_result"
    },
    {
     "data": {
      "image/png": "[encoded data removed]",
      "text/plain": [
       "<Figure size 432x288 with 1 Axes>"
      ]
     },
     "metadata": {
      "needs_background": "light"
     },
     "output_type": "display_data"
    }
   ],
   "source": [
    "knn_p_t= KNeighborsClassifier(n_neighbors = opt_t_cv, algorithm = 'brute')\n",
    "knn_p_t = knn_p_t.fit(x_tr_t, y_tr_t)\n",
    "\n",
    "prob_p_t = knn_p_t.predict_proba(x_cv_t)[:,1]\n",
    "fpr, tpr, threshold = metrics.roc_curve(y_cv_t, prob_p_t)\n",
    "roc_auc_curve_p_t = metrics.auc(fpr, tpr)\n",
    "\n",
    "\n",
    "plt.title('ROC curve for train and cv')\n",
    "plt.plot(fpr, tpr, 'b', label = roc_auc_curve_p_t)\n",
    "plt.legend()\n",
    "plt.plot([0, 1], [0, 1],'r--')\n",
    "\n",
    "plt.ylabel('True Positive Rate')\n",
    "plt.xlabel('False Positive Rate')"
   ]
  },
  {
   "cell_type": "markdown",
   "metadata": {},
   "source": [
    "# Observation:\n",
    "    \n",
    "We got 0.829 which 82% AUC score. Probability of model in separating positive and negative reply is 82%"
   ]
  },
  {
   "cell_type": "markdown",
   "metadata": {},
   "source": [
    "# Applying KNN on test data with alpha 49."
   ]
  },
  {
   "cell_type": "code",
   "execution_count": 94,
   "metadata": {},
   "outputs": [],
   "source": [
    "kn_test_t = KNeighborsClassifier(n_neighbors = opt_t_cv)\n",
    "kn_test_t = kn_test_t.fit(x_train_tn, y_train)\n",
    "pred_test_t = kn_test_t.predict(x_test_tn)\n",
    "\n",
    "# predict_proba_ for roc_auc_score\n",
    "pred_pro_test_t = kn_test_t.predict_proba(x_test_tn)[:,1]"
   ]
  },
  {
   "cell_type": "markdown",
   "metadata": {},
   "source": [
    "# Metrics"
   ]
  },
  {
   "cell_type": "code",
   "execution_count": 95,
   "metadata": {},
   "outputs": [
    {
     "name": "stdout",
     "output_type": "stream",
     "text": [
      "ROC AUC score is  0.824 \n",
      "\n",
      "**************************************************\n",
      "f1 score is  0.914 \n",
      "\n",
      "**************************************************\n",
      "Precision score is  0.843 \n",
      "\n",
      "**************************************************\n",
      "ROC AUC Score is  0.999 \n",
      "\n",
      "**************************************************\n",
      "Classification report \n",
      "\n",
      "              precision    recall  f1-score   support\n",
      "\n",
      "           0       0.91      0.05      0.10       978\n",
      "           1       0.84      1.00      0.92      5022\n",
      "\n",
      "   micro avg       0.84      0.84      0.84      6000\n",
      "   macro avg       0.88      0.53      0.51      6000\n",
      "weighted avg       0.86      0.84      0.78      6000\n",
      "\n",
      "**************************************************\n",
      "Confusion matrix table: \n",
      "\n"
     ]
    },
    {
     "data": {
      "text/plain": [
       "<matplotlib.axes._subplots.AxesSubplot at 0x5aa38198>"
      ]
     },
     "execution_count": 95,
     "metadata": {},
     "output_type": "execute_result"
    },
    {
     "data": {
      "image/png": "[encoded data removed]",
      "text/plain": [
       "<Figure size 432x288 with 2 Axes>"
      ]
     },
     "metadata": {
      "needs_background": "light"
     },
     "output_type": "display_data"
    }
   ],
   "source": [
    "from sklearn.metrics import confusion_matrix, roc_auc_score, precision_score, recall_score, f1_score, classification_report\n",
    "\n",
    "rat = np.round(roc_auc_score(y_test, pred_pro_test_t),3)\n",
    "print(\"ROC AUC score is \", rat, '\\n')\n",
    "print('*'*50)\n",
    "\n",
    "ft = np.round(f1_score(y_test, pred_test_t),3)\n",
    "print(\"f1 score is \", fb, '\\n')\n",
    "print('*'*50)\n",
    "\n",
    "pt = np.round(precision_score(y_test, pred_test_t),3)\n",
    "print(\"Precision score is \", pb, '\\n')\n",
    "print('*'*50)\n",
    "\n",
    "ret = np.round(recall_score(y_test, pred_test_t),3)\n",
    "print(\"ROC AUC Score is \", reb, '\\n')\n",
    "print('*'*50)\n",
    "\n",
    "print(\"Classification report\", '\\n')\n",
    "print(classification_report(y_test, pred_test_t))\n",
    "print('*'*50)\n",
    "\n",
    "# Referred from: https://scikit-plot.readthedocs.io/en/stable/Quickstart.html\n",
    "print(\"Confusion matrix table:\", '\\n')\n",
    "skplt.metrics.plot_confusion_matrix(y_test, pred_test_t)"
   ]
  },
  {
   "cell_type": "markdown",
   "metadata": {},
   "source": [
    "# ROC curve on train and test data"
   ]
  },
  {
   "cell_type": "code",
   "execution_count": 96,
   "metadata": {},
   "outputs": [
    {
     "data": {
      "text/plain": [
       "Text(0.5, 0, 'False Positive Rate')"
      ]
     },
     "execution_count": 96,
     "metadata": {},
     "output_type": "execute_result"
    },
    {
     "data": {
      "image/png": "[encoded data removed]",
      "text/plain": [
       "<Figure size 432x288 with 1 Axes>"
      ]
     },
     "metadata": {
      "needs_background": "light"
     },
     "output_type": "display_data"
    }
   ],
   "source": [
    "prob_test_t = kn_test_t.predict_proba(x_test_tn)[:,1]\n",
    "fpr, tpr, threshold = metrics.roc_curve(y_test, prob_test_t)\n",
    "roc_auc_curve_test_t = metrics.auc(fpr, tpr)\n",
    "\n",
    "\n",
    "plt.title('ROC curve on test data')\n",
    "plt.plot(fpr, tpr, 'b', label = roc_auc_curve_test_t)\n",
    "plt.legend()\n",
    "plt.plot([0, 1], [0, 1],'r--')\n",
    "\n",
    "plt.ylabel('True Positive Rate')\n",
    "plt.xlabel('False Positive Rate')"
   ]
  },
  {
   "cell_type": "markdown",
   "metadata": {},
   "source": [
    "# Observation:\n",
    "    \n",
    "Threshold value: 0.5\n",
    "    \n",
    "AUC we got is 0.824 which means the probability of separation of positive and negative review will be ~82% good.\n",
    "\n",
    "Curve represents the ROC while the area under the curve represents the AUC (Area Under Curve)"
   ]
  },
  {
   "cell_type": "markdown",
   "metadata": {},
   "source": [
    "# Algorithm: KD-Tree on BOW, TF-IDF, Avg Word2Vec. TF-IDF Word2Vec"
   ]
  },
  {
   "cell_type": "markdown",
   "metadata": {},
   "source": [
    "# Bag of Words"
   ]
  },
  {
   "cell_type": "code",
   "execution_count": 121,
   "metadata": {},
   "outputs": [],
   "source": [
    "# Import CountVectorizer library\n",
    "\n",
    "from sklearn.feature_extraction.text import CountVectorizer\n",
    "\n",
    "# Create an object to CountVectorizer\n",
    "# Taking bi-gram\n",
    "cv_k = CountVectorizer(ngram_range = (1,2), min_df = 10, max_features = 500)\n",
    "\n",
    "# Fit and transform train\n",
    "x_train_k_f = cv_k.fit_transform(x_train)\n",
    "\n",
    "# Transform test\n",
    "x_test_k_f = cv_k.transform(x_test)"
   ]
  },
  {
   "cell_type": "markdown",
   "metadata": {},
   "source": [
    "# Normalization"
   ]
  },
  {
   "cell_type": "code",
   "execution_count": 122,
   "metadata": {},
   "outputs": [
    {
     "name": "stdout",
     "output_type": "stream",
     "text": [
      "Shape of normalized BOW train data: (24000, 500) \n",
      "\n",
      "Shape of normalized BOW test data: (6000, 500)\n"
     ]
    }
   ],
   "source": [
    "x_train_k_b_n = normalize(x_train_k_f)\n",
    "x_test_k_b_n = normalize(x_test_k_f)\n",
    "\n",
    "print(\"Shape of normalized BOW train data:\" + ' ' + str(x_train_k_b_n.shape), '\\n')\n",
    "print(\"Shape of normalized BOW test data:\" + ' ' + str(x_test_k_b_n.shape))"
   ]
  },
  {
   "cell_type": "markdown",
   "metadata": {},
   "source": [
    "# Convert to dense matrix"
   ]
  },
  {
   "cell_type": "code",
   "execution_count": 123,
   "metadata": {},
   "outputs": [
    {
     "name": "stdout",
     "output_type": "stream",
     "text": [
      "Type of x_train_k_b_d: <class 'numpy.matrixlib.defmatrix.matrix'>\n",
      "Type of x_test_k_b_d: <class 'numpy.matrixlib.defmatrix.matrix'>\n"
     ]
    }
   ],
   "source": [
    "# Converting to dense matrix\n",
    "x_train_k_b_d = x_train_k_b_n.todense()\n",
    "x_test_k_b_d = x_test_k_b_n.todense()\n",
    "\n",
    "print(\"Type of x_train_k_b_d:\" + ' ' +  str(type(x_train_k_b_d)))\n",
    "print(\"Type of x_test_k_b_d:\"  + ' ' + str(type(x_test_k_b_d)))"
   ]
  },
  {
   "cell_type": "markdown",
   "metadata": {},
   "source": [
    "# Split into train and cv\n",
    "\n",
    "train and cv data is used to find the best hyperparameter 'k' and build the model"
   ]
  },
  {
   "cell_type": "code",
   "execution_count": 124,
   "metadata": {},
   "outputs": [],
   "source": [
    "x_tr_k_b, x_cv_k_b, y_tr_k_b, y_cv_k_b = train_test_split(x_train_k_b_d, y_train, random_state = 0,\n",
    "                                                          test_size = 0.2, shuffle = False)"
   ]
  },
  {
   "cell_type": "markdown",
   "metadata": {},
   "source": [
    "# Find optimal hyperparameter 'k'\n",
    "\n",
    "Train: train and cv\n",
    "\n",
    "Test: train and cv"
   ]
  },
  {
   "cell_type": "code",
   "execution_count": 140,
   "metadata": {},
   "outputs": [
    {
     "name": "stdout",
     "output_type": "stream",
     "text": [
      "Maximum AUC score of cv is: 0.7988062839274636\n",
      "Corresponding k value of cv is: 49 \n",
      "\n",
      "**************************************************\n",
      "Maximum AUC score of train is: 1.0\n",
      "Corresponding k value of train is: 1 \n",
      "\n"
     ]
    }
   ],
   "source": [
    "# Creating a 'for loop' to find the optimal k value\n",
    "\n",
    "auc_k_b_cv = []\n",
    "auc_k_b_tr = []\n",
    "\n",
    "ki = range(1,50,3)\n",
    "\n",
    "for i in ki:\n",
    "    knn = KNeighborsClassifier(n_neighbors = i, algorithm = 'kd_tree')\n",
    "    knn_k_b = knn.fit(x_tr_k_b, y_tr_k_b)\n",
    "    \n",
    "    # cv\n",
    "    pred_k_b_cv = knn_k_b.predict_proba(x_cv_k_b)[:,1]\n",
    "    auc_scr_k_b_cv = roc_auc_score(y_cv_k_b, pred_k_b_cv)\n",
    "    auc_k_b_cv.append(auc_scr_k_b_cv)\n",
    "    \n",
    "    # train\n",
    "    pred_k_b_tr = knn_k_b.predict_proba(x_tr_k_b)[:,1]\n",
    "    auc_scr_k_b_tr = roc_auc_score(y_tr_k_b, pred_k_b_tr)\n",
    "    auc_k_b_tr.append(auc_scr_k_b_tr)\n",
    "    \n",
    "# Optimal k\n",
    "score_k_b_cv = [x for x in auc_k_b_cv]\n",
    "opt_k_b_cv = ki[score_k_b_cv.index(max(score_k_b_cv))]\n",
    "print(\"Maximum AUC score of cv is:\" + ' ' + str(max(score_k_b_cv)))\n",
    "print(\"Corresponding k value of cv is:\",opt_k_b_cv, '\\n')\n",
    "\n",
    "print('*'*50)\n",
    "\n",
    "score_k_b_tr = [x for x in auc_k_b_tr]\n",
    "opt_k_b_tr = ki[score_k_b_tr.index(max(score_k_b_tr))]\n",
    "print(\"Maximum AUC score of train is:\" + ' ' + str(max(score_k_b_tr)) )\n",
    "print(\"Corresponding k value of train is:\", opt_k_b_tr, '\\n')"
   ]
  },
  {
   "cell_type": "markdown",
   "metadata": {},
   "source": [
    "# Observation:\n",
    "\n",
    "For cv, Maximum AUC score we got is ~79% and k value is 49. For train, Maximum AUC score we got is 100% and k value is 1\n",
    "\n",
    "Taking 1 which resulted in 100% score may lead to overfit. We can probably consider 49 as k.\n",
    "\n",
    "Let's check graphically and then confirm the k value"
   ]
  },
  {
   "cell_type": "markdown",
   "metadata": {},
   "source": [
    "# Plot k v/s AUC score of train and cv"
   ]
  },
  {
   "cell_type": "code",
   "execution_count": 147,
   "metadata": {},
   "outputs": [
    {
     "data": {
      "text/plain": [
       "Text(0.5, 1.0, 'K values v/s AUC')"
      ]
     },
     "execution_count": 147,
     "metadata": {},
     "output_type": "execute_result"
    },
    {
     "data": {
      "image/png": "[encoded data removed]",
      "text/plain": [
       "<Figure size 864x576 with 1 Axes>"
      ]
     },
     "metadata": {
      "needs_background": "light"
     },
     "output_type": "display_data"
    }
   ],
   "source": [
    "plt.figure(figsize = (12,8))\n",
    "plt.plot(ki, score_k_b_cv, marker = 'o', color = 'blue', markerfacecolor = 'g', markersize = '10', alpha = 0.5)\n",
    "\n",
    "for xy in zip(ki, np.round(auc_k_b_cv,3)):\n",
    "    plt.annotate('(%s, %s)' % xy, xy=xy, textcoords='data')\n",
    "\n",
    "plt.plot(ki, score_k_b_tr, marker = '*', color = 'black', markerfacecolor = 'r', markersize = '10', alpha = 0.5)\n",
    "\n",
    "for xy in zip(ki, np.round(auc_k_b_tr,3)):\n",
    "    plt.annotate('(%s, %s)' % xy, xy=xy, textcoords='data')\n",
    "    \n",
    "plt.xlabel(\"K values\")\n",
    "plt.ylabel(\"AUC values\")\n",
    "plt.title(\"K values v/s AUC\")"
   ]
  },
  {
   "cell_type": "markdown",
   "metadata": {},
   "source": [
    "# Observation:\n",
    "    \n",
    "Graphically, we can see that train curve decreasing gradually while cv cure is increasing gradually. The gap between traiv cure and cv curve, as we can see, is less at the k value of 49 with ~79% score.\n",
    "\n",
    "We will consider k value as 49 and will predict the test data."
   ]
  },
  {
   "cell_type": "markdown",
   "metadata": {},
   "source": [
    "# Model performance on train and cv with ROC curve"
   ]
  },
  {
   "cell_type": "code",
   "execution_count": 148,
   "metadata": {},
   "outputs": [
    {
     "data": {
      "text/plain": [
       "Text(0.5, 0, 'False Positive Rate')"
      ]
     },
     "execution_count": 148,
     "metadata": {},
     "output_type": "execute_result"
    },
    {
     "data": {
      "image/png": "[encoded data removed]",
      "text/plain": [
       "<Figure size 432x288 with 1 Axes>"
      ]
     },
     "metadata": {
      "needs_background": "light"
     },
     "output_type": "display_data"
    }
   ],
   "source": [
    "knn_p_k_b= KNeighborsClassifier(n_neighbors = opt_k_b_cv, algorithm = 'kd_tree')\n",
    "knn_p_k_b = knn_p_k_b.fit(x_tr_k_b, y_tr_k_b)\n",
    "\n",
    "prob_p_k_b = knn_p_k_b.predict_proba(x_cv_k_b)[:,1]\n",
    "fpr, tpr, threshold = metrics.roc_curve(y_cv_k_b, prob_p_k_b)\n",
    "roc_auc_curve_p_k_b = metrics.auc(fpr, tpr)\n",
    "\n",
    "\n",
    "plt.title('ROC curve for train and cv')\n",
    "plt.plot(fpr, tpr, 'b', label = roc_auc_curve_p_k_b)\n",
    "plt.legend()\n",
    "plt.plot([0, 1], [0, 1],'r--')\n",
    "\n",
    "plt.ylabel('True Positive Rate')\n",
    "plt.xlabel('False Positive Rate')"
   ]
  },
  {
   "cell_type": "markdown",
   "metadata": {},
   "source": [
    "# Observation:\n",
    "    \n",
    "We got 0.7988 which 79% AUC score. Probability of model in separating positive and negative reply is 79%"
   ]
  },
  {
   "cell_type": "markdown",
   "metadata": {},
   "source": [
    "# Applying KNN on test data with alpha 49."
   ]
  },
  {
   "cell_type": "code",
   "execution_count": 149,
   "metadata": {},
   "outputs": [],
   "source": [
    "kn_test_k_b = KNeighborsClassifier(n_neighbors = opt_k_b_cv, algorithm = 'kd_tree')\n",
    "kn_test_k_b = kn_test_k_b.fit(x_train_k_b_d, y_train)\n",
    "pred_test_k_b = kn_test_k_b.predict(x_test_k_b_d)\n",
    "\n",
    "# predict_proba_ for roc_auc_score\n",
    "pred_pro_test_k_b = kn_test_k_b.predict_proba(x_test_k_b_d)[:,1]"
   ]
  },
  {
   "cell_type": "markdown",
   "metadata": {},
   "source": [
    "# Metrics"
   ]
  },
  {
   "cell_type": "code",
   "execution_count": 150,
   "metadata": {},
   "outputs": [
    {
     "name": "stdout",
     "output_type": "stream",
     "text": [
      "ROC AUC score is  0.802 \n",
      "\n",
      "**************************************************\n",
      "f1 score is  0.914 \n",
      "\n",
      "**************************************************\n",
      "Precision score is  0.843 \n",
      "\n",
      "**************************************************\n",
      "ROC AUC Score is  0.998 \n",
      "\n",
      "**************************************************\n",
      "Classification report \n",
      "\n",
      "              precision    recall  f1-score   support\n",
      "\n",
      "           0       0.84      0.05      0.09       978\n",
      "           1       0.84      1.00      0.91      5022\n",
      "\n",
      "   micro avg       0.84      0.84      0.84      6000\n",
      "   macro avg       0.84      0.52      0.50      6000\n",
      "weighted avg       0.84      0.84      0.78      6000\n",
      "\n",
      "**************************************************\n",
      "Confusion matrix table: \n",
      "\n"
     ]
    },
    {
     "data": {
      "text/plain": [
       "<matplotlib.axes._subplots.AxesSubplot at 0x8cb1e198>"
      ]
     },
     "execution_count": 150,
     "metadata": {},
     "output_type": "execute_result"
    },
    {
     "data": {
      "image/png": "[encoded data removed]",
      "text/plain": [
       "<Figure size 432x288 with 2 Axes>"
      ]
     },
     "metadata": {
      "needs_background": "light"
     },
     "output_type": "display_data"
    }
   ],
   "source": [
    "from sklearn.metrics import confusion_matrix, roc_auc_score, precision_score, recall_score, f1_score, classification_report\n",
    "\n",
    "rab_k = np.round(roc_auc_score(y_test, pred_pro_test_k_b),3)\n",
    "print(\"ROC AUC score is \", rab_k, '\\n')\n",
    "print('*'*50)\n",
    "\n",
    "fb_k = np.round(f1_score(y_test, pred_test_k_b),3)\n",
    "print(\"f1 score is \", fb_k, '\\n')\n",
    "print('*'*50)\n",
    "\n",
    "pb_k = np.round(precision_score(y_test, pred_test_k_b),3)\n",
    "print(\"Precision score is \", pb_k, '\\n')\n",
    "print('*'*50)\n",
    "\n",
    "reb_k = np.round(recall_score(y_test, pred_test_k_b),3)\n",
    "print(\"ROC AUC Score is \", reb_k, '\\n')\n",
    "print('*'*50)\n",
    "\n",
    "print(\"Classification report\", '\\n')\n",
    "print(classification_report(y_test, pred_test_k_b))\n",
    "print('*'*50)\n",
    "\n",
    "# Referred from: https://scikit-plot.readthedocs.io/en/stable/Quickstart.html\n",
    "print(\"Confusion matrix table:\", '\\n')\n",
    "skplt.metrics.plot_confusion_matrix(y_test, pred_test_k_b)"
   ]
  },
  {
   "cell_type": "markdown",
   "metadata": {},
   "source": [
    "# ROC curve on train and test data"
   ]
  },
  {
   "cell_type": "code",
   "execution_count": 151,
   "metadata": {},
   "outputs": [
    {
     "data": {
      "text/plain": [
       "Text(0.5, 0, 'False Positive Rate')"
      ]
     },
     "execution_count": 151,
     "metadata": {},
     "output_type": "execute_result"
    },
    {
     "data": {
      "image/png": "[encoded data removed]",
      "text/plain": [
       "<Figure size 432x288 with 1 Axes>"
      ]
     },
     "metadata": {
      "needs_background": "light"
     },
     "output_type": "display_data"
    }
   ],
   "source": [
    "prob_test_k_b = kn_test_k_b.predict_proba(x_test_k_b_d)[:,1]\n",
    "fpr, tpr, threshold = metrics.roc_curve(y_test, prob_test_k_b)\n",
    "roc_auc_curve_test_k_b = metrics.auc(fpr, tpr)\n",
    "\n",
    "\n",
    "plt.title('ROC curve on test data')\n",
    "plt.plot(fpr, tpr, 'b', label = roc_auc_curve_test_k_b)\n",
    "plt.legend()\n",
    "plt.plot([0, 1], [0, 1],'r--')\n",
    "\n",
    "plt.ylabel('True Positive Rate')\n",
    "plt.xlabel('False Positive Rate')"
   ]
  },
  {
   "cell_type": "markdown",
   "metadata": {},
   "source": [
    "# Observation:\n",
    "    \n",
    "Threshold value: 0.5\n",
    "    \n",
    "AUC we got is 0.8 which means the probability of separation of positive and negative review will be ~80% good.\n",
    "\n",
    "Curve represents the ROC while the area under the curve represents the AUC (Area Under Curve)"
   ]
  },
  {
   "cell_type": "markdown",
   "metadata": {},
   "source": [
    "# TF-IDF"
   ]
  },
  {
   "cell_type": "code",
   "execution_count": 141,
   "metadata": {},
   "outputs": [],
   "source": [
    "# Create an instance\n",
    "tf_k = TfidfVectorizer(ngram_range = (1,2), min_df = 10, max_features = 500)\n",
    "\n",
    "# Fit and transform the x_train\n",
    "x_train_k_tf = tf_k.fit_transform(x_train)\n",
    "\n",
    "# Transform the x_test\n",
    "x_test_k_tf = tf_k.transform(x_test)"
   ]
  },
  {
   "cell_type": "markdown",
   "metadata": {},
   "source": [
    "# Normalization"
   ]
  },
  {
   "cell_type": "code",
   "execution_count": 142,
   "metadata": {},
   "outputs": [
    {
     "name": "stdout",
     "output_type": "stream",
     "text": [
      "Shape of normalized TFIDF train data: (24000, 500) \n",
      "\n",
      "Shape of normalized TFIDF test data: (6000, 500)\n"
     ]
    }
   ],
   "source": [
    "# Normalize train and test data\n",
    "x_train_k_tn = normalize(x_train_k_tf)\n",
    "x_test_k_tn = normalize(x_test_k_tf)\n",
    "\n",
    "print(\"Shape of normalized TFIDF train data:\" + ' ' + str(x_train_k_tn.shape), '\\n')\n",
    "print(\"Shape of normalized TFIDF test data:\" + ' ' + str(x_test_k_tn.shape))"
   ]
  },
  {
   "cell_type": "markdown",
   "metadata": {},
   "source": [
    "# Convert to dense matrix"
   ]
  },
  {
   "cell_type": "code",
   "execution_count": 143,
   "metadata": {},
   "outputs": [
    {
     "name": "stdout",
     "output_type": "stream",
     "text": [
      "Type of x_train_k_t_d: <class 'numpy.matrixlib.defmatrix.matrix'>\n",
      "Type of x_test_k_t_d: <class 'numpy.matrixlib.defmatrix.matrix'>\n"
     ]
    }
   ],
   "source": [
    "# Converting to dense matrix\n",
    "x_train_k_t_d = x_train_k_tn.todense()\n",
    "x_test_k_t_d = x_test_k_tn.todense()\n",
    "\n",
    "print(\"Type of x_train_k_t_d:\" + ' ' +  str(type(x_train_k_t_d)))\n",
    "print(\"Type of x_test_k_t_d:\"  + ' ' + str(type(x_test_k_t_d)))"
   ]
  },
  {
   "cell_type": "markdown",
   "metadata": {},
   "source": [
    "# Split into train and cv\n",
    "\n",
    "train and cv data is used to find the best hyperparameter 'k' and build the model"
   ]
  },
  {
   "cell_type": "code",
   "execution_count": 144,
   "metadata": {},
   "outputs": [],
   "source": [
    "x_tr_k_t, x_cv_k_t, y_tr_k_t, y_cv_k_t = train_test_split(x_train_k_t_d, y_train, random_state = 0,\n",
    "                                                          test_size = 0.2, shuffle = False)"
   ]
  },
  {
   "cell_type": "markdown",
   "metadata": {},
   "source": [
    "# Find optimal hyperparameter 'k'\n",
    "\n",
    "Train: train and cv\n",
    "\n",
    "Test: train and cv"
   ]
  },
  {
   "cell_type": "code",
   "execution_count": 145,
   "metadata": {},
   "outputs": [
    {
     "name": "stdout",
     "output_type": "stream",
     "text": [
      "Maximum AUC score of cv is: 0.7697167212367998\n",
      "Corresponding k value of cv is: 49 \n",
      "\n",
      "**************************************************\n",
      "Maximum AUC score of train is: 1.0\n",
      "Corresponding k value of train is: 1 \n",
      "\n"
     ]
    }
   ],
   "source": [
    "# Creating a 'for loop' to find the optimal k value\n",
    "\n",
    "auc_k_t_cv = []\n",
    "auc_k_t_tr = []\n",
    "\n",
    "ki = range(1,50,3)\n",
    "\n",
    "for i in ki:\n",
    "    knn = KNeighborsClassifier(n_neighbors = i, algorithm = 'kd_tree')\n",
    "    knn_k_t = knn.fit(x_tr_k_t, y_tr_k_t)\n",
    "    \n",
    "    # cv\n",
    "    pred_k_t_cv = knn_k_t.predict_proba(x_cv_k_t)[:,1]\n",
    "    auc_scr_k_t_cv = roc_auc_score(y_cv_k_t, pred_k_t_cv)\n",
    "    auc_k_t_cv.append(auc_scr_k_t_cv)\n",
    "    \n",
    "    # train\n",
    "    pred_k_t_tr = knn_k_t.predict_proba(x_tr_k_t)[:,1]\n",
    "    auc_scr_k_t_tr = roc_auc_score(y_tr_k_t, pred_k_t_tr)\n",
    "    auc_k_t_tr.append(auc_scr_k_t_tr)\n",
    "    \n",
    "# Optimal k\n",
    "score_k_t_cv = [x for x in auc_k_t_cv]\n",
    "opt_k_t_cv = ki[score_k_t_cv.index(max(score_k_t_cv))]\n",
    "print(\"Maximum AUC score of cv is:\" + ' ' + str(max(score_k_t_cv)))\n",
    "print(\"Corresponding k value of cv is:\",opt_k_t_cv, '\\n')\n",
    "\n",
    "print('*'*50)\n",
    "\n",
    "score_k_t_tr = [x for x in auc_k_t_tr]\n",
    "opt_k_t_tr = ki[score_k_t_tr.index(max(score_k_t_tr))]\n",
    "print(\"Maximum AUC score of train is:\" + ' ' + str(max(score_k_t_tr)) )\n",
    "print(\"Corresponding k value of train is:\", opt_k_t_tr, '\\n')"
   ]
  },
  {
   "cell_type": "markdown",
   "metadata": {},
   "source": [
    "# Observation:\n",
    "\n",
    "For cv, Maximum AUC score we got is ~76% and k value is 49. For train, Maximum AUC score we got is 100% and k value is 1\n",
    "\n",
    "Taking 1 which resulted in 100% score may lead to overfit. We can probably consider 49 as k.\n",
    "\n",
    "Let's check graphically and then confirm the k value"
   ]
  },
  {
   "cell_type": "markdown",
   "metadata": {},
   "source": [
    "# Plot k v/s AUC score of train and cv"
   ]
  },
  {
   "cell_type": "code",
   "execution_count": 154,
   "metadata": {},
   "outputs": [
    {
     "data": {
      "text/plain": [
       "Text(0.5, 1.0, 'K values v/s AUC')"
      ]
     },
     "execution_count": 154,
     "metadata": {},
     "output_type": "execute_result"
    },
    {
     "data": {
      "image/png": "[encoded data removed]",
      "text/plain": [
       "<Figure size 864x576 with 1 Axes>"
      ]
     },
     "metadata": {
      "needs_background": "light"
     },
     "output_type": "display_data"
    }
   ],
   "source": [
    "plt.figure(figsize = (12,8))\n",
    "plt.plot(ki, score_k_t_cv, marker = 'o', color = 'blue', markerfacecolor = 'g', markersize = '10', alpha = 0.5)\n",
    "\n",
    "for xy in zip(ki, np.round(auc_k_t_cv,3)):\n",
    "    plt.annotate('(%s, %s)' % xy, xy=xy, textcoords='data')\n",
    "\n",
    "plt.plot(ki, score_k_t_tr, marker = '*', color = 'black', markerfacecolor = 'r', markersize = '10', alpha = 0.5)\n",
    "\n",
    "for xy in zip(ki, np.round(auc_k_t_tr,3)):\n",
    "    plt.annotate('(%s, %s)' % xy, xy=xy, textcoords='data')\n",
    "    \n",
    "plt.xlabel(\"K values\")\n",
    "plt.ylabel(\"AUC values\")\n",
    "plt.title(\"K values v/s AUC\")"
   ]
  },
  {
   "cell_type": "markdown",
   "metadata": {},
   "source": [
    "# Observation:\n",
    "    \n",
    "Graphically, we can see that train curve decreasing gradually while cv cure is increasing gradually. The gap between traiv cure and cv curve, as we can see, is less at the k value of 49 with ~79% score.\n",
    "\n",
    "We will consider k value as 49 and will predict the test data."
   ]
  },
  {
   "cell_type": "markdown",
   "metadata": {},
   "source": [
    "# Model performance on train and cv with ROC curve"
   ]
  },
  {
   "cell_type": "code",
   "execution_count": 152,
   "metadata": {},
   "outputs": [
    {
     "data": {
      "text/plain": [
       "Text(0.5, 0, 'False Positive Rate')"
      ]
     },
     "execution_count": 152,
     "metadata": {},
     "output_type": "execute_result"
    },
    {
     "data": {
      "image/png": "[encoded data removed]",
      "text/plain": [
       "<Figure size 432x288 with 1 Axes>"
      ]
     },
     "metadata": {
      "needs_background": "light"
     },
     "output_type": "display_data"
    }
   ],
   "source": [
    "knn_p_k_t= KNeighborsClassifier(n_neighbors = opt_k_t_cv, algorithm = 'kd_tree')\n",
    "knn_p_k_t = knn_p_k_t.fit(x_tr_k_t, y_tr_k_t)\n",
    "\n",
    "prob_p_k_t = knn_p_k_t.predict_proba(x_cv_k_t)[:,1]\n",
    "fpr, tpr, threshold = metrics.roc_curve(y_cv_k_t, prob_p_k_t)\n",
    "roc_auc_curve_p_k_t = metrics.auc(fpr, tpr)\n",
    "\n",
    "\n",
    "plt.title('ROC curve for train and cv')\n",
    "plt.plot(fpr, tpr, 'b', label = roc_auc_curve_p_k_t)\n",
    "plt.legend()\n",
    "plt.plot([0, 1], [0, 1],'r--')\n",
    "\n",
    "plt.ylabel('True Positive Rate')\n",
    "plt.xlabel('False Positive Rate')"
   ]
  },
  {
   "cell_type": "markdown",
   "metadata": {},
   "source": [
    "# Observation:\n",
    "    \n",
    "We got 0.76 which 76% AUC score. Probability of model in separating positive and negative reply is 76%"
   ]
  },
  {
   "cell_type": "markdown",
   "metadata": {},
   "source": [
    "# Applying KNN on test data with alpha 49."
   ]
  },
  {
   "cell_type": "code",
   "execution_count": 156,
   "metadata": {},
   "outputs": [],
   "source": [
    "kn_test_k_t = KNeighborsClassifier(n_neighbors = opt_k_t_cv, algorithm = 'kd_tree')\n",
    "kn_test_k_t = kn_test_k_t.fit(x_train_k_t_d, y_train)\n",
    "pred_test_k_t = kn_test_k_t.predict(x_test_k_t_d)\n",
    "\n",
    "# predict_proba_ for roc_auc_score\n",
    "pred_pro_test_k_t = kn_test_k_t.predict_proba(x_test_k_t_d)[:,1]"
   ]
  },
  {
   "cell_type": "code",
   "execution_count": 157,
   "metadata": {},
   "outputs": [
    {
     "name": "stdout",
     "output_type": "stream",
     "text": [
      "ROC AUC score is  0.775 \n",
      "\n",
      "**************************************************\n",
      "f1 score is  0.915 \n",
      "\n",
      "**************************************************\n",
      "Precision score is  0.843 \n",
      "\n",
      "**************************************************\n",
      "ROC AUC Score is  0.998 \n",
      "\n",
      "**************************************************\n",
      "Classification report \n",
      "\n",
      "              precision    recall  f1-score   support\n",
      "\n",
      "           0       0.90      0.05      0.09       978\n",
      "           1       0.84      1.00      0.91      5022\n",
      "\n",
      "   micro avg       0.84      0.84      0.84      6000\n",
      "   macro avg       0.87      0.52      0.50      6000\n",
      "weighted avg       0.85      0.84      0.78      6000\n",
      "\n",
      "**************************************************\n",
      "Confusion matrix table: \n",
      "\n"
     ]
    },
    {
     "data": {
      "text/plain": [
       "<matplotlib.axes._subplots.AxesSubplot at 0x8275ed68>"
      ]
     },
     "execution_count": 157,
     "metadata": {},
     "output_type": "execute_result"
    },
    {
     "data": {
      "image/png": "[encoded data removed]",
      "text/plain": [
       "<Figure size 432x288 with 2 Axes>"
      ]
     },
     "metadata": {
      "needs_background": "light"
     },
     "output_type": "display_data"
    }
   ],
   "source": [
    "from sklearn.metrics import confusion_matrix, roc_auc_score, precision_score, recall_score, f1_score, classification_report\n",
    "\n",
    "rat_k = np.round(roc_auc_score(y_test, pred_pro_test_k_t),3)\n",
    "print(\"ROC AUC score is \", rat_k, '\\n')\n",
    "print('*'*50)\n",
    "\n",
    "ft_k = np.round(f1_score(y_test, pred_test_k_t),3)\n",
    "print(\"f1 score is \", ft_k, '\\n')\n",
    "print('*'*50)\n",
    "\n",
    "pt_k = np.round(precision_score(y_test, pred_test_k_t),3)\n",
    "print(\"Precision score is \", pt_k, '\\n')\n",
    "print('*'*50)\n",
    "\n",
    "ret_k = np.round(recall_score(y_test, pred_test_k_b),3)\n",
    "print(\"ROC AUC Score is \", ret_k, '\\n')\n",
    "print('*'*50)\n",
    "\n",
    "print(\"Classification report\", '\\n')\n",
    "print(classification_report(y_test, pred_test_k_t))\n",
    "print('*'*50)\n",
    "\n",
    "# Referred from: https://scikit-plot.readthedocs.io/en/stable/Quickstart.html\n",
    "print(\"Confusion matrix table:\", '\\n')\n",
    "skplt.metrics.plot_confusion_matrix(y_test, pred_test_k_t)"
   ]
  },
  {
   "cell_type": "markdown",
   "metadata": {},
   "source": [
    "# ROC curve on train and test data"
   ]
  },
  {
   "cell_type": "code",
   "execution_count": 158,
   "metadata": {},
   "outputs": [
    {
     "data": {
      "text/plain": [
       "Text(0.5, 0, 'False Positive Rate')"
      ]
     },
     "execution_count": 158,
     "metadata": {},
     "output_type": "execute_result"
    },
    {
     "data": {
      "image/png": "[encoded data removed]",
      "text/plain": [
       "<Figure size 432x288 with 1 Axes>"
      ]
     },
     "metadata": {
      "needs_background": "light"
     },
     "output_type": "display_data"
    }
   ],
   "source": [
    "prob_test_k_t = kn_test_k_t.predict_proba(x_test_k_t_d)[:,1]\n",
    "fpr, tpr, threshold = metrics.roc_curve(y_test, prob_test_k_t)\n",
    "roc_auc_curve_test_k_t = metrics.auc(fpr, tpr)\n",
    "\n",
    "\n",
    "plt.title('ROC curve on test data')\n",
    "plt.plot(fpr, tpr, 'b', label = roc_auc_curve_test_k_t)\n",
    "plt.legend()\n",
    "plt.plot([0, 1], [0, 1],'r--')\n",
    "\n",
    "plt.ylabel('True Positive Rate')\n",
    "plt.xlabel('False Positive Rate')"
   ]
  },
  {
   "cell_type": "markdown",
   "metadata": {},
   "source": [
    "# Observation:\n",
    "    \n",
    "Threshold value: 0.5\n",
    "    \n",
    "AUC we got is 0.77 which means the probability of separation of positive and negative review will be ~77% good.\n",
    "\n",
    "Curve represents the ROC while the area under the curve represents the AUC (Area Under Curve)"
   ]
  },
  {
   "cell_type": "markdown",
   "metadata": {},
   "source": [
    "# Average Word2Vec"
   ]
  },
  {
   "cell_type": "markdown",
   "metadata": {},
   "source": [
    "# Summary using pretty table"
   ]
  },
  {
   "cell_type": "code",
   "execution_count": 167,
   "metadata": {},
   "outputs": [
    {
     "name": "stdout",
     "output_type": "stream",
     "text": [
      "+--------------------------------------------------------------------------+\n",
      "|                 Summary Table for Brute Force algorithm                  |\n",
      "+------+---------------+---------+---------+-----------+--------+----------+\n",
      "| S.No | Featurization | K value | ROC AUC | Precision | Recall | f1-score |\n",
      "+------+---------------+---------+---------+-----------+--------+----------+\n",
      "|  1   |  Bag of Words |    49   |   0.81  |   0.843   | 0.999  |  0.914   |\n",
      "|  2   |     Tf-Idf    |    49   |  0.824  |   0.844   | 0.999  |  0.915   |\n",
      "+------+---------------+---------+---------+-----------+--------+----------+\n",
      "\n",
      "+--------------------------------------------------------------------------+\n",
      "|                   Summary Table for KD Tree algorithm                    |\n",
      "+------+---------------+---------+---------+-----------+--------+----------+\n",
      "| S.No | Featurization | K value | ROC AUC | Precision | Recall | f1-score |\n",
      "+------+---------------+---------+---------+-----------+--------+----------+\n",
      "|  1   |  Bag of Words |    49   |  0.802  |   0.843   | 0.998  |  0.914   |\n",
      "|  2   |     Tf-Idf    |    49   |  0.775  |   0.843   | 0.998  |  0.915   |\n",
      "+------+---------------+---------+---------+-----------+--------+----------+\n"
     ]
    }
   ],
   "source": [
    "from prettytable import PrettyTable\n",
    "\n",
    "a = PrettyTable()\n",
    "\n",
    "\n",
    "a.field_names = [\"S.No\", \"Featurization\", \"K value\", \"ROC AUC\", \"Precision\", \"Recall\", \"f1-score\"]\n",
    "\n",
    "a.add_row([ (1), \"Bag of Words\", opt_b_cv, rab, pb, reb, fb])\n",
    "a.add_row([ (2), \"Tf-Idf\", opt_t_cv, rat, pt, ret, ft])\n",
    "\n",
    "print(a.get_string(title = \"Summary Table for Brute Force algorithm\"))\n",
    "\n",
    "print()\n",
    "\n",
    "from prettytable import PrettyTable\n",
    "\n",
    "b = PrettyTable()\n",
    "\n",
    "b.field_names = [\"S.No\", \"Featurization\", \"K value\", \"ROC AUC\", \"Precision\", \"Recall\", \"f1-score\"]\n",
    "\n",
    "b.add_row([ (1), \"Bag of Words\", opt_k_b_cv, rab_k, pb_k, reb_k, fb_k])\n",
    "b.add_row([ (2), \"Tf-Idf\", opt_k_t_cv, rat_k, pt_k, ret_k, ft_k])\n",
    "\n",
    "print(b.get_string(title = \"Summary Table for KD Tree algorithm\"))"
   ]
  },
  {
   "cell_type": "markdown",
   "metadata": {},
   "source": [
    "# Conclusion:\n",
    "\n",
    "1) AUC score for both brute force algorithm and kd tree algorithm doesn't seem great.\n",
    "\n",
    "2) Precision doesn't look that great with ~83% on an average.\n",
    "\n",
    "3) But Recall and F1-score looks good with ~99% and ~91% respectively.\n",
    "\n",
    "Overall, if we look at the AUC score, we can conclude that KNN model is not good for predicting review text.\n"
   ]
  },
  {
   "cell_type": "code",
   "execution_count": null,
   "metadata": {},
   "outputs": [],
   "source": []
  }
 ],
 "metadata": {
  "kernelspec": {
   "display_name": "Python 3",
   "language": "python",
   "name": "python3"
  },
  "language_info": {
   "codemirror_mode": {
    "name": "ipython",
    "version": 3
   },
   "file_extension": ".py",
   "mimetype": "text/x-python",
   "name": "python",
   "nbconvert_exporter": "python",
   "pygments_lexer": "ipython3",
   "version": "3.6.6"
  }
 },
 "nbformat": 4,
 "nbformat_minor": 2
}
