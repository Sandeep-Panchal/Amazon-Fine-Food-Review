{
 "cells": [
  {
   "cell_type": "markdown",
   "metadata": {},
   "source": [
    "# T-SNE on Amzon Fine Food Review"
   ]
  },
  {
   "cell_type": "markdown",
   "metadata": {},
   "source": [
    "# Amazon Fine Food Review is about the reviews of customers on the food.\n",
    "\n",
    "Number of columns: 10\n",
    "Number of rows: 568454\n",
    "Number of reviews: 568454\n",
    "Number of products: 74258\n",
    "Number of users: 256059\n",
    "\n",
    "# Attribute information:\n",
    " \n",
    "1) Id: Number of rows\n",
    "\n",
    "2) ProductId: Unique ID of product \n",
    "\n",
    "3) UserId: User identification number\n",
    "\n",
    "4) ProfileName: User name\n",
    "\n",
    "5) HelpfulnessNumerator: Number of user found the review helpful\n",
    "\n",
    "6) HelpfulnessDenominator: Number of user who found the review helpful or not\n",
    "\n",
    "7) Score: Rating given to the product\n",
    "\n",
    "8) Time: Timestamp at the time of review posted\n",
    "\n",
    "9) Summary: Short version of text review\n",
    "\n",
    "10) Text: Detailed text review\n",
    "\n",
    "# Objective:\n",
    "\n",
    "We need to find if the review is positive (1) or negative (0).\n",
    "\n",
    "We are provided with the score from 1 to 5. Let's assume score 1 & 2 are negative and score 4 & 5 are positive. We are ignoring 3 as it can be considered as neutral."
   ]
  },
  {
   "cell_type": "markdown",
   "metadata": {},
   "source": [
    "# Loading the dataset"
   ]
  },
  {
   "cell_type": "code",
   "execution_count": 1,
   "metadata": {},
   "outputs": [],
   "source": [
    "import numpy as np\n",
    "import pandas as pd\n",
    "import matplotlib.pyplot as plt\n",
    "import seaborn as sns\n",
    "%matplotlib inline\n",
    "\n",
    "# warnings library is to ignore warnings.\n",
    "import warnings\n",
    "warnings.filterwarnings('ignore')"
   ]
  },
  {
   "cell_type": "code",
   "execution_count": 2,
   "metadata": {},
   "outputs": [
    {
     "data": {
      "text/html": [
       "<div>\n",
       "<style scoped>\n",
       "    .dataframe tbody tr th:only-of-type {\n",
       "        vertical-align: middle;\n",
       "    }\n",
       "\n",
       "    .dataframe tbody tr th {\n",
       "        vertical-align: top;\n",
       "    }\n",
       "\n",
       "    .dataframe thead th {\n",
       "        text-align: right;\n",
       "    }\n",
       "</style>\n",
       "<table border=\"1\" class=\"dataframe\">\n",
       "  <thead>\n",
       "    <tr style=\"text-align: right;\">\n",
       "      <th></th>\n",
       "      <th>Id</th>\n",
       "      <th>ProductId</th>\n",
       "      <th>UserId</th>\n",
       "      <th>ProfileName</th>\n",
       "      <th>HelpfulnessNumerator</th>\n",
       "      <th>HelpfulnessDenominator</th>\n",
       "      <th>Score</th>\n",
       "      <th>Time</th>\n",
       "      <th>Summary</th>\n",
       "      <th>Text</th>\n",
       "    </tr>\n",
       "  </thead>\n",
       "  <tbody>\n",
       "    <tr>\n",
       "      <th>0</th>\n",
       "      <td>1</td>\n",
       "      <td>B001E4KFG0</td>\n",
       "      <td>A3SGXH7AUHU8GW</td>\n",
       "      <td>delmartian</td>\n",
       "      <td>1</td>\n",
       "      <td>1</td>\n",
       "      <td>5</td>\n",
       "      <td>1303862400</td>\n",
       "      <td>Good Quality Dog Food</td>\n",
       "      <td>I have bought several of the Vitality canned d...</td>\n",
       "    </tr>\n",
       "    <tr>\n",
       "      <th>1</th>\n",
       "      <td>2</td>\n",
       "      <td>B00813GRG4</td>\n",
       "      <td>A1D87F6ZCVE5NK</td>\n",
       "      <td>dll pa</td>\n",
       "      <td>0</td>\n",
       "      <td>0</td>\n",
       "      <td>1</td>\n",
       "      <td>1346976000</td>\n",
       "      <td>Not as Advertised</td>\n",
       "      <td>Product arrived labeled as Jumbo Salted Peanut...</td>\n",
       "    </tr>\n",
       "    <tr>\n",
       "      <th>2</th>\n",
       "      <td>3</td>\n",
       "      <td>B000LQOCH0</td>\n",
       "      <td>ABXLMWJIXXAIN</td>\n",
       "      <td>Natalia Corres \"Natalia Corres\"</td>\n",
       "      <td>1</td>\n",
       "      <td>1</td>\n",
       "      <td>4</td>\n",
       "      <td>1219017600</td>\n",
       "      <td>\"Delight\" says it all</td>\n",
       "      <td>This is a confection that has been around a fe...</td>\n",
       "    </tr>\n",
       "    <tr>\n",
       "      <th>3</th>\n",
       "      <td>4</td>\n",
       "      <td>B000UA0QIQ</td>\n",
       "      <td>A395BORC6FGVXV</td>\n",
       "      <td>Karl</td>\n",
       "      <td>3</td>\n",
       "      <td>3</td>\n",
       "      <td>2</td>\n",
       "      <td>1307923200</td>\n",
       "      <td>Cough Medicine</td>\n",
       "      <td>If you are looking for the secret ingredient i...</td>\n",
       "    </tr>\n",
       "    <tr>\n",
       "      <th>4</th>\n",
       "      <td>5</td>\n",
       "      <td>B006K2ZZ7K</td>\n",
       "      <td>A1UQRSCLF8GW1T</td>\n",
       "      <td>Michael D. Bigham \"M. Wassir\"</td>\n",
       "      <td>0</td>\n",
       "      <td>0</td>\n",
       "      <td>5</td>\n",
       "      <td>1350777600</td>\n",
       "      <td>Great taffy</td>\n",
       "      <td>Great taffy at a great price.  There was a wid...</td>\n",
       "    </tr>\n",
       "  </tbody>\n",
       "</table>\n",
       "</div>"
      ],
      "text/plain": [
       "   Id   ProductId          UserId                      ProfileName  \\\n",
       "0   1  B001E4KFG0  A3SGXH7AUHU8GW                       delmartian   \n",
       "1   2  B00813GRG4  A1D87F6ZCVE5NK                           dll pa   \n",
       "2   3  B000LQOCH0   ABXLMWJIXXAIN  Natalia Corres \"Natalia Corres\"   \n",
       "3   4  B000UA0QIQ  A395BORC6FGVXV                             Karl   \n",
       "4   5  B006K2ZZ7K  A1UQRSCLF8GW1T    Michael D. Bigham \"M. Wassir\"   \n",
       "\n",
       "   HelpfulnessNumerator  HelpfulnessDenominator  Score        Time  \\\n",
       "0                     1                       1      5  1303862400   \n",
       "1                     0                       0      1  1346976000   \n",
       "2                     1                       1      4  1219017600   \n",
       "3                     3                       3      2  1307923200   \n",
       "4                     0                       0      5  1350777600   \n",
       "\n",
       "                 Summary                                               Text  \n",
       "0  Good Quality Dog Food  I have bought several of the Vitality canned d...  \n",
       "1      Not as Advertised  Product arrived labeled as Jumbo Salted Peanut...  \n",
       "2  \"Delight\" says it all  This is a confection that has been around a fe...  \n",
       "3         Cough Medicine  If you are looking for the secret ingredient i...  \n",
       "4            Great taffy  Great taffy at a great price.  There was a wid...  "
      ]
     },
     "execution_count": 2,
     "metadata": {},
     "output_type": "execute_result"
    }
   ],
   "source": [
    "# Loading the dataset and displaying head of 5\n",
    "\n",
    "df = pd.read_csv('Reviews.csv')\n",
    "df.head()"
   ]
  },
  {
   "cell_type": "markdown",
   "metadata": {},
   "source": [
    "# Attribute Information"
   ]
  },
  {
   "cell_type": "code",
   "execution_count": 3,
   "metadata": {},
   "outputs": [
    {
     "name": "stdout",
     "output_type": "stream",
     "text": [
      "<class 'pandas.core.frame.DataFrame'>\n",
      "RangeIndex: 568454 entries, 0 to 568453\n",
      "Data columns (total 10 columns):\n",
      "Id                        568454 non-null int64\n",
      "ProductId                 568454 non-null object\n",
      "UserId                    568454 non-null object\n",
      "ProfileName               568438 non-null object\n",
      "HelpfulnessNumerator      568454 non-null int64\n",
      "HelpfulnessDenominator    568454 non-null int64\n",
      "Score                     568454 non-null int64\n",
      "Time                      568454 non-null int64\n",
      "Summary                   568427 non-null object\n",
      "Text                      568454 non-null object\n",
      "dtypes: int64(5), object(5)\n",
      "memory usage: 43.4+ MB\n"
     ]
    }
   ],
   "source": [
    "df.info()"
   ]
  },
  {
   "cell_type": "code",
   "execution_count": 4,
   "metadata": {},
   "outputs": [
    {
     "name": "stdout",
     "output_type": "stream",
     "text": [
      "Number of columns: 10\n",
      "Number of rows: 568454\n",
      "Number of reviews: 568454\n",
      "Number of products: 74258\n",
      "Number of users: 256059\n"
     ]
    }
   ],
   "source": [
    "print('Number of columns:' + ' ' + str(len(df.columns)))\n",
    "print('Number of rows:' + ' ' + str(df['Id'].nunique()))\n",
    "print('Number of reviews:' + ' ' + str(df['Id'].nunique()))\n",
    "print('Number of products:' + ' ' + str(df['ProductId'].nunique()))\n",
    "print('Number of users:' + ' ' + str(df['UserId'].nunique()))"
   ]
  },
  {
   "cell_type": "markdown",
   "metadata": {},
   "source": [
    "# Assign polarity to the score\n",
    "\n",
    "If score is 3, we are removing it as it is neutral.\n",
    "\n",
    "If score is 1 or 2 it will be assigned as 0 (negative).\n",
    "\n",
    "If score is 4 or 5 it will be assigned as 1 (positive)."
   ]
  },
  {
   "cell_type": "code",
   "execution_count": 5,
   "metadata": {},
   "outputs": [],
   "source": [
    "# Create a new dataframe which doesn't contain the score 3 and its respective rows.\n",
    "\n",
    "df_f = df[df['Score']!=3]\n",
    "\n",
    "def scr(sc):\n",
    "    if sc < 3:\n",
    "        return 0\n",
    "    return 1"
   ]
  },
  {
   "cell_type": "code",
   "execution_count": 6,
   "metadata": {},
   "outputs": [
    {
     "data": {
      "text/plain": [
       "1    443777\n",
       "0     82037\n",
       "Name: Score, dtype: int64"
      ]
     },
     "execution_count": 6,
     "metadata": {},
     "output_type": "execute_result"
    }
   ],
   "source": [
    "df_f['Score'] = df_f['Score'].apply(scr)\n",
    "df_f['Score'].value_counts()"
   ]
  },
  {
   "cell_type": "code",
   "execution_count": 7,
   "metadata": {},
   "outputs": [
    {
     "name": "stdout",
     "output_type": "stream",
     "text": [
      "Number of positive (1) reviews: 443777\n",
      "Number of negative (0) reviews: 82037\n"
     ]
    }
   ],
   "source": [
    "print(\"Number of positive (1) reviews:\" + ' ' + str(len(df_f[df_f['Score'] == 1])))\n",
    "print(\"Number of negative (0) reviews:\" + ' ' + str(len(df_f[df_f['Score'] == 0])))"
   ]
  },
  {
   "cell_type": "markdown",
   "metadata": {},
   "source": [
    "# Data cleaning"
   ]
  },
  {
   "cell_type": "markdown",
   "metadata": {},
   "source": [
    "# Null Values"
   ]
  },
  {
   "cell_type": "code",
   "execution_count": 8,
   "metadata": {},
   "outputs": [
    {
     "data": {
      "text/plain": [
       "<matplotlib.axes._subplots.AxesSubplot at 0x1a7afd30>"
      ]
     },
     "execution_count": 8,
     "metadata": {},
     "output_type": "execute_result"
    },
    {
     "data": {
      "image/png": "[encoded data removed]",
      "text/plain": [
       "<Figure size 432x288 with 1 Axes>"
      ]
     },
     "metadata": {
      "needs_background": "light"
     },
     "output_type": "display_data"
    }
   ],
   "source": [
    "# Check for null values\n",
    "\n",
    "sns.heatmap(df_f.isnull(), cmap='viridis', cbar= False, yticklabels=False)"
   ]
  },
  {
   "cell_type": "markdown",
   "metadata": {},
   "source": [
    "# Observation:\n",
    "\n",
    "From the above heatmap, we can observe that dataset has no null values."
   ]
  },
  {
   "cell_type": "markdown",
   "metadata": {},
   "source": [
    "HelpfulNumerator should always be less than or equals to HelpfulnuessDenominator.\n",
    "First, let's check if there are any data under HelpfulnuessNumerator which is greater than HelpfulnuessDenominator.\n",
    "If there are any then we will consider only those respective data where HelpfulNumerator is less than or equals HelpfulnuessDenominator"
   ]
  },
  {
   "cell_type": "code",
   "execution_count": 9,
   "metadata": {},
   "outputs": [
    {
     "data": {
      "text/html": [
       "<div>\n",
       "<style scoped>\n",
       "    .dataframe tbody tr th:only-of-type {\n",
       "        vertical-align: middle;\n",
       "    }\n",
       "\n",
       "    .dataframe tbody tr th {\n",
       "        vertical-align: top;\n",
       "    }\n",
       "\n",
       "    .dataframe thead th {\n",
       "        text-align: right;\n",
       "    }\n",
       "</style>\n",
       "<table border=\"1\" class=\"dataframe\">\n",
       "  <thead>\n",
       "    <tr style=\"text-align: right;\">\n",
       "      <th></th>\n",
       "      <th>Id</th>\n",
       "      <th>ProductId</th>\n",
       "      <th>UserId</th>\n",
       "      <th>ProfileName</th>\n",
       "      <th>HelpfulnessNumerator</th>\n",
       "      <th>HelpfulnessDenominator</th>\n",
       "      <th>Score</th>\n",
       "      <th>Time</th>\n",
       "      <th>Summary</th>\n",
       "      <th>Text</th>\n",
       "    </tr>\n",
       "  </thead>\n",
       "  <tbody>\n",
       "    <tr>\n",
       "      <th>44736</th>\n",
       "      <td>44737</td>\n",
       "      <td>B001EQ55RW</td>\n",
       "      <td>A2V0I904FH7ABY</td>\n",
       "      <td>Ram</td>\n",
       "      <td>3</td>\n",
       "      <td>2</td>\n",
       "      <td>1</td>\n",
       "      <td>1212883200</td>\n",
       "      <td>Pure cocoa taste with crunchy almonds inside</td>\n",
       "      <td>It was almost a 'love at first bite' - the per...</td>\n",
       "    </tr>\n",
       "    <tr>\n",
       "      <th>64421</th>\n",
       "      <td>64422</td>\n",
       "      <td>B000MIDROQ</td>\n",
       "      <td>A161DK06JJMCYF</td>\n",
       "      <td>J. E. Stephens \"Jeanne\"</td>\n",
       "      <td>3</td>\n",
       "      <td>1</td>\n",
       "      <td>1</td>\n",
       "      <td>1224892800</td>\n",
       "      <td>Bought This for My Son at College</td>\n",
       "      <td>My son loves spaghetti so I didn't hesitate or...</td>\n",
       "    </tr>\n",
       "  </tbody>\n",
       "</table>\n",
       "</div>"
      ],
      "text/plain": [
       "          Id   ProductId          UserId              ProfileName  \\\n",
       "44736  44737  B001EQ55RW  A2V0I904FH7ABY                      Ram   \n",
       "64421  64422  B000MIDROQ  A161DK06JJMCYF  J. E. Stephens \"Jeanne\"   \n",
       "\n",
       "       HelpfulnessNumerator  HelpfulnessDenominator  Score        Time  \\\n",
       "44736                     3                       2      1  1212883200   \n",
       "64421                     3                       1      1  1224892800   \n",
       "\n",
       "                                            Summary  \\\n",
       "44736  Pure cocoa taste with crunchy almonds inside   \n",
       "64421             Bought This for My Son at College   \n",
       "\n",
       "                                                    Text  \n",
       "44736  It was almost a 'love at first bite' - the per...  \n",
       "64421  My son loves spaghetti so I didn't hesitate or...  "
      ]
     },
     "execution_count": 9,
     "metadata": {},
     "output_type": "execute_result"
    }
   ],
   "source": [
    "df_f[df_f['HelpfulnessNumerator'] > df_f['HelpfulnessDenominator']]"
   ]
  },
  {
   "cell_type": "markdown",
   "metadata": {},
   "source": [
    "# Observation:\n",
    "\n",
    "From the above data, we can see that HelpfulnessNumerator is greater than HelpfulnessDenominator. we shall consider only those respective data where HelpfulNumerator is lesser than HelpfulnuessDenominator"
   ]
  },
  {
   "cell_type": "code",
   "execution_count": 10,
   "metadata": {},
   "outputs": [],
   "source": [
    "df_f = df_f[df_f['HelpfulnessNumerator'] <= df_f['HelpfulnessDenominator']]"
   ]
  },
  {
   "cell_type": "code",
   "execution_count": 11,
   "metadata": {},
   "outputs": [
    {
     "data": {
      "text/html": [
       "<div>\n",
       "<style scoped>\n",
       "    .dataframe tbody tr th:only-of-type {\n",
       "        vertical-align: middle;\n",
       "    }\n",
       "\n",
       "    .dataframe tbody tr th {\n",
       "        vertical-align: top;\n",
       "    }\n",
       "\n",
       "    .dataframe thead th {\n",
       "        text-align: right;\n",
       "    }\n",
       "</style>\n",
       "<table border=\"1\" class=\"dataframe\">\n",
       "  <thead>\n",
       "    <tr style=\"text-align: right;\">\n",
       "      <th></th>\n",
       "      <th>Id</th>\n",
       "      <th>ProductId</th>\n",
       "      <th>UserId</th>\n",
       "      <th>ProfileName</th>\n",
       "      <th>HelpfulnessNumerator</th>\n",
       "      <th>HelpfulnessDenominator</th>\n",
       "      <th>Score</th>\n",
       "      <th>Time</th>\n",
       "      <th>Summary</th>\n",
       "      <th>Text</th>\n",
       "    </tr>\n",
       "  </thead>\n",
       "  <tbody>\n",
       "  </tbody>\n",
       "</table>\n",
       "</div>"
      ],
      "text/plain": [
       "Empty DataFrame\n",
       "Columns: [Id, ProductId, UserId, ProfileName, HelpfulnessNumerator, HelpfulnessDenominator, Score, Time, Summary, Text]\n",
       "Index: []"
      ]
     },
     "execution_count": 11,
     "metadata": {},
     "output_type": "execute_result"
    }
   ],
   "source": [
    "df_f[df_f['HelpfulnessNumerator'] > df_f['HelpfulnessDenominator']]\n",
    "\n",
    "# We have removed the data where HelpfulNumerator should always be less than HelpfulnuessDenominator."
   ]
  },
  {
   "cell_type": "markdown",
   "metadata": {},
   "source": [
    "# Duplicates\n",
    "\n",
    "Check for duplicates i.e check if there is any data where UserId, ProfileName, Time and Text are same."
   ]
  },
  {
   "cell_type": "code",
   "execution_count": 12,
   "metadata": {},
   "outputs": [
    {
     "data": {
      "text/html": [
       "<div>\n",
       "<style scoped>\n",
       "    .dataframe tbody tr th:only-of-type {\n",
       "        vertical-align: middle;\n",
       "    }\n",
       "\n",
       "    .dataframe tbody tr th {\n",
       "        vertical-align: top;\n",
       "    }\n",
       "\n",
       "    .dataframe thead th {\n",
       "        text-align: right;\n",
       "    }\n",
       "</style>\n",
       "<table border=\"1\" class=\"dataframe\">\n",
       "  <thead>\n",
       "    <tr style=\"text-align: right;\">\n",
       "      <th></th>\n",
       "      <th>Id</th>\n",
       "      <th>ProductId</th>\n",
       "      <th>UserId</th>\n",
       "      <th>ProfileName</th>\n",
       "      <th>HelpfulnessNumerator</th>\n",
       "      <th>HelpfulnessDenominator</th>\n",
       "      <th>Score</th>\n",
       "      <th>Time</th>\n",
       "      <th>Summary</th>\n",
       "      <th>Text</th>\n",
       "    </tr>\n",
       "  </thead>\n",
       "  <tbody>\n",
       "    <tr>\n",
       "      <th>29</th>\n",
       "      <td>30</td>\n",
       "      <td>B0001PB9FY</td>\n",
       "      <td>A3HDKO7OW0QNK4</td>\n",
       "      <td>Canadian Fan</td>\n",
       "      <td>1</td>\n",
       "      <td>1</td>\n",
       "      <td>1</td>\n",
       "      <td>1107820800</td>\n",
       "      <td>The Best Hot Sauce in the World</td>\n",
       "      <td>I don't know if it's the cactus or the tequila...</td>\n",
       "    </tr>\n",
       "    <tr>\n",
       "      <th>574</th>\n",
       "      <td>575</td>\n",
       "      <td>B000G6RYNE</td>\n",
       "      <td>A3PJZ8TU8FDQ1K</td>\n",
       "      <td>Jared Castle</td>\n",
       "      <td>2</td>\n",
       "      <td>2</td>\n",
       "      <td>1</td>\n",
       "      <td>1231718400</td>\n",
       "      <td>One bite and you'll become a \"chippoisseur\"</td>\n",
       "      <td>I'm addicted to salty and tangy flavors, so wh...</td>\n",
       "    </tr>\n",
       "    <tr>\n",
       "      <th>2309</th>\n",
       "      <td>2310</td>\n",
       "      <td>B0001VWE0M</td>\n",
       "      <td>AQM74O8Z4FMS0</td>\n",
       "      <td>Sunshine</td>\n",
       "      <td>0</td>\n",
       "      <td>0</td>\n",
       "      <td>0</td>\n",
       "      <td>1127606400</td>\n",
       "      <td>Below standard</td>\n",
       "      <td>Too much of the white pith on this orange peel...</td>\n",
       "    </tr>\n",
       "    <tr>\n",
       "      <th>2323</th>\n",
       "      <td>2324</td>\n",
       "      <td>B0001VWE0C</td>\n",
       "      <td>AQM74O8Z4FMS0</td>\n",
       "      <td>Sunshine</td>\n",
       "      <td>0</td>\n",
       "      <td>0</td>\n",
       "      <td>0</td>\n",
       "      <td>1127606400</td>\n",
       "      <td>Below standard</td>\n",
       "      <td>Too much of the white pith on this orange peel...</td>\n",
       "    </tr>\n",
       "    <tr>\n",
       "      <th>2336</th>\n",
       "      <td>2337</td>\n",
       "      <td>B0001FQVCK</td>\n",
       "      <td>A5D06XJHDXK75</td>\n",
       "      <td>C. Po</td>\n",
       "      <td>1</td>\n",
       "      <td>1</td>\n",
       "      <td>1</td>\n",
       "      <td>1190592000</td>\n",
       "      <td>Baci's are pure heaven - great gift, stocking ...</td>\n",
       "      <td>My family has been in love with Baci's ever si...</td>\n",
       "    </tr>\n",
       "    <tr>\n",
       "      <th>2647</th>\n",
       "      <td>2648</td>\n",
       "      <td>B0016FY6H6</td>\n",
       "      <td>A2NLZ3M0OJV9NX</td>\n",
       "      <td>Mark Bodzin</td>\n",
       "      <td>0</td>\n",
       "      <td>0</td>\n",
       "      <td>0</td>\n",
       "      <td>1313107200</td>\n",
       "      <td>way too weak for my tastes</td>\n",
       "      <td>What can i say, I love iced tea. I drink a lot...</td>\n",
       "    </tr>\n",
       "    <tr>\n",
       "      <th>2653</th>\n",
       "      <td>2654</td>\n",
       "      <td>B0016FY6H6</td>\n",
       "      <td>A3I4PCBRENJNG2</td>\n",
       "      <td>L. Cain</td>\n",
       "      <td>0</td>\n",
       "      <td>0</td>\n",
       "      <td>1</td>\n",
       "      <td>1300579200</td>\n",
       "      <td>quality lightly sweetened green tea powder</td>\n",
       "      <td>lots of uses for this green tea...&lt;br /&gt;&lt;br /&gt;...</td>\n",
       "    </tr>\n",
       "    <tr>\n",
       "      <th>2946</th>\n",
       "      <td>2947</td>\n",
       "      <td>B0002TJAZK</td>\n",
       "      <td>A2ISKAWUPGGOLZ</td>\n",
       "      <td>M. S. Handley</td>\n",
       "      <td>0</td>\n",
       "      <td>1</td>\n",
       "      <td>0</td>\n",
       "      <td>1310774400</td>\n",
       "      <td>Kitty Junk Food</td>\n",
       "      <td>We have five cats - one an elderly cat of 15 y...</td>\n",
       "    </tr>\n",
       "    <tr>\n",
       "      <th>2947</th>\n",
       "      <td>2948</td>\n",
       "      <td>B0002TJAZK</td>\n",
       "      <td>A3TVZM3ZIXG8YW</td>\n",
       "      <td>christopher hayes</td>\n",
       "      <td>0</td>\n",
       "      <td>2</td>\n",
       "      <td>0</td>\n",
       "      <td>1291420800</td>\n",
       "      <td>Filler food is empty, leaves your cat always n...</td>\n",
       "      <td>This review will make me sound really stupid, ...</td>\n",
       "    </tr>\n",
       "    <tr>\n",
       "      <th>3885</th>\n",
       "      <td>3886</td>\n",
       "      <td>B005GX7GVW</td>\n",
       "      <td>AS1FCKNKY95ID</td>\n",
       "      <td>Juli A. Lee \"JingleJL\"</td>\n",
       "      <td>1</td>\n",
       "      <td>1</td>\n",
       "      <td>1</td>\n",
       "      <td>1336953600</td>\n",
       "      <td>Great and good price!</td>\n",
       "      <td>I love these noodles.  They are really great f...</td>\n",
       "    </tr>\n",
       "    <tr>\n",
       "      <th>3886</th>\n",
       "      <td>3887</td>\n",
       "      <td>B005GX7GVW</td>\n",
       "      <td>A1I34N9LFOSCX7</td>\n",
       "      <td>Smeggy</td>\n",
       "      <td>0</td>\n",
       "      <td>0</td>\n",
       "      <td>1</td>\n",
       "      <td>1349136000</td>\n",
       "      <td>Yum!</td>\n",
       "      <td>This soup cooks up quickly and is very yummy! ...</td>\n",
       "    </tr>\n",
       "    <tr>\n",
       "      <th>4640</th>\n",
       "      <td>4641</td>\n",
       "      <td>B0002NYO9I</td>\n",
       "      <td>A5DVX3B075B09</td>\n",
       "      <td>Patricia Kays</td>\n",
       "      <td>0</td>\n",
       "      <td>0</td>\n",
       "      <td>1</td>\n",
       "      <td>1338940800</td>\n",
       "      <td>LOVELY JUNIPER BERRIES</td>\n",
       "      <td>Dried berries, still with texture and the quin...</td>\n",
       "    </tr>\n",
       "    <tr>\n",
       "      <th>4641</th>\n",
       "      <td>4642</td>\n",
       "      <td>B0002NYO9I</td>\n",
       "      <td>A376TWN7I4HMZ8</td>\n",
       "      <td>helios</td>\n",
       "      <td>0</td>\n",
       "      <td>1</td>\n",
       "      <td>1</td>\n",
       "      <td>1324252800</td>\n",
       "      <td>Exaclty what i ordered</td>\n",
       "      <td>Again, exactly what I ordered. No fuss, no mus...</td>\n",
       "    </tr>\n",
       "    <tr>\n",
       "      <th>5397</th>\n",
       "      <td>5398</td>\n",
       "      <td>B00622CYVS</td>\n",
       "      <td>ATIHDHZYNQ0EI</td>\n",
       "      <td>Kristen O'donnell \"twinsmom\"</td>\n",
       "      <td>1</td>\n",
       "      <td>1</td>\n",
       "      <td>1</td>\n",
       "      <td>1270425600</td>\n",
       "      <td>Organic and Tasty</td>\n",
       "      <td>I'd continue to buy but I'm moving over to mor...</td>\n",
       "    </tr>\n",
       "    <tr>\n",
       "      <th>5451</th>\n",
       "      <td>5452</td>\n",
       "      <td>B00622CYVI</td>\n",
       "      <td>ATIHDHZYNQ0EI</td>\n",
       "      <td>Kristen O'donnell \"twinsmom\"</td>\n",
       "      <td>2</td>\n",
       "      <td>2</td>\n",
       "      <td>1</td>\n",
       "      <td>1270425600</td>\n",
       "      <td>Organic and Tasty</td>\n",
       "      <td>I'd continue to buy but I'm moving over to mor...</td>\n",
       "    </tr>\n",
       "    <tr>\n",
       "      <th>5463</th>\n",
       "      <td>5464</td>\n",
       "      <td>B00622CYVI</td>\n",
       "      <td>A2ETT9SL9AN39O</td>\n",
       "      <td>Danielle L Bostic</td>\n",
       "      <td>0</td>\n",
       "      <td>0</td>\n",
       "      <td>1</td>\n",
       "      <td>1333324800</td>\n",
       "      <td>Great Product</td>\n",
       "      <td>My one year old loves this product. She eats o...</td>\n",
       "    </tr>\n",
       "    <tr>\n",
       "      <th>5476</th>\n",
       "      <td>5477</td>\n",
       "      <td>B00622CYVI</td>\n",
       "      <td>A2MF0C4E7GYCI</td>\n",
       "      <td>VW \"VW\"</td>\n",
       "      <td>0</td>\n",
       "      <td>0</td>\n",
       "      <td>1</td>\n",
       "      <td>1298678400</td>\n",
       "      <td>My child loves this food!</td>\n",
       "      <td>Great value if you buy it as a subscribe and s...</td>\n",
       "    </tr>\n",
       "    <tr>\n",
       "      <th>5488</th>\n",
       "      <td>5489</td>\n",
       "      <td>B00622CYVI</td>\n",
       "      <td>ASEAKR59G0SLT</td>\n",
       "      <td>Reviewer \"Jason\"</td>\n",
       "      <td>1</td>\n",
       "      <td>3</td>\n",
       "      <td>0</td>\n",
       "      <td>1329782400</td>\n",
       "      <td>Product is good; Amazon fulfillment is poor</td>\n",
       "      <td>Amazon normally does a fantastic job getting p...</td>\n",
       "    </tr>\n",
       "    <tr>\n",
       "      <th>5603</th>\n",
       "      <td>5604</td>\n",
       "      <td>B000G1X45G</td>\n",
       "      <td>A36HK6V63C02XE</td>\n",
       "      <td>Renee \"supermom\"</td>\n",
       "      <td>0</td>\n",
       "      <td>0</td>\n",
       "      <td>1</td>\n",
       "      <td>1236556800</td>\n",
       "      <td>If you love strong full flavored coffee---this...</td>\n",
       "      <td>If you like strong coffee, this is it!  The fl...</td>\n",
       "    </tr>\n",
       "    <tr>\n",
       "      <th>5958</th>\n",
       "      <td>5959</td>\n",
       "      <td>B001O2IX8E</td>\n",
       "      <td>A3KDZCQ82JFWLN</td>\n",
       "      <td>Phoebe Oh</td>\n",
       "      <td>0</td>\n",
       "      <td>1</td>\n",
       "      <td>0</td>\n",
       "      <td>1245888000</td>\n",
       "      <td>Some broken jars</td>\n",
       "      <td>When I saw some of the Earth's Best jars offer...</td>\n",
       "    </tr>\n",
       "    <tr>\n",
       "      <th>6441</th>\n",
       "      <td>6442</td>\n",
       "      <td>B000QB0WUG</td>\n",
       "      <td>A16TI8YVRRC8AN</td>\n",
       "      <td>M. Vega</td>\n",
       "      <td>0</td>\n",
       "      <td>0</td>\n",
       "      <td>1</td>\n",
       "      <td>1329868800</td>\n",
       "      <td>Yummy</td>\n",
       "      <td>Tried this in a turkey burger and it was sooo ...</td>\n",
       "    </tr>\n",
       "    <tr>\n",
       "      <th>6517</th>\n",
       "      <td>6518</td>\n",
       "      <td>B005O8BLLU</td>\n",
       "      <td>APH7I7OZ8WUJP</td>\n",
       "      <td>J. Simpson</td>\n",
       "      <td>0</td>\n",
       "      <td>0</td>\n",
       "      <td>1</td>\n",
       "      <td>1347494400</td>\n",
       "      <td>Great first food</td>\n",
       "      <td>This is excellent for a baby's first taste. Th...</td>\n",
       "    </tr>\n",
       "    <tr>\n",
       "      <th>7321</th>\n",
       "      <td>7322</td>\n",
       "      <td>B0042395CA</td>\n",
       "      <td>AKZKG2Z7CNV27</td>\n",
       "      <td>BreezyPaige</td>\n",
       "      <td>0</td>\n",
       "      <td>0</td>\n",
       "      <td>0</td>\n",
       "      <td>1332547200</td>\n",
       "      <td>Decent, but not great</td>\n",
       "      <td>When I first started to use IAMS Savory Sauce,...</td>\n",
       "    </tr>\n",
       "    <tr>\n",
       "      <th>7899</th>\n",
       "      <td>7900</td>\n",
       "      <td>B00126EQ8I</td>\n",
       "      <td>A3O646NL6SH3ZL</td>\n",
       "      <td>J McCool</td>\n",
       "      <td>1</td>\n",
       "      <td>1</td>\n",
       "      <td>1</td>\n",
       "      <td>1255392000</td>\n",
       "      <td>The real deal (ALMOST)</td>\n",
       "      <td>I pass around favorable endorsements very seld...</td>\n",
       "    </tr>\n",
       "    <tr>\n",
       "      <th>7904</th>\n",
       "      <td>7905</td>\n",
       "      <td>B00285FFCS</td>\n",
       "      <td>ARXORJX86X1J2</td>\n",
       "      <td>Yvette Mendoza</td>\n",
       "      <td>0</td>\n",
       "      <td>0</td>\n",
       "      <td>1</td>\n",
       "      <td>1327017600</td>\n",
       "      <td>Chocolate heaven</td>\n",
       "      <td>My mother and father were the recipient of the...</td>\n",
       "    </tr>\n",
       "    <tr>\n",
       "      <th>8762</th>\n",
       "      <td>8763</td>\n",
       "      <td>B004OLUCAE</td>\n",
       "      <td>A281NPSIMI1C2R</td>\n",
       "      <td>Rebecca of Amazon \"The Rebecca Review\"</td>\n",
       "      <td>0</td>\n",
       "      <td>0</td>\n",
       "      <td>1</td>\n",
       "      <td>1316131200</td>\n",
       "      <td>Delicious Alternative to Sugar</td>\n",
       "      <td>If you are looking for a sweetener that is del...</td>\n",
       "    </tr>\n",
       "    <tr>\n",
       "      <th>8993</th>\n",
       "      <td>8994</td>\n",
       "      <td>B006N3IG4K</td>\n",
       "      <td>A5U24IWH64IFF</td>\n",
       "      <td>Kimdoll</td>\n",
       "      <td>1</td>\n",
       "      <td>1</td>\n",
       "      <td>1</td>\n",
       "      <td>1302480000</td>\n",
       "      <td>Absolutely delicious coffee!</td>\n",
       "      <td>I am a huge coffee drinker, and love the k-cup...</td>\n",
       "    </tr>\n",
       "    <tr>\n",
       "      <th>8994</th>\n",
       "      <td>8995</td>\n",
       "      <td>B006N3IG4K</td>\n",
       "      <td>A1RVCWFP3SC3GU</td>\n",
       "      <td>Cakediva</td>\n",
       "      <td>1</td>\n",
       "      <td>1</td>\n",
       "      <td>1</td>\n",
       "      <td>1300233600</td>\n",
       "      <td>YUMMY</td>\n",
       "      <td>We always drink Timmothy's or Emeril's. Though...</td>\n",
       "    </tr>\n",
       "    <tr>\n",
       "      <th>8995</th>\n",
       "      <td>8996</td>\n",
       "      <td>B006N3IG4K</td>\n",
       "      <td>A12SO47JRQGUPR</td>\n",
       "      <td>Thomas Smith \"tjaye\"</td>\n",
       "      <td>1</td>\n",
       "      <td>1</td>\n",
       "      <td>1</td>\n",
       "      <td>1299801600</td>\n",
       "      <td>Good Stuff</td>\n",
       "      <td>Good subtle flavored coffee for the mid-aftern...</td>\n",
       "    </tr>\n",
       "    <tr>\n",
       "      <th>8996</th>\n",
       "      <td>8997</td>\n",
       "      <td>B006N3IG4K</td>\n",
       "      <td>A86RUZGD22FDR</td>\n",
       "      <td>Another coffee drinker</td>\n",
       "      <td>1</td>\n",
       "      <td>1</td>\n",
       "      <td>1</td>\n",
       "      <td>1299110400</td>\n",
       "      <td>Delivers what was promises</td>\n",
       "      <td>Wolfgang Puck's Chef's Reserve Colombian (Dark...</td>\n",
       "    </tr>\n",
       "    <tr>\n",
       "      <th>...</th>\n",
       "      <td>...</td>\n",
       "      <td>...</td>\n",
       "      <td>...</td>\n",
       "      <td>...</td>\n",
       "      <td>...</td>\n",
       "      <td>...</td>\n",
       "      <td>...</td>\n",
       "      <td>...</td>\n",
       "      <td>...</td>\n",
       "      <td>...</td>\n",
       "    </tr>\n",
       "    <tr>\n",
       "      <th>568323</th>\n",
       "      <td>568324</td>\n",
       "      <td>B0013Z0PTW</td>\n",
       "      <td>A18AAABCIJKC5Q</td>\n",
       "      <td>Rhiever</td>\n",
       "      <td>1</td>\n",
       "      <td>3</td>\n",
       "      <td>0</td>\n",
       "      <td>1295740800</td>\n",
       "      <td>High fiber isn't necessarily a good thing!</td>\n",
       "      <td>I recently cut fiber one bars out of my diet a...</td>\n",
       "    </tr>\n",
       "    <tr>\n",
       "      <th>568351</th>\n",
       "      <td>568352</td>\n",
       "      <td>B003O5Q3KE</td>\n",
       "      <td>A2T26HRHG8172X</td>\n",
       "      <td>pompoodlejr</td>\n",
       "      <td>0</td>\n",
       "      <td>0</td>\n",
       "      <td>1</td>\n",
       "      <td>1293321600</td>\n",
       "      <td>dog treats</td>\n",
       "      <td>i have 4 dogs, 3 of them love these peanut but...</td>\n",
       "    </tr>\n",
       "    <tr>\n",
       "      <th>568352</th>\n",
       "      <td>568353</td>\n",
       "      <td>B003O5Q3KE</td>\n",
       "      <td>A3J8TD7DX73JK0</td>\n",
       "      <td>Joni</td>\n",
       "      <td>0</td>\n",
       "      <td>0</td>\n",
       "      <td>1</td>\n",
       "      <td>1292198400</td>\n",
       "      <td>Repeat Purchaser - My dogs love these</td>\n",
       "      <td>I order several of these everytime I place an ...</td>\n",
       "    </tr>\n",
       "    <tr>\n",
       "      <th>568353</th>\n",
       "      <td>568354</td>\n",
       "      <td>B003O5Q3KE</td>\n",
       "      <td>A2U4L18LOGSHQ1</td>\n",
       "      <td>Larry L. Wieskamp \"larwie\"</td>\n",
       "      <td>0</td>\n",
       "      <td>0</td>\n",
       "      <td>0</td>\n",
       "      <td>1291161600</td>\n",
       "      <td>doggy crackers</td>\n",
       "      <td>These were kind of expensive for a dog treat a...</td>\n",
       "    </tr>\n",
       "    <tr>\n",
       "      <th>568354</th>\n",
       "      <td>568355</td>\n",
       "      <td>B003O5Q3KE</td>\n",
       "      <td>A2Q833MV8UEM37</td>\n",
       "      <td>Josh Crick</td>\n",
       "      <td>0</td>\n",
       "      <td>2</td>\n",
       "      <td>0</td>\n",
       "      <td>1286841600</td>\n",
       "      <td>My Dog HATED these treats</td>\n",
       "      <td>Went into the dumpster the very first night. M...</td>\n",
       "    </tr>\n",
       "    <tr>\n",
       "      <th>568361</th>\n",
       "      <td>568362</td>\n",
       "      <td>B000LKVRQA</td>\n",
       "      <td>A1YUL9PCJR3JTY</td>\n",
       "      <td>O. Brown \"Ms. O. Khannah-Brown\"</td>\n",
       "      <td>1</td>\n",
       "      <td>1</td>\n",
       "      <td>1</td>\n",
       "      <td>1282608000</td>\n",
       "      <td>An Earl Grey Tea That Won't Disappoint</td>\n",
       "      <td>*****&lt;br /&gt;St. Dalfour's wonderful Certified O...</td>\n",
       "    </tr>\n",
       "    <tr>\n",
       "      <th>568370</th>\n",
       "      <td>568371</td>\n",
       "      <td>B003NQMPYM</td>\n",
       "      <td>A26EL6HQW6SJZ4</td>\n",
       "      <td>Michael Larson</td>\n",
       "      <td>0</td>\n",
       "      <td>0</td>\n",
       "      <td>1</td>\n",
       "      <td>1328313600</td>\n",
       "      <td>M. Larson</td>\n",
       "      <td>We tried these \"candy bars\" in Hawaii.  They a...</td>\n",
       "    </tr>\n",
       "    <tr>\n",
       "      <th>568386</th>\n",
       "      <td>568387</td>\n",
       "      <td>B001EQ5O6Y</td>\n",
       "      <td>A1U36T07L3HM0E</td>\n",
       "      <td>F. Dias</td>\n",
       "      <td>7</td>\n",
       "      <td>7</td>\n",
       "      <td>1</td>\n",
       "      <td>1256688000</td>\n",
       "      <td>Just some info to help...</td>\n",
       "      <td>Just FYI, I checked the nutritional informatio...</td>\n",
       "    </tr>\n",
       "    <tr>\n",
       "      <th>568387</th>\n",
       "      <td>568388</td>\n",
       "      <td>B001EQ5O6Y</td>\n",
       "      <td>A3NL4VV8FXZ266</td>\n",
       "      <td>Ruby \"Tuesday\"</td>\n",
       "      <td>3</td>\n",
       "      <td>3</td>\n",
       "      <td>0</td>\n",
       "      <td>1187395200</td>\n",
       "      <td>good idea but messy</td>\n",
       "      <td>this ia a good idea; however, difficult to ope...</td>\n",
       "    </tr>\n",
       "    <tr>\n",
       "      <th>568388</th>\n",
       "      <td>568389</td>\n",
       "      <td>B001EQ5O6Y</td>\n",
       "      <td>A3JDX65QJO3Q2F</td>\n",
       "      <td>Don't believe it just because someone told yo...</td>\n",
       "      <td>5</td>\n",
       "      <td>6</td>\n",
       "      <td>1</td>\n",
       "      <td>1187395200</td>\n",
       "      <td>Awesome product</td>\n",
       "      <td>I have used agave for many things and find tha...</td>\n",
       "    </tr>\n",
       "    <tr>\n",
       "      <th>568389</th>\n",
       "      <td>568390</td>\n",
       "      <td>B001EQ5O6Y</td>\n",
       "      <td>A2LGOMSYQJ5PZS</td>\n",
       "      <td>N. Hjort</td>\n",
       "      <td>2</td>\n",
       "      <td>2</td>\n",
       "      <td>1</td>\n",
       "      <td>1257552000</td>\n",
       "      <td>great flavor</td>\n",
       "      <td>The cinnamon honey sticks flavor was excellent...</td>\n",
       "    </tr>\n",
       "    <tr>\n",
       "      <th>568390</th>\n",
       "      <td>568391</td>\n",
       "      <td>B001EQ5O6Y</td>\n",
       "      <td>A3HRWZW3ZK6W49</td>\n",
       "      <td>Kristen McDaniel</td>\n",
       "      <td>1</td>\n",
       "      <td>1</td>\n",
       "      <td>1</td>\n",
       "      <td>1239148800</td>\n",
       "      <td>Yummy honey in a convenient portion.</td>\n",
       "      <td>I bought this in an effort to help myself quit...</td>\n",
       "    </tr>\n",
       "    <tr>\n",
       "      <th>568391</th>\n",
       "      <td>568392</td>\n",
       "      <td>B001EQ5O6Y</td>\n",
       "      <td>A31YNKI4TS6ZJW</td>\n",
       "      <td>Lauren L.</td>\n",
       "      <td>1</td>\n",
       "      <td>1</td>\n",
       "      <td>1</td>\n",
       "      <td>1234310400</td>\n",
       "      <td>convenient way of taking your agave with you!</td>\n",
       "      <td>I was hesitant about this product based on som...</td>\n",
       "    </tr>\n",
       "    <tr>\n",
       "      <th>568392</th>\n",
       "      <td>568393</td>\n",
       "      <td>B001EQ5O6Y</td>\n",
       "      <td>A1XDASQ60YMQLN</td>\n",
       "      <td>Karen Pratt \"tudie\"</td>\n",
       "      <td>1</td>\n",
       "      <td>1</td>\n",
       "      <td>1</td>\n",
       "      <td>1207526400</td>\n",
       "      <td>Wonderful Flavor</td>\n",
       "      <td>These little goodies are so full of flavor and...</td>\n",
       "    </tr>\n",
       "    <tr>\n",
       "      <th>568393</th>\n",
       "      <td>568394</td>\n",
       "      <td>B001EQ5O6Y</td>\n",
       "      <td>AJGGU9YEZNPY7</td>\n",
       "      <td>Kah-tay</td>\n",
       "      <td>0</td>\n",
       "      <td>0</td>\n",
       "      <td>1</td>\n",
       "      <td>1327795200</td>\n",
       "      <td>Sweet DEAL!</td>\n",
       "      <td>These are great to have!  I toss one in my dau...</td>\n",
       "    </tr>\n",
       "    <tr>\n",
       "      <th>568395</th>\n",
       "      <td>568396</td>\n",
       "      <td>B001EQ5O6Y</td>\n",
       "      <td>A2NEOGFAJDJMFV</td>\n",
       "      <td>SUZANNE L. ARASIM</td>\n",
       "      <td>0</td>\n",
       "      <td>0</td>\n",
       "      <td>1</td>\n",
       "      <td>1279411200</td>\n",
       "      <td>Very handy, yummy too</td>\n",
       "      <td>My mom-in-law had rec'd 1 box of these in a gi...</td>\n",
       "    </tr>\n",
       "    <tr>\n",
       "      <th>568396</th>\n",
       "      <td>568397</td>\n",
       "      <td>B001EQ5O6Y</td>\n",
       "      <td>A27OFOL5ERMRWE</td>\n",
       "      <td>Mary A. Simpson \"Boatlady13\"</td>\n",
       "      <td>0</td>\n",
       "      <td>0</td>\n",
       "      <td>1</td>\n",
       "      <td>1236729600</td>\n",
       "      <td>Lemon Honey Sticks</td>\n",
       "      <td>These honey sticks are so nice in a cup of tea...</td>\n",
       "    </tr>\n",
       "    <tr>\n",
       "      <th>568397</th>\n",
       "      <td>568398</td>\n",
       "      <td>B001EQ5O6Y</td>\n",
       "      <td>AWLK6NSSV0YNA</td>\n",
       "      <td>Midwest Mommy</td>\n",
       "      <td>0</td>\n",
       "      <td>0</td>\n",
       "      <td>1</td>\n",
       "      <td>1219363200</td>\n",
       "      <td>Sweet Treat!</td>\n",
       "      <td>These Chai Honey Sticks are SO good!  I enjoy ...</td>\n",
       "    </tr>\n",
       "    <tr>\n",
       "      <th>568398</th>\n",
       "      <td>568399</td>\n",
       "      <td>B001EQ5O6Y</td>\n",
       "      <td>AU5C3IYBH9JCW</td>\n",
       "      <td>S. Musicant \"Bermusicant\"</td>\n",
       "      <td>0</td>\n",
       "      <td>0</td>\n",
       "      <td>1</td>\n",
       "      <td>1216512000</td>\n",
       "      <td>Portable Health</td>\n",
       "      <td>I agree with other reviewers about Agave in ge...</td>\n",
       "    </tr>\n",
       "    <tr>\n",
       "      <th>568399</th>\n",
       "      <td>568400</td>\n",
       "      <td>B001EQ5O6Y</td>\n",
       "      <td>A339H0D2F669XI</td>\n",
       "      <td>C. Nicholls</td>\n",
       "      <td>0</td>\n",
       "      <td>0</td>\n",
       "      <td>1</td>\n",
       "      <td>1208217600</td>\n",
       "      <td>honey sticks</td>\n",
       "      <td>These are straws filled with lemon flavored ho...</td>\n",
       "    </tr>\n",
       "    <tr>\n",
       "      <th>568400</th>\n",
       "      <td>568401</td>\n",
       "      <td>B001EQ5O6Y</td>\n",
       "      <td>A3AIZS4BZXUKIP</td>\n",
       "      <td>Shirley Watt \"gmaof7\"</td>\n",
       "      <td>0</td>\n",
       "      <td>0</td>\n",
       "      <td>1</td>\n",
       "      <td>1202428800</td>\n",
       "      <td>Great for traveling or eating out!</td>\n",
       "      <td>These are GREAT for carrying in my purse for e...</td>\n",
       "    </tr>\n",
       "    <tr>\n",
       "      <th>568402</th>\n",
       "      <td>568403</td>\n",
       "      <td>B001EQ5O6Y</td>\n",
       "      <td>A1A3H22VVZYUKW</td>\n",
       "      <td>msfreixy</td>\n",
       "      <td>1</td>\n",
       "      <td>3</td>\n",
       "      <td>0</td>\n",
       "      <td>1187049600</td>\n",
       "      <td>alternative sweetner</td>\n",
       "      <td>I was disappointed in this product, as I had r...</td>\n",
       "    </tr>\n",
       "    <tr>\n",
       "      <th>568403</th>\n",
       "      <td>568404</td>\n",
       "      <td>B001EQ5O6Y</td>\n",
       "      <td>A2891E3BMAKGYN</td>\n",
       "      <td>PCNiles \"reader/writer\"</td>\n",
       "      <td>0</td>\n",
       "      <td>6</td>\n",
       "      <td>0</td>\n",
       "      <td>1264118400</td>\n",
       "      <td>Deceptive Term = \"Sticks\"</td>\n",
       "      <td>When I ordered these, based on the description...</td>\n",
       "    </tr>\n",
       "    <tr>\n",
       "      <th>568407</th>\n",
       "      <td>568408</td>\n",
       "      <td>B0018CLWM4</td>\n",
       "      <td>ANKM1RMQ4RKQ6</td>\n",
       "      <td>Spaceman</td>\n",
       "      <td>6</td>\n",
       "      <td>6</td>\n",
       "      <td>1</td>\n",
       "      <td>1291420800</td>\n",
       "      <td>Premium Edge Dry Cat Food for Kitten</td>\n",
       "      <td>My 6 month old male Tuxedo cat likes Premium E...</td>\n",
       "    </tr>\n",
       "    <tr>\n",
       "      <th>568408</th>\n",
       "      <td>568409</td>\n",
       "      <td>B0018CLWM4</td>\n",
       "      <td>AJGOF4W50ZNB4</td>\n",
       "      <td>je2u</td>\n",
       "      <td>3</td>\n",
       "      <td>3</td>\n",
       "      <td>1</td>\n",
       "      <td>1310515200</td>\n",
       "      <td>Premium Edge Kitten Food</td>\n",
       "      <td>This is a good food with decent ingredients &amp; ...</td>\n",
       "    </tr>\n",
       "    <tr>\n",
       "      <th>568409</th>\n",
       "      <td>568410</td>\n",
       "      <td>B0018CLWM4</td>\n",
       "      <td>A2PE0AGWV6OPL7</td>\n",
       "      <td>Dark Water Mermaid</td>\n",
       "      <td>3</td>\n",
       "      <td>3</td>\n",
       "      <td>1</td>\n",
       "      <td>1309651200</td>\n",
       "      <td>Quality &amp; affordable food</td>\n",
       "      <td>I was very pleased with the ingredient quality...</td>\n",
       "    </tr>\n",
       "    <tr>\n",
       "      <th>568410</th>\n",
       "      <td>568411</td>\n",
       "      <td>B0018CLWM4</td>\n",
       "      <td>A88HLWDCU57WG</td>\n",
       "      <td>R28</td>\n",
       "      <td>2</td>\n",
       "      <td>2</td>\n",
       "      <td>1</td>\n",
       "      <td>1332979200</td>\n",
       "      <td>litter box</td>\n",
       "      <td>My main reason for the five star review has to...</td>\n",
       "    </tr>\n",
       "    <tr>\n",
       "      <th>568411</th>\n",
       "      <td>568412</td>\n",
       "      <td>B0018CLWM4</td>\n",
       "      <td>AUX1HSY8FX55S</td>\n",
       "      <td>DAW</td>\n",
       "      <td>1</td>\n",
       "      <td>1</td>\n",
       "      <td>1</td>\n",
       "      <td>1319500800</td>\n",
       "      <td>Happy Camper</td>\n",
       "      <td>I bought this to try on two registered Maine C...</td>\n",
       "    </tr>\n",
       "    <tr>\n",
       "      <th>568412</th>\n",
       "      <td>568413</td>\n",
       "      <td>B0018CLWM4</td>\n",
       "      <td>AVZ2OZ479Q9E8</td>\n",
       "      <td>Ai Ling Chow</td>\n",
       "      <td>0</td>\n",
       "      <td>0</td>\n",
       "      <td>1</td>\n",
       "      <td>1336435200</td>\n",
       "      <td>Two Siberians like it!</td>\n",
       "      <td>When we brought home two 3-month-old purebred ...</td>\n",
       "    </tr>\n",
       "    <tr>\n",
       "      <th>568413</th>\n",
       "      <td>568414</td>\n",
       "      <td>B0018CLWM4</td>\n",
       "      <td>AI3Y26HLPYW4L</td>\n",
       "      <td>kimosabe</td>\n",
       "      <td>1</td>\n",
       "      <td>2</td>\n",
       "      <td>0</td>\n",
       "      <td>1330041600</td>\n",
       "      <td>premium edge cat food</td>\n",
       "      <td>My cats don't like it. what else can I say to ...</td>\n",
       "    </tr>\n",
       "  </tbody>\n",
       "</table>\n",
       "<p>161949 rows × 10 columns</p>\n",
       "</div>"
      ],
      "text/plain": [
       "            Id   ProductId          UserId  \\\n",
       "29          30  B0001PB9FY  A3HDKO7OW0QNK4   \n",
       "574        575  B000G6RYNE  A3PJZ8TU8FDQ1K   \n",
       "2309      2310  B0001VWE0M   AQM74O8Z4FMS0   \n",
       "2323      2324  B0001VWE0C   AQM74O8Z4FMS0   \n",
       "2336      2337  B0001FQVCK   A5D06XJHDXK75   \n",
       "2647      2648  B0016FY6H6  A2NLZ3M0OJV9NX   \n",
       "2653      2654  B0016FY6H6  A3I4PCBRENJNG2   \n",
       "2946      2947  B0002TJAZK  A2ISKAWUPGGOLZ   \n",
       "2947      2948  B0002TJAZK  A3TVZM3ZIXG8YW   \n",
       "3885      3886  B005GX7GVW   AS1FCKNKY95ID   \n",
       "3886      3887  B005GX7GVW  A1I34N9LFOSCX7   \n",
       "4640      4641  B0002NYO9I   A5DVX3B075B09   \n",
       "4641      4642  B0002NYO9I  A376TWN7I4HMZ8   \n",
       "5397      5398  B00622CYVS   ATIHDHZYNQ0EI   \n",
       "5451      5452  B00622CYVI   ATIHDHZYNQ0EI   \n",
       "5463      5464  B00622CYVI  A2ETT9SL9AN39O   \n",
       "5476      5477  B00622CYVI   A2MF0C4E7GYCI   \n",
       "5488      5489  B00622CYVI   ASEAKR59G0SLT   \n",
       "5603      5604  B000G1X45G  A36HK6V63C02XE   \n",
       "5958      5959  B001O2IX8E  A3KDZCQ82JFWLN   \n",
       "6441      6442  B000QB0WUG  A16TI8YVRRC8AN   \n",
       "6517      6518  B005O8BLLU   APH7I7OZ8WUJP   \n",
       "7321      7322  B0042395CA   AKZKG2Z7CNV27   \n",
       "7899      7900  B00126EQ8I  A3O646NL6SH3ZL   \n",
       "7904      7905  B00285FFCS   ARXORJX86X1J2   \n",
       "8762      8763  B004OLUCAE  A281NPSIMI1C2R   \n",
       "8993      8994  B006N3IG4K   A5U24IWH64IFF   \n",
       "8994      8995  B006N3IG4K  A1RVCWFP3SC3GU   \n",
       "8995      8996  B006N3IG4K  A12SO47JRQGUPR   \n",
       "8996      8997  B006N3IG4K   A86RUZGD22FDR   \n",
       "...        ...         ...             ...   \n",
       "568323  568324  B0013Z0PTW  A18AAABCIJKC5Q   \n",
       "568351  568352  B003O5Q3KE  A2T26HRHG8172X   \n",
       "568352  568353  B003O5Q3KE  A3J8TD7DX73JK0   \n",
       "568353  568354  B003O5Q3KE  A2U4L18LOGSHQ1   \n",
       "568354  568355  B003O5Q3KE  A2Q833MV8UEM37   \n",
       "568361  568362  B000LKVRQA  A1YUL9PCJR3JTY   \n",
       "568370  568371  B003NQMPYM  A26EL6HQW6SJZ4   \n",
       "568386  568387  B001EQ5O6Y  A1U36T07L3HM0E   \n",
       "568387  568388  B001EQ5O6Y  A3NL4VV8FXZ266   \n",
       "568388  568389  B001EQ5O6Y  A3JDX65QJO3Q2F   \n",
       "568389  568390  B001EQ5O6Y  A2LGOMSYQJ5PZS   \n",
       "568390  568391  B001EQ5O6Y  A3HRWZW3ZK6W49   \n",
       "568391  568392  B001EQ5O6Y  A31YNKI4TS6ZJW   \n",
       "568392  568393  B001EQ5O6Y  A1XDASQ60YMQLN   \n",
       "568393  568394  B001EQ5O6Y   AJGGU9YEZNPY7   \n",
       "568395  568396  B001EQ5O6Y  A2NEOGFAJDJMFV   \n",
       "568396  568397  B001EQ5O6Y  A27OFOL5ERMRWE   \n",
       "568397  568398  B001EQ5O6Y   AWLK6NSSV0YNA   \n",
       "568398  568399  B001EQ5O6Y   AU5C3IYBH9JCW   \n",
       "568399  568400  B001EQ5O6Y  A339H0D2F669XI   \n",
       "568400  568401  B001EQ5O6Y  A3AIZS4BZXUKIP   \n",
       "568402  568403  B001EQ5O6Y  A1A3H22VVZYUKW   \n",
       "568403  568404  B001EQ5O6Y  A2891E3BMAKGYN   \n",
       "568407  568408  B0018CLWM4   ANKM1RMQ4RKQ6   \n",
       "568408  568409  B0018CLWM4   AJGOF4W50ZNB4   \n",
       "568409  568410  B0018CLWM4  A2PE0AGWV6OPL7   \n",
       "568410  568411  B0018CLWM4   A88HLWDCU57WG   \n",
       "568411  568412  B0018CLWM4   AUX1HSY8FX55S   \n",
       "568412  568413  B0018CLWM4   AVZ2OZ479Q9E8   \n",
       "568413  568414  B0018CLWM4   AI3Y26HLPYW4L   \n",
       "\n",
       "                                             ProfileName  \\\n",
       "29                                          Canadian Fan   \n",
       "574                                         Jared Castle   \n",
       "2309                                            Sunshine   \n",
       "2323                                            Sunshine   \n",
       "2336                                               C. Po   \n",
       "2647                                         Mark Bodzin   \n",
       "2653                                             L. Cain   \n",
       "2946                                       M. S. Handley   \n",
       "2947                                   christopher hayes   \n",
       "3885                              Juli A. Lee \"JingleJL\"   \n",
       "3886                                              Smeggy   \n",
       "4640                                       Patricia Kays   \n",
       "4641                                              helios   \n",
       "5397                        Kristen O'donnell \"twinsmom\"   \n",
       "5451                        Kristen O'donnell \"twinsmom\"   \n",
       "5463                                   Danielle L Bostic   \n",
       "5476                                             VW \"VW\"   \n",
       "5488                                    Reviewer \"Jason\"   \n",
       "5603                                    Renee \"supermom\"   \n",
       "5958                                           Phoebe Oh   \n",
       "6441                                             M. Vega   \n",
       "6517                                          J. Simpson   \n",
       "7321                                         BreezyPaige   \n",
       "7899                                            J McCool   \n",
       "7904                                      Yvette Mendoza   \n",
       "8762              Rebecca of Amazon \"The Rebecca Review\"   \n",
       "8993                                             Kimdoll   \n",
       "8994                                            Cakediva   \n",
       "8995                                Thomas Smith \"tjaye\"   \n",
       "8996                              Another coffee drinker   \n",
       "...                                                  ...   \n",
       "568323                                           Rhiever   \n",
       "568351                                       pompoodlejr   \n",
       "568352                                              Joni   \n",
       "568353                        Larry L. Wieskamp \"larwie\"   \n",
       "568354                                        Josh Crick   \n",
       "568361                   O. Brown \"Ms. O. Khannah-Brown\"   \n",
       "568370                                    Michael Larson   \n",
       "568386                                           F. Dias   \n",
       "568387                                    Ruby \"Tuesday\"   \n",
       "568388  Don't believe it just because someone told yo...   \n",
       "568389                                          N. Hjort   \n",
       "568390                                  Kristen McDaniel   \n",
       "568391                                         Lauren L.   \n",
       "568392                               Karen Pratt \"tudie\"   \n",
       "568393                                           Kah-tay   \n",
       "568395                                 SUZANNE L. ARASIM   \n",
       "568396                      Mary A. Simpson \"Boatlady13\"   \n",
       "568397                                     Midwest Mommy   \n",
       "568398                         S. Musicant \"Bermusicant\"   \n",
       "568399                                       C. Nicholls   \n",
       "568400                             Shirley Watt \"gmaof7\"   \n",
       "568402                                          msfreixy   \n",
       "568403                           PCNiles \"reader/writer\"   \n",
       "568407                                          Spaceman   \n",
       "568408                                              je2u   \n",
       "568409                                Dark Water Mermaid   \n",
       "568410                                               R28   \n",
       "568411                                               DAW   \n",
       "568412                                      Ai Ling Chow   \n",
       "568413                                          kimosabe   \n",
       "\n",
       "        HelpfulnessNumerator  HelpfulnessDenominator  Score        Time  \\\n",
       "29                         1                       1      1  1107820800   \n",
       "574                        2                       2      1  1231718400   \n",
       "2309                       0                       0      0  1127606400   \n",
       "2323                       0                       0      0  1127606400   \n",
       "2336                       1                       1      1  1190592000   \n",
       "2647                       0                       0      0  1313107200   \n",
       "2653                       0                       0      1  1300579200   \n",
       "2946                       0                       1      0  1310774400   \n",
       "2947                       0                       2      0  1291420800   \n",
       "3885                       1                       1      1  1336953600   \n",
       "3886                       0                       0      1  1349136000   \n",
       "4640                       0                       0      1  1338940800   \n",
       "4641                       0                       1      1  1324252800   \n",
       "5397                       1                       1      1  1270425600   \n",
       "5451                       2                       2      1  1270425600   \n",
       "5463                       0                       0      1  1333324800   \n",
       "5476                       0                       0      1  1298678400   \n",
       "5488                       1                       3      0  1329782400   \n",
       "5603                       0                       0      1  1236556800   \n",
       "5958                       0                       1      0  1245888000   \n",
       "6441                       0                       0      1  1329868800   \n",
       "6517                       0                       0      1  1347494400   \n",
       "7321                       0                       0      0  1332547200   \n",
       "7899                       1                       1      1  1255392000   \n",
       "7904                       0                       0      1  1327017600   \n",
       "8762                       0                       0      1  1316131200   \n",
       "8993                       1                       1      1  1302480000   \n",
       "8994                       1                       1      1  1300233600   \n",
       "8995                       1                       1      1  1299801600   \n",
       "8996                       1                       1      1  1299110400   \n",
       "...                      ...                     ...    ...         ...   \n",
       "568323                     1                       3      0  1295740800   \n",
       "568351                     0                       0      1  1293321600   \n",
       "568352                     0                       0      1  1292198400   \n",
       "568353                     0                       0      0  1291161600   \n",
       "568354                     0                       2      0  1286841600   \n",
       "568361                     1                       1      1  1282608000   \n",
       "568370                     0                       0      1  1328313600   \n",
       "568386                     7                       7      1  1256688000   \n",
       "568387                     3                       3      0  1187395200   \n",
       "568388                     5                       6      1  1187395200   \n",
       "568389                     2                       2      1  1257552000   \n",
       "568390                     1                       1      1  1239148800   \n",
       "568391                     1                       1      1  1234310400   \n",
       "568392                     1                       1      1  1207526400   \n",
       "568393                     0                       0      1  1327795200   \n",
       "568395                     0                       0      1  1279411200   \n",
       "568396                     0                       0      1  1236729600   \n",
       "568397                     0                       0      1  1219363200   \n",
       "568398                     0                       0      1  1216512000   \n",
       "568399                     0                       0      1  1208217600   \n",
       "568400                     0                       0      1  1202428800   \n",
       "568402                     1                       3      0  1187049600   \n",
       "568403                     0                       6      0  1264118400   \n",
       "568407                     6                       6      1  1291420800   \n",
       "568408                     3                       3      1  1310515200   \n",
       "568409                     3                       3      1  1309651200   \n",
       "568410                     2                       2      1  1332979200   \n",
       "568411                     1                       1      1  1319500800   \n",
       "568412                     0                       0      1  1336435200   \n",
       "568413                     1                       2      0  1330041600   \n",
       "\n",
       "                                                  Summary  \\\n",
       "29                        The Best Hot Sauce in the World   \n",
       "574           One bite and you'll become a \"chippoisseur\"   \n",
       "2309                                       Below standard   \n",
       "2323                                       Below standard   \n",
       "2336    Baci's are pure heaven - great gift, stocking ...   \n",
       "2647                           way too weak for my tastes   \n",
       "2653           quality lightly sweetened green tea powder   \n",
       "2946                                      Kitty Junk Food   \n",
       "2947    Filler food is empty, leaves your cat always n...   \n",
       "3885                                Great and good price!   \n",
       "3886                                                 Yum!   \n",
       "4640                               LOVELY JUNIPER BERRIES   \n",
       "4641                               Exaclty what i ordered   \n",
       "5397                                    Organic and Tasty   \n",
       "5451                                    Organic and Tasty   \n",
       "5463                                        Great Product   \n",
       "5476                            My child loves this food!   \n",
       "5488          Product is good; Amazon fulfillment is poor   \n",
       "5603    If you love strong full flavored coffee---this...   \n",
       "5958                                     Some broken jars   \n",
       "6441                                                Yummy   \n",
       "6517                                     Great first food   \n",
       "7321                                Decent, but not great   \n",
       "7899                               The real deal (ALMOST)   \n",
       "7904                                     Chocolate heaven   \n",
       "8762                       Delicious Alternative to Sugar   \n",
       "8993                         Absolutely delicious coffee!   \n",
       "8994                                                YUMMY   \n",
       "8995                                           Good Stuff   \n",
       "8996                           Delivers what was promises   \n",
       "...                                                   ...   \n",
       "568323         High fiber isn't necessarily a good thing!   \n",
       "568351                                         dog treats   \n",
       "568352              Repeat Purchaser - My dogs love these   \n",
       "568353                                     doggy crackers   \n",
       "568354                          My Dog HATED these treats   \n",
       "568361             An Earl Grey Tea That Won't Disappoint   \n",
       "568370                                          M. Larson   \n",
       "568386                          Just some info to help...   \n",
       "568387                                good idea but messy   \n",
       "568388                                    Awesome product   \n",
       "568389                                       great flavor   \n",
       "568390               Yummy honey in a convenient portion.   \n",
       "568391      convenient way of taking your agave with you!   \n",
       "568392                                   Wonderful Flavor   \n",
       "568393                                        Sweet DEAL!   \n",
       "568395                              Very handy, yummy too   \n",
       "568396                                 Lemon Honey Sticks   \n",
       "568397                                       Sweet Treat!   \n",
       "568398                                    Portable Health   \n",
       "568399                                       honey sticks   \n",
       "568400                 Great for traveling or eating out!   \n",
       "568402                               alternative sweetner   \n",
       "568403                          Deceptive Term = \"Sticks\"   \n",
       "568407               Premium Edge Dry Cat Food for Kitten   \n",
       "568408                           Premium Edge Kitten Food   \n",
       "568409                          Quality & affordable food   \n",
       "568410                                         litter box   \n",
       "568411                                       Happy Camper   \n",
       "568412                             Two Siberians like it!   \n",
       "568413                              premium edge cat food   \n",
       "\n",
       "                                                     Text  \n",
       "29      I don't know if it's the cactus or the tequila...  \n",
       "574     I'm addicted to salty and tangy flavors, so wh...  \n",
       "2309    Too much of the white pith on this orange peel...  \n",
       "2323    Too much of the white pith on this orange peel...  \n",
       "2336    My family has been in love with Baci's ever si...  \n",
       "2647    What can i say, I love iced tea. I drink a lot...  \n",
       "2653    lots of uses for this green tea...<br /><br />...  \n",
       "2946    We have five cats - one an elderly cat of 15 y...  \n",
       "2947    This review will make me sound really stupid, ...  \n",
       "3885    I love these noodles.  They are really great f...  \n",
       "3886    This soup cooks up quickly and is very yummy! ...  \n",
       "4640    Dried berries, still with texture and the quin...  \n",
       "4641    Again, exactly what I ordered. No fuss, no mus...  \n",
       "5397    I'd continue to buy but I'm moving over to mor...  \n",
       "5451    I'd continue to buy but I'm moving over to mor...  \n",
       "5463    My one year old loves this product. She eats o...  \n",
       "5476    Great value if you buy it as a subscribe and s...  \n",
       "5488    Amazon normally does a fantastic job getting p...  \n",
       "5603    If you like strong coffee, this is it!  The fl...  \n",
       "5958    When I saw some of the Earth's Best jars offer...  \n",
       "6441    Tried this in a turkey burger and it was sooo ...  \n",
       "6517    This is excellent for a baby's first taste. Th...  \n",
       "7321    When I first started to use IAMS Savory Sauce,...  \n",
       "7899    I pass around favorable endorsements very seld...  \n",
       "7904    My mother and father were the recipient of the...  \n",
       "8762    If you are looking for a sweetener that is del...  \n",
       "8993    I am a huge coffee drinker, and love the k-cup...  \n",
       "8994    We always drink Timmothy's or Emeril's. Though...  \n",
       "8995    Good subtle flavored coffee for the mid-aftern...  \n",
       "8996    Wolfgang Puck's Chef's Reserve Colombian (Dark...  \n",
       "...                                                   ...  \n",
       "568323  I recently cut fiber one bars out of my diet a...  \n",
       "568351  i have 4 dogs, 3 of them love these peanut but...  \n",
       "568352  I order several of these everytime I place an ...  \n",
       "568353  These were kind of expensive for a dog treat a...  \n",
       "568354  Went into the dumpster the very first night. M...  \n",
       "568361  *****<br />St. Dalfour's wonderful Certified O...  \n",
       "568370  We tried these \"candy bars\" in Hawaii.  They a...  \n",
       "568386  Just FYI, I checked the nutritional informatio...  \n",
       "568387  this ia a good idea; however, difficult to ope...  \n",
       "568388  I have used agave for many things and find tha...  \n",
       "568389  The cinnamon honey sticks flavor was excellent...  \n",
       "568390  I bought this in an effort to help myself quit...  \n",
       "568391  I was hesitant about this product based on som...  \n",
       "568392  These little goodies are so full of flavor and...  \n",
       "568393  These are great to have!  I toss one in my dau...  \n",
       "568395  My mom-in-law had rec'd 1 box of these in a gi...  \n",
       "568396  These honey sticks are so nice in a cup of tea...  \n",
       "568397  These Chai Honey Sticks are SO good!  I enjoy ...  \n",
       "568398  I agree with other reviewers about Agave in ge...  \n",
       "568399  These are straws filled with lemon flavored ho...  \n",
       "568400  These are GREAT for carrying in my purse for e...  \n",
       "568402  I was disappointed in this product, as I had r...  \n",
       "568403  When I ordered these, based on the description...  \n",
       "568407  My 6 month old male Tuxedo cat likes Premium E...  \n",
       "568408  This is a good food with decent ingredients & ...  \n",
       "568409  I was very pleased with the ingredient quality...  \n",
       "568410  My main reason for the five star review has to...  \n",
       "568411  I bought this to try on two registered Maine C...  \n",
       "568412  When we brought home two 3-month-old purebred ...  \n",
       "568413  My cats don't like it. what else can I say to ...  \n",
       "\n",
       "[161949 rows x 10 columns]"
      ]
     },
     "execution_count": 12,
     "metadata": {},
     "output_type": "execute_result"
    }
   ],
   "source": [
    "df_f[(df_f['UserId'].duplicated() == True) & (df_f['ProfileName'].duplicated() == True) & (df_f['Time'].duplicated() == True) & (df_f['Text'].duplicated() == True)]"
   ]
  },
  {
   "cell_type": "markdown",
   "metadata": {},
   "source": [
    "# Observation:\n",
    "\n",
    "We see many duplicates in the dataset i.e UserId, ProfileName, Time and Text are same. Removing the duplicates as they are not useful."
   ]
  },
  {
   "cell_type": "code",
   "execution_count": 13,
   "metadata": {},
   "outputs": [],
   "source": [
    "# First let's sort the dataset by product ids.\n",
    "\n",
    "df_sorted = df_f.sort_values('ProductId', axis = 0, ascending = True)"
   ]
  },
  {
   "cell_type": "code",
   "execution_count": 14,
   "metadata": {},
   "outputs": [],
   "source": [
    "# Now removing duplicates\n",
    "\n",
    "df_final = df_sorted.drop_duplicates(subset = {'UserId', 'ProfileName', 'Time', 'Text'}, keep = 'first', inplace = False)"
   ]
  },
  {
   "cell_type": "code",
   "execution_count": 15,
   "metadata": {},
   "outputs": [
    {
     "name": "stdout",
     "output_type": "stream",
     "text": [
      "Number of rows in df_final: 364171\n",
      "Percentage reduced to: 69.25878450853156\n"
     ]
    }
   ],
   "source": [
    "print('Number of rows in df_final:' + ' ' + str(df_final.shape[0]))\n",
    "print('Percentage reduced to:' + ' ' + str(100*(len(df_final['Id'])/len(df_f['Id']))))"
   ]
  },
  {
   "cell_type": "markdown",
   "metadata": {},
   "source": [
    "# Text Preprocessing:\n",
    "\n",
    "1) Remove HTML tag\n",
    "\n",
    "2) Remove punctuations and numbers\n",
    "\n",
    "3) Remove URLs\n",
    "\n",
    "4) Renaming short forms like can't to can not, 's to is, 're to are, etc\n",
    "\n",
    "5) Stop-word removal\n",
    "\n",
    "6) Stemming\n",
    "\n",
    "7) Change it to lowercase and join it."
   ]
  },
  {
   "cell_type": "code",
   "execution_count": 16,
   "metadata": {},
   "outputs": [],
   "source": [
    "# Importing required libraries.\n",
    "\n",
    "import re\n",
    "from nltk.corpus import stopwords  \n",
    "from nltk.stem.snowball import SnowballStemmer\n",
    "from bs4 import BeautifulSoup\n",
    "from tqdm import tqdm\n",
    "\n",
    "# Creating an object or an instance for snowball stemmer\n",
    "ss = SnowballStemmer('english')"
   ]
  },
  {
   "cell_type": "code",
   "execution_count": 17,
   "metadata": {},
   "outputs": [
    {
     "name": "stdout",
     "output_type": "stream",
     "text": [
      "I don't know if it's the cactus or the tequila or just the unique combination of ingredients, but the flavour of this hot sauce makes it one of a kind!  We picked up a bottle once on a trip we were on and brought it back home with us and were totally blown away!  When we realized that we simply couldn't find it anywhere in our city we were bummed.<br /><br />Now, because of the magic of the internet, we have a case of the sauce and are ecstatic because of it.<br /><br />If you love hot sauce..I mean really love hot sauce, but don't want a sauce that tastelessly burns your throat, grab a bottle of Tequila Picante Gourmet de Inclan.  Just realize that once you taste it, you will never want to use any other sauce.<br /><br />Thank you for the personal, incredible service! \n",
      "\n",
      "**************************************************************************************************** \n",
      "\n",
      "I give five stars to the Maurice Sendak story. One star for this printed edition of the book.<br />My children had an older copy this book, so I was very familiar with the previous softcover version. I ordered this for my granddaughters, but I'm embarrassed to give it as a gift, it looks so puny. The book is about the size of a postcard and I think it's overpriced. I've learned my lesson: I will not be buying any more softcover children books, next time I'll get a used copy. \n",
      "\n",
      "****************************************************************************************************\n"
     ]
    }
   ],
   "source": [
    "# Let us check few reviews to understand text data.\n",
    "\n",
    "s_10 = df_final['Text'][10]\n",
    "print(s_10, '\\n')\n",
    "print(\"*\"*100, '\\n')\n",
    "\n",
    "s_30 = df_final['Text'].values[30]\n",
    "print(s_30, '\\n')\n",
    "print(\"*\"*100)"
   ]
  },
  {
   "cell_type": "markdown",
   "metadata": {},
   "source": [
    "# Observation:\n",
    "We can see HTML tags, I'll, it's, I'm, etc.. We need to remove HTML tags, URLs, rename it's to it is etc."
   ]
  },
  {
   "cell_type": "markdown",
   "metadata": {},
   "source": [
    "# HTML tags\n",
    "\n",
    "Defining a function to remove HTML tags from the text."
   ]
  },
  {
   "cell_type": "code",
   "execution_count": 18,
   "metadata": {},
   "outputs": [],
   "source": [
    "# Remove html tags\n",
    "\n",
    "def html(ht):\n",
    "    clean = re.compile('<.*?>')\n",
    "    cleaned = re.sub(clean, ' ', ht)\n",
    "    return cleaned"
   ]
  },
  {
   "cell_type": "code",
   "execution_count": 19,
   "metadata": {},
   "outputs": [
    {
     "data": {
      "text/plain": [
       "'The Best Hot Sauce in the World'"
      ]
     },
     "execution_count": 19,
     "metadata": {},
     "output_type": "execute_result"
    }
   ],
   "source": [
    "su = df_final['Summary'][10]\n",
    "su1 = html(su)\n",
    "su1"
   ]
  },
  {
   "cell_type": "markdown",
   "metadata": {},
   "source": [
    "# Defining function to rename it's to it is, don't to do not, etc..."
   ]
  },
  {
   "cell_type": "code",
   "execution_count": 20,
   "metadata": {},
   "outputs": [],
   "source": [
    "# Referred from notebook and also # https://stackoverflow.com/a/47091490/4084039\n",
    "\n",
    "def short_word(full_word):\n",
    "    \n",
    "    full_word = full_word.lower()              # Python reads Won't and won't as separate words. So change to lowercase\n",
    "    \n",
    "    full_word = re.sub(r\"won't\", \"will not\", full_word) \n",
    "    full_word = re.sub(r\"can't\", \"can not\", full_word)\n",
    "    full_word = re.sub(r\"\\'re\", \"are\", full_word)\n",
    "    full_word = re.sub(r\"\\'s\", \"is\", full_word)\n",
    "    full_word = re.sub(r\"\\'d\", \"would\", full_word)\n",
    "    full_word = re.sub(r\"\\'ll\", \"will\", full_word)\n",
    "    full_word = re.sub(r\"\\'ve\", \"have\", full_word)\n",
    "    full_word = re.sub(r\"\\'m\", \"am\", full_word)\n",
    "  \n",
    "    return full_word"
   ]
  },
  {
   "cell_type": "code",
   "execution_count": 21,
   "metadata": {},
   "outputs": [],
   "source": [
    "su2 = short_word(su1)"
   ]
  },
  {
   "cell_type": "markdown",
   "metadata": {},
   "source": [
    "# Defining a function to remove URLs"
   ]
  },
  {
   "cell_type": "code",
   "execution_count": 22,
   "metadata": {},
   "outputs": [],
   "source": [
    "# Referred from notebook and https://stackoverflow.com/a/40823105/4084039\n",
    "\n",
    "def url(urls):\n",
    "    urls = re.sub(r\"http\\S+\",\"\", urls)\n",
    "    \n",
    "    return urls"
   ]
  },
  {
   "cell_type": "code",
   "execution_count": 23,
   "metadata": {},
   "outputs": [],
   "source": [
    "su3 = url(su2)"
   ]
  },
  {
   "cell_type": "markdown",
   "metadata": {},
   "source": [
    "# Punctuation, stopwords and snowballstemming\n",
    "\n",
    "Defining a function to remove punctuation, numerics, stopwords and stemming from the text."
   ]
  },
  {
   "cell_type": "code",
   "execution_count": 24,
   "metadata": {},
   "outputs": [],
   "source": [
    "def punc(pun):\n",
    "    pun = re.sub('[^a-zA-Z]', ' ', pun)\n",
    "    pun = pun.split()\n",
    "    if len(pun)>2:\n",
    "        pun = [ss.stem(sw) for sw in pun if sw not in stopwords.words('english')]\n",
    "        pun = ' '.join(pun)\n",
    "        return pun"
   ]
  },
  {
   "cell_type": "code",
   "execution_count": 25,
   "metadata": {},
   "outputs": [
    {
     "data": {
      "text/plain": [
       "'best hot sauc world'"
      ]
     },
     "execution_count": 25,
     "metadata": {},
     "output_type": "execute_result"
    }
   ],
   "source": [
    "punc(su3)"
   ]
  },
  {
   "cell_type": "markdown",
   "metadata": {},
   "source": [
    "# FYI: Learnt this trick from kaggle.\n",
    "\n",
    "Since our text data is huge, we will consider 1000 data.\n",
    "To balance positive and negative review, we will consider 500 data each for positive and negative.\n",
    "Let's create a new dataframe where we will have 1000 reviews, 500 each for positive and negative."
   ]
  },
  {
   "cell_type": "code",
   "execution_count": 26,
   "metadata": {},
   "outputs": [],
   "source": [
    "# Referred this from kaggle: https://www.kaggle.com/premvardhan/amazon-fine-food-review-tsne-visualization\n",
    "\n",
    "df_pos = df_final[df_final['Score']==1].sample(n = 500) \n",
    "\n",
    "df_neg = df_final[df_final['Score']==0].sample(n = 500) \n",
    "\n",
    "# Concat df_pos and df_neg\n",
    "\n",
    "df_1k = pd.concat([df_pos, df_neg])"
   ]
  },
  {
   "cell_type": "code",
   "execution_count": 27,
   "metadata": {},
   "outputs": [
    {
     "name": "stdout",
     "output_type": "stream",
     "text": [
      "Shape of df_1k: (1000, 10)\n",
      "Number of positive review in df_1k: 500\n",
      "Number of negative review in df_1k: 500\n"
     ]
    }
   ],
   "source": [
    "print(\"Shape of df_1k:\" + ' ' + str(df_1k.shape))\n",
    "print(\"Number of positive review in df_1k:\" + ' ' + str(len(df_1k[df_1k['Score'] == 1])))\n",
    "print(\"Number of negative review in df_1k:\" + ' ' + str(len(df_1k[df_1k['Score'] == 0])))"
   ]
  },
  {
   "cell_type": "markdown",
   "metadata": {},
   "source": [
    "# Apply text processing functions to 'Text' data\n",
    "HTML tag removal, url, punctuation, stop word removal, rename"
   ]
  },
  {
   "cell_type": "code",
   "execution_count": 28,
   "metadata": {},
   "outputs": [
    {
     "name": "stderr",
     "output_type": "stream",
     "text": [
      "100%|██████████████████████████████████████| 1000/1000 [01:39<00:00,  7.93it/s]\n"
     ]
    }
   ],
   "source": [
    "filtered = []\n",
    "positive = []\n",
    "negative = []\n",
    "for i, s in enumerate (tqdm(df_1k['Text'].values)):\n",
    "    \n",
    "    h = html(s)                               # Removes html tags\n",
    "    s = short_word(h)                         # Renames the short word to full word\n",
    "    u = url(s)                                # Removes URLs\n",
    "    p = punc(u)                               # Removes punctuations and numbers. Also remove stop words and apply stemming\n",
    "    \n",
    "    if df_1k['Score'].values[i] == 1:\n",
    "        positive.append(p)                    # Creates list of positive reviews\n",
    "    if df_1k['Score'].values[i] == 0:\n",
    "        negative.append(p)                    # Creates list of positive reviews\n",
    "    filtered.append(p)                        # Creates list of positive and negative reviews "
   ]
  },
  {
   "cell_type": "code",
   "execution_count": 29,
   "metadata": {},
   "outputs": [
    {
     "name": "stdout",
     "output_type": "stream",
     "text": [
      "Filtered data count: 1000\n",
      "Positive data count: 500\n",
      "Negative data count: 500\n"
     ]
    }
   ],
   "source": [
    "print('Filtered data count:' + ' ' + str(len(filtered)))\n",
    "print('Positive data count:' + ' ' + str(len(positive)))\n",
    "print('Negative data count:' + ' ' + str(len(negative)))"
   ]
  },
  {
   "cell_type": "markdown",
   "metadata": {},
   "source": [
    "# Apply text processing functions to 'Summary' data\n",
    "HTML tag removal, url, punctuation, stop word removal, rename"
   ]
  },
  {
   "cell_type": "code",
   "execution_count": 30,
   "metadata": {},
   "outputs": [
    {
     "name": "stderr",
     "output_type": "stream",
     "text": [
      "100%|█████████████████████████████████████| 1000/1000 [00:04<00:00, 202.79it/s]\n"
     ]
    }
   ],
   "source": [
    "filtered_smr = []\n",
    "positive_smr = []\n",
    "negative_smr = []\n",
    "for t, smr in enumerate (tqdm(df_1k['Summary'].values)):\n",
    "    \n",
    "    h_s = html(smr)                               # Removes html tags\n",
    "    s_s = short_word(h_s)                         # Renames the short word to full word\n",
    "    u_s = url(s_s)                                # Removes URLs\n",
    "    p_s = punc(u_s)                               # Removes punctuations and numbers. Also remove stop words and apply stemming\n",
    "    \n",
    "    if df_1k['Score'].values[t] == 1:\n",
    "        positive_smr.append(p_s)                    # Creates list of positive reviews\n",
    "    if df_1k['Score'].values[t] == 0:\n",
    "        negative_smr.append(p_s)                    # Creates list of positive reviews\n",
    "    filtered_smr.append(p_s)                        # Creates list of positive and negative reviews "
   ]
  },
  {
   "cell_type": "code",
   "execution_count": 31,
   "metadata": {},
   "outputs": [
    {
     "name": "stdout",
     "output_type": "stream",
     "text": [
      "Filtered_smr data count: 1000\n",
      "Positive_smr data count: 500\n",
      "Negative_smr data count: 500\n"
     ]
    }
   ],
   "source": [
    "print('Filtered_smr data count:' + ' ' + str(len(filtered_smr)))\n",
    "print('Positive_smr data count:' + ' ' + str(len(positive_smr)))\n",
    "print('Negative_smr data count:' + ' ' + str(len(negative_smr)))"
   ]
  },
  {
   "cell_type": "code",
   "execution_count": null,
   "metadata": {},
   "outputs": [],
   "source": []
  },
  {
   "cell_type": "markdown",
   "metadata": {},
   "source": [
    "# Adding filtered text and summary to df_1k"
   ]
  },
  {
   "cell_type": "code",
   "execution_count": 32,
   "metadata": {},
   "outputs": [],
   "source": [
    "#Adding a filtered text to the df_final.\n",
    "\n",
    "df_1k['Cleaned_Text'] = filtered\n",
    "\n",
    "#Adding a filtered text to the df_final.\n",
    "\n",
    "df_1k['Cleaned_Summary'] = filtered_smr"
   ]
  },
  {
   "cell_type": "code",
   "execution_count": 33,
   "metadata": {},
   "outputs": [],
   "source": [
    "# Saving the filtered dataframe as amaz_df.csv\n",
    "\n",
    "# df_1k.to_csv('Amazon_1k_final.csv', index_label= False)"
   ]
  },
  {
   "cell_type": "code",
   "execution_count": 34,
   "metadata": {},
   "outputs": [
    {
     "data": {
      "text/plain": [
       "<matplotlib.axes._subplots.AxesSubplot at 0x39012f28>"
      ]
     },
     "execution_count": 34,
     "metadata": {},
     "output_type": "execute_result"
    },
    {
     "data": {
      "image/png": "[encoded data removed]",
      "text/plain": [
       "<Figure size 432x288 with 2 Axes>"
      ]
     },
     "metadata": {
      "needs_background": "light"
     },
     "output_type": "display_data"
    }
   ],
   "source": [
    "sns.heatmap(df_1k.isnull(), cmap = 'viridis')"
   ]
  },
  {
   "cell_type": "markdown",
   "metadata": {},
   "source": [
    "# Observation:\n",
    "After cleaning summary text, we can see lot many null values. Since, there are lot many null values, it is better don't construct bag of words, word2vec, tfidf, avg word2vec and tfidf-word2vec."
   ]
  },
  {
   "cell_type": "code",
   "execution_count": 35,
   "metadata": {},
   "outputs": [
    {
     "data": {
      "text/html": [
       "<div>\n",
       "<style scoped>\n",
       "    .dataframe tbody tr th:only-of-type {\n",
       "        vertical-align: middle;\n",
       "    }\n",
       "\n",
       "    .dataframe tbody tr th {\n",
       "        vertical-align: top;\n",
       "    }\n",
       "\n",
       "    .dataframe thead th {\n",
       "        text-align: right;\n",
       "    }\n",
       "</style>\n",
       "<table border=\"1\" class=\"dataframe\">\n",
       "  <thead>\n",
       "    <tr style=\"text-align: right;\">\n",
       "      <th></th>\n",
       "      <th>Id</th>\n",
       "      <th>ProductId</th>\n",
       "      <th>UserId</th>\n",
       "      <th>ProfileName</th>\n",
       "      <th>HelpfulnessNumerator</th>\n",
       "      <th>HelpfulnessDenominator</th>\n",
       "      <th>Score</th>\n",
       "      <th>Time</th>\n",
       "      <th>Summary</th>\n",
       "      <th>Text</th>\n",
       "      <th>Cleaned_Text</th>\n",
       "      <th>Cleaned_Summary</th>\n",
       "    </tr>\n",
       "  </thead>\n",
       "  <tbody>\n",
       "    <tr>\n",
       "      <th>439620</th>\n",
       "      <td>439621</td>\n",
       "      <td>B000ZSX4D2</td>\n",
       "      <td>AI0BCEWRE04G0</td>\n",
       "      <td>Stoney</td>\n",
       "      <td>0</td>\n",
       "      <td>3</td>\n",
       "      <td>1</td>\n",
       "      <td>1337644800</td>\n",
       "      <td>Delicious</td>\n",
       "      <td>DESCRIPTION:&lt;br /&gt;&gt; Blue Diamond Roasted-Salte...</td>\n",
       "      <td>descript blue diamond roast salt almond moder ...</td>\n",
       "      <td>None</td>\n",
       "    </tr>\n",
       "    <tr>\n",
       "      <th>426926</th>\n",
       "      <td>426927</td>\n",
       "      <td>B000L7QJGG</td>\n",
       "      <td>AD28D0UKIX2ZW</td>\n",
       "      <td>A. Walter</td>\n",
       "      <td>3</td>\n",
       "      <td>3</td>\n",
       "      <td>1</td>\n",
       "      <td>1271980800</td>\n",
       "      <td>Helped with my weight loss</td>\n",
       "      <td>I tried the Vintage All Natural WuLong tea...s...</td>\n",
       "      <td>tri vintag natur wulong tea sort whim need fin...</td>\n",
       "      <td>help weight loss</td>\n",
       "    </tr>\n",
       "    <tr>\n",
       "      <th>22618</th>\n",
       "      <td>22619</td>\n",
       "      <td>B00170NWEI</td>\n",
       "      <td>A2A5CRU5N3EHTU</td>\n",
       "      <td>Elaina E. Jackson \"Cool Aunt\"</td>\n",
       "      <td>15</td>\n",
       "      <td>15</td>\n",
       "      <td>1</td>\n",
       "      <td>1248048000</td>\n",
       "      <td>Rich, luscious and smooth, very leafy (not ste...</td>\n",
       "      <td>I've had Teavana, Mighty Leaf and many other g...</td>\n",
       "      <td>ihav teavana mighti leaf mani green sencha tea...</td>\n",
       "      <td>rich luscious smooth leafi stemmi</td>\n",
       "    </tr>\n",
       "  </tbody>\n",
       "</table>\n",
       "</div>"
      ],
      "text/plain": [
       "            Id   ProductId          UserId                    ProfileName  \\\n",
       "439620  439621  B000ZSX4D2   AI0BCEWRE04G0                         Stoney   \n",
       "426926  426927  B000L7QJGG   AD28D0UKIX2ZW                      A. Walter   \n",
       "22618    22619  B00170NWEI  A2A5CRU5N3EHTU  Elaina E. Jackson \"Cool Aunt\"   \n",
       "\n",
       "        HelpfulnessNumerator  HelpfulnessDenominator  Score        Time  \\\n",
       "439620                     0                       3      1  1337644800   \n",
       "426926                     3                       3      1  1271980800   \n",
       "22618                     15                      15      1  1248048000   \n",
       "\n",
       "                                                  Summary  \\\n",
       "439620                                          Delicious   \n",
       "426926                         Helped with my weight loss   \n",
       "22618   Rich, luscious and smooth, very leafy (not ste...   \n",
       "\n",
       "                                                     Text  \\\n",
       "439620  DESCRIPTION:<br />> Blue Diamond Roasted-Salte...   \n",
       "426926  I tried the Vintage All Natural WuLong tea...s...   \n",
       "22618   I've had Teavana, Mighty Leaf and many other g...   \n",
       "\n",
       "                                             Cleaned_Text  \\\n",
       "439620  descript blue diamond roast salt almond moder ...   \n",
       "426926  tri vintag natur wulong tea sort whim need fin...   \n",
       "22618   ihav teavana mighti leaf mani green sencha tea...   \n",
       "\n",
       "                          Cleaned_Summary  \n",
       "439620                               None  \n",
       "426926                   help weight loss  \n",
       "22618   rich luscious smooth leafi stemmi  "
      ]
     },
     "execution_count": 35,
     "metadata": {},
     "output_type": "execute_result"
    }
   ],
   "source": [
    "df_1k.head(3)"
   ]
  },
  {
   "cell_type": "code",
   "execution_count": 36,
   "metadata": {},
   "outputs": [
    {
     "name": "stdout",
     "output_type": "stream",
     "text": [
      "Most Common Positive Words :  [('descript blue diamond roast salt almond moder roast canola safflow sunflow oil oili greasi light salt heart healthi oil actual good almond oil roast salt almond avail bag small can small blue diamond smokehous almond similar wonder smokey flavor time smokehous almond avail amazon oz smaller bag tri light salt varieti presum almost salt can vs bag various type blue diamond almond avail bag small can small can diamet high conveni assur almond stay fresh open afterward stay open long easi eat whole one set arguabl bag environment friend get much price break much cheaper packag prefer conveni fresh can evalu excel flavor well roast crunchi cannot decid like best roast salt smokehous although oili roast oil effect flavor whether thati good thing matter individu tast happen like roast oil flavor less roast almond prefer less roast almond roast without ad oil consid back natur california almond sea salt roast ounc pouch pack unroast almond unroast almond avail back natur california almond unroast unsalt ounc pouch pack bewar thorough roast make almond digest unroast almond suscept fungus carcinogen commerci domest almond sold us contain signific level cyanid bitter almond much richer almond flavor particular bake good inde natur almond extract made bitter almond artifici almond extract safer bitter almond sometim illeg sold us often encount countri contain danger level cyanid raw raw bitter almond kill child moreov child rais raw almond may conclud raw peach pit essenti varieti almond safe eat safest practic eat unroast almond', 1), ('tri vintag natur wulong tea sort whim need find way lose weight without exercis ihav drink cup tea daili sinc lost littl pound inch come pound ihav drop near two pant size one shirt size smaller chang eat habit littl bit iam eat fruit veget weight watcher approv meal still splurg pizza ice cream truli believ tea help burn calori complexion better hair healthier feel energ high recommend tea anyon difficulti lose weight hate exercis want feel like million buck', 1), ('ihav teavana mighti leaf mani green sencha tea one seem freshest strongest bitter fact use get oomph tea realli swell water ad delici seem iti less stemmi leafi yum iam green tea lover understand japanes green tea provid polyphenol chines green tea sencha one best polyphenol high recommend', 1), ('noth bad say treat came quick candi candi', 1), ('prefer deep dark roast coffe mani peopl mother use standard household blend folgeri mani year receiv keur machin start experi brand blend occasion drink flavor coffe becom favorit get coupl box month love tri take blend bodi mouth feel light medium acid medium low much bite especi use cream flavor surpris complex spice mayb cardamom anis littl pepper well rich coffe finish replac favorit dark roast keep hand guest find starbuck type coffe strong bitter like mother enjoy regular blend think geti better', 1)] \n",
      "\n",
      "Most Common Negative Words :  [('wonder aw test batch version drink decid go finish product easili worst drink ever purchas like honest tea encourag gf buy know would vomit induc honest tea recal immedi lose custom vile concoct first tast stevia well think tri either', 1), ('return item peanut marshmallow hard rock doubt would human possibl bite chew peanut stuck togeth packag residu insid bag iam sure super old bag seal proper bag receiv sweetgourmet com first item ever return amazon prime buy time week', 1), ('ihav purchas brand dog interest sorri got mani smell funni seem rancid iwil throw away instead give away safe', 1), ('spent dollar tini box cooki pc sampl biggest rip', 1), ('complaint made elsewher product horribl salti tast season buy throw away though iwil use salt thati iti salt put appropri amount salt expect tast season despit claim packag iti salti enough iti season perfect partner say use use tonyi mani year ago someth chang say dread salti back', 1)]\n"
     ]
    }
   ],
   "source": [
    "import nltk\n",
    "\n",
    "freq_dist_pos=nltk.FreqDist(positive)\n",
    "freq_dist_neg=nltk.FreqDist(negative)\n",
    "print(\"Most Common Positive Words : \",freq_dist_pos.most_common(5), '\\n')\n",
    "print(\"Most Common Negative Words : \",freq_dist_neg.most_common(5))"
   ]
  },
  {
   "cell_type": "markdown",
   "metadata": {},
   "source": [
    "# Observation:\n",
    "    \n",
    "From the most common negative words, we can notice find words 'like', 'enjoy' which actually are positive. So, it is better to use n-gram preferrably bi-gram."
   ]
  },
  {
   "cell_type": "markdown",
   "metadata": {},
   "source": [
    "# Bag of Words"
   ]
  },
  {
   "cell_type": "code",
   "execution_count": 37,
   "metadata": {},
   "outputs": [],
   "source": [
    "from sklearn.feature_extraction.text import CountVectorizer    # Importing CountVectorizer library\n",
    "\n",
    "cv = CountVectorizer(ngram_range = (1,2))                      # Creating an instance for CountVectorizer\n",
    "\n",
    "bow = cv.fit_transform(df_1k['Cleaned_Text'])                  # Applying fit_transform on cv"
   ]
  },
  {
   "cell_type": "code",
   "execution_count": 38,
   "metadata": {},
   "outputs": [
    {
     "name": "stdout",
     "output_type": "stream",
     "text": [
      "Type of bow  <class 'scipy.sparse.csr.csr_matrix'>\n",
      "Shape of bow  (1000, 36316)\n",
      "Number of unique words in bow  36316\n",
      "\n",
      "First 50 words in bag of words: ['aa', 'aa unroast', 'abandon', 'abandon smell', 'abdomin', 'abdomin cramp', 'abil', 'abil assembl', 'abil choos', 'abil make', 'abil tast', 'abl', 'abl buy', 'abl chew', 'abl enjoy', 'abl find', 'abl finish', 'abl get', 'abl make', 'abl salvag', 'abl see', 'abl substitut', 'abl take', 'abl tell', 'abl tri', 'abl use', 'absolut', 'absolut best', 'absolut bitter', 'absolut buy', 'absolut delici', 'absolut foul', 'absolut hand', 'absolut hint', 'absolut love', 'absolut nauseat', 'absolut necessari', 'absolut puzzl', 'absolut still', 'absolut tasteless', 'absolut terribl', 'absolut wonder', 'absolutley', 'absolutley amaz', 'absorb', 'absorb flavor', 'absorb system', 'absoult', 'absoult divin', 'abstain']\n"
     ]
    }
   ],
   "source": [
    "print(\"Type of bow \",type(bow))\n",
    "print(\"Shape of bow \",bow.get_shape())\n",
    "print(\"Number of unique words in bow \", bow.get_shape()[1])\n",
    "print()\n",
    "print(\"First 50 words in bag of words:\" + ' ' + str(cv.get_feature_names()[0:50]))"
   ]
  },
  {
   "cell_type": "markdown",
   "metadata": {},
   "source": [
    "# Applying StandardScaler\n",
    "Learnt applying standardscaler from kaggle to get all the data into one scale"
   ]
  },
  {
   "cell_type": "code",
   "execution_count": 39,
   "metadata": {},
   "outputs": [],
   "source": [
    "# Referred this from kaggle: https://www.kaggle.com/premvardhan/amazon-fine-food-review-tsne-visualization\n",
    "\n",
    "from sklearn.preprocessing import StandardScaler\n",
    "\n",
    "sc = StandardScaler(with_mean = False)\n",
    "\n",
    "sc_1k = sc.fit_transform(bow)"
   ]
  },
  {
   "cell_type": "markdown",
   "metadata": {},
   "source": [
    "# T-SNE on bag of words"
   ]
  },
  {
   "cell_type": "code",
   "execution_count": 40,
   "metadata": {},
   "outputs": [],
   "source": [
    "from sklearn.manifold import TSNE     # Importing TSNE library\n",
    "\n",
    "tsne = TSNE(n_components = 2, perplexity = 30, learning_rate = 200, random_state = 0)"
   ]
  },
  {
   "cell_type": "code",
   "execution_count": 41,
   "metadata": {},
   "outputs": [
    {
     "name": "stdout",
     "output_type": "stream",
     "text": [
      "Type of scaled matrix: <class 'scipy.sparse.csr.csr_matrix'> \n",
      "\n"
     ]
    }
   ],
   "source": [
    "print(\"Type of scaled matrix:\" + ' ' + str(type(sc_1k)), '\\n')"
   ]
  },
  {
   "cell_type": "markdown",
   "metadata": {},
   "source": [
    "# Observation:\n",
    "We see that bag of words is sparse matrix and T-SNE doesn't take sparse matrix. We need to convert it to dense matrix"
   ]
  },
  {
   "cell_type": "code",
   "execution_count": 42,
   "metadata": {},
   "outputs": [
    {
     "name": "stdout",
     "output_type": "stream",
     "text": [
      "Type of bow after converting to dense matrix: <class 'numpy.matrixlib.defmatrix.matrix'>\n"
     ]
    }
   ],
   "source": [
    "bow_dense = sc_1k.todense()\n",
    "\n",
    "print(\"Type of bow after converting to dense matrix:\" + ' ' + str(type(bow_dense)))"
   ]
  },
  {
   "cell_type": "markdown",
   "metadata": {},
   "source": [
    "Fit and transform the tsne bow."
   ]
  },
  {
   "cell_type": "code",
   "execution_count": 43,
   "metadata": {},
   "outputs": [
    {
     "name": "stdout",
     "output_type": "stream",
     "text": [
      "shape of bow before fit_transform: (1000, 36316) \n",
      "\n",
      "shape of bow after fit_transform: (1000, 2)\n"
     ]
    }
   ],
   "source": [
    "tsne_bow = tsne.fit_transform(bow_dense)\n",
    "\n",
    "label = df_1k['Score']\n",
    "\n",
    "print(\"shape of bow before fit_transform:\" + ' ' + str(bow.shape), '\\n')\n",
    "\n",
    "print(\"shape of bow after fit_transform:\" + ' ' + str(tsne_bow.shape))"
   ]
  },
  {
   "cell_type": "markdown",
   "metadata": {},
   "source": [
    "Stack tsne_bow and label columns vertically.\n",
    "\n",
    "Note: Since shape of tsne_bow is (1000,2) and label is (1000,), we have to apply Transpose in order to stack."
   ]
  },
  {
   "cell_type": "code",
   "execution_count": 44,
   "metadata": {},
   "outputs": [],
   "source": [
    "# Stack tsne_bow and labels columns vertically.\n",
    "\n",
    "stack_bow = np.vstack((tsne_bow.T, label)).T\n",
    "\n",
    "# New dataframe is created using using the stacked data i.e stack.\n",
    "\n",
    "df_bow = pd.DataFrame(data = stack_bow, columns = ('x_bow', 'y_bow', 'label'))"
   ]
  },
  {
   "cell_type": "markdown",
   "metadata": {},
   "source": [
    "Visualizing T-SNE on bag of words"
   ]
  },
  {
   "cell_type": "code",
   "execution_count": 45,
   "metadata": {},
   "outputs": [
    {
     "data": {
      "text/plain": [
       "Text(0.5, 1.0, 'T-SNE on bag of words')"
      ]
     },
     "execution_count": 45,
     "metadata": {},
     "output_type": "execute_result"
    },
    {
     "data": {
      "text/plain": [
       "<Figure size 720x720 with 0 Axes>"
      ]
     },
     "metadata": {},
     "output_type": "display_data"
    },
    {
     "data": {
      "image/png": "[encoded data removed]",
      "text/plain": [
       "<Figure size 411.875x360 with 1 Axes>"
      ]
     },
     "metadata": {
      "needs_background": "light"
     },
     "output_type": "display_data"
    }
   ],
   "source": [
    "plt.figure(figsize = (10,10))\n",
    "f = sns.FacetGrid(df_bow, hue = 'label', size = 5)\n",
    "f.map(plt.scatter, 'x_bow', 'y_bow')\n",
    "f.add_legend()\n",
    "plt.title('T-SNE on bag of words')"
   ]
  },
  {
   "cell_type": "markdown",
   "metadata": {},
   "source": [
    "# Observation:\n",
    "\n",
    "There are lot many overlaps between positive (1) and negative (0) reviews."
   ]
  },
  {
   "cell_type": "markdown",
   "metadata": {},
   "source": [
    "# TF-IDF"
   ]
  },
  {
   "cell_type": "code",
   "execution_count": 46,
   "metadata": {},
   "outputs": [],
   "source": [
    "from sklearn.feature_extraction.text import TfidfVectorizer\n",
    "\n",
    "tfidf = TfidfVectorizer(ngram_range = (1,2))\n",
    "\n",
    "final_tfidf = tfidf.fit_transform(df_1k['Cleaned_Text'])"
   ]
  },
  {
   "cell_type": "code",
   "execution_count": 47,
   "metadata": {},
   "outputs": [
    {
     "name": "stdout",
     "output_type": "stream",
     "text": [
      "Type of tfidf vectorizer  <class 'scipy.sparse.csr.csr_matrix'>\n",
      "Shape of final_tfidf  (1000, 36316)\n",
      "Number of unique words in final_tfidf 36316\n"
     ]
    }
   ],
   "source": [
    "print(\"Type of tfidf vectorizer \",type(final_tfidf))\n",
    "print(\"Shape of final_tfidf \",final_tfidf.get_shape())\n",
    "print(\"Number of unique words in final_tfidf\", final_tfidf.get_shape()[1])"
   ]
  },
  {
   "cell_type": "code",
   "execution_count": 48,
   "metadata": {},
   "outputs": [
    {
     "name": "stdout",
     "output_type": "stream",
     "text": [
      "First feature: ['aa', 'aa unroast', 'abandon', 'abandon smell', 'abdomin', 'abdomin cramp', 'abil', 'abil assembl', 'abil choos', 'abil make']\n"
     ]
    }
   ],
   "source": [
    "feature = tfidf.get_feature_names()\n",
    "print(\"First feature:\" + ' ' + str(feature[0:10]))"
   ]
  },
  {
   "cell_type": "markdown",
   "metadata": {},
   "source": [
    "# Observation:\n",
    "    \n",
    "We see few unigrams like 'aamazon', 'abandon' and few bigrams like 'aamazon com', 'abandon bone' etc..."
   ]
  },
  {
   "cell_type": "markdown",
   "metadata": {},
   "source": [
    "# Standard Scaler"
   ]
  },
  {
   "cell_type": "code",
   "execution_count": 49,
   "metadata": {},
   "outputs": [],
   "source": [
    "from sklearn.preprocessing import StandardScaler\n",
    "\n",
    "sc = StandardScaler(with_mean = False)\n",
    "\n",
    "tf_sc = sc.fit_transform(final_tfidf)"
   ]
  },
  {
   "cell_type": "markdown",
   "metadata": {},
   "source": [
    "# T-SNE on Tf-Idf"
   ]
  },
  {
   "cell_type": "code",
   "execution_count": 50,
   "metadata": {},
   "outputs": [],
   "source": [
    "from sklearn.manifold import TSNE     # Importing TSNE library\n",
    "\n",
    "tsne = TSNE(n_components = 2, perplexity = 30, learning_rate = 200, random_state = 0)"
   ]
  },
  {
   "cell_type": "code",
   "execution_count": 51,
   "metadata": {},
   "outputs": [
    {
     "name": "stdout",
     "output_type": "stream",
     "text": [
      "Type of scaled matrix: <class 'scipy.sparse.csr.csr_matrix'> \n",
      "\n"
     ]
    }
   ],
   "source": [
    "print(\"Type of scaled matrix:\" + ' ' + str(type(tf_sc)), '\\n')"
   ]
  },
  {
   "cell_type": "markdown",
   "metadata": {},
   "source": [
    "# Observation:\n",
    "We see that tf-idf is sparse matrix and T-SNE doesn't take sparse matrix. We need to convert it to dense matrix"
   ]
  },
  {
   "cell_type": "code",
   "execution_count": 52,
   "metadata": {},
   "outputs": [
    {
     "name": "stdout",
     "output_type": "stream",
     "text": [
      "Type of tf-idf after converting to dense matrix: <class 'numpy.matrixlib.defmatrix.matrix'>\n"
     ]
    }
   ],
   "source": [
    "tf_dense = tf_sc.todense()\n",
    "\n",
    "print(\"Type of tf-idf after converting to dense matrix:\" + ' ' + str(type(tf_dense)))"
   ]
  },
  {
   "cell_type": "markdown",
   "metadata": {},
   "source": [
    "Fit and transform the tf_dense."
   ]
  },
  {
   "cell_type": "code",
   "execution_count": 53,
   "metadata": {},
   "outputs": [
    {
     "name": "stdout",
     "output_type": "stream",
     "text": [
      "shape of tfidf before fit_transform: (1000, 36316) \n",
      "\n",
      "shape of tfidf after fit_transform: (1000, 2)\n"
     ]
    }
   ],
   "source": [
    "tsne_tf = tsne.fit_transform(tf_dense)\n",
    "\n",
    "label = df_1k['Score']\n",
    "\n",
    "print(\"shape of tfidf before fit_transform:\" + ' ' + str(final_tfidf.shape), '\\n')\n",
    "\n",
    "print(\"shape of tfidf after fit_transform:\" + ' ' + str(tsne_tf.shape))"
   ]
  },
  {
   "cell_type": "code",
   "execution_count": 54,
   "metadata": {},
   "outputs": [],
   "source": [
    "# Stack tsne_bow and labels columns vertically.\n",
    "\n",
    "stack_tf = np.vstack((tsne_tf.T, label)).T\n",
    "\n",
    "# New dataframe is created using using the stacked data i.e stack.\n",
    "\n",
    "df_tf = pd.DataFrame(data = stack_tf, columns = ('x_tf', 'y_tf', 'label'))"
   ]
  },
  {
   "cell_type": "code",
   "execution_count": 55,
   "metadata": {},
   "outputs": [
    {
     "data": {
      "text/plain": [
       "Text(0.5, 1.0, 'T-SNE on TFIDF')"
      ]
     },
     "execution_count": 55,
     "metadata": {},
     "output_type": "execute_result"
    },
    {
     "data": {
      "text/plain": [
       "<Figure size 720x720 with 0 Axes>"
      ]
     },
     "metadata": {},
     "output_type": "display_data"
    },
    {
     "data": {
      "image/png": "[encoded data removed]",
      "text/plain": [
       "<Figure size 411.875x360 with 1 Axes>"
      ]
     },
     "metadata": {
      "needs_background": "light"
     },
     "output_type": "display_data"
    }
   ],
   "source": [
    "plt.figure(figsize = (10,10))\n",
    "f = sns.FacetGrid(df_tf, hue = 'label', size = 5)\n",
    "f.map(plt.scatter, 'x_tf', 'y_tf')\n",
    "f.add_legend()\n",
    "plt.title('T-SNE on TFIDF')"
   ]
  },
  {
   "cell_type": "markdown",
   "metadata": {},
   "source": [
    "# Observation:\n",
    "\n",
    "There are lot many overlaps between positive (1) and negative (0) reviews."
   ]
  },
  {
   "cell_type": "markdown",
   "metadata": {},
   "source": [
    "# Word2Vec"
   ]
  },
  {
   "cell_type": "code",
   "execution_count": 56,
   "metadata": {},
   "outputs": [],
   "source": [
    "w2v = []\n",
    "for w in df_1k['Text'].values:\n",
    "    \n",
    "    hl = html(w)\n",
    "    hl = re.sub('[^a-zA-Z]', ' ', hl)\n",
    "    hl = hl.lower()\n",
    "        \n",
    "    w2v.append(hl.split())"
   ]
  },
  {
   "cell_type": "code",
   "execution_count": 57,
   "metadata": {},
   "outputs": [
    {
     "name": "stdout",
     "output_type": "stream",
     "text": [
      "Word2Vec(vocab=1638, size=50, alpha=0.025)\n"
     ]
    }
   ],
   "source": [
    "import gensim\n",
    "\n",
    "w2v_model = gensim.models.Word2Vec(w2v, min_count = 5, size = 50, workers = 4)\n",
    "\n",
    "print(w2v_model)"
   ]
  },
  {
   "cell_type": "code",
   "execution_count": 58,
   "metadata": {},
   "outputs": [
    {
     "name": "stdout",
     "output_type": "stream",
     "text": [
      "Shape of w2v_vocab:  (1638, 50)\n"
     ]
    }
   ],
   "source": [
    "w2v_vocab = w2v_model[w2v_model.wv.vocab]\n",
    "\n",
    "print(\"Shape of w2v_vocab:\" + '  ' + str(w2v_vocab.shape))"
   ]
  },
  {
   "cell_type": "code",
   "execution_count": 59,
   "metadata": {},
   "outputs": [
    {
     "name": "stdout",
     "output_type": "stream",
     "text": [
      "Length of w2v_word: 1638\n"
     ]
    }
   ],
   "source": [
    "w2v_word = list(w2v_model.wv.vocab)\n",
    "\n",
    "print(\"Length of w2v_word:\" + ' ' + str(len(w2v_word)))"
   ]
  },
  {
   "cell_type": "code",
   "execution_count": 60,
   "metadata": {},
   "outputs": [
    {
     "name": "stdout",
     "output_type": "stream",
     "text": [
      "Most similar words for like are: \n",
      "\n"
     ]
    },
    {
     "data": {
      "text/plain": [
       "[('when', 0.9997945427894592),\n",
       " ('salt', 0.9997832775115967),\n",
       " ('but', 0.9997830390930176),\n",
       " ('what', 0.9997774362564087),\n",
       " ('sugar', 0.9997655153274536),\n",
       " ('also', 0.999763548374176),\n",
       " ('add', 0.9997620582580566),\n",
       " ('water', 0.9997599124908447),\n",
       " ('because', 0.9997597336769104),\n",
       " ('that', 0.9997544288635254)]"
      ]
     },
     "execution_count": 60,
     "metadata": {},
     "output_type": "execute_result"
    }
   ],
   "source": [
    "print(\"Most similar words for like are:\", '\\n')\n",
    "w2v_model.wv.most_similar('like')"
   ]
  },
  {
   "cell_type": "markdown",
   "metadata": {},
   "source": [
    "# Avg Word2Vec"
   ]
  },
  {
   "cell_type": "code",
   "execution_count": 61,
   "metadata": {},
   "outputs": [
    {
     "name": "stderr",
     "output_type": "stream",
     "text": [
      "100%|█████████████████████████████████████| 1000/1000 [00:03<00:00, 301.28it/s]\n"
     ]
    }
   ],
   "source": [
    "sentence = [] # avg w2v of sentence/review will be stored in the empty list\n",
    "\n",
    "for sen in tqdm(w2v):\n",
    "    zero = np.zeros(50)  # (50,) matrix which is initial to add to the first w2v of word in a sentence/review\n",
    "    count_div = 0         # Increases by 1 every iteration and divides the w2v the sum of w2v sentence/review\n",
    "    for word in sen:\n",
    "        if word in w2v_word:\n",
    "            vec = w2v_model.wv[word]  # Gets the w2v for each word in a sentence/review\n",
    "            zero += vec              # Sums the w2v of each word in a sentence/review at every iteration\n",
    "            count_div += 1           # Increases by 1 at every iteration\n",
    "    if count_div != 0:\n",
    "        zero /= count_div            # w2v of sentence/review is divided by total number of words in a sentence/review (average w2v)\n",
    "    sentence.append(zero)            # Stores all the avg w2z in an empty list sentence"
   ]
  },
  {
   "cell_type": "code",
   "execution_count": 62,
   "metadata": {},
   "outputs": [
    {
     "name": "stdout",
     "output_type": "stream",
     "text": [
      "Length of sentence: 1000\n",
      "Length of 0 index sentence: 50\n"
     ]
    }
   ],
   "source": [
    "print(\"Length of sentence:\" + ' ' + str(len(sentence)))\n",
    "print(\"Length of 0 index sentence:\" + ' ' + str(len(sentence[0])))"
   ]
  },
  {
   "cell_type": "markdown",
   "metadata": {},
   "source": [
    "# T-SNE on Avg Word2Vec"
   ]
  },
  {
   "cell_type": "code",
   "execution_count": 63,
   "metadata": {},
   "outputs": [],
   "source": [
    "from sklearn.manifold import TSNE     # Importing TSNE library\n",
    "\n",
    "tsne = TSNE(n_components = 2, perplexity = 30, learning_rate = 200, random_state = 0)\n",
    "\n",
    "# Fit and transform\n",
    "avg_tsne = tsne.fit_transform(sentence)"
   ]
  },
  {
   "cell_type": "code",
   "execution_count": 64,
   "metadata": {},
   "outputs": [
    {
     "name": "stdout",
     "output_type": "stream",
     "text": [
      "Type of avg_tsne matrix: <class 'numpy.ndarray'> \n",
      "\n"
     ]
    }
   ],
   "source": [
    "print(\"Type of avg_tsne matrix:\" + ' ' + str(type(avg_tsne)), '\\n')"
   ]
  },
  {
   "cell_type": "code",
   "execution_count": 65,
   "metadata": {},
   "outputs": [],
   "source": [
    "# Stack avg_tsne and label columns vertically.\n",
    "\n",
    "stack_avg_tsne = np.vstack((avg_tsne.T, label)).T\n",
    "\n",
    "# New dataframe is created using using the stacked data i.e stack.\n",
    "\n",
    "df_avg_tsne = pd.DataFrame(data = stack_avg_tsne, columns = ('x_avg_tsne', 'y_avg_tsne', 'label'))"
   ]
  },
  {
   "cell_type": "code",
   "execution_count": 66,
   "metadata": {},
   "outputs": [
    {
     "data": {
      "text/plain": [
       "Text(0.5, 1.0, 'T-SNE Average Word2Vec')"
      ]
     },
     "execution_count": 66,
     "metadata": {},
     "output_type": "execute_result"
    },
    {
     "data": {
      "text/plain": [
       "<Figure size 720x720 with 0 Axes>"
      ]
     },
     "metadata": {},
     "output_type": "display_data"
    },
    {
     "data": {
      "image/png": "[encoded data removed]",
      "text/plain": [
       "<Figure size 411.875x360 with 1 Axes>"
      ]
     },
     "metadata": {
      "needs_background": "light"
     },
     "output_type": "display_data"
    }
   ],
   "source": [
    "plt.figure(figsize = (10,10))\n",
    "f = sns.FacetGrid(df_avg_tsne, hue = 'label', size = 5)\n",
    "f.map(plt.scatter, 'x_avg_tsne', 'y_avg_tsne')\n",
    "f.add_legend()\n",
    "plt.title('T-SNE Average Word2Vec')"
   ]
  },
  {
   "cell_type": "markdown",
   "metadata": {},
   "source": [
    "# Observation:\n",
    "\n",
    "There are lot many overlaps between positive (1) and negative (0) reviews."
   ]
  },
  {
   "cell_type": "markdown",
   "metadata": {},
   "source": [
    "# Tf-Idf Word2Vec"
   ]
  },
  {
   "cell_type": "code",
   "execution_count": 67,
   "metadata": {},
   "outputs": [],
   "source": [
    "tf_model = TfidfVectorizer()\n",
    "\n",
    "tf_idf_matrix = tf_model.fit_transform(df_1k['Cleaned_Text'].values)\n",
    "\n",
    "# we are converting a dictionary with word as a key, and the idf as a value\n",
    "\n",
    "dicti = dict(zip(tf_model.get_feature_names(), list(tf_model.idf_)))\n",
    "\n",
    "tf_feat = tf_model.get_feature_names()"
   ]
  },
  {
   "cell_type": "code",
   "execution_count": 68,
   "metadata": {},
   "outputs": [
    {
     "name": "stderr",
     "output_type": "stream",
     "text": [
      "100%|█████████████████████████████████████| 1000/1000 [00:03<00:00, 281.67it/s]\n"
     ]
    }
   ],
   "source": [
    "tf_sentence = []   # Empty list to store the tfidf-w2v values\n",
    "\n",
    "for tf_sent in tqdm(w2v):\n",
    "    tf_zero = np.zeros(50)     # (50,) matrix which is initial to add to the first w2v of word in a sentence/review\n",
    "    tf_count = 0                # Increases by tfidf value of previous tfidf value for every iteration and divides the sum of tfidf-w2v of sentence/review\n",
    "    for tf_word in tf_sent:\n",
    "        if tf_word in w2v_word:\n",
    "            tf_vec = w2v_model.wv[tf_word]  # Get tfidf_w2v for each word in a sentence/review       \n",
    "            if tf_word in dicti:\n",
    "                # tf_w2v = tf_idf_matrix[row, tf_feat.index(tf_word)]\n",
    "                tf_w2v = dicti[tf_word] * (tf_sent.count(tf_word))/len(tf_sent) \n",
    "                tf_zero += (tf_vec * tf_w2v)    # Increase by tfidf-w2v value for every iteration\n",
    "                tf_count += tf_w2v              # Increase by ifidf value for every iteration\n",
    "    if tf_count != 0:\n",
    "        tf_zero /= tf_count                     # tfidf-w2v of sentence/review is divided by total number of tfidf of words in a sentence/review (tfidf-w2v)\n",
    "    tf_sentence.append(tf_zero)                # Stores all the avg w2z in an empty list sentence"
   ]
  },
  {
   "cell_type": "markdown",
   "metadata": {},
   "source": [
    "# T-SNE on tfidf_w2v"
   ]
  },
  {
   "cell_type": "code",
   "execution_count": 69,
   "metadata": {},
   "outputs": [],
   "source": [
    "from sklearn.manifold import TSNE     # Importing TSNE library\n",
    "\n",
    "tsne = TSNE(n_components = 2, perplexity = 30, learning_rate = 200, random_state = 0)\n",
    "\n",
    "# Fit and transform tf_sentence\n",
    "tf_w2v_tsne = tsne.fit_transform(tf_sentence)"
   ]
  },
  {
   "cell_type": "code",
   "execution_count": 70,
   "metadata": {},
   "outputs": [
    {
     "name": "stdout",
     "output_type": "stream",
     "text": [
      "Type of tf_w2v_tsne matrix: <class 'numpy.ndarray'> \n",
      "\n"
     ]
    }
   ],
   "source": [
    "print(\"Type of tf_w2v_tsne matrix:\" + ' ' + str(type(tf_w2v_tsne)), '\\n')"
   ]
  },
  {
   "cell_type": "code",
   "execution_count": 71,
   "metadata": {},
   "outputs": [],
   "source": [
    "# Stack avg_tsne and label columns vertically.\n",
    "\n",
    "stack_tf_w2v_tsne = np.vstack((tf_w2v_tsne.T, label)).T\n",
    "\n",
    "# New dataframe is created using using the stacked data i.e stack.\n",
    "\n",
    "df_tf_w2v_tsne = pd.DataFrame(data = stack_tf_w2v_tsne, columns = ('x_tf_w2v_tsne', 'y_tf_w2v_tsne', 'label'))"
   ]
  },
  {
   "cell_type": "code",
   "execution_count": 72,
   "metadata": {},
   "outputs": [
    {
     "data": {
      "text/plain": [
       "Text(0.5, 1.0, 'T-SNE TF-IDF Word2Vec')"
      ]
     },
     "execution_count": 72,
     "metadata": {},
     "output_type": "execute_result"
    },
    {
     "data": {
      "text/plain": [
       "<Figure size 720x720 with 0 Axes>"
      ]
     },
     "metadata": {},
     "output_type": "display_data"
    },
    {
     "data": {
      "image/png": "[encoded data removed]",
      "text/plain": [
       "<Figure size 411.875x360 with 1 Axes>"
      ]
     },
     "metadata": {
      "needs_background": "light"
     },
     "output_type": "display_data"
    }
   ],
   "source": [
    "plt.figure(figsize = (10,10))\n",
    "f = sns.FacetGrid(df_tf_w2v_tsne, hue = 'label', size = 5)\n",
    "f.map(plt.scatter, 'x_tf_w2v_tsne', 'y_tf_w2v_tsne')\n",
    "f.add_legend()\n",
    "plt.title('T-SNE TF-IDF Word2Vec')"
   ]
  },
  {
   "cell_type": "markdown",
   "metadata": {},
   "source": [
    "# Observation:\n",
    "\n",
    "There are lot many overlaps between positive (1) and negative (0) reviews"
   ]
  },
  {
   "cell_type": "markdown",
   "metadata": {},
   "source": [
    "# Conclusion:\n",
    "\n",
    "From all T-SNE graphs over bag of words, tf-idf, average-word2vec and tfidf-word2vec, we can see lots of overlap between positive (1) and negative (0) reviews.\n",
    "\n",
    "It is hard to draw a plane/hyperplane to separate positive and negative review."
   ]
  },
  {
   "cell_type": "code",
   "execution_count": null,
   "metadata": {},
   "outputs": [],
   "source": []
  }
 ],
 "metadata": {
  "kernelspec": {
   "display_name": "Python 3",
   "language": "python",
   "name": "python3"
  },
  "language_info": {
   "codemirror_mode": {
    "name": "ipython",
    "version": 3
   },
   "file_extension": ".py",
   "mimetype": "text/x-python",
   "name": "python",
   "nbconvert_exporter": "python",
   "pygments_lexer": "ipython3",
   "version": "3.6.6"
  }
 },
 "nbformat": 4,
 "nbformat_minor": 2
}
