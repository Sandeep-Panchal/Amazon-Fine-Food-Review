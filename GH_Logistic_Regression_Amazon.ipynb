{
 "cells": [
  {
   "cell_type": "markdown",
   "metadata": {},
   "source": [
    "# Logistic Regression on Amzon Fine Food Review\n",
    "\n",
    "# Amazon Fine Food Review is about the reviews of customers on the food.\n",
    "\n",
    "Number of columns: 10\n",
    "Number of rows: 568454\n",
    "Number of reviews: 568454\n",
    "Number of products: 74258\n",
    "Number of users: 256059\n",
    "\n",
    "# Attribute information:\n",
    " \n",
    "1) Id: Number of rows\n",
    "\n",
    "2) ProductId: Unique ID of product \n",
    "\n",
    "3) UserId: User identification number\n",
    "\n",
    "4) ProfileName: User name\n",
    "\n",
    "5) HelpfulnessNumerator: Number of user found the review helpful\n",
    "\n",
    "6) HelpfulnessDenominator: Number of user who found the review helpful or not\n",
    "\n",
    "7) Score: Rating given to the product\n",
    "\n",
    "8) Time: Timestamp at the time of review posted\n",
    "\n",
    "9) Summary: Short version of text review\n",
    "\n",
    "10) Text: Detailed text review\n",
    "\n",
    "# Objective:\n",
    "\n",
    "We need to find if the review is positive (1) or negative (0).\n",
    "\n",
    "We are provided with the score from 1 to 5. Let's assume score 1 & 2 are negative and score 4 & 5 are positive. We are ignoring 3 as it can be considered as neutral."
   ]
  },
  {
   "cell_type": "markdown",
   "metadata": {},
   "source": [
    "# Loading Dataset"
   ]
  },
  {
   "cell_type": "code",
   "execution_count": 813,
   "metadata": {},
   "outputs": [],
   "source": [
    "# Importing libraries\n",
    "\n",
    "import numpy as np\n",
    "import pandas as pd\n",
    "import seaborn as sns\n",
    "import scikitplot as skplt\n",
    "import matplotlib.pyplot as plt\n",
    "%matplotlib inline\n",
    "\n",
    "from time import time\n",
    "\n",
    "# warnings library is to ignore warnings.\n",
    "import warnings\n",
    "warnings.filterwarnings('ignore')"
   ]
  },
  {
   "cell_type": "code",
   "execution_count": 769,
   "metadata": {},
   "outputs": [
    {
     "data": {
      "text/html": [
       "<div>\n",
       "<style scoped>\n",
       "    .dataframe tbody tr th:only-of-type {\n",
       "        vertical-align: middle;\n",
       "    }\n",
       "\n",
       "    .dataframe tbody tr th {\n",
       "        vertical-align: top;\n",
       "    }\n",
       "\n",
       "    .dataframe thead th {\n",
       "        text-align: right;\n",
       "    }\n",
       "</style>\n",
       "<table border=\"1\" class=\"dataframe\">\n",
       "  <thead>\n",
       "    <tr style=\"text-align: right;\">\n",
       "      <th></th>\n",
       "      <th>Id</th>\n",
       "      <th>ProductId</th>\n",
       "      <th>UserId</th>\n",
       "      <th>ProfileName</th>\n",
       "      <th>HelpfulnessNumerator</th>\n",
       "      <th>HelpfulnessDenominator</th>\n",
       "      <th>Score</th>\n",
       "      <th>Time</th>\n",
       "      <th>Summary</th>\n",
       "      <th>Text</th>\n",
       "    </tr>\n",
       "  </thead>\n",
       "  <tbody>\n",
       "    <tr>\n",
       "      <th>0</th>\n",
       "      <td>1</td>\n",
       "      <td>B001E4KFG0</td>\n",
       "      <td>A3SGXH7AUHU8GW</td>\n",
       "      <td>delmartian</td>\n",
       "      <td>1</td>\n",
       "      <td>1</td>\n",
       "      <td>5</td>\n",
       "      <td>1303862400</td>\n",
       "      <td>Good Quality Dog Food</td>\n",
       "      <td>I have bought several of the Vitality canned d...</td>\n",
       "    </tr>\n",
       "    <tr>\n",
       "      <th>1</th>\n",
       "      <td>2</td>\n",
       "      <td>B00813GRG4</td>\n",
       "      <td>A1D87F6ZCVE5NK</td>\n",
       "      <td>dll pa</td>\n",
       "      <td>0</td>\n",
       "      <td>0</td>\n",
       "      <td>1</td>\n",
       "      <td>1346976000</td>\n",
       "      <td>Not as Advertised</td>\n",
       "      <td>Product arrived labeled as Jumbo Salted Peanut...</td>\n",
       "    </tr>\n",
       "    <tr>\n",
       "      <th>2</th>\n",
       "      <td>3</td>\n",
       "      <td>B000LQOCH0</td>\n",
       "      <td>ABXLMWJIXXAIN</td>\n",
       "      <td>Natalia Corres \"Natalia Corres\"</td>\n",
       "      <td>1</td>\n",
       "      <td>1</td>\n",
       "      <td>4</td>\n",
       "      <td>1219017600</td>\n",
       "      <td>\"Delight\" says it all</td>\n",
       "      <td>This is a confection that has been around a fe...</td>\n",
       "    </tr>\n",
       "    <tr>\n",
       "      <th>3</th>\n",
       "      <td>4</td>\n",
       "      <td>B000UA0QIQ</td>\n",
       "      <td>A395BORC6FGVXV</td>\n",
       "      <td>Karl</td>\n",
       "      <td>3</td>\n",
       "      <td>3</td>\n",
       "      <td>2</td>\n",
       "      <td>1307923200</td>\n",
       "      <td>Cough Medicine</td>\n",
       "      <td>If you are looking for the secret ingredient i...</td>\n",
       "    </tr>\n",
       "    <tr>\n",
       "      <th>4</th>\n",
       "      <td>5</td>\n",
       "      <td>B006K2ZZ7K</td>\n",
       "      <td>A1UQRSCLF8GW1T</td>\n",
       "      <td>Michael D. Bigham \"M. Wassir\"</td>\n",
       "      <td>0</td>\n",
       "      <td>0</td>\n",
       "      <td>5</td>\n",
       "      <td>1350777600</td>\n",
       "      <td>Great taffy</td>\n",
       "      <td>Great taffy at a great price.  There was a wid...</td>\n",
       "    </tr>\n",
       "  </tbody>\n",
       "</table>\n",
       "</div>"
      ],
      "text/plain": [
       "   Id   ProductId          UserId                      ProfileName  \\\n",
       "0   1  B001E4KFG0  A3SGXH7AUHU8GW                       delmartian   \n",
       "1   2  B00813GRG4  A1D87F6ZCVE5NK                           dll pa   \n",
       "2   3  B000LQOCH0   ABXLMWJIXXAIN  Natalia Corres \"Natalia Corres\"   \n",
       "3   4  B000UA0QIQ  A395BORC6FGVXV                             Karl   \n",
       "4   5  B006K2ZZ7K  A1UQRSCLF8GW1T    Michael D. Bigham \"M. Wassir\"   \n",
       "\n",
       "   HelpfulnessNumerator  HelpfulnessDenominator  Score        Time  \\\n",
       "0                     1                       1      5  1303862400   \n",
       "1                     0                       0      1  1346976000   \n",
       "2                     1                       1      4  1219017600   \n",
       "3                     3                       3      2  1307923200   \n",
       "4                     0                       0      5  1350777600   \n",
       "\n",
       "                 Summary                                               Text  \n",
       "0  Good Quality Dog Food  I have bought several of the Vitality canned d...  \n",
       "1      Not as Advertised  Product arrived labeled as Jumbo Salted Peanut...  \n",
       "2  \"Delight\" says it all  This is a confection that has been around a fe...  \n",
       "3         Cough Medicine  If you are looking for the secret ingredient i...  \n",
       "4            Great taffy  Great taffy at a great price.  There was a wid...  "
      ]
     },
     "execution_count": 769,
     "metadata": {},
     "output_type": "execute_result"
    }
   ],
   "source": [
    "# Importing dataset\n",
    "\n",
    "df = pd.read_csv('Reviews.csv')\n",
    "\n",
    "# Displaying first 5 rows\n",
    "df.head()"
   ]
  },
  {
   "cell_type": "markdown",
   "metadata": {},
   "source": [
    "# Data Information"
   ]
  },
  {
   "cell_type": "code",
   "execution_count": 770,
   "metadata": {},
   "outputs": [
    {
     "name": "stdout",
     "output_type": "stream",
     "text": [
      "<class 'pandas.core.frame.DataFrame'>\n",
      "RangeIndex: 568454 entries, 0 to 568453\n",
      "Data columns (total 10 columns):\n",
      "Id                        568454 non-null int64\n",
      "ProductId                 568454 non-null object\n",
      "UserId                    568454 non-null object\n",
      "ProfileName               568438 non-null object\n",
      "HelpfulnessNumerator      568454 non-null int64\n",
      "HelpfulnessDenominator    568454 non-null int64\n",
      "Score                     568454 non-null int64\n",
      "Time                      568454 non-null int64\n",
      "Summary                   568427 non-null object\n",
      "Text                      568454 non-null object\n",
      "dtypes: int64(5), object(5)\n",
      "memory usage: 43.4+ MB\n"
     ]
    }
   ],
   "source": [
    "df.info()"
   ]
  },
  {
   "cell_type": "code",
   "execution_count": 771,
   "metadata": {},
   "outputs": [
    {
     "name": "stdout",
     "output_type": "stream",
     "text": [
      "Number of columns: 10\n",
      "Number of rows: 568454\n",
      "Number of reviews: 568454\n",
      "Number of products: 74258\n",
      "Number of users: 256059\n"
     ]
    }
   ],
   "source": [
    "print('Number of columns:' + ' ' + str(len(df.columns)))\n",
    "print('Number of rows:' + ' ' + str(df['Id'].nunique()))\n",
    "print('Number of reviews:' + ' ' + str(df['Id'].nunique()))\n",
    "print('Number of products:' + ' ' + str(df['ProductId'].nunique()))\n",
    "print('Number of users:' + ' ' + str(df['UserId'].nunique()))"
   ]
  },
  {
   "cell_type": "markdown",
   "metadata": {},
   "source": [
    "# Assign Polarity\n",
    "\n",
    "Let us assign positive (1) to the score 4 and 5\n",
    "\n",
    "Let us assign negative (0) to the score 1 and 2\n",
    "\n",
    "Let us ignore score having 3"
   ]
  },
  {
   "cell_type": "code",
   "execution_count": 772,
   "metadata": {},
   "outputs": [
    {
     "name": "stdout",
     "output_type": "stream",
     "text": [
      "Number of rows before removing score 3: 568454\n",
      "Number of rows after removing score 3: 525814\n"
     ]
    }
   ],
   "source": [
    "# Let us first create a new dataset which doesn't have score 3 and it's respective rows.\n",
    "\n",
    "print('Number of rows before removing score 3:' + ' ' + str(df['Id'].nunique()))\n",
    "\n",
    "df_score = df[df['Score'] != 3]\n",
    "\n",
    "print('Number of rows after removing score 3:' + ' ' + str(df_score['Id'].nunique()))"
   ]
  },
  {
   "cell_type": "code",
   "execution_count": 774,
   "metadata": {},
   "outputs": [],
   "source": [
    "# Defining a function to assign polarity.\n",
    "\n",
    "def scr(sc):\n",
    "    if sc > 3:\n",
    "        return 1\n",
    "    return 0"
   ]
  },
  {
   "cell_type": "code",
   "execution_count": 775,
   "metadata": {},
   "outputs": [
    {
     "name": "stdout",
     "output_type": "stream",
     "text": [
      "Number of positive (1) and negative (0) reviews\n"
     ]
    },
    {
     "data": {
      "text/plain": [
       "1    443777\n",
       "0     82037\n",
       "Name: Score, dtype: int64"
      ]
     },
     "execution_count": 775,
     "metadata": {},
     "output_type": "execute_result"
    }
   ],
   "source": [
    "# Calling function to assign polarity using .apply()\n",
    "df_score['Score'] = df_score['Score'].apply(scr)\n",
    "\n",
    "print(\"Number of positive (1) and negative (0) reviews\")\n",
    "\n",
    "df_score['Score'].value_counts()"
   ]
  },
  {
   "cell_type": "markdown",
   "metadata": {},
   "source": [
    "# Exploratory Data Analysis"
   ]
  },
  {
   "cell_type": "code",
   "execution_count": 776,
   "metadata": {},
   "outputs": [
    {
     "data": {
      "text/plain": [
       "<matplotlib.axes._subplots.AxesSubplot at 0x3c705860>"
      ]
     },
     "execution_count": 776,
     "metadata": {},
     "output_type": "execute_result"
    },
    {
     "data": {
      "image/png": "[encoded data removed]",
      "text/plain": [
       "<Figure size 432x288 with 1 Axes>"
      ]
     },
     "metadata": {
      "needs_background": "light"
     },
     "output_type": "display_data"
    }
   ],
   "source": [
    "sns.countplot(df_score['Score'], hue = df_score['Score'])"
   ]
  },
  {
   "cell_type": "markdown",
   "metadata": {},
   "source": [
    "# Observation:\n",
    "\n",
    "As we can see, number of negative reviews are closer to 10k while positive review is more than 400k.\n",
    "\n",
    "Ratio of negative and positive review can be assumed to be ~ 1:4.\n",
    "\n",
    "Also, we can conclude that ~90% of the reviews are positive."
   ]
  },
  {
   "cell_type": "markdown",
   "metadata": {},
   "source": [
    "# Data Cleaning:\n",
    "\n",
    "We have performed few techniques to clean the text and summary data\n",
    "\n",
    "1) Null values removed\n",
    "\n",
    "2) Duplicates removed\n",
    "\n",
    "3) URL links removed\n",
    "\n",
    "4) HTML tags removed\n",
    "\n",
    "5) Stopwords removed\n",
    "\n",
    "6) Stem words obtained\n",
    "\n",
    "7) Converted from short form word to long form word\n",
    "\n",
    "We have already performed above data clearning technique and saved.\n",
    "\n",
    "Importing the clean data."
   ]
  },
  {
   "cell_type": "code",
   "execution_count": 805,
   "metadata": {},
   "outputs": [
    {
     "name": "stdout",
     "output_type": "stream",
     "text": [
      "<class 'pandas.core.frame.DataFrame'>\n",
      "Int64Index: 364149 entries, 150523 to 327600\n",
      "Data columns (total 12 columns):\n",
      "Id                        364149 non-null int64\n",
      "ProductId                 364149 non-null object\n",
      "UserId                    364149 non-null object\n",
      "ProfileName               364149 non-null object\n",
      "HelpfulnessNumerator      364149 non-null int64\n",
      "HelpfulnessDenominator    364149 non-null int64\n",
      "Score                     364149 non-null int64\n",
      "Time                      364149 non-null int64\n",
      "Summary                   364149 non-null object\n",
      "Text                      364149 non-null object\n",
      "Clean_Text                364149 non-null object\n",
      "Clean_Summary             364149 non-null object\n",
      "dtypes: int64(5), object(7)\n",
      "memory usage: 36.1+ MB\n"
     ]
    }
   ],
   "source": [
    "df_clean = pd.read_csv('Amazon_Final_time.csv')\n",
    "\n",
    "df_clean = df_clean.dropna()\n",
    "\n",
    "df_clean.info()"
   ]
  },
  {
   "cell_type": "code",
   "execution_count": 806,
   "metadata": {},
   "outputs": [
    {
     "name": "stdout",
     "output_type": "stream",
     "text": [
      "Data percentage reduced to  64.05999999999999\n"
     ]
    }
   ],
   "source": [
    "percentage_red = np.round((df_clean.shape[0]/df.shape[0]),5)*100\n",
    "print(\"Data percentage reduced to \", percentage_red)"
   ]
  },
  {
   "cell_type": "code",
   "execution_count": 809,
   "metadata": {},
   "outputs": [
    {
     "data": {
      "text/plain": [
       "<matplotlib.axes._subplots.AxesSubplot at 0x6119b400>"
      ]
     },
     "execution_count": 809,
     "metadata": {},
     "output_type": "execute_result"
    },
    {
     "data": {
      "image/png": "[encoded data removed]",
      "text/plain": [
       "<Figure size 432x288 with 2 Axes>"
      ]
     },
     "metadata": {
      "needs_background": "light"
     },
     "output_type": "display_data"
    }
   ],
   "source": [
    "sns.heatmap(df_clean.isnull())"
   ]
  },
  {
   "cell_type": "markdown",
   "metadata": {},
   "source": [
    "# Observation:\n",
    "    \n",
    "There are no null values now. We are good to go to proceed with vectorization"
   ]
  },
  {
   "cell_type": "markdown",
   "metadata": {},
   "source": [
    "# 100k dataframe\n",
    "\n",
    "Picking up random 100k samples from the dataset"
   ]
  },
  {
   "cell_type": "code",
   "execution_count": 851,
   "metadata": {},
   "outputs": [
    {
     "name": "stdout",
     "output_type": "stream",
     "text": [
      "Shape of sample dataframe is  (100000, 12)\n",
      "Total number of rows:  100000\n",
      "Total number of columns:  12\n"
     ]
    }
   ],
   "source": [
    "df_100k = df_clean.sample(n = 100000)\n",
    "\n",
    "print(\"Shape of sample dataframe is \", df_100k.shape)\n",
    "print(\"Total number of rows: \", df_100k.shape[0])\n",
    "print(\"Total number of columns: \", df_100k.shape[1])"
   ]
  },
  {
   "cell_type": "markdown",
   "metadata": {},
   "source": [
    "# Time Series Split\n",
    "\n",
    "Since the dataset is based on time series, we need to sort based on time in an ascending order"
   ]
  },
  {
   "cell_type": "code",
   "execution_count": 852,
   "metadata": {},
   "outputs": [],
   "source": [
    "df_sort_100k = df_100k.sort_values('Time', ascending = True)"
   ]
  },
  {
   "cell_type": "code",
   "execution_count": 853,
   "metadata": {},
   "outputs": [
    {
     "name": "stdout",
     "output_type": "stream",
     "text": [
      "(100000,)\n",
      "(100000,)\n"
     ]
    }
   ],
   "source": [
    "x_100k = df_sort_100k['Clean_Text']\n",
    "y_100k = df_sort_100k['Score']\n",
    "\n",
    "print(x_100k.shape)\n",
    "print(y_100k.shape)"
   ]
  },
  {
   "cell_type": "markdown",
   "metadata": {},
   "source": [
    "# Defining function to find the optimal hyperparameter tuning along with best regularization or penalty."
   ]
  },
  {
   "cell_type": "code",
   "execution_count": 854,
   "metadata": {},
   "outputs": [],
   "source": [
    "# Defining function to find the optimal hyperparameter tuning along with best regularization.\n",
    "\n",
    "from sklearn.linear_model import LogisticRegression\n",
    "from sklearn.metrics import roc_auc_score\n",
    "\n",
    "c = [0.00001, 0.0001, 0.001, 0.01, 0.1, 1, 10, 100, 1000, 10000, 100000]\n",
    "\n",
    "def scr(pen, x_train, x_cv, y_train, y_cv):\n",
    "    \n",
    "    auc_cv = []                                            # Stores all auc score of cv\n",
    "    auc_train = []                                         # Stores all auc score of train\n",
    "    \n",
    "    for i in c:\n",
    "        lr = LogisticRegression(penalty = pen, C = i)\n",
    "        lr = lr.fit(x_train, y_train)\n",
    "    \n",
    "    # Get the AUC score for cv\n",
    "        lr_pred_cv = lr.predict_proba(x_cv)[:,1]\n",
    "        lr_auc_cv = roc_auc_score(y_cv, lr_pred_cv)\n",
    "        auc_cv.append(lr_auc_cv)\n",
    "    \n",
    "    # Get the AUC score for train\n",
    "        lr_pred_train = lr.predict_proba(x_train)[:,1]\n",
    "        lr_auc_train = roc_auc_score(y_train, lr_pred_train)\n",
    "        auc_train.append(lr_auc_train)\n",
    "    \n",
    "    scr_cv = [x for x in auc_cv]\n",
    "    opt_cv = c[scr_cv.index(max(scr_cv))]\n",
    "    print(\"Maximum AUC score of CV is:\" + ' ' + str(max(scr_cv)) )\n",
    "    print(\"Corresponding C value of train is:\", opt_cv, '\\n')\n",
    "\n",
    "    scr_train = [x for x in auc_train]\n",
    "    opt_train = c[scr_train.index(max(scr_train))]\n",
    "    print(\"Maximum AUC score of train is:\" + ' ' + str(max(scr_train)) )\n",
    "    print(\"Corresponding C value of train is:\", opt_train, '\\n')\n",
    "    \n",
    "    plt.figure(figsize = (10,6))\n",
    "    \n",
    "    plt.plot(c, scr_cv, label = 'CV curve', marker = 'o', color = 'blue', markerfacecolor = 'g', markersize = '10', alpha = 0.5)\n",
    "    for xy in zip(c, np.round(scr_cv,3)):\n",
    "        plt.annotate('(%s, %s)' % xy, xy=xy, textcoords='data')\n",
    "\n",
    "    plt.plot(c, scr_train, label = 'Train curve', marker = '*', color = 'black', markerfacecolor = 'r', markersize = '10', alpha = 0.5)\n",
    "    for xy in zip(c, np.round(scr_train,3)):\n",
    "        plt.annotate('(%s, %s)' % xy, xy=xy, textcoords='data')\n",
    "    \n",
    "    plt.legend()\n",
    "    plt.xlabel(\"C values\")\n",
    "    plt.ylabel(\"AUC values\")\n",
    "    plt.title(\"C values v/s AUC\")"
   ]
  },
  {
   "cell_type": "markdown",
   "metadata": {},
   "source": [
    "# Defining a funtion to check model performance with ROC curve"
   ]
  },
  {
   "cell_type": "code",
   "execution_count": 855,
   "metadata": {},
   "outputs": [],
   "source": [
    "from sklearn import metrics\n",
    "\n",
    "def mod_per(p, c, train_x, test_x, train_y, test_y):\n",
    "    lr = LogisticRegression(penalty = 'l2', C = 100)\n",
    "    lr = lr.fit(train_x, train_y)\n",
    "    lr_pred = lr.predict_proba(test_x)[:,1]\n",
    "    fpr, tpr, threshold = metrics.roc_curve(test_y, lr_pred)\n",
    "    roc_auc_curve = metrics.auc(fpr, tpr)\n",
    "\n",
    "    plt.title('ROC curve for train and cv')\n",
    "    plt.plot(fpr, tpr, 'b', label = roc_auc_curve)\n",
    "    plt.legend()\n",
    "    plt.plot([0, 1], [0, 1],'r--')\n",
    "\n",
    "    plt.ylabel('True Positive Rate')\n",
    "    plt.xlabel('False Positive Rate')"
   ]
  },
  {
   "cell_type": "markdown",
   "metadata": {},
   "source": [
    "# Split into train and test set"
   ]
  },
  {
   "cell_type": "code",
   "execution_count": 856,
   "metadata": {},
   "outputs": [],
   "source": [
    "# Split into train and test set\n",
    "\n",
    "from sklearn.model_selection import train_test_split\n",
    "\n",
    "x_train, x_test, y_train, y_test = train_test_split(x_100k, y_100k, random_state = 0, shuffle = False, test_size = 0.2)"
   ]
  },
  {
   "cell_type": "markdown",
   "metadata": {},
   "source": [
    "# Bag of Words (BoW)"
   ]
  },
  {
   "cell_type": "code",
   "execution_count": 857,
   "metadata": {},
   "outputs": [],
   "source": [
    "# Import CountVectorizer library\n",
    "from sklearn.feature_extraction.text import CountVectorizer\n",
    "\n",
    "# Create an instance\n",
    "cv = CountVectorizer(ngram_range = (1,2))\n",
    "\n",
    "# Fit and transform x_train set\n",
    "x_train_b_f = cv.fit_transform(x_train)\n",
    "\n",
    "# Transform x_test set\n",
    "x_test_b_f = cv.transform(x_test)"
   ]
  },
  {
   "cell_type": "code",
   "execution_count": 858,
   "metadata": {},
   "outputs": [],
   "source": [
    "# Normalize to bring vectors into same frame\n",
    "# Import normalize library\n",
    "\n",
    "from sklearn.preprocessing import normalize\n",
    "\n",
    "x_train_b_n = normalize(x_train_b_f)\n",
    "\n",
    "x_test_b_n = normalize(x_test_b_f)"
   ]
  },
  {
   "cell_type": "code",
   "execution_count": 859,
   "metadata": {},
   "outputs": [],
   "source": [
    "# Split into train and cv\n",
    "\n",
    "from sklearn.model_selection import train_test_split\n",
    "\n",
    "x_tr_b, x_cv_b, y_tr_b, y_cv_b = train_test_split(x_train_b_n, y_train, random_state = 0, shuffle = False, test_size = 0.2)"
   ]
  },
  {
   "cell_type": "markdown",
   "metadata": {},
   "source": [
    "# Find best penalty and hyperparameter"
   ]
  },
  {
   "cell_type": "code",
   "execution_count": null,
   "metadata": {},
   "outputs": [],
   "source": [
    "print('*'*25)\n",
    "print(\"With penalty as l1 norm\")\n",
    "print('*'*25, '\\n')\n",
    "scr('l1', x_tr_b, x_cv_b, y_tr_b, y_cv_b)\n",
    "\n",
    "print('*'*25)\n",
    "print(\"With penalty as l2 norm\")\n",
    "print('*'*25, '\\n')\n",
    "scr('l2', x_tr_b, x_cv_b, y_tr_b, y_cv_b)"
   ]
  },
  {
   "cell_type": "markdown",
   "metadata": {},
   "source": [
    "# Observation:\n",
    "\n",
    "With respect to CV, high AUC score is 95.3 with penalty 'l2' and hyperparameter 10.\n",
    "Wit respect to train, high AUC score is 100 with penalty 'l1' and 'l2' and hyperparameter 100.\n",
    "\n",
    "But AUC 100% might lead to overfitting. So, we will consider penalty 'l2' and hyperparameter 100"
   ]
  },
  {
   "cell_type": "markdown",
   "metadata": {},
   "source": [
    "# Model performance on train and cv with ROC curve\n",
    "\n",
    "Calling model performance function"
   ]
  },
  {
   "cell_type": "code",
   "execution_count": 861,
   "metadata": {},
   "outputs": [
    {
     "data": {
      "image/png": "[encoded data removed]",
      "text/plain": [
       "<Figure size 432x288 with 1 Axes>"
      ]
     },
     "metadata": {
      "needs_background": "light"
     },
     "output_type": "display_data"
    }
   ],
   "source": [
    "# Calling model performance function\n",
    "\n",
    "mod_per('l2', 10, x_tr_b, x_cv_b, y_tr_b, y_cv_b)"
   ]
  },
  {
   "cell_type": "markdown",
   "metadata": {},
   "source": [
    "# Observation:\n",
    "    \n",
    "We got 0.953 which 95.3% AUC score. Probability of model in separating positive and negative reply is 95.3%"
   ]
  },
  {
   "cell_type": "markdown",
   "metadata": {},
   "source": [
    "# Applying logistic regression on test data with penalty l2 norm and C 10"
   ]
  },
  {
   "cell_type": "code",
   "execution_count": 862,
   "metadata": {},
   "outputs": [],
   "source": [
    "lr_te_b = LogisticRegression(penalty = 'l2', C = 10)\n",
    "lr_te_b = lr_te_b.fit(x_train_b_n, y_train)\n",
    "pred_te_b = lr_te_b.predict(x_test_b_n)\n",
    "\n",
    "# predict_proba_ for roc_auc_score\n",
    "pred_te_prob_b = lr_te_b.predict_proba(x_test_b_n)[:,1]"
   ]
  },
  {
   "cell_type": "markdown",
   "metadata": {},
   "source": [
    "# Metrics"
   ]
  },
  {
   "cell_type": "code",
   "execution_count": 863,
   "metadata": {},
   "outputs": [
    {
     "name": "stdout",
     "output_type": "stream",
     "text": [
      "ROC AUC score is  0.956 \n",
      "\n",
      "**************************************************\n",
      "f1 score is  0.953 \n",
      "\n",
      "**************************************************\n",
      "Precision score is  0.935 \n",
      "\n",
      "**************************************************\n",
      "ROC AUC Score is  0.973 \n",
      "\n",
      "**************************************************\n",
      "Classification report \n",
      "\n",
      "              precision    recall  f1-score   support\n",
      "\n",
      "           0       0.84      0.68      0.75      3474\n",
      "           1       0.93      0.97      0.95     16526\n",
      "\n",
      "   micro avg       0.92      0.92      0.92     20000\n",
      "   macro avg       0.89      0.82      0.85     20000\n",
      "weighted avg       0.92      0.92      0.92     20000\n",
      "\n",
      "**************************************************\n",
      "Confusion matrix table: \n",
      "\n"
     ]
    },
    {
     "data": {
      "text/plain": [
       "<matplotlib.axes._subplots.AxesSubplot at 0xd43be5c0>"
      ]
     },
     "execution_count": 863,
     "metadata": {},
     "output_type": "execute_result"
    },
    {
     "data": {
      "image/png": "[encoded data removed]",
      "text/plain": [
       "<Figure size 432x288 with 2 Axes>"
      ]
     },
     "metadata": {
      "needs_background": "light"
     },
     "output_type": "display_data"
    }
   ],
   "source": [
    "from sklearn.metrics import confusion_matrix, roc_auc_score, precision_score, recall_score, f1_score, classification_report\n",
    "\n",
    "rab = np.round(roc_auc_score(y_test, pred_te_prob_b),3)\n",
    "print(\"ROC AUC score is \", rab, '\\n')\n",
    "print('*'*50)\n",
    "\n",
    "fb = np.round(f1_score(y_test, pred_te_b),3)\n",
    "print(\"f1 score is \", fb, '\\n')\n",
    "print('*'*50)\n",
    "\n",
    "pb = np.round(precision_score(y_test, pred_te_b),3)\n",
    "print(\"Precision score is \", pb, '\\n')\n",
    "print('*'*50)\n",
    "\n",
    "reb = np.round(recall_score(y_test, pred_te_b),3)\n",
    "print(\"ROC AUC Score is \", reb, '\\n')\n",
    "print('*'*50)\n",
    "\n",
    "print(\"Classification report\", '\\n')\n",
    "print(classification_report(y_test, pred_te_b))\n",
    "print('*'*50)\n",
    "\n",
    "# Referred from: https://scikit-plot.readthedocs.io/en/stable/Quickstart.html\n",
    "print(\"Confusion matrix table:\", '\\n')\n",
    "skplt.metrics.plot_confusion_matrix(y_test, pred_te_b)"
   ]
  },
  {
   "cell_type": "markdown",
   "metadata": {},
   "source": [
    "# ROC curve on train and test"
   ]
  },
  {
   "cell_type": "code",
   "execution_count": 864,
   "metadata": {},
   "outputs": [
    {
     "data": {
      "image/png": "[encoded data removed]",
      "text/plain": [
       "<Figure size 432x288 with 1 Axes>"
      ]
     },
     "metadata": {
      "needs_background": "light"
     },
     "output_type": "display_data"
    }
   ],
   "source": [
    "# Calling model performance function\n",
    "\n",
    "mod_per('l2', 10, x_train_b_n, x_test_b_n, y_train, y_test)"
   ]
  },
  {
   "cell_type": "markdown",
   "metadata": {},
   "source": [
    "# Observation:\n",
    "    \n",
    "Threshold value: 0.5\n",
    "    \n",
    "AUC we got is 0.95 which means the probability of separation of positive and negative review will be ~95% good.\n",
    "\n",
    "Curve represents the ROC while the area under the curve represents the AUC (Area Under Curve)"
   ]
  },
  {
   "cell_type": "markdown",
   "metadata": {},
   "source": [
    "# TF-IDF"
   ]
  },
  {
   "cell_type": "code",
   "execution_count": 865,
   "metadata": {},
   "outputs": [],
   "source": [
    "# Import Tf-Idf\n",
    "from sklearn.feature_extraction.text import TfidfVectorizer\n",
    "\n",
    "# Create an instance\n",
    "tf = TfidfVectorizer(ngram_range = (1,2))\n",
    "\n",
    "# Fit and transform the x_train\n",
    "x_train_tf = tf.fit_transform(x_train)\n",
    "\n",
    "# Transform the x_test\n",
    "x_test_tf = tf.transform(x_test)"
   ]
  },
  {
   "cell_type": "markdown",
   "metadata": {},
   "source": [
    "# Normalization"
   ]
  },
  {
   "cell_type": "code",
   "execution_count": 870,
   "metadata": {},
   "outputs": [
    {
     "name": "stdout",
     "output_type": "stream",
     "text": [
      "Shape of normalized TFIDF train data: (80000, 1108761)\n",
      "Shape of normalized TFIDF test data: (20000, 1108761)\n"
     ]
    }
   ],
   "source": [
    "# Normalize train and test data\n",
    "\n",
    "x_train_tn = normalize(x_train_tf)\n",
    "x_test_tn = normalize(x_test_tf)\n",
    "\n",
    "print(\"Shape of normalized TFIDF train data:\" + ' ' + str(x_train_tn.shape))\n",
    "print(\"Shape of normalized TFIDF test data:\" + ' ' + str(x_test_tn.shape))"
   ]
  },
  {
   "cell_type": "markdown",
   "metadata": {},
   "source": [
    "# Split into train and cv"
   ]
  },
  {
   "cell_type": "code",
   "execution_count": 871,
   "metadata": {},
   "outputs": [],
   "source": [
    "# Split into train and cv\n",
    "\n",
    "x_tr_t, x_cv_t, y_tr_t, y_cv_t = train_test_split(x_train_tn, y_train, random_state = 0, test_size = 0.2, shuffle = False)"
   ]
  },
  {
   "cell_type": "markdown",
   "metadata": {},
   "source": [
    "# Find best penalty and hyperparameter tuning\n",
    "\n",
    "Calling the function 'scr'"
   ]
  },
  {
   "cell_type": "code",
   "execution_count": 872,
   "metadata": {},
   "outputs": [
    {
     "name": "stdout",
     "output_type": "stream",
     "text": [
      "*************************\n",
      "With penalty as l1 norm\n",
      "************************* \n",
      "\n",
      "Maximum AUC score of CV is: 0.9475416248447205\n",
      "Corresponding C value of train is: 10 \n",
      "\n",
      "Maximum AUC score of train is: 1.0\n",
      "Corresponding C value of train is: 100 \n",
      "\n",
      "*************************\n",
      "With penalty as l2 norm\n",
      "************************* \n",
      "\n",
      "Maximum AUC score of CV is: 0.9539565979296066\n",
      "Corresponding C value of train is: 100 \n",
      "\n",
      "Maximum AUC score of train is: 1.0\n",
      "Corresponding C value of train is: 100 \n",
      "\n"
     ]
    },
    {
     "data": {
      "image/png": "[encoded data removed]",
      "text/plain": [
       "<Figure size 720x432 with 1 Axes>"
      ]
     },
     "metadata": {
      "needs_background": "light"
     },
     "output_type": "display_data"
    },
    {
     "data": {
      "image/png": "[encoded data removed]",
      "text/plain": [
       "<Figure size 720x432 with 1 Axes>"
      ]
     },
     "metadata": {
      "needs_background": "light"
     },
     "output_type": "display_data"
    }
   ],
   "source": [
    "# Calling the function 'scr'\n",
    "\n",
    "print('*'*25)\n",
    "print(\"With penalty as l1 norm\")\n",
    "print('*'*25, '\\n')\n",
    "scr('l1', x_tr_t, x_cv_t, y_tr_t, y_cv_t)\n",
    "\n",
    "print('*'*25)\n",
    "print(\"With penalty as l2 norm\")\n",
    "print('*'*25, '\\n')\n",
    "scr('l2', x_tr_t, x_cv_t, y_tr_t, y_cv_t)"
   ]
  },
  {
   "cell_type": "markdown",
   "metadata": {},
   "source": [
    "# Observation:\n",
    "\n",
    "With respect to CV, high AUC score is 95% with penalty 'l2' and hyperparameter 100.\n",
    "Wit respect to train, high AUC score is 100 with penalty 'l1' and 'l2' and hyperparameter 100.\n",
    "\n",
    "But AUC 100% might lead to overfitting. So, we will consider penalty 'l2' and hyperparameter 100."
   ]
  },
  {
   "cell_type": "markdown",
   "metadata": {},
   "source": [
    "# Model performance on train and cv with ROC curve\n",
    "\n",
    "Calling model performance function"
   ]
  },
  {
   "cell_type": "code",
   "execution_count": 873,
   "metadata": {},
   "outputs": [
    {
     "data": {
      "image/png": "[encoded data removed]",
      "text/plain": [
       "<Figure size 432x288 with 1 Axes>"
      ]
     },
     "metadata": {
      "needs_background": "light"
     },
     "output_type": "display_data"
    }
   ],
   "source": [
    "# Calling model performance function\n",
    "\n",
    "mod_per('l2', 100, x_tr_t, x_cv_t, y_tr_t, y_cv_t )"
   ]
  },
  {
   "cell_type": "markdown",
   "metadata": {},
   "source": [
    "# Observation:\n",
    "    \n",
    "We got 0.9539 which 95% AUC score. Probability of model in separating positive and negative reply is 95%"
   ]
  },
  {
   "cell_type": "markdown",
   "metadata": {},
   "source": [
    "# Applying logistic regression on test data with penalty l2 norm and hyperparameter 100"
   ]
  },
  {
   "cell_type": "code",
   "execution_count": 874,
   "metadata": {},
   "outputs": [],
   "source": [
    "lr_te_t = LogisticRegression(penalty = 'l2', C = 100)\n",
    "lr_te_t = lr_te_t.fit(x_train_tn, y_train)\n",
    "pred_te_t = lr_te_t.predict(x_test_tn)\n",
    "\n",
    "# predict_proba_ for roc_auc_score\n",
    "pred_te_prob_t = lr_te_t.predict_proba(x_test_tn)[:,1]"
   ]
  },
  {
   "cell_type": "markdown",
   "metadata": {},
   "source": [
    "# Metrics"
   ]
  },
  {
   "cell_type": "code",
   "execution_count": 875,
   "metadata": {},
   "outputs": [
    {
     "name": "stdout",
     "output_type": "stream",
     "text": [
      "ROC AUC score is  0.958 \n",
      "\n",
      "**************************************************\n",
      "f1 score is  0.954 \n",
      "\n",
      "**************************************************\n",
      "Precision score is  0.935 \n",
      "\n",
      "**************************************************\n",
      "ROC AUC Score is  0.974 \n",
      "\n",
      "**************************************************\n",
      "Classification report \n",
      "\n",
      "              precision    recall  f1-score   support\n",
      "\n",
      "           0       0.85      0.68      0.75      3474\n",
      "           1       0.94      0.97      0.95     16526\n",
      "\n",
      "   micro avg       0.92      0.92      0.92     20000\n",
      "   macro avg       0.89      0.83      0.85     20000\n",
      "weighted avg       0.92      0.92      0.92     20000\n",
      "\n",
      "**************************************************\n",
      "Confusion matrix table: \n",
      "\n"
     ]
    },
    {
     "data": {
      "text/plain": [
       "<matplotlib.axes._subplots.AxesSubplot at 0x21a13128>"
      ]
     },
     "execution_count": 875,
     "metadata": {},
     "output_type": "execute_result"
    },
    {
     "data": {
      "image/png": "[encoded data removed]",
      "text/plain": [
       "<Figure size 432x288 with 2 Axes>"
      ]
     },
     "metadata": {
      "needs_background": "light"
     },
     "output_type": "display_data"
    }
   ],
   "source": [
    "rat = np.round(roc_auc_score(y_test, pred_te_prob_t),3)\n",
    "print(\"ROC AUC score is \", rat, '\\n')\n",
    "print('*'*50)\n",
    "\n",
    "ft = np.round(f1_score(y_test, pred_te_t),3)\n",
    "print(\"f1 score is \", ft, '\\n')\n",
    "print('*'*50)\n",
    "\n",
    "pt = np.round(precision_score(y_test, pred_te_t),3)\n",
    "print(\"Precision score is \", pt, '\\n')\n",
    "print('*'*50)\n",
    "\n",
    "ret = np.round(recall_score(y_test, pred_te_t),3)\n",
    "print(\"ROC AUC Score is \", ret, '\\n')\n",
    "print('*'*50)\n",
    "\n",
    "print(\"Classification report\", '\\n')\n",
    "print(classification_report(y_test, pred_te_t))\n",
    "print('*'*50)\n",
    "\n",
    "# Referred from: https://scikit-plot.readthedocs.io/en/stable/Quickstart.html\n",
    "print(\"Confusion matrix table:\", '\\n')\n",
    "skplt.metrics.plot_confusion_matrix(y_test, pred_te_t)"
   ]
  },
  {
   "cell_type": "markdown",
   "metadata": {},
   "source": [
    "# Model performance on test data\n",
    "\n",
    "Calling model performance function"
   ]
  },
  {
   "cell_type": "code",
   "execution_count": 876,
   "metadata": {},
   "outputs": [
    {
     "data": {
      "image/png": "[encoded data removed]",
      "text/plain": [
       "<Figure size 432x288 with 1 Axes>"
      ]
     },
     "metadata": {
      "needs_background": "light"
     },
     "output_type": "display_data"
    }
   ],
   "source": [
    "# Calling model performance function\n",
    "\n",
    "mod_per('l2', 100, x_train_tn, x_test_tn, y_train, y_test)"
   ]
  },
  {
   "cell_type": "markdown",
   "metadata": {},
   "source": [
    "# Observation:\n",
    "    \n",
    "Threshold value: 0.5\n",
    "    \n",
    "AUC we got is 0.9578 which means the probability of separation of positive and negative review will be ~95.78% good.\n",
    "\n",
    "Curve represents the ROC while the area under the curve represents the AUC (Area Under Curve)"
   ]
  },
  {
   "cell_type": "markdown",
   "metadata": {},
   "source": [
    "# Word2Vec"
   ]
  },
  {
   "cell_type": "code",
   "execution_count": 877,
   "metadata": {},
   "outputs": [],
   "source": [
    "w2v = []\n",
    "for text in df_sort_100k['Clean_Text']:\n",
    "    split = text.split()\n",
    "    w2v.append(split)"
   ]
  },
  {
   "cell_type": "code",
   "execution_count": 878,
   "metadata": {},
   "outputs": [
    {
     "name": "stdout",
     "output_type": "stream",
     "text": [
      "Word2Vec(vocab=13186, size=50, alpha=0.025)\n",
      "Shape of w2v_vocab: (13186, 50)\n",
      "Length of w2v_word: 13186 \n",
      "\n",
      "**************************************************\n",
      "First 10 words from the list of words w2v_word:\n"
     ]
    },
    {
     "data": {
      "text/plain": [
       "['twist',\n",
       " 'captur',\n",
       " 'film',\n",
       " 'star',\n",
       " 'michael',\n",
       " 'keaton',\n",
       " 'geena',\n",
       " 'davi',\n",
       " 'prime',\n",
       " 'tim']"
      ]
     },
     "execution_count": 878,
     "metadata": {},
     "output_type": "execute_result"
    }
   ],
   "source": [
    "# import gensim library\n",
    "import gensim\n",
    "\n",
    "#Create an instance for the genism model\n",
    "w2v_model = gensim.models.Word2Vec(w2v, min_count = 5, size = 50, workers = 4)\n",
    "\n",
    "print(w2v_model)\n",
    "\n",
    "\n",
    "# Creating own corpus vocabulary\n",
    "w2v_vocab = w2v_model[w2v_model.wv.vocab]\n",
    "\n",
    "print(\"Shape of w2v_vocab:\" + ' ' + str(w2v_vocab.shape))\n",
    "\n",
    "\n",
    "# Creating list of words\n",
    "w2v_word = list(w2v_model.wv.vocab)\n",
    "\n",
    "print(\"Length of w2v_word:\" + ' ' + str(len(w2v_word)), '\\n')\n",
    "\n",
    "print('*'*50)\n",
    "\n",
    "print(\"First 10 words from the list of words w2v_word:\")\n",
    "w2v_word[:10]"
   ]
  },
  {
   "cell_type": "code",
   "execution_count": 879,
   "metadata": {},
   "outputs": [
    {
     "data": {
      "text/plain": [
       "[('ador', 0.6973414421081543),\n",
       " ('enjoy', 0.684172511100769),\n",
       " ('awesom', 0.6147879362106323),\n",
       " ('favorit', 0.6041017174720764),\n",
       " ('like', 0.575928270816803),\n",
       " ('terrif', 0.571923553943634),\n",
       " ('yummi', 0.560472846031189),\n",
       " ('great', 0.5565832257270813),\n",
       " ('fabul', 0.5535968542098999),\n",
       " ('fantast', 0.5441645383834839)]"
      ]
     },
     "execution_count": 879,
     "metadata": {},
     "output_type": "execute_result"
    }
   ],
   "source": [
    "# Let's check the most similar words\n",
    "\n",
    "w2v_model.wv.most_similar('love')"
   ]
  },
  {
   "cell_type": "markdown",
   "metadata": {},
   "source": [
    "# Observation:\n",
    "As we can see, .most_similar gives the similar words to the input word along with the percentage of similarity"
   ]
  },
  {
   "cell_type": "markdown",
   "metadata": {},
   "source": [
    "# Average Word2Vec\n",
    "\n",
    "Convert Word2Vec to vectors.\n",
    "\n",
    "Average Word2Vec is nothing but the average of vectors of each word of a given text/review/sentence."
   ]
  },
  {
   "cell_type": "code",
   "execution_count": 880,
   "metadata": {},
   "outputs": [],
   "source": [
    "sentence = [] # avg w2v of sentence/review will be stored in the empty list\n",
    "\n",
    "for sen in w2v:\n",
    "    zero = np.zeros(50)  # (50,) matrix which is initial to add to the first w2v of word in a sentence/review\n",
    "    count_div = 0         # Increases by 1 every iteration and divides the w2v the sum of w2v sentence/review\n",
    "    for word in sen:\n",
    "        if word in w2v_word:\n",
    "            vec = w2v_model.wv[word]  # Gets the w2v for each word in a sentence/review\n",
    "            zero += vec              # Sums the w2v of each word in a sentence/review at every iteration\n",
    "            count_div += 1           # Increases by 1 at every iteration\n",
    "    if count_div != 0:\n",
    "        zero /= count_div            # w2v of sentence/review is divided by total number of words in a sentence/review (average w2v)\n",
    "    sentence.append(zero)            # Stores all the avg w2z in an empty list sentence"
   ]
  },
  {
   "cell_type": "markdown",
   "metadata": {},
   "source": [
    "# Normalization"
   ]
  },
  {
   "cell_type": "code",
   "execution_count": 881,
   "metadata": {},
   "outputs": [
    {
     "name": "stdout",
     "output_type": "stream",
     "text": [
      "Shape of normalized Avg Word2Vec: 100000\n"
     ]
    }
   ],
   "source": [
    "sent_avg_n = normalize(sentence)\n",
    "\n",
    "print(\"Shape of normalized Avg Word2Vec:\" + ' ' + str(len(sent_avg_n)))"
   ]
  },
  {
   "cell_type": "markdown",
   "metadata": {},
   "source": [
    "# Split into train, cv and test"
   ]
  },
  {
   "cell_type": "code",
   "execution_count": 882,
   "metadata": {},
   "outputs": [],
   "source": [
    "#Split into train and test data.\n",
    "\n",
    "x_train_avg, x_test_avg, y_train_avg, y_test_avg = train_test_split(sent_avg_n, y_100k, test_size = 0.2,\n",
    "                                                             random_state = 0, shuffle = False )\n",
    "\n",
    "\n",
    "# Split into train and cv\n",
    "x_tr_avg, x_cv_avg, y_tr_avg, y_cv_avg = train_test_split(x_train_avg, y_train_avg, random_state = 0,\n",
    "                                                          test_size = 0.2, shuffle = False)"
   ]
  },
  {
   "cell_type": "markdown",
   "metadata": {},
   "source": [
    "# Find best penalty and hyperparameter\n",
    "\n",
    "Calling 'scr' function"
   ]
  },
  {
   "cell_type": "code",
   "execution_count": 883,
   "metadata": {},
   "outputs": [
    {
     "name": "stdout",
     "output_type": "stream",
     "text": [
      "*************************\n",
      "With penalty as l1 norm\n",
      "************************* \n",
      "\n",
      "Maximum AUC score of CV is: 0.903521285300207\n",
      "Corresponding C value of train is: 1 \n",
      "\n",
      "Maximum AUC score of train is: 0.9076025005899366\n",
      "Corresponding C value of train is: 1 \n",
      "\n",
      "*************************\n",
      "With penalty as l2 norm\n",
      "************************* \n",
      "\n",
      "Maximum AUC score of CV is: 0.9035513374741201\n",
      "Corresponding C value of train is: 1 \n",
      "\n",
      "Maximum AUC score of train is: 0.9076275076431473\n",
      "Corresponding C value of train is: 1 \n",
      "\n"
     ]
    },
    {
     "data": {
      "image/png": "[encoded data removed]",
      "text/plain": [
       "<Figure size 720x432 with 1 Axes>"
      ]
     },
     "metadata": {
      "needs_background": "light"
     },
     "output_type": "display_data"
    },
    {
     "data": {
      "image/png": "[encoded data removed]",
      "text/plain": [
       "<Figure size 720x432 with 1 Axes>"
      ]
     },
     "metadata": {
      "needs_background": "light"
     },
     "output_type": "display_data"
    }
   ],
   "source": [
    "print('*'*25)\n",
    "print(\"With penalty as l1 norm\")\n",
    "print('*'*25, '\\n')\n",
    "scr('l1', x_tr_avg, x_cv_avg, y_tr_avg, y_cv_avg)\n",
    "\n",
    "print('*'*25)\n",
    "print(\"With penalty as l2 norm\")\n",
    "print('*'*25, '\\n')\n",
    "scr('l2', x_tr_avg, x_cv_avg, y_tr_avg, y_cv_avg)"
   ]
  },
  {
   "cell_type": "markdown",
   "metadata": {},
   "source": [
    "# Observation:\n",
    "\n",
    "With respect to CV, high AUC score is ~90% with penalty 'l1' and 'l2' and hyperparameter 1.\n",
    "Wit respect to train, high AUC score is ~90% with penalty 'l1' and 'l2' and hyperparameter 1.\n",
    "\n",
    "we can consider penalty either 'l1' or 'l2' and hyperparameter 1."
   ]
  },
  {
   "cell_type": "markdown",
   "metadata": {},
   "source": [
    "# Model performance on train and cv with ROC curve\n",
    "\n",
    "Calling model performance function"
   ]
  },
  {
   "cell_type": "code",
   "execution_count": 885,
   "metadata": {},
   "outputs": [
    {
     "name": "stdout",
     "output_type": "stream",
     "text": [
      "With penalty as l1 norm and hypperparameter 1\n"
     ]
    },
    {
     "data": {
      "image/png": "[encoded data removed]",
      "text/plain": [
       "<Figure size 432x288 with 1 Axes>"
      ]
     },
     "metadata": {
      "needs_background": "light"
     },
     "output_type": "display_data"
    }
   ],
   "source": [
    "# Calling model performance function\n",
    "\n",
    "print(\"With penalty as l1 norm and hypperparameter 1\")\n",
    "\n",
    "mod_per('l1', 1, x_tr_avg, x_cv_avg, y_tr_avg, y_cv_avg)"
   ]
  },
  {
   "cell_type": "markdown",
   "metadata": {},
   "source": [
    "# Observation:\n",
    "    \n",
    "We got 0.903 which 90% AUC score. Probability of model in separating positive and negative reply is 90%"
   ]
  },
  {
   "cell_type": "markdown",
   "metadata": {},
   "source": [
    "# Applying logistic regression on test data with penalty l1 and hyperparameted 1"
   ]
  },
  {
   "cell_type": "code",
   "execution_count": 886,
   "metadata": {},
   "outputs": [],
   "source": [
    "lr_te_avg = LogisticRegression(penalty = 'l1', C = 1)\n",
    "lr_te_avg = lr_te_avg.fit(x_train_avg, y_train)\n",
    "pred_te_avg = lr_te_avg.predict(x_test_avg)\n",
    "\n",
    "# predict_proba_ for roc_auc_score\n",
    "pred_te_prob_avg = lr_te_avg.predict_proba(x_test_avg)[:,1]"
   ]
  },
  {
   "cell_type": "markdown",
   "metadata": {},
   "source": [
    "# Metrics"
   ]
  },
  {
   "cell_type": "code",
   "execution_count": 887,
   "metadata": {},
   "outputs": [
    {
     "name": "stdout",
     "output_type": "stream",
     "text": [
      "ROC AUC score is  0.907 \n",
      "\n",
      "**************************************************\n",
      "f1 score is  0.932 \n",
      "\n",
      "**************************************************\n",
      "Precision score is  0.904 \n",
      "\n",
      "**************************************************\n",
      "ROC AUC Score is  0.961 \n",
      "\n",
      "**************************************************\n",
      "Classification report \n",
      "\n",
      "              precision    recall  f1-score   support\n",
      "\n",
      "           0       0.74      0.52      0.61      3474\n",
      "           1       0.90      0.96      0.93     16526\n",
      "\n",
      "   micro avg       0.88      0.88      0.88     20000\n",
      "   macro avg       0.82      0.74      0.77     20000\n",
      "weighted avg       0.88      0.88      0.88     20000\n",
      "\n",
      "**************************************************\n",
      "Confusion matrix table: \n",
      "\n"
     ]
    },
    {
     "data": {
      "text/plain": [
       "<matplotlib.axes._subplots.AxesSubplot at 0x22441630>"
      ]
     },
     "execution_count": 887,
     "metadata": {},
     "output_type": "execute_result"
    },
    {
     "data": {
      "image/png": "[encoded data removed]",
      "text/plain": [
       "<Figure size 432x288 with 2 Axes>"
      ]
     },
     "metadata": {
      "needs_background": "light"
     },
     "output_type": "display_data"
    }
   ],
   "source": [
    "ra_avg = np.round(roc_auc_score(y_test_avg, pred_te_prob_avg),3)\n",
    "print(\"ROC AUC score is \", ra_avg, '\\n')\n",
    "print('*'*50)\n",
    "\n",
    "f_avg = np.round(f1_score(y_test_avg, pred_te_avg),3)\n",
    "print(\"f1 score is \", f_avg, '\\n')\n",
    "print('*'*50)\n",
    "\n",
    "p_avg = np.round(precision_score(y_test_avg, pred_te_avg),3)\n",
    "print(\"Precision score is \", p_avg, '\\n')\n",
    "print('*'*50)\n",
    "\n",
    "re_avg = np.round(recall_score(y_test_avg, pred_te_avg),3)\n",
    "print(\"ROC AUC Score is \", re_avg, '\\n')\n",
    "print('*'*50)\n",
    "\n",
    "print(\"Classification report\", '\\n')\n",
    "print(classification_report(y_test_avg, pred_te_avg))\n",
    "print('*'*50)\n",
    "\n",
    "# Referred from: https://scikit-plot.readthedocs.io/en/stable/Quickstart.html\n",
    "print(\"Confusion matrix table:\", '\\n')\n",
    "skplt.metrics.plot_confusion_matrix(y_test_avg, pred_te_avg)"
   ]
  },
  {
   "cell_type": "markdown",
   "metadata": {},
   "source": [
    "# ROC curve on test data\n",
    "\n",
    "Calling model performance function"
   ]
  },
  {
   "cell_type": "code",
   "execution_count": 888,
   "metadata": {},
   "outputs": [
    {
     "data": {
      "image/png": "[encoded data removed]",
      "text/plain": [
       "<Figure size 432x288 with 1 Axes>"
      ]
     },
     "metadata": {
      "needs_background": "light"
     },
     "output_type": "display_data"
    }
   ],
   "source": [
    "# Calling model performance function\n",
    "\n",
    "mod_per('l1', 1, x_train_avg, x_test_avg, y_train_avg, y_test_avg)"
   ]
  },
  {
   "cell_type": "markdown",
   "metadata": {},
   "source": [
    "# Observation:\n",
    "    \n",
    "Threshold value: 0.5\n",
    "    \n",
    "AUC we got is 0.90 which means the probability of separation of positive and negative review will be ~90% good.\n",
    "\n",
    "Curve represents the ROC while the area under the curve represents the AUC (Area Under Curve)"
   ]
  },
  {
   "cell_type": "markdown",
   "metadata": {},
   "source": [
    "# TF-IDF Word2Vec"
   ]
  },
  {
   "cell_type": "code",
   "execution_count": 889,
   "metadata": {},
   "outputs": [],
   "source": [
    "tf_model = TfidfVectorizer()\n",
    "\n",
    "tf_idf_matrix = tf_model.fit_transform(df_sort_100k['Clean_Text'].values)\n",
    "\n",
    "# we are converting a dictionary with word as a key, and the idf as a value\n",
    "\n",
    "dicti = dict(zip(tf_model.get_feature_names(), list(tf_model.idf_)))"
   ]
  },
  {
   "cell_type": "code",
   "execution_count": 890,
   "metadata": {},
   "outputs": [],
   "source": [
    "tf_sentence = []   # Empty list to store the tfidf-w2v values\n",
    "\n",
    "for tf_sent in w2v:\n",
    "    tf_zero = np.zeros(50)     # (50,) matrix which is initial to add to the first w2v of word in a sentence/review\n",
    "    tf_count = 0                # Increases by tfidf value of previous tfidf value for every iteration and divides the sum of tfidf-w2v of sentence/review\n",
    "    for tf_word in tf_sent:\n",
    "        if tf_word in w2v_word:\n",
    "            tf_vec = w2v_model.wv[tf_word]  # Get tfidf_w2v for each word in a sentence/review       \n",
    "            if tf_word in dicti:\n",
    "                # tf_w2v = tf_idf_matrix[row, tf_feat.index(tf_word)]\n",
    "                tf_w2v = dicti[tf_word] * (tf_sent.count(tf_word))/len(tf_sent) \n",
    "                tf_zero += (tf_vec * tf_w2v)    # Increase by tfidf-w2v value for every iteration\n",
    "                tf_count += tf_w2v              # Increase by ifidf value for every iteration\n",
    "    if tf_count != 0:\n",
    "        tf_zero /= tf_count                     # tfidf-w2v of sentence/review is divided by total number of tfidf of words in a sentence/review (tfidf-w2v)\n",
    "    tf_sentence.append(tf_zero)                # Stores all the avg w2z in an empty list sentence"
   ]
  },
  {
   "cell_type": "markdown",
   "metadata": {},
   "source": [
    "# Normalization"
   ]
  },
  {
   "cell_type": "code",
   "execution_count": 891,
   "metadata": {},
   "outputs": [
    {
     "name": "stdout",
     "output_type": "stream",
     "text": [
      "Shape of normalized TF-IDF Word2Vec: 100000\n"
     ]
    }
   ],
   "source": [
    "sent_tw_n = normalize(tf_sentence)\n",
    "\n",
    "print(\"Shape of normalized TF-IDF Word2Vec:\" + ' ' + str(len(sent_tw_n)))"
   ]
  },
  {
   "cell_type": "markdown",
   "metadata": {},
   "source": [
    "# Split into train, cv and test"
   ]
  },
  {
   "cell_type": "code",
   "execution_count": 892,
   "metadata": {},
   "outputs": [],
   "source": [
    "#Split into train and test data.\n",
    "\n",
    "x_train_tw, x_test_tw, y_train_tw, y_test_tw = train_test_split(sent_tw_n, y_100k, test_size = 0.2,\n",
    "                                                             random_state = 0, shuffle = False )\n",
    "\n",
    "\n",
    "# Split into train and cv\n",
    "x_tr_tw, x_cv_tw, y_tr_tw, y_cv_tw = train_test_split(x_train_tw, y_train_tw, random_state = 0,\n",
    "                                                          test_size = 0.2, shuffle = False)"
   ]
  },
  {
   "cell_type": "markdown",
   "metadata": {},
   "source": [
    "# Find best penalty and hyperparameter\n",
    "\n",
    "Calling 'scr' function"
   ]
  },
  {
   "cell_type": "code",
   "execution_count": 893,
   "metadata": {},
   "outputs": [
    {
     "name": "stdout",
     "output_type": "stream",
     "text": [
      "With penalty as l1 norm\n",
      "************************* \n",
      "\n",
      "Maximum AUC score of CV is: 0.8732374923395445\n",
      "Corresponding C value of train is: 10 \n",
      "\n",
      "Maximum AUC score of train is: 0.8805123426166626\n",
      "Corresponding C value of train is: 1 \n",
      "\n",
      "*************************\n",
      "With penalty as l2 norm\n",
      "************************* \n",
      "\n",
      "Maximum AUC score of CV is: 0.8732488612836439\n",
      "Corresponding C value of train is: 1 \n",
      "\n",
      "Maximum AUC score of train is: 0.8805423503061232\n",
      "Corresponding C value of train is: 1 \n",
      "\n"
     ]
    },
    {
     "data": {
      "image/png": "[encoded data removed]",
      "text/plain": [
       "<Figure size 720x432 with 1 Axes>"
      ]
     },
     "metadata": {
      "needs_background": "light"
     },
     "output_type": "display_data"
    },
    {
     "data": {
      "image/png": "[encoded data removed]",
      "text/plain": [
       "<Figure size 720x432 with 1 Axes>"
      ]
     },
     "metadata": {
      "needs_background": "light"
     },
     "output_type": "display_data"
    }
   ],
   "source": [
    "# print('*'*25)\n",
    "print(\"With penalty as l1 norm\")\n",
    "print('*'*25, '\\n')\n",
    "scr('l1', x_tr_tw, x_cv_tw, y_tr_tw, y_cv_tw)\n",
    "\n",
    "print('*'*25)\n",
    "print(\"With penalty as l2 norm\")\n",
    "print('*'*25, '\\n')\n",
    "scr('l2', x_tr_tw, x_cv_tw, y_tr_tw, y_cv_tw)"
   ]
  },
  {
   "cell_type": "markdown",
   "metadata": {},
   "source": [
    "# Observation:\n",
    "\n",
    "With respect to CV, high AUC score is 87 with penalty 'l1' and 'l2' and hyperparameter 10 and 1.\n",
    "\n",
    "Wit respect to train, high AUC score is 88 with penalty 'l1' and 'l2' and hyperparameter 1.\n",
    "\n",
    "we can consider penalty either 'l1' or 'l2' and hyperparameter 1."
   ]
  },
  {
   "cell_type": "markdown",
   "metadata": {},
   "source": [
    "# Model performance on train and cv with ROC curve"
   ]
  },
  {
   "cell_type": "code",
   "execution_count": 898,
   "metadata": {},
   "outputs": [
    {
     "name": "stdout",
     "output_type": "stream",
     "text": [
      "With penalty as l1 norm and hypperparameter 1\n"
     ]
    },
    {
     "data": {
      "image/png": "[encoded data removed]",
      "text/plain": [
       "<Figure size 432x288 with 1 Axes>"
      ]
     },
     "metadata": {
      "needs_background": "light"
     },
     "output_type": "display_data"
    }
   ],
   "source": [
    "# Calling model performance function\n",
    "\n",
    "print(\"With penalty as l1 norm and hypperparameter 1\")\n",
    "\n",
    "mod_per('l1', 1, x_tr_tw, x_cv_tw, y_tr_tw, y_cv_tw)"
   ]
  },
  {
   "cell_type": "markdown",
   "metadata": {},
   "source": [
    "# Observation:\n",
    "    \n",
    "We got 0.87 which 87% AUC score. Probability of model in separating positive and negative reply is 87%"
   ]
  },
  {
   "cell_type": "code",
   "execution_count": 895,
   "metadata": {},
   "outputs": [],
   "source": [
    "lr_te_tw = LogisticRegression(penalty = 'l1', C = 1)\n",
    "lr_te_tw = lr_te_tw.fit(x_train_tw, y_train)\n",
    "pred_te_tw = lr_te_tw.predict(x_test_tw)\n",
    "\n",
    "# predict_proba_ for roc_auc_score\n",
    "pred_te_prob_tw = lr_te_tw.predict_proba(x_test_tw)[:,1]"
   ]
  },
  {
   "cell_type": "code",
   "execution_count": 896,
   "metadata": {},
   "outputs": [
    {
     "name": "stdout",
     "output_type": "stream",
     "text": [
      "ROC AUC score is  0.88 \n",
      "\n",
      "**************************************************\n",
      "f1 score is  0.932 \n",
      "\n",
      "**************************************************\n",
      "Precision score is  0.889 \n",
      "\n",
      "**************************************************\n",
      "ROC AUC Score is  0.965 \n",
      "\n",
      "**************************************************\n",
      "Classification report \n",
      "\n",
      "              precision    recall  f1-score   support\n",
      "\n",
      "           0       0.72      0.43      0.53      3474\n",
      "           1       0.89      0.96      0.93     16526\n",
      "\n",
      "   micro avg       0.87      0.87      0.87     20000\n",
      "   macro avg       0.80      0.69      0.73     20000\n",
      "weighted avg       0.86      0.87      0.86     20000\n",
      "\n",
      "**************************************************\n",
      "Confusion matrix table: \n",
      "\n"
     ]
    },
    {
     "data": {
      "text/plain": [
       "<matplotlib.axes._subplots.AxesSubplot at 0x3d137780>"
      ]
     },
     "execution_count": 896,
     "metadata": {},
     "output_type": "execute_result"
    },
    {
     "data": {
      "image/png": "[encoded data removed]",
      "text/plain": [
       "<Figure size 432x288 with 2 Axes>"
      ]
     },
     "metadata": {
      "needs_background": "light"
     },
     "output_type": "display_data"
    }
   ],
   "source": [
    "ra_tw = np.round(roc_auc_score(y_test_tw, pred_te_prob_tw),3)\n",
    "print(\"ROC AUC score is \", ra_tw, '\\n')\n",
    "print('*'*50)\n",
    "\n",
    "f_tw = np.round(f1_score(y_test_tw, pred_te_avg),3)\n",
    "print(\"f1 score is \", f_tw, '\\n')\n",
    "print('*'*50)\n",
    "\n",
    "p_tw = np.round(precision_score(y_test_tw, pred_te_tw),3)\n",
    "print(\"Precision score is \", p_tw, '\\n')\n",
    "print('*'*50)\n",
    "\n",
    "re_tw = np.round(recall_score(y_test_tw, pred_te_tw),3)\n",
    "print(\"ROC AUC Score is \", re_tw, '\\n')\n",
    "print('*'*50)\n",
    "\n",
    "print(\"Classification report\", '\\n')\n",
    "print(classification_report(y_test_tw, pred_te_tw))\n",
    "print('*'*50)\n",
    "\n",
    "# Referred from: https://scikit-plot.readthedocs.io/en/stable/Quickstart.html\n",
    "print(\"Confusion matrix table:\", '\\n')\n",
    "skplt.metrics.plot_confusion_matrix(y_test_tw, pred_te_tw)"
   ]
  },
  {
   "cell_type": "markdown",
   "metadata": {},
   "source": [
    "# Model performance on test data\n",
    "\n",
    "Calling model performance function"
   ]
  },
  {
   "cell_type": "code",
   "execution_count": 897,
   "metadata": {},
   "outputs": [
    {
     "data": {
      "image/png": "[encoded data removed]",
      "text/plain": [
       "<Figure size 432x288 with 1 Axes>"
      ]
     },
     "metadata": {
      "needs_background": "light"
     },
     "output_type": "display_data"
    }
   ],
   "source": [
    "# Calling model performance function\n",
    "\n",
    "mod_per('l1', 1, x_train_tw, x_test_tw, y_train_tw, y_test_tw)"
   ]
  },
  {
   "cell_type": "markdown",
   "metadata": {},
   "source": [
    "# Observation:\n",
    "    \n",
    "Threshold value: 0.5\n",
    "    \n",
    "AUC we got is 0.88 which means the probability of separation of positive and negative review will be ~88% good.\n",
    "\n",
    "Curve represents the ROC while the area under the curve represents the AUC (Area Under Curve)"
   ]
  },
  {
   "cell_type": "markdown",
   "metadata": {},
   "source": [
    "# Defining a function to get top 10 positive and negative features\n",
    "\n",
    "Referred from: https://stackoverflow.com/questions/11116697/how-to-get-most-informative-features-for-scikit-learn-classifiers\n",
    "\n",
    "    "
   ]
  },
  {
   "cell_type": "code",
   "execution_count": 899,
   "metadata": {},
   "outputs": [],
   "source": [
    "# Referred from: https://stackoverflow.com/questions/11116697/how-to-get-most-informative-features-for-scikit-learn-classifiers\n",
    "\n",
    "def top_features(vectorizer, lr, n):\n",
    "    \n",
    "    feat = vectorizer.get_feature_names()             # Gets all the feature names from vecotrizer (BOW, TF-IDF)\n",
    "    coef = lr.coef_[0]                               # Gets co-efficients of feature names (BOW, TF-IDF)\n",
    "    fe_co = sorted(zip(coef, feat))                   # Sorts and zips feature names and co-efficients correspondingly\n",
    "    top_feat = zip(fe_co[:(n+1):-1], fe_co[:n])       # Zips all n number of feature names and co-efficients correspondingly\n",
    "    \n",
    "    print(\"\\t  Positive \\t\\t\\t\\t\\t   Negative \\t\\t\")\n",
    "    print('-'*100)\n",
    "    for (fea_1, coe_1), (fea_2, coe_2) in top_feat:              # loop to print n number of features \n",
    "        print(\"\\t%.4f\\t%-15s\\t\\t\\t\\t%.4f\\t%-15s\" % (fea_1, coe_1, fea_2, coe_2))\n",
    "          "
   ]
  },
  {
   "cell_type": "markdown",
   "metadata": {},
   "source": [
    "# Top 10 positive and negative features of BoW\n",
    "\n",
    "Calling top_features function"
   ]
  },
  {
   "cell_type": "code",
   "execution_count": 900,
   "metadata": {},
   "outputs": [
    {
     "name": "stdout",
     "output_type": "stream",
     "text": [
      "Top 10 positive and negative features of TF-IDF \n",
      "\n",
      "\t  Positive \t\t\t\t\t   Negative \t\t\n",
      "----------------------------------------------------------------------------------------------------\n",
      "\t13.6000\tdelici         \t\t\t\t-14.6161\tworst          \n",
      "\t11.4655\thigh recommend \t\t\t\t-13.0355\tdisappoint     \n",
      "\t11.4043\tperfect        \t\t\t\t-12.8788\tterribl        \n",
      "\t10.8988\texcel          \t\t\t\t-12.8641\taw             \n",
      "\t10.1514\tawesom         \t\t\t\t-11.5325\tthrew          \n",
      "\t10.0770\tamaz           \t\t\t\t-11.0855\thorribl        \n",
      "\t9.1893\tworri          \t\t\t\t-10.5799\treturn         \n",
      "\t9.0177\tbest           \t\t\t\t-10.2882\tbland          \n",
      "\t8.7651\tgreat          \t\t\t\t-10.0433\ttasteless      \n",
      "\t8.5321\tyummi          \t\t\t\t-9.9004\tunfortun       \n"
     ]
    }
   ],
   "source": [
    "# Calling top_features function\n",
    "\n",
    "print(\"Top 10 positive and negative features of TF-IDF\", '\\n')\n",
    "\n",
    "top_features(cv, lr_te_b, 10)"
   ]
  },
  {
   "cell_type": "markdown",
   "metadata": {},
   "source": [
    "# Top 10 positive and negative features of TF-IDF\n",
    "\n",
    "Calling top_features function"
   ]
  },
  {
   "cell_type": "code",
   "execution_count": 901,
   "metadata": {},
   "outputs": [
    {
     "name": "stdout",
     "output_type": "stream",
     "text": [
      "Top 10 positive and negative features of TF-IDF \n",
      "\n",
      "\t  Positive \t\t\t\t\t   Negative \t\t\n",
      "----------------------------------------------------------------------------------------------------\n",
      "\t32.3542\tgreat          \t\t\t\t-30.8190\tdisappoint     \n",
      "\t31.5227\tdelici         \t\t\t\t-24.5539\tworst          \n",
      "\t26.3485\tbest           \t\t\t\t-22.4581\tterribl        \n",
      "\t25.2314\tperfect        \t\t\t\t-21.9672\taw             \n",
      "\t24.7881\tlove           \t\t\t\t-20.5699\treturn         \n",
      "\t21.8160\texcel          \t\t\t\t-19.5329\thorribl        \n",
      "\t20.2203\tgood           \t\t\t\t-19.2075\tthrew          \n",
      "\t18.9536\tnice           \t\t\t\t-18.2318\tunfortun       \n",
      "\t18.5835\thigh recommend \t\t\t\t-16.9002\tbland          \n",
      "\t18.2557\tamaz           \t\t\t\t-16.8789\tstale          \n"
     ]
    }
   ],
   "source": [
    "# Calling top_features function\n",
    "\n",
    "print(\"Top 10 positive and negative features of TF-IDF\", '\\n')\n",
    "\n",
    "top_features(tf, lr_te_t, 10)"
   ]
  },
  {
   "cell_type": "markdown",
   "metadata": {},
   "source": [
    "# Pertubation test on BoW\n",
    "\n",
    "Note: Considering penalty l2 and hyperparameter 100 as we got these optimal values from above BoW execution.\n",
    "\n",
    "Referred from: https://github.com/cyanamous/Amazon-Food-Reviews-Analysis-and-Modelling/blob/master/4%20Amazon%20Food%20Reviews%20-%20Logistic%20Regression.ipynb"
   ]
  },
  {
   "cell_type": "code",
   "execution_count": 902,
   "metadata": {},
   "outputs": [
    {
     "name": "stdout",
     "output_type": "stream",
     "text": [
      "Accuracy score before adding noise:  0.9227\n",
      "Number of non-zero weights before adding noise:  1108761\n"
     ]
    }
   ],
   "source": [
    "from sklearn.linear_model import LogisticRegression\n",
    "\n",
    "per = LogisticRegression(penalty = 'l2', C = 100)\n",
    "per = per.fit(x_train_b_n, y_train)\n",
    "per_pred = per.predict(x_test_b_n)\n",
    "\n",
    "\n",
    "from sklearn.metrics import accuracy_score\n",
    "\n",
    "print(\"Accuracy score before adding noise: \", accuracy_score(y_test, per_pred))\n",
    "print(\"Number of non-zero weights before adding noise: \", np.count_nonzero(per.coef_))"
   ]
  },
  {
   "cell_type": "code",
   "execution_count": 903,
   "metadata": {},
   "outputs": [
    {
     "name": "stdout",
     "output_type": "stream",
     "text": [
      "Weights before adding noise: \n",
      "\n",
      "[ 8.55880515e-01  7.63620797e-04  2.75429604e-02  4.09628244e-02\n",
      "  2.74764052e-02 -9.52409204e-01  1.04970642e-01  3.67322556e-02\n",
      "  2.91783120e-01 -2.16624307e-02  2.74764052e-02  2.14518689e-02\n",
      "  8.21755625e-02  2.74764052e-02  3.11493346e-01  8.80649250e-04\n",
      "  3.66477815e-03  1.33542482e-03  8.65165216e-02  5.75227043e-02\n",
      "  1.13617157e+00  5.01611891e-02 -1.82189428e-01  2.39447032e-03\n",
      "  5.54584161e-02  5.02575805e-02 -4.32527142e-01  9.57380886e-01\n",
      "  4.62897534e-02  6.22487608e-02  1.01422456e-01  1.08915099e-01\n",
      "  3.19730414e-02 -2.60665875e-01  5.21696500e-01  1.55084101e-01\n",
      " -1.49111287e+00  1.45425459e-04  1.45425459e-04  1.27605114e-02\n",
      "  1.27605114e-02  2.29985598e-04  2.29985598e-04  5.60780236e-02\n",
      " -1.19328082e-01 -1.19328082e-01  2.61338948e-02  2.61338948e-02\n",
      "  1.04819090e-02  1.04819090e-02]\n"
     ]
    }
   ],
   "source": [
    "# Import sparse library to find the sparsity\n",
    "from scipy.sparse import find\n",
    "\n",
    "#Weights before adding random noise\n",
    "weight = find(per.coef_[0])[2]                             # Returns the non-zero elements of the matrices.\n",
    "print(\"Weights before adding noise:\", '\\n')\n",
    "print(weight[:50])"
   ]
  },
  {
   "cell_type": "markdown",
   "metadata": {},
   "source": [
    "# Adding noise"
   ]
  },
  {
   "cell_type": "code",
   "execution_count": 904,
   "metadata": {},
   "outputs": [],
   "source": [
    "x_tr_noise = x_train_b_n\n",
    "\n",
    "# This will add random noise uniformly as low as -0.0001 and as high as 0.0001 to the size of non-zero elements\n",
    "epsilon = np.random.uniform(low = -0.0001, high = 0.0001, size = (find(x_tr_noise)[0].size,))\n",
    "\n",
    "# Getting the positions(row and column) and value of non-zero datapoints \n",
    "a,b,c = find(x_tr_noise)\n",
    "\n",
    "# Adding random noise to non-zero datapoints\n",
    "x_tr_noise[a,b] = epsilon + x_tr_noise[a,b]"
   ]
  },
  {
   "cell_type": "code",
   "execution_count": 905,
   "metadata": {},
   "outputs": [
    {
     "name": "stdout",
     "output_type": "stream",
     "text": [
      "Accuracy score after adding noise:  0.92265\n",
      "Number of non-zero weights after adding noise:  1108761\n"
     ]
    }
   ],
   "source": [
    "from sklearn.linear_model import LogisticRegression\n",
    "\n",
    "per_noise = LogisticRegression(penalty = 'l2', C = 100)\n",
    "per_noise = per_noise.fit(x_tr_noise, y_train)\n",
    "per_pred_noise = per_noise.predict(x_test_b_n)\n",
    "\n",
    "print(\"Accuracy score after adding noise: \", accuracy_score(y_test, per_pred_noise))\n",
    "print(\"Number of non-zero weights after adding noise: \", np.count_nonzero(per_noise.coef_))"
   ]
  },
  {
   "cell_type": "code",
   "execution_count": 906,
   "metadata": {},
   "outputs": [
    {
     "name": "stdout",
     "output_type": "stream",
     "text": [
      "Weights after adding noise: \n",
      "\n",
      "[ 8.51906109e-01  7.71367302e-04  2.74868235e-02  4.06612239e-02\n",
      "  2.72762286e-02 -9.52287522e-01  1.05060955e-01  3.66715391e-02\n",
      "  2.91442520e-01 -2.15374042e-02  2.72763683e-02  2.14152140e-02\n",
      "  8.21872428e-02  2.73070367e-02  3.11718890e-01  8.69201654e-04\n",
      "  3.57602859e-03  1.36020388e-03  8.65989943e-02  5.73196140e-02\n",
      "  1.13437072e+00  5.05210264e-02 -1.82000109e-01  2.39309680e-03\n",
      "  5.54549362e-02  5.03463232e-02 -4.33261139e-01  9.55481697e-01\n",
      "  4.58647396e-02  6.17833907e-02  1.01153690e-01  1.08994604e-01\n",
      "  3.23141994e-02 -2.60831469e-01  5.21121274e-01  1.54845011e-01\n",
      " -1.49292536e+00  1.48530170e-04  1.48361127e-04  1.27402387e-02\n",
      "  1.27268957e-02  2.40448213e-04  2.40628348e-04  5.62791882e-02\n",
      " -1.19448667e-01 -1.19379272e-01  2.62156524e-02  2.62027887e-02\n",
      "  1.03638678e-02  1.03751723e-02]\n"
     ]
    }
   ],
   "source": [
    "from scipy.sparse import find\n",
    "\n",
    "#Weights before adding random noise\n",
    "weight_noise = find(per_noise.coef_[0])[2]                      # Returns the non-zero elements of the matrices.\n",
    "print(\"Weights after adding noise:\", '\\n')\n",
    "print(weight_noise[:50])"
   ]
  },
  {
   "cell_type": "code",
   "execution_count": 910,
   "metadata": {},
   "outputs": [
    {
     "data": {
      "text/plain": [
       "array([ 0.00464365,  0.01014444,  0.00203816, ...,  0.01041574,\n",
       "       -0.00272603, -0.00271802])"
      ]
     },
     "execution_count": 910,
     "metadata": {},
     "output_type": "execute_result"
    }
   ],
   "source": [
    "# Weight difference before and after adding noise\n",
    "\n",
    "weight_diff = (abs(weight - weight_noise)/weight)\n",
    "\n",
    "weight_diff"
   ]
  },
  {
   "cell_type": "markdown",
   "metadata": {},
   "source": [
    "# Defining a function to get the weight difference percentile"
   ]
  },
  {
   "cell_type": "code",
   "execution_count": 911,
   "metadata": {},
   "outputs": [],
   "source": [
    "def per(wt, n):\n",
    "    \n",
    "    for i in n:\n",
    "        p = np.percentile(wt, i)\n",
    "        print(str(i) + \"th\", \"percentile is  \" + str(p))"
   ]
  },
  {
   "cell_type": "code",
   "execution_count": 912,
   "metadata": {},
   "outputs": [
    {
     "name": "stdout",
     "output_type": "stream",
     "text": [
      "0th percentile is  -160.77859884145244\n",
      "10th percentile is  -0.0015614997882824888\n",
      "20th percentile is  -0.00025000429989968203\n",
      "30th percentile is  0.00042626778687510314\n",
      "40th percentile is  0.0010359422486206269\n",
      "50th percentile is  0.0017692291407854224\n",
      "60th percentile is  0.0027674294401870956\n",
      "70th percentile is  0.004304150064178948\n",
      "80th percentile is  0.007123937481651043\n",
      "90th percentile is  0.01448643698379418\n",
      "100th percentile is  338.91345536019566\n"
     ]
    }
   ],
   "source": [
    "# Calling per function to check percentile for 0, 10, ...90, 100\n",
    "\n",
    "per(weight_diff, range(0,101,10))"
   ]
  },
  {
   "cell_type": "markdown",
   "metadata": {},
   "source": [
    "# Observation:\n",
    "    \n",
    "From the above, we can see that there is a sudden rise in percentage change (from 0.014 to 338.91) in between 90th and 100th percentile.\n",
    "\n",
    "Now let's check percentile change from 90 to 100 and check for sudden rise"
   ]
  },
  {
   "cell_type": "code",
   "execution_count": 913,
   "metadata": {},
   "outputs": [
    {
     "name": "stdout",
     "output_type": "stream",
     "text": [
      "90th percentile is  0.01448643698379418\n",
      "91th percentile is  0.016011091150119332\n",
      "92th percentile is  0.01778663419660246\n",
      "93th percentile is  0.019953782522846047\n",
      "94th percentile is  0.022669714394885188\n",
      "95th percentile is  0.02621838777620734\n",
      "96th percentile is  0.03126862016681974\n",
      "97th percentile is  0.03849014165332166\n",
      "98th percentile is  0.05252617866180675\n",
      "99th percentile is  0.0847716082139659\n",
      "100th percentile is  338.91345536019566\n"
     ]
    }
   ],
   "source": [
    "# Calling per function to check percentile for 90,91, ...99, 100\n",
    "\n",
    "per(weight_diff, range(90,101,1))"
   ]
  },
  {
   "cell_type": "markdown",
   "metadata": {},
   "source": [
    "# Observation:\n",
    "    \n",
    "We can see that from 99 to 100 there is sudden rise in percentile change i.e from 0.084 to 338.91.\n",
    "\n",
    "Now we will check for percentile change in between 99 and 100 i.e 99.1, 99.2, .... 99.9, 100."
   ]
  },
  {
   "cell_type": "code",
   "execution_count": 914,
   "metadata": {},
   "outputs": [
    {
     "name": "stdout",
     "output_type": "stream",
     "text": [
      "99.1 percentile is  0.09039923578207751\n",
      "99.2 percentile is  0.09686621263677322\n",
      "99.3 percentile is  0.10632738501642303\n",
      "99.4 percentile is  0.12082224656409113\n",
      "99.5 percentile is  0.13539878078064504\n",
      "99.6 percentile is  0.15768231825191842\n",
      "99.7 percentile is  0.1883108869883948\n",
      "99.8 percentile is  0.23844823784586944\n",
      "99.9 percentile is  0.40533475568005556\n",
      "100 percentile is  338.91345536019566\n"
     ]
    }
   ],
   "source": [
    "print(\"99.1 percentile is  \" + str(np.percentile(weight_diff, 99.1)))\n",
    "print(\"99.2 percentile is  \" + str(np.percentile(weight_diff, 99.2)))\n",
    "print(\"99.3 percentile is  \" + str(np.percentile(weight_diff, 99.3)))\n",
    "print(\"99.4 percentile is  \" + str(np.percentile(weight_diff, 99.4)))\n",
    "print(\"99.5 percentile is  \" + str(np.percentile(weight_diff, 99.5)))\n",
    "print(\"99.6 percentile is  \" + str(np.percentile(weight_diff, 99.6)))\n",
    "print(\"99.7 percentile is  \" + str(np.percentile(weight_diff, 99.7)))\n",
    "print(\"99.8 percentile is  \" + str(np.percentile(weight_diff, 99.8)))\n",
    "print(\"99.9 percentile is  \" + str(np.percentile(weight_diff, 99.9)))\n",
    "print(\"100 percentile is  \" + str(np.percentile(weight_diff, 100)))"
   ]
  },
  {
   "cell_type": "markdown",
   "metadata": {},
   "source": [
    "# Observation:\n",
    "\n",
    "We can see, sudden rise happens from 99.9 to 100th percentile i.e from 0.405 to 338.91\n",
    "\n",
    "We can conclude that 0.1% of features have hugh weight difference and highly correlated or multi-collinear."
   ]
  },
  {
   "cell_type": "markdown",
   "metadata": {},
   "source": [
    "# Getting features after the sudden rise percentile i.e 99.9\n",
    "\n",
    "In order to get the feature names at a particular percentile, we need to keep the track of indices of weights. To get the indices, we can use argsort() which returns the indices. Then corresponding to these indices, we can get the feature names."
   ]
  },
  {
   "cell_type": "code",
   "execution_count": 915,
   "metadata": {},
   "outputs": [
    {
     "name": "stdout",
     "output_type": "stream",
     "text": [
      "Weight difference:  [ 0.00464365  0.01014444  0.00203816 ...  0.01041574 -0.00272603\n",
      " -0.00271802] \n",
      "\n",
      "Index:   [ 360201  656325  226547 ...  945579 1014585  661107]\n"
     ]
    }
   ],
   "source": [
    "print(\"Weight difference: \", weight_diff, '\\n')\n",
    "\n",
    "# Getting the indices using argsort()\n",
    "index = weight_diff.argsort()\n",
    "print(\"Index:  \", index)"
   ]
  },
  {
   "cell_type": "code",
   "execution_count": 916,
   "metadata": {},
   "outputs": [
    {
     "name": "stdout",
     "output_type": "stream",
     "text": [
      "Feature names from 99.9 to 100th percentile where sudden rise has happened are:  \n",
      "\n",
      "['full flavorand' 'good gfcfsf' 'calori cheaper' 'great crash'\n",
      " 'zipper seal' 'mail day' 'caffein sugar' 'suger' 'treat obsess'\n",
      " 'obsess keep']\n"
     ]
    }
   ],
   "source": [
    "# Since we obtained sudden rise in percentile from 99.9 to 100, we can assume last feature names.\n",
    "# Where sudden rise has happened.\n",
    "\n",
    "feat_name = np.take(cv.get_feature_names(), index[-10:])\n",
    "\n",
    "print(\"Feature names from 99.9 to 100th percentile where sudden rise has happened are: \", '\\n')\n",
    "print(feat_name)"
   ]
  },
  {
   "cell_type": "markdown",
   "metadata": {},
   "source": [
    "# Observation:\n",
    "    \n",
    "We noticed percentile difference between weights before and after adding noise. Features are multi-collinear or co-related."
   ]
  },
  {
   "cell_type": "markdown",
   "metadata": {},
   "source": [
    "# Sparsity on BOW\n",
    "\n",
    "Penalty: l1\n",
    "\n",
    "C: 100\n",
    "\n",
    "We are considering hyperparameter 100 as we got highest AUC score at C 100."
   ]
  },
  {
   "cell_type": "code",
   "execution_count": 917,
   "metadata": {},
   "outputs": [],
   "source": [
    "from sklearn.linear_model import LogisticRegression\n",
    "\n",
    "per_spar = LogisticRegression(penalty = 'l1', C = 100)\n",
    "per_spar = per_spar.fit(x_train_b_n, y_train)\n",
    "per_pred_spar = per_spar.predict(x_test_b_n)"
   ]
  },
  {
   "cell_type": "code",
   "execution_count": 918,
   "metadata": {},
   "outputs": [
    {
     "name": "stdout",
     "output_type": "stream",
     "text": [
      "Sparsity percentage is  98.6161129404804\n"
     ]
    }
   ],
   "source": [
    "# Sparsity can be calculated using coefficients.\n",
    "\n",
    "spar_coef = per_spar.coef_             # Gets the coefficients\n",
    "\n",
    "spar_rav = spar_coef.ravel()           # .ravel() flattens the matrix\n",
    "\n",
    "sparsity = np.mean(spar_rav == 0)*100\n",
    "\n",
    "print(\"Sparsity percentage is \", str(sparsity))"
   ]
  },
  {
   "cell_type": "markdown",
   "metadata": {},
   "source": [
    "# Pretty Table"
   ]
  },
  {
   "cell_type": "code",
   "execution_count": 920,
   "metadata": {},
   "outputs": [
    {
     "name": "stdout",
     "output_type": "stream",
     "text": [
      "+------------------------------------------------------------------------------------------+\n",
      "|                          Summary Table for Logistic Regression                           |\n",
      "+------+-----------------+-------------+---------+---------+-----------+--------+----------+\n",
      "| S.No |    Vectorizer   | Regularizer | C value | ROC AUC | Precision | Recall | f1-score |\n",
      "+------+-----------------+-------------+---------+---------+-----------+--------+----------+\n",
      "|  1   |   Bag of Words  |      l2     |   100   |  0.956  |   0.935   | 0.973  |  0.953   |\n",
      "|  2   |      TF-IDF     |      l2     |   100   |  0.958  |   0.935   | 0.974  |  0.954   |\n",
      "|  3   |   Avg Word2Vec  |      l1     |    1    |  0.907  |   0.904   | 0.961  |  0.932   |\n",
      "|  4   | TF-IDF Word2Vec |      l1     |    1    |   0.88  |   0.889   | 0.965  |  0.932   |\n",
      "+------+-----------------+-------------+---------+---------+-----------+--------+----------+\n"
     ]
    }
   ],
   "source": [
    "from prettytable import PrettyTable\n",
    "\n",
    "a = PrettyTable()\n",
    "\n",
    "\n",
    "a.field_names = [\"S.No\", \"Vectorizer\", \"Regularizer\", \"C value\", \"ROC AUC\", \"Precision\", \"Recall\", \"f1-score\"]\n",
    "\n",
    "a.add_row([ (1), \"Bag of Words\", 'l2', 100, rab, pb, reb, fb])\n",
    "a.add_row([ (2), \"TF-IDF\", 'l2', 100, rat, pt, ret, ft])\n",
    "a.add_row([ (3), \"Avg Word2Vec\", 'l1', 1, ra_avg, p_avg, re_avg, f_avg])\n",
    "a.add_row([ (4), \"TF-IDF Word2Vec\",'l1', 1, ra_tw, p_tw, re_tw, f_tw])\n",
    "\n",
    "print(a.get_string(title = \"Summary Table for Logistic Regression\"))\n"
   ]
  },
  {
   "cell_type": "markdown",
   "metadata": {},
   "source": [
    "# Conclusion"
   ]
  },
  {
   "cell_type": "markdown",
   "metadata": {},
   "source": [
    "# 1) Few features are multi-collinear or correlated\n",
    "\n",
    "2) ROC AUC score: Highest 95.8% for TF-IDF and lowest 88% TF-IDF Word2Vec.\n",
    "\n",
    "3) Precision: Highest 93.5% for BoW & TF-IDF and lowest 88% for TF-IDF Word2Vec.\n",
    "\n",
    "4) Recall: Highest 97.4% for TF-IDF and lowest 96.1% for Avg Word2Vec.\n",
    "\n",
    "5) F1-score: Highest 95.4 for TF-IDF and lowest 93.2% for Avg Word2Vec and TF-IDF Word2Vec.\n",
    "    \n",
    "In all the scores, TF-IDF seems better over other vectorizers. We can assume TF-IDF vectorizer to be best vectorizer."
   ]
  },
  {
   "cell_type": "code",
   "execution_count": null,
   "metadata": {},
   "outputs": [],
   "source": []
  },
  {
   "cell_type": "code",
   "execution_count": null,
   "metadata": {},
   "outputs": [],
   "source": []
  },
  {
   "cell_type": "code",
   "execution_count": null,
   "metadata": {},
   "outputs": [],
   "source": []
  }
 ],
 "metadata": {
  "kernelspec": {
   "display_name": "Python 3",
   "language": "python",
   "name": "python3"
  },
  "language_info": {
   "codemirror_mode": {
    "name": "ipython",
    "version": 3
   },
   "file_extension": ".py",
   "mimetype": "text/x-python",
   "name": "python",
   "nbconvert_exporter": "python",
   "pygments_lexer": "ipython3",
   "version": "3.6.6"
  }
 },
 "nbformat": 4,
 "nbformat_minor": 2
}
