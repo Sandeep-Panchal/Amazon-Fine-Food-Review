{
 "cells": [
  {
   "cell_type": "markdown",
   "metadata": {
    "colab": {},
    "colab_type": "code",
    "id": "Jr4cugH3mZ_X"
   },
   "source": [
    "# LSTM on Amzon Fine Food Review\n",
    "\n",
    "# Amazon Fine Food Review is about the reviews of customers on the food.\n",
    "\n",
    "Number of columns: 10\n",
    "Number of rows: 568454\n",
    "Number of reviews: 568454\n",
    "Number of products: 74258\n",
    "Number of users: 256059\n",
    "\n",
    "# Attribute information:\n",
    " \n",
    "1) Id: Number of rows\n",
    "\n",
    "2) ProductId: Unique ID of product \n",
    "\n",
    "3) UserId: User identification number\n",
    "\n",
    "4) ProfileName: User name\n",
    "\n",
    "5) HelpfulnessNumerator: Number of user found the review helpful\n",
    "\n",
    "6) HelpfulnessDenominator: Number of user who found the review helpful or not\n",
    "\n",
    "7) Score: Rating given to the product\n",
    "\n",
    "8) Time: Timestamp at the time of review posted\n",
    "\n",
    "9) Summary: Short version of text review\n",
    "\n",
    "10) Text: Detailed text review\n",
    "\n",
    "# Objective:\n",
    "\n",
    "We need to find if the review is positive (1) or negative (0).\n",
    "\n",
    "We are provided with the score from 1 to 5. Let's assume score 1 & 2 are negative and score 4 & 5 are positive. We are ignoring 3 as it can be considered as neutral."
   ]
  },
  {
   "cell_type": "markdown",
   "metadata": {
    "colab": {},
    "colab_type": "code",
    "id": "-EUsfBDZVs2z"
   },
   "source": [
    "# Deep Learning\n",
    "\n",
    "Deep learning is a part of machine learning which works in similar fashion as humans. The structural algorithm of deep learning is inspired from the biological neuron of human brain."
   ]
  },
  {
   "cell_type": "markdown",
   "metadata": {},
   "source": [
    "# Recurrent Neural Network\n",
    "\n",
    "In Recurrent Neural Network (RNN), output from previous step are fed as input to the current step. Generally, all the inputs and outputs are independent of each other, but in few cases where we need to predict the next word of a sentence, previous words are required. These cases are dealt with the help of hidden layers. Main feature which makes different from MLP and CNN is the hidden feature which remembers some information about a sequence."
   ]
  },
  {
   "cell_type": "markdown",
   "metadata": {},
   "source": [
    "# Keras\n",
    "\n",
    "Keras is a deep learning library which works on top of tensorflow (researcher's most preferable library). It is easy to program and understand."
   ]
  },
  {
   "cell_type": "code",
   "execution_count": 1,
   "metadata": {
    "colab": {},
    "colab_type": "code",
    "id": "gajKpqI9VtyP"
   },
   "outputs": [],
   "source": [
    "import numpy as np\n",
    "import pandas as pd\n",
    "import matplotlib.pyplot as plt\n",
    "import seaborn as sns\n",
    "%matplotlib inline\n",
    "\n",
    "import warnings\n",
    "warnings.filterwarnings('ignore')"
   ]
  },
  {
   "cell_type": "code",
   "execution_count": 2,
   "metadata": {},
   "outputs": [
    {
     "data": {
      "text/html": [
       "<div>\n",
       "<style scoped>\n",
       "    .dataframe tbody tr th:only-of-type {\n",
       "        vertical-align: middle;\n",
       "    }\n",
       "\n",
       "    .dataframe tbody tr th {\n",
       "        vertical-align: top;\n",
       "    }\n",
       "\n",
       "    .dataframe thead th {\n",
       "        text-align: right;\n",
       "    }\n",
       "</style>\n",
       "<table border=\"1\" class=\"dataframe\">\n",
       "  <thead>\n",
       "    <tr style=\"text-align: right;\">\n",
       "      <th></th>\n",
       "      <th>Id</th>\n",
       "      <th>ProductId</th>\n",
       "      <th>UserId</th>\n",
       "      <th>ProfileName</th>\n",
       "      <th>HelpfulnessNumerator</th>\n",
       "      <th>HelpfulnessDenominator</th>\n",
       "      <th>Score</th>\n",
       "      <th>Time</th>\n",
       "      <th>Summary</th>\n",
       "      <th>Text</th>\n",
       "    </tr>\n",
       "  </thead>\n",
       "  <tbody>\n",
       "    <tr>\n",
       "      <th>0</th>\n",
       "      <td>1</td>\n",
       "      <td>B001E4KFG0</td>\n",
       "      <td>A3SGXH7AUHU8GW</td>\n",
       "      <td>delmartian</td>\n",
       "      <td>1</td>\n",
       "      <td>1</td>\n",
       "      <td>5</td>\n",
       "      <td>1303862400</td>\n",
       "      <td>Good Quality Dog Food</td>\n",
       "      <td>I have bought several of the Vitality canned d...</td>\n",
       "    </tr>\n",
       "    <tr>\n",
       "      <th>1</th>\n",
       "      <td>2</td>\n",
       "      <td>B00813GRG4</td>\n",
       "      <td>A1D87F6ZCVE5NK</td>\n",
       "      <td>dll pa</td>\n",
       "      <td>0</td>\n",
       "      <td>0</td>\n",
       "      <td>1</td>\n",
       "      <td>1346976000</td>\n",
       "      <td>Not as Advertised</td>\n",
       "      <td>Product arrived labeled as Jumbo Salted Peanut...</td>\n",
       "    </tr>\n",
       "    <tr>\n",
       "      <th>2</th>\n",
       "      <td>3</td>\n",
       "      <td>B000LQOCH0</td>\n",
       "      <td>ABXLMWJIXXAIN</td>\n",
       "      <td>Natalia Corres \"Natalia Corres\"</td>\n",
       "      <td>1</td>\n",
       "      <td>1</td>\n",
       "      <td>4</td>\n",
       "      <td>1219017600</td>\n",
       "      <td>\"Delight\" says it all</td>\n",
       "      <td>This is a confection that has been around a fe...</td>\n",
       "    </tr>\n",
       "    <tr>\n",
       "      <th>3</th>\n",
       "      <td>4</td>\n",
       "      <td>B000UA0QIQ</td>\n",
       "      <td>A395BORC6FGVXV</td>\n",
       "      <td>Karl</td>\n",
       "      <td>3</td>\n",
       "      <td>3</td>\n",
       "      <td>2</td>\n",
       "      <td>1307923200</td>\n",
       "      <td>Cough Medicine</td>\n",
       "      <td>If you are looking for the secret ingredient i...</td>\n",
       "    </tr>\n",
       "    <tr>\n",
       "      <th>4</th>\n",
       "      <td>5</td>\n",
       "      <td>B006K2ZZ7K</td>\n",
       "      <td>A1UQRSCLF8GW1T</td>\n",
       "      <td>Michael D. Bigham \"M. Wassir\"</td>\n",
       "      <td>0</td>\n",
       "      <td>0</td>\n",
       "      <td>5</td>\n",
       "      <td>1350777600</td>\n",
       "      <td>Great taffy</td>\n",
       "      <td>Great taffy at a great price.  There was a wid...</td>\n",
       "    </tr>\n",
       "  </tbody>\n",
       "</table>\n",
       "</div>"
      ],
      "text/plain": [
       "   Id   ProductId          UserId                      ProfileName  \\\n",
       "0   1  B001E4KFG0  A3SGXH7AUHU8GW                       delmartian   \n",
       "1   2  B00813GRG4  A1D87F6ZCVE5NK                           dll pa   \n",
       "2   3  B000LQOCH0   ABXLMWJIXXAIN  Natalia Corres \"Natalia Corres\"   \n",
       "3   4  B000UA0QIQ  A395BORC6FGVXV                             Karl   \n",
       "4   5  B006K2ZZ7K  A1UQRSCLF8GW1T    Michael D. Bigham \"M. Wassir\"   \n",
       "\n",
       "   HelpfulnessNumerator  HelpfulnessDenominator  Score        Time  \\\n",
       "0                     1                       1      5  1303862400   \n",
       "1                     0                       0      1  1346976000   \n",
       "2                     1                       1      4  1219017600   \n",
       "3                     3                       3      2  1307923200   \n",
       "4                     0                       0      5  1350777600   \n",
       "\n",
       "                 Summary                                               Text  \n",
       "0  Good Quality Dog Food  I have bought several of the Vitality canned d...  \n",
       "1      Not as Advertised  Product arrived labeled as Jumbo Salted Peanut...  \n",
       "2  \"Delight\" says it all  This is a confection that has been around a fe...  \n",
       "3         Cough Medicine  If you are looking for the secret ingredient i...  \n",
       "4            Great taffy  Great taffy at a great price.  There was a wid...  "
      ]
     },
     "execution_count": 2,
     "metadata": {},
     "output_type": "execute_result"
    }
   ],
   "source": [
    "# Importing dataset\n",
    "\n",
    "dft = pd.read_csv('Reviews.csv')\n",
    "\n",
    "# Displaying first 5 rows\n",
    "dft.head()"
   ]
  },
  {
   "cell_type": "code",
   "execution_count": 4,
   "metadata": {},
   "outputs": [
    {
     "name": "stdout",
     "output_type": "stream",
     "text": [
      "Number of columns: 10\n",
      "Number of rows: 568454\n",
      "Number of reviews: 568454\n",
      "Number of products: 74258\n",
      "Number of users: 256059\n"
     ]
    }
   ],
   "source": [
    "print('Number of columns:' + ' ' + str(len(dft.columns)))\n",
    "print('Number of rows:' + ' ' + str(dft['Id'].nunique()))\n",
    "print('Number of reviews:' + ' ' + str(dft['Id'].nunique()))\n",
    "print('Number of products:' + ' ' + str(dft['ProductId'].nunique()))\n",
    "print('Number of users:' + ' ' + str(dft['UserId'].nunique()))"
   ]
  },
  {
   "cell_type": "markdown",
   "metadata": {},
   "source": [
    "# Assign Polarity\n",
    "\n",
    "Let us assign positive (1) to the score 4 and 5\n",
    "\n",
    "Let us assign negative (0) to the score 1 and 2\n",
    "\n",
    "Let us ignore score having 3"
   ]
  },
  {
   "cell_type": "code",
   "execution_count": 5,
   "metadata": {},
   "outputs": [
    {
     "name": "stdout",
     "output_type": "stream",
     "text": [
      "Number of rows before removing score 3: 568454\n",
      "Number of rows after removing score 3: 525814\n"
     ]
    }
   ],
   "source": [
    "# Let us first create a new dataset which doesn't have score 3 and it's respective rows.\n",
    "\n",
    "print('Number of rows before removing score 3:' + ' ' + str(dft['Id'].nunique()))\n",
    "\n",
    "dft_score = dft[dft['Score'] != 3]\n",
    "\n",
    "print('Number of rows after removing score 3:' + ' ' + str(dft_score['Id'].nunique()))"
   ]
  },
  {
   "cell_type": "code",
   "execution_count": 6,
   "metadata": {},
   "outputs": [],
   "source": [
    "# Defining a function to assign polarity.\n",
    "\n",
    "def scr(sc):\n",
    "    if sc > 3:\n",
    "        return 1\n",
    "    return 0"
   ]
  },
  {
   "cell_type": "code",
   "execution_count": 7,
   "metadata": {},
   "outputs": [
    {
     "name": "stdout",
     "output_type": "stream",
     "text": [
      "Number of positive (1) and negative (0) reviews\n"
     ]
    },
    {
     "data": {
      "text/plain": [
       "1    443777\n",
       "0     82037\n",
       "Name: Score, dtype: int64"
      ]
     },
     "execution_count": 7,
     "metadata": {},
     "output_type": "execute_result"
    }
   ],
   "source": [
    "# Calling function to assign polarity using .apply()\n",
    "dft_score['Score'] = dft_score['Score'].apply(scr)\n",
    "\n",
    "print(\"Number of positive (1) and negative (0) reviews\")\n",
    "\n",
    "dft_score['Score'].value_counts()"
   ]
  },
  {
   "cell_type": "markdown",
   "metadata": {},
   "source": [
    "# Exploratory Data Analysis"
   ]
  },
  {
   "cell_type": "code",
   "execution_count": 8,
   "metadata": {},
   "outputs": [
    {
     "data": {
      "text/plain": [
       "<matplotlib.axes._subplots.AxesSubplot at 0xb4a0208>"
      ]
     },
     "execution_count": 8,
     "metadata": {},
     "output_type": "execute_result"
    },
    {
     "data": {
      "image/png": "[encoded data removed]",
      "text/plain": [
       "<Figure size 432x288 with 1 Axes>"
      ]
     },
     "metadata": {
      "needs_background": "light"
     },
     "output_type": "display_data"
    }
   ],
   "source": [
    "sns.countplot(dft_score['Score'], hue = dft_score['Score'])"
   ]
  },
  {
   "cell_type": "markdown",
   "metadata": {},
   "source": [
    "# Observation:\n",
    "\n",
    "As we can see, number of negative reviews are closer to 10k while positive review is more than 400k.\n",
    "\n",
    "Ratio of negative and positive review can be assumed to be ~ 1:4.\n",
    "\n",
    "Also, we can conclude that ~90% of the reviews are positive."
   ]
  },
  {
   "cell_type": "markdown",
   "metadata": {},
   "source": [
    "# Data Cleaning:\n",
    "\n",
    "We have performed few techniques to clean the text and summary data\n",
    "\n",
    "1) Null values removed\n",
    "\n",
    "2) Duplicates removed\n",
    "\n",
    "3) URL links removed\n",
    "\n",
    "4) HTML tags removed\n",
    "\n",
    "5) Stopwords removed\n",
    "\n",
    "6) Stem words obtained\n",
    "\n",
    "7) Converted from short form word to long form word\n",
    "\n",
    "We have already performed above data clearning technique and saved.\n",
    "\n",
    "Importing the clean data."
   ]
  },
  {
   "cell_type": "markdown",
   "metadata": {},
   "source": [
    " ___ <b>Importing already cleaned data 'Amazon_Final_time.csv'___"
   ]
  },
  {
   "cell_type": "code",
   "execution_count": 3,
   "metadata": {
    "colab": {
     "base_uri": "https://localhost:8080/",
     "height": 122
    },
    "colab_type": "code",
    "id": "qaHe0_yXuGLZ",
    "outputId": "f0c2b75c-ba76-48f9-de91-1100e2e86731"
   },
   "outputs": [
    {
     "name": "stdout",
     "output_type": "stream",
     "text": [
      "Go to this URL in a browser: https://accounts.google.com/o/oauth2/auth?client_id=947318989803-6bn6qk8qdgf4n4g3pfee6491hc0brc4i.apps.googleusercontent.com&redirect_uri=urn%3Aietf%3Awg%3Aoauth%3A2.0%3Aoob&scope=email%20https%3A%2F%2Fwww.googleapis.com%2Fauth%2Fdocs.test%20https%3A%2F%2Fwww.googleapis.com%2Fauth%2Fdrive%20https%3A%2F%2Fwww.googleapis.com%2Fauth%2Fdrive.photos.readonly%20https%3A%2F%2Fwww.googleapis.com%2Fauth%2Fpeopleapi.readonly&response_type=code\n",
      "\n",
      "Enter your authorization code:\n",
      "··········\n",
      "Mounted at /content/drive\n"
     ]
    }
   ],
   "source": [
    "from google.colab import drive\n",
    "drive.mount('/content/drive')"
   ]
  },
  {
   "cell_type": "code",
   "execution_count": 0,
   "metadata": {
    "colab": {},
    "colab_type": "code",
    "id": "46ezEPnlut1o"
   },
   "outputs": [],
   "source": [
    "df = pd.read_csv('drive/My Drive/Decision Tree Folder/Amazon_Final_time.csv')"
   ]
  },
  {
   "cell_type": "code",
   "execution_count": 0,
   "metadata": {
    "colab": {},
    "colab_type": "code",
    "id": "vgk3hh5_bST5"
   },
   "outputs": [],
   "source": [
    "# Removing null values if any\n",
    "\n",
    "df.dropna(inplace = True)"
   ]
  },
  {
   "cell_type": "markdown",
   "metadata": {
    "colab_type": "text",
    "id": "wyP1l_GwWSIT"
   },
   "source": [
    "# Vocabulary of words\n",
    "\n",
    "Creating a dictionary of words where key will be words and values will be count of words\n",
    "\n",
    "Creating vocabulary of words referred from: https://github.com/Manish-12/LSTM-on-amazon-fine-food-reviews/blob/master/LSTM_Amazon.ipynb"
   ]
  },
  {
   "cell_type": "code",
   "execution_count": 0,
   "metadata": {
    "colab": {},
    "colab_type": "code",
    "id": "iyP1-Sctb1CI"
   },
   "outputs": [],
   "source": [
    "voc = dict()\n",
    "\n",
    "for sent in df.Clean_Text.values:\n",
    "  sent = str(sent)\n",
    "  words = sent.split()\n",
    "  for word in words:\n",
    "    if word not in voc.keys():\n",
    "      voc[word] = 1\n",
    "    else:\n",
    "      voc[word] += 1"
   ]
  },
  {
   "cell_type": "markdown",
   "metadata": {
    "colab_type": "text",
    "id": "hPHRZ7E13ikW"
   },
   "source": [
    " ___<b>Sorting vocabulary in descending order<b>___"
   ]
  },
  {
   "cell_type": "code",
   "execution_count": 0,
   "metadata": {
    "colab": {},
    "colab_type": "code",
    "id": "E4yqDnEsagMP"
   },
   "outputs": [],
   "source": [
    "import operator\n",
    "sorted_dict = sorted(voc.items(), key=operator.itemgetter(1),reverse = True)"
   ]
  },
  {
   "cell_type": "markdown",
   "metadata": {
    "colab_type": "text",
    "id": "NpaKTVbf3lqB"
   },
   "source": [
    " ___<b>Getting rank for each word<b>___"
   ]
  },
  {
   "cell_type": "code",
   "execution_count": 0,
   "metadata": {
    "colab": {},
    "colab_type": "code",
    "id": "r5RRkTRzHl3x"
   },
   "outputs": [],
   "source": [
    "ranking = dict()\n",
    "rank = 1\n",
    "for i in range(len(sorted_dict)):\n",
    "    k = sorted_dict[i][0]\n",
    "    ranking[k] = rank\n",
    "    rank += 1"
   ]
  },
  {
   "cell_type": "code",
   "execution_count": 145,
   "metadata": {
    "colab": {
     "base_uri": "https://localhost:8080/",
     "height": 34
    },
    "colab_type": "code",
    "id": "6kYq54KG4Ll-",
    "outputId": "3f781701-5a2d-4142-f754-fe481920b092"
   },
   "outputs": [
    {
     "name": "stdout",
     "output_type": "stream",
     "text": [
      "Total number of words in ranking dictionary: 88938\n"
     ]
    }
   ],
   "source": [
    "print(\"Total number of words in ranking dictionary:\", len(ranking))"
   ]
  },
  {
   "cell_type": "markdown",
   "metadata": {
    "colab_type": "text",
    "id": "PO2PT2fi3t25"
   },
   "source": [
    " ___<b>Assigning ranks to respective words in rows<b>___"
   ]
  },
  {
   "cell_type": "code",
   "execution_count": 0,
   "metadata": {
    "colab": {},
    "colab_type": "code",
    "id": "nT6V077sxvvU"
   },
   "outputs": [],
   "source": [
    "x = []\n",
    "\n",
    "for se in df.Clean_Text.values:\n",
    "    row = []\n",
    "    \n",
    "    for wo in se.split():\n",
    "        row.append(ranking[wo])\n",
    "    x.append(row)"
   ]
  },
  {
   "cell_type": "markdown",
   "metadata": {
    "colab_type": "text",
    "id": "akJ8FSi75RPN"
   },
   "source": [
    " ___<b>Taking 25k rows<b>___"
   ]
  },
  {
   "cell_type": "code",
   "execution_count": 147,
   "metadata": {
    "colab": {
     "base_uri": "https://localhost:8080/",
     "height": 51
    },
    "colab_type": "code",
    "id": "fOYi9Wyr5Szl",
    "outputId": "02c90b85-17a1-4807-abd8-e1e2abd81672"
   },
   "outputs": [
    {
     "name": "stdout",
     "output_type": "stream",
     "text": [
      "Size of x: 25000\n",
      "Size of y: 25000\n"
     ]
    }
   ],
   "source": [
    "x = x[:25000]\n",
    "y = df.Score[:25000]\n",
    "\n",
    "\n",
    "print(\"Size of x:\", len(x))\n",
    "print(\"Size of y:\", len(y))"
   ]
  },
  {
   "cell_type": "markdown",
   "metadata": {
    "colab_type": "text",
    "id": "wekkBza-57-T"
   },
   "source": [
    "# Splitting data into train and test set"
   ]
  },
  {
   "cell_type": "code",
   "execution_count": 0,
   "metadata": {
    "colab": {},
    "colab_type": "code",
    "id": "-ZuRzXlzvh8i"
   },
   "outputs": [],
   "source": [
    "from sklearn.model_selection import train_test_split\n",
    "\n",
    "x_train, x_test, y_train, y_test = train_test_split(x, y, test_size = 0.3, shuffle = False, random_state = 0)"
   ]
  },
  {
   "cell_type": "code",
   "execution_count": 149,
   "metadata": {
    "colab": {
     "base_uri": "https://localhost:8080/",
     "height": 85
    },
    "colab_type": "code",
    "id": "9hrbfb21vHLi",
    "outputId": "86b815d4-7a77-4704-bc5f-72442d87af98"
   },
   "outputs": [
    {
     "name": "stdout",
     "output_type": "stream",
     "text": [
      "Size of x_train: 17500\n",
      "Size of x_test: 7500\n",
      "Size of y_train: 17500\n",
      "Size of y_test: 7500\n"
     ]
    }
   ],
   "source": [
    "print(\"Size of x_train:\", len(x_train))\n",
    "print(\"Size of x_test:\", len(x_test))\n",
    "print(\"Size of y_train:\", len(y_train))\n",
    "print(\"Size of y_test:\", len(y_test))"
   ]
  },
  {
   "cell_type": "markdown",
   "metadata": {
    "colab": {},
    "colab_type": "code",
    "id": "ctqvMY5S7jyM"
   },
   "source": [
    "# Importing Keras libraries"
   ]
  },
  {
   "cell_type": "code",
   "execution_count": 0,
   "metadata": {
    "colab": {},
    "colab_type": "code",
    "id": "V2rYuyiMHmER"
   },
   "outputs": [],
   "source": [
    "from keras.models import Sequential\n",
    "from keras.layers import Dense, Dropout, LSTM\n",
    "from keras.layers.embeddings import Embedding\n",
    "from keras.preprocessing import sequence\n",
    "# fix random seed for reproducibility\n",
    "np.random.seed(7)"
   ]
  },
  {
   "cell_type": "code",
   "execution_count": 151,
   "metadata": {
    "colab": {
     "base_uri": "https://localhost:8080/",
     "height": 122
    },
    "colab_type": "code",
    "id": "eYEE6ts7GAjC",
    "outputId": "90ea7ec9-0cdc-467e-d0a1-5720daa8ce12"
   },
   "outputs": [
    {
     "name": "stdout",
     "output_type": "stream",
     "text": [
      "1st row in x_train: [1043, 230, 13202, 1086, 655, 19, 8168, 1216, 2762, 8, 362, 8, 139, 590, 123, 617, 370, 12226, 105, 211, 3339, 93, 71, 251, 84, 1650, 145] \n",
      "\n",
      "Type of x_train: <class 'list'> \n",
      "\n",
      "Length of x_train: 27\n"
     ]
    }
   ],
   "source": [
    "print(\"1st row in x_train:\", x_train[1], '\\n')\n",
    "print(\"Type of x_train:\", type(x_train[1]), '\\n')\n",
    "print(\"Length of x_train:\", len(x_train[1]))"
   ]
  },
  {
   "cell_type": "markdown",
   "metadata": {
    "colab_type": "text",
    "id": "O9IhFFPh71e9"
   },
   "source": [
    " ___<b>Taking maximum review length of 300<b>___"
   ]
  },
  {
   "cell_type": "code",
   "execution_count": 152,
   "metadata": {
    "colab": {
     "base_uri": "https://localhost:8080/",
     "height": 459
    },
    "colab_type": "code",
    "id": "57N6TyKLH-Pc",
    "outputId": "4d59ddca-055d-4cf4-ceb0-de60ab69c09b"
   },
   "outputs": [
    {
     "name": "stdout",
     "output_type": "stream",
     "text": [
      "(17500, 300)\n",
      "[    0     0     0     0     0     0     0     0     0     0     0     0\n",
      "     0     0     0     0     0     0     0     0     0     0     0     0\n",
      "     0     0     0     0     0     0     0     0     0     0     0     0\n",
      "     0     0     0     0     0     0     0     0     0     0     0     0\n",
      "     0     0     0     0     0     0     0     0     0     0     0     0\n",
      "     0     0     0     0     0     0     0     0     0     0     0     0\n",
      "     0     0     0     0     0     0     0     0     0     0     0     0\n",
      "     0     0     0     0     0     0     0     0     0     0     0     0\n",
      "     0     0     0     0     0     0     0     0     0     0     0     0\n",
      "     0     0     0     0     0     0     0     0     0     0     0     0\n",
      "     0     0     0     0     0     0     0     0     0     0     0     0\n",
      "     0     0     0     0     0     0     0     0     0     0     0     0\n",
      "     0     0     0     0     0     0     0     0     0     0     0     0\n",
      "     0     0     0     0     0     0     0     0     0     0     0     0\n",
      "     0     0     0     0     0     0     0     0     0     0     0     0\n",
      "     0     0     0     0     0     0     0     0     0     0     0     0\n",
      "     0     0     0     0     0     0     0     0     0     0     0     0\n",
      "     0     0     0     0     0     0     0     0     0     0     0     0\n",
      "     0     0     0     0     0     0     0     0     0     0     0     0\n",
      "     0     0     0     0     0     0     0     0     0     0     0     0\n",
      "     0     0     0     0     0     0     0     0     0     0     0     0\n",
      "     0     0     0     0     0     0     0     0     0     0     0     0\n",
      "     0     0     0     0     0     0     0     0     0  1043   230 13202\n",
      "  1086   655    19  8168  1216  2762     8   362     8   139   590   123\n",
      "   617   370 12226   105   211  3339    93    71   251    84  1650   145]\n"
     ]
    }
   ],
   "source": [
    "# truncate and/or pad input sequences\n",
    "max_review_length = 300\n",
    "x_train = sequence.pad_sequences(x_train, maxlen = max_review_length)\n",
    "x_test = sequence.pad_sequences(x_test, maxlen = max_review_length)\n",
    "\n",
    "print(x_train.shape)\n",
    "print(x_train[1])"
   ]
  },
  {
   "cell_type": "markdown",
   "metadata": {
    "colab_type": "text",
    "id": "OUBEj3QLeATj"
   },
   "source": [
    "# Defining 'plt_la' function"
   ]
  },
  {
   "cell_type": "code",
   "execution_count": 0,
   "metadata": {
    "colab": {},
    "colab_type": "code",
    "id": "VE6HlgV2eB3x"
   },
   "outputs": [],
   "source": [
    "# Defining 'plt_la' function\n",
    "\n",
    "# https://gist.github.com/greydanus/f6eee59eaf1d90fcb3b534a25362cea4\n",
    "# https://stackoverflow.com/a/14434334\n",
    "# this function is used to update the plots for each epoch and error\n",
    "\n",
    "def plt_la(x, vy, ty, ax, t, colors=['b']):\n",
    " \n",
    "  if t == 'loss':\n",
    "    ax.plot(x, vy, 'b', label=\"Validation Loss\")\n",
    "    ax.plot(x, ty, 'r', label=\"Train Loss\")\n",
    "    plt.title(\"Epoch vs Loss\")\n",
    "    plt.legend()\n",
    "    plt.grid()\n",
    "  \n",
    "  if t == 'acc':\n",
    "    ax.plot(x, vy, 'b', label=\"Validation Accuracy\")\n",
    "    ax.plot(x, ty, 'r', label=\"Train Accuracy\")\n",
    "    plt.title(\"Epoch vs Accuracy\")\n",
    "    plt.legend()\n",
    "    plt.grid()"
   ]
  },
  {
   "cell_type": "markdown",
   "metadata": {
    "colab_type": "text",
    "id": "_NN17j2qebiS"
   },
   "source": [
    "# Defining a function 'plotting' to visualize epoch vs loss"
   ]
  },
  {
   "cell_type": "code",
   "execution_count": 0,
   "metadata": {
    "colab": {},
    "colab_type": "code",
    "id": "QHhi1MTjeRvj"
   },
   "outputs": [],
   "source": [
    "# Defining a function 'plotting' to visualize epoch vs loss\n",
    "\n",
    "epochs = 10\n",
    "\n",
    "def plotting(history, t):\n",
    "\n",
    "  fig,ax = plt.subplots(1,1)\n",
    "  ax.set_xlabel('epoch') ; ax.set_ylabel('Categorical Crossentropy')\n",
    "\n",
    "  # list of epoch numbers\n",
    "  x = list(range(1,epochs+1))\n",
    "\n",
    "  # print(history.history.keys())\n",
    "  # dict_keys(['val_loss', 'val_acc', 'loss', 'acc'])\n",
    "  # history = model_drop.fit(X_train, Y_train, batch_size=batch_size, epochs=nb_epoch, verbose=1, validation_data=(X_test, Y_test))\n",
    "\n",
    "  # we will get val_loss and val_acc only when you pass the paramter validation_data\n",
    "  # val_loss : validation loss\n",
    "  # val_acc : validation accuracy\n",
    "\n",
    "  # loss : training loss\n",
    "  # acc : train accuracy\n",
    "  # for each key in histrory.histrory we will have a list of length equal to number of epochs\n",
    "  \n",
    "  if t == 'loss':\n",
    "    vy = history.history['val_loss']\n",
    "    ty = history.history['loss']\n",
    "  \n",
    "    plt_la(x, vy, ty, ax, t)\n",
    "    \n",
    "  if t == 'acc':\n",
    "    vy = history.history['val_acc']\n",
    "    ty = history.history['acc']\n",
    "  \n",
    "    plt_la(x, vy, ty, ax, t)\n",
    "  \n",
    "  return vy, ty"
   ]
  },
  {
   "cell_type": "markdown",
   "metadata": {
    "colab": {},
    "colab_type": "code",
    "id": "4MxsY5GT8Gud"
   },
   "source": [
    "# LSTM layer: 1"
   ]
  },
  {
   "cell_type": "code",
   "execution_count": 155,
   "metadata": {
    "colab": {
     "base_uri": "https://localhost:8080/",
     "height": 323
    },
    "colab_type": "code",
    "id": "CquzlqrOIYGn",
    "outputId": "b8ebc336-cd96-4bb6-dc05-103b3b54217a"
   },
   "outputs": [
    {
     "name": "stdout",
     "output_type": "stream",
     "text": [
      "_________________________________________________________________\n",
      "Layer (type)                 Output Shape              Param #   \n",
      "=================================================================\n",
      "embedding_15 (Embedding)     (None, 300, 32)           2846048   \n",
      "_________________________________________________________________\n",
      "dropout_7 (Dropout)          (None, 300, 32)           0         \n",
      "_________________________________________________________________\n",
      "lstm_27 (LSTM)               (None, 100)               53200     \n",
      "_________________________________________________________________\n",
      "dropout_8 (Dropout)          (None, 100)               0         \n",
      "_________________________________________________________________\n",
      "dense_11 (Dense)             (None, 1)                 101       \n",
      "=================================================================\n",
      "Total params: 2,899,349\n",
      "Trainable params: 2,899,349\n",
      "Non-trainable params: 0\n",
      "_________________________________________________________________\n",
      "None\n"
     ]
    }
   ],
   "source": [
    "embedding_vecor_length = 32\n",
    "model_1 = Sequential()\n",
    "model_1.add(Embedding(len(voc.keys())+1, embedding_vecor_length, input_length = max_review_length))\n",
    "model_1.add(Dropout(0.5))\n",
    "\n",
    "# 1 LSTM layer\n",
    "model_1.add(LSTM(100))   # 1 LSTM\n",
    "\n",
    "model_1.add(Dropout(0.5))\n",
    "model_1.add(Dense(1, activation = 'sigmoid'))\n",
    "model_1.compile(loss='binary_crossentropy', optimizer='adam', metrics=['accuracy'])\n",
    "print(model_1.summary())\n",
    "            \n",
    "#Refer: https://datascience.stackexchange.com/questions/10615/number-of-parameters-in-an-lstm-model"
   ]
  },
  {
   "cell_type": "code",
   "execution_count": 156,
   "metadata": {
    "colab": {
     "base_uri": "https://localhost:8080/",
     "height": 391
    },
    "colab_type": "code",
    "id": "A_FT0dPNIeLP",
    "outputId": "c85126aa-8551-4010-e99a-709cc0061eb9"
   },
   "outputs": [
    {
     "name": "stdout",
     "output_type": "stream",
     "text": [
      "Train on 17500 samples, validate on 7500 samples\n",
      "Epoch 1/10\n",
      "17500/17500 [==============================] - 153s 9ms/step - loss: 0.3722 - acc: 0.8585 - val_loss: 0.2639 - val_acc: 0.8916\n",
      "Epoch 2/10\n",
      "17500/17500 [==============================] - 152s 9ms/step - loss: 0.2244 - acc: 0.9154 - val_loss: 0.2579 - val_acc: 0.8959\n",
      "Epoch 3/10\n",
      "17500/17500 [==============================] - 150s 9ms/step - loss: 0.1732 - acc: 0.9357 - val_loss: 0.2987 - val_acc: 0.9031\n",
      "Epoch 4/10\n",
      "17500/17500 [==============================] - 152s 9ms/step - loss: 0.1447 - acc: 0.9463 - val_loss: 0.2710 - val_acc: 0.8917\n",
      "Epoch 5/10\n",
      "17500/17500 [==============================] - 149s 8ms/step - loss: 0.1306 - acc: 0.9540 - val_loss: 0.2841 - val_acc: 0.8963\n",
      "Epoch 6/10\n",
      "17500/17500 [==============================] - 151s 9ms/step - loss: 0.1107 - acc: 0.9617 - val_loss: 0.3055 - val_acc: 0.8949\n",
      "Epoch 7/10\n",
      "17500/17500 [==============================] - 149s 9ms/step - loss: 0.0972 - acc: 0.9656 - val_loss: 0.3097 - val_acc: 0.8896\n",
      "Epoch 8/10\n",
      "17500/17500 [==============================] - 151s 9ms/step - loss: 0.0860 - acc: 0.9703 - val_loss: 0.3382 - val_acc: 0.8899\n",
      "Epoch 9/10\n",
      "17500/17500 [==============================] - 150s 9ms/step - loss: 0.0772 - acc: 0.9745 - val_loss: 0.3991 - val_acc: 0.8871\n",
      "Epoch 10/10\n",
      "17500/17500 [==============================] - 151s 9ms/step - loss: 0.0708 - acc: 0.9761 - val_loss: 0.3777 - val_acc: 0.8936\n",
      "7500/7500 [==============================] - 40s 5ms/step\n"
     ]
    }
   ],
   "source": [
    "history_1 = model_1.fit(x_train, y_train, nb_epoch = 10, batch_size = 64, validation_data = (x_test, y_test))\n",
    "\n",
    "# Final evaluation of the model\n",
    "scores_1 = model_1.evaluate(x_test, y_test, verbose = 1)"
   ]
  },
  {
   "cell_type": "markdown",
   "metadata": {
    "colab_type": "text",
    "id": "jeNrZrtNeofn"
   },
   "source": [
    "# Calling 'plotting' function to visualize epoch vs loss"
   ]
  },
  {
   "cell_type": "code",
   "execution_count": 157,
   "metadata": {
    "colab": {
     "base_uri": "https://localhost:8080/",
     "height": 294
    },
    "colab_type": "code",
    "id": "-KVgVOhl8hri",
    "outputId": "965216bb-1e2c-4740-d918-d8a02d554b6d"
   },
   "outputs": [
    {
     "data": {
      "image/png": "[encoded data removed]",
      "text/plain": [
       "<Figure size 432x288 with 1 Axes>"
      ]
     },
     "metadata": {
      "tags": []
     },
     "output_type": "display_data"
    }
   ],
   "source": [
    "v_l_1, t_l_1 = plotting(history_1, 'loss')"
   ]
  },
  {
   "cell_type": "markdown",
   "metadata": {
    "colab_type": "text",
    "id": "V5xPKGEsfOrg"
   },
   "source": [
    "# Calling 'plotting' function to visualize epoch vs accuracy"
   ]
  },
  {
   "cell_type": "code",
   "execution_count": 158,
   "metadata": {
    "colab": {
     "base_uri": "https://localhost:8080/",
     "height": 294
    },
    "colab_type": "code",
    "id": "kinCTifCfNtK",
    "outputId": "fcc18fe4-0e0f-40fa-f39e-d39bd71f9aa3"
   },
   "outputs": [
    {
     "data": {
      "image/png": "[encoded data removed]",
      "text/plain": [
       "<Figure size 432x288 with 1 Axes>"
      ]
     },
     "metadata": {
      "tags": []
     },
     "output_type": "display_data"
    }
   ],
   "source": [
    "v_a_1, t_a_1 = plotting(history_1, 'acc')"
   ]
  },
  {
   "cell_type": "markdown",
   "metadata": {
    "colab_type": "text",
    "id": "rxZyHL2lhB0_"
   },
   "source": [
    "# observation"
   ]
  },
  {
   "cell_type": "code",
   "execution_count": 159,
   "metadata": {
    "colab": {
     "base_uri": "https://localhost:8080/",
     "height": 102
    },
    "colab_type": "code",
    "id": "OWSLRZigJpJg",
    "outputId": "c1d11a84-5c60-4966-d5da-d1f90e5b2f38"
   },
   "outputs": [
    {
     "name": "stdout",
     "output_type": "stream",
     "text": [
      "Train accuracy: 0.976\n",
      "Validation accuracy: 0.903 \n",
      "\n",
      "Train loss: 0.071\n",
      "Validation loss: 0.258\n"
     ]
    }
   ],
   "source": [
    "tr_a_1 = np.round(max(t_a_1),3)\n",
    "va_a_1 = np.round(max(v_a_1),3)\n",
    "\n",
    "print(\"Train accuracy:\", tr_a_1)\n",
    "print(\"Validation accuracy:\", va_a_1, '\\n')\n",
    "\n",
    "tr_l_1 = np.round(min(t_l_1),3)\n",
    "va_l_1 = np.round(min(v_l_1),3)\n",
    "\n",
    "print(\"Train loss:\", tr_l_1)\n",
    "print(\"Validation loss:\", va_l_1)"
   ]
  },
  {
   "cell_type": "markdown",
   "metadata": {
    "colab_type": "text",
    "id": "niKaKliQHAh5"
   },
   "source": [
    "# LSTM layer: 3"
   ]
  },
  {
   "cell_type": "code",
   "execution_count": 161,
   "metadata": {
    "colab": {
     "base_uri": "https://localhost:8080/",
     "height": 425
    },
    "colab_type": "code",
    "id": "pbLHbP6wFne4",
    "outputId": "a28baf30-06dc-449f-bba7-5ecb7947fa4c"
   },
   "outputs": [
    {
     "name": "stdout",
     "output_type": "stream",
     "text": [
      "_________________________________________________________________\n",
      "Layer (type)                 Output Shape              Param #   \n",
      "=================================================================\n",
      "embedding_17 (Embedding)     (None, 300, 32)           2846048   \n",
      "_________________________________________________________________\n",
      "dropout_11 (Dropout)         (None, 300, 32)           0         \n",
      "_________________________________________________________________\n",
      "lstm_31 (LSTM)               (None, 300, 100)          53200     \n",
      "_________________________________________________________________\n",
      "lstm_32 (LSTM)               (None, 300, 100)          80400     \n",
      "_________________________________________________________________\n",
      "dropout_12 (Dropout)         (None, 300, 100)          0         \n",
      "_________________________________________________________________\n",
      "lstm_33 (LSTM)               (None, 100)               80400     \n",
      "_________________________________________________________________\n",
      "dropout_13 (Dropout)         (None, 100)               0         \n",
      "_________________________________________________________________\n",
      "dense_13 (Dense)             (None, 1)                 101       \n",
      "=================================================================\n",
      "Total params: 3,060,149\n",
      "Trainable params: 3,060,149\n",
      "Non-trainable params: 0\n",
      "_________________________________________________________________\n",
      "None\n"
     ]
    }
   ],
   "source": [
    "# create the model\n",
    "\n",
    "embedding_vecor_length = 32\n",
    "model_3 = Sequential()\n",
    "model_3.add(Embedding(len(voc.keys())+1, embedding_vecor_length, input_length = max_review_length))\n",
    "model_3.add(Dropout(0.5))\n",
    "\n",
    "# 3 LSTM layer\n",
    "model_3.add(LSTM(100, return_sequences=True))  # 1 LSTM\n",
    "model_3.add(LSTM(100, return_sequences=True))  # 2 LSTM\n",
    "model_3.add(Dropout(0.5))\n",
    "model_3.add(LSTM(100))                         # 3 LSTM\n",
    "\n",
    "model_3.add(Dropout(0.5))\n",
    "model_3.add(Dense(1, activation = 'sigmoid'))\n",
    "model_3.compile(loss='binary_crossentropy', optimizer='adam', metrics=['accuracy'])\n",
    "print(model_3.summary())\n",
    "            \n",
    "#Refer: https://datascience.stackexchange.com/questions/10615/number-of-parameters-in-an-lstm-model"
   ]
  },
  {
   "cell_type": "code",
   "execution_count": 162,
   "metadata": {
    "colab": {
     "base_uri": "https://localhost:8080/",
     "height": 391
    },
    "colab_type": "code",
    "id": "r122NUNKhu19",
    "outputId": "8f4a8271-f42a-4504-d18b-8edda0d3a02b"
   },
   "outputs": [
    {
     "name": "stdout",
     "output_type": "stream",
     "text": [
      "Train on 17500 samples, validate on 7500 samples\n",
      "Epoch 1/10\n",
      "17500/17500 [==============================] - 452s 26ms/step - loss: 0.3482 - acc: 0.8653 - val_loss: 0.2562 - val_acc: 0.8981\n",
      "Epoch 2/10\n",
      "17500/17500 [==============================] - 448s 26ms/step - loss: 0.2188 - acc: 0.9148 - val_loss: 0.2652 - val_acc: 0.8996\n",
      "Epoch 3/10\n",
      "17500/17500 [==============================] - 446s 25ms/step - loss: 0.1717 - acc: 0.9364 - val_loss: 0.2894 - val_acc: 0.8988\n",
      "Epoch 4/10\n",
      "17500/17500 [==============================] - 446s 26ms/step - loss: 0.1465 - acc: 0.9463 - val_loss: 0.2777 - val_acc: 0.8971\n",
      "Epoch 5/10\n",
      "17500/17500 [==============================] - 446s 26ms/step - loss: 0.1208 - acc: 0.9573 - val_loss: 0.2890 - val_acc: 0.8913\n",
      "Epoch 6/10\n",
      "17500/17500 [==============================] - 447s 26ms/step - loss: 0.1023 - acc: 0.9626 - val_loss: 0.3186 - val_acc: 0.8939\n",
      "Epoch 7/10\n",
      "17500/17500 [==============================] - 448s 26ms/step - loss: 0.0904 - acc: 0.9699 - val_loss: 0.3622 - val_acc: 0.8820\n",
      "Epoch 8/10\n",
      "17500/17500 [==============================] - 449s 26ms/step - loss: 0.0796 - acc: 0.9716 - val_loss: 0.4035 - val_acc: 0.8925\n",
      "Epoch 9/10\n",
      "17500/17500 [==============================] - 449s 26ms/step - loss: 0.0672 - acc: 0.9776 - val_loss: 0.3953 - val_acc: 0.8835\n",
      "Epoch 10/10\n",
      "17500/17500 [==============================] - 449s 26ms/step - loss: 0.0590 - acc: 0.9797 - val_loss: 0.4072 - val_acc: 0.8847\n",
      "7500/7500 [==============================] - 120s 16ms/step\n"
     ]
    }
   ],
   "source": [
    "history_3 = model_3.fit(x_train, y_train, nb_epoch = 10, batch_size = 64, validation_data = (x_test, y_test))\n",
    "\n",
    "# Final evaluation of the model\n",
    "scores_3 = model_3.evaluate(x_test, y_test, verbose = 1)"
   ]
  },
  {
   "cell_type": "markdown",
   "metadata": {
    "colab_type": "text",
    "id": "Y4iPWfLzjc_9"
   },
   "source": [
    "# Calling 'plotting' function to visualize epoch vs loss"
   ]
  },
  {
   "cell_type": "code",
   "execution_count": 163,
   "metadata": {
    "colab": {
     "base_uri": "https://localhost:8080/",
     "height": 294
    },
    "colab_type": "code",
    "id": "mNSbu5zkij5i",
    "outputId": "34f1ef36-b712-44a9-9d3e-f8778a9a42bb"
   },
   "outputs": [
    {
     "data": {
      "image/png": "[encoded data removed]",
      "text/plain": [
       "<Figure size 432x288 with 1 Axes>"
      ]
     },
     "metadata": {
      "tags": []
     },
     "output_type": "display_data"
    }
   ],
   "source": [
    "v_l_3, t_l_3 = plotting(history_3, 'loss')"
   ]
  },
  {
   "cell_type": "markdown",
   "metadata": {
    "colab_type": "text",
    "id": "NqMyu4LEji4b"
   },
   "source": [
    "# Calling 'plotting' function to visualize epoch vs accuracy"
   ]
  },
  {
   "cell_type": "code",
   "execution_count": 164,
   "metadata": {
    "colab": {
     "base_uri": "https://localhost:8080/",
     "height": 294
    },
    "colab_type": "code",
    "id": "YJW5kNNejg1s",
    "outputId": "4030bdf3-880c-4820-8987-cdae8cc835f3"
   },
   "outputs": [
    {
     "data": {
      "image/png": "[encoded data removed]",
      "text/plain": [
       "<Figure size 432x288 with 1 Axes>"
      ]
     },
     "metadata": {
      "tags": []
     },
     "output_type": "display_data"
    }
   ],
   "source": [
    "v_a_3, t_a_3 = plotting(history_3, 'acc')"
   ]
  },
  {
   "cell_type": "markdown",
   "metadata": {
    "colab_type": "text",
    "id": "8VoJ1UFajs1H"
   },
   "source": [
    "# Observation"
   ]
  },
  {
   "cell_type": "code",
   "execution_count": 165,
   "metadata": {
    "colab": {
     "base_uri": "https://localhost:8080/",
     "height": 102
    },
    "colab_type": "code",
    "id": "aUozCZ7ajpG-",
    "outputId": "29d890ab-7595-40e8-8390-5a48ccfd8005"
   },
   "outputs": [
    {
     "name": "stdout",
     "output_type": "stream",
     "text": [
      "Train accuracy: 0.98\n",
      "Validation accuracy: 0.9 \n",
      "\n",
      "Train loss: 0.059\n",
      "Validation loss: 0.882\n"
     ]
    }
   ],
   "source": [
    "tr_a_3 = np.round(max(t_a_3),3)\n",
    "va_a_3 = np.round(max(v_a_3),3)\n",
    "\n",
    "print(\"Train accuracy:\", tr_a_3)\n",
    "print(\"Validation accuracy:\", va_a_3, '\\n')\n",
    "\n",
    "tr_l_3 = np.round(min(t_l_3),3)\n",
    "va_l_3 = np.round(min(v_a_3),3)\n",
    "\n",
    "print(\"Train loss:\", tr_l_3)\n",
    "print(\"Validation loss:\", va_l_3)"
   ]
  },
  {
   "cell_type": "markdown",
   "metadata": {
    "colab_type": "text",
    "id": "a6qKVjpykac7"
   },
   "source": [
    "# LSTM layer: 5"
   ]
  },
  {
   "cell_type": "code",
   "execution_count": 132,
   "metadata": {
    "colab": {
     "base_uri": "https://localhost:8080/",
     "height": 493
    },
    "colab_type": "code",
    "id": "UMPFiTCJj1Il",
    "outputId": "9f3078e2-b8b0-4748-f11f-6c44ccc2eb37"
   },
   "outputs": [
    {
     "name": "stdout",
     "output_type": "stream",
     "text": [
      "_________________________________________________________________\n",
      "Layer (type)                 Output Shape              Param #   \n",
      "=================================================================\n",
      "embedding_14 (Embedding)     (None, 300, 32)           2846048   \n",
      "_________________________________________________________________\n",
      "dropout_4 (Dropout)          (None, 300, 32)           0         \n",
      "_________________________________________________________________\n",
      "lstm_22 (LSTM)               (None, 300, 100)          53200     \n",
      "_________________________________________________________________\n",
      "lstm_23 (LSTM)               (None, 300, 100)          80400     \n",
      "_________________________________________________________________\n",
      "dropout_5 (Dropout)          (None, 300, 100)          0         \n",
      "_________________________________________________________________\n",
      "lstm_24 (LSTM)               (None, 300, 100)          80400     \n",
      "_________________________________________________________________\n",
      "lstm_25 (LSTM)               (None, 300, 100)          80400     \n",
      "_________________________________________________________________\n",
      "lstm_26 (LSTM)               (None, 100)               80400     \n",
      "_________________________________________________________________\n",
      "dropout_6 (Dropout)          (None, 100)               0         \n",
      "_________________________________________________________________\n",
      "dense_10 (Dense)             (None, 1)                 101       \n",
      "=================================================================\n",
      "Total params: 3,220,949\n",
      "Trainable params: 3,220,949\n",
      "Non-trainable params: 0\n",
      "_________________________________________________________________\n",
      "None\n"
     ]
    }
   ],
   "source": [
    "# create the model\n",
    "\n",
    "embedding_vecor_length = 32\n",
    "model_5 = Sequential()\n",
    "model_5.add(Embedding(len(voc.keys())+1, embedding_vecor_length, input_length = max_review_length))\n",
    "model_5.add(Dropout(0.5))\n",
    "\n",
    "# 5 LSTM layer\n",
    "model_5.add(LSTM(100, return_sequences=True))  # 1 LSTM\n",
    "model_5.add(LSTM(100, return_sequences=True))  # 2 LSTM\n",
    "\n",
    "model_5.add(Dropout(0.5))\n",
    "\n",
    "model_5.add(LSTM(100, return_sequences=True))  # 3 LSTM\n",
    "model_5.add(LSTM(100, return_sequences=True))  # 4 LSTM\n",
    "model_5.add(LSTM(100))                         # 5 LSTM\n",
    "\n",
    "model_5.add(Dropout(0.5))\n",
    "model_5.add(Dense(1, activation = 'sigmoid'))\n",
    "model_5.compile(loss='binary_crossentropy', optimizer='adam', metrics=['accuracy'])\n",
    "print(model_5.summary())\n",
    "            \n",
    "#Refer: https://datascience.stackexchange.com/questions/10615/number-of-parameters-in-an-lstm-model"
   ]
  },
  {
   "cell_type": "code",
   "execution_count": 133,
   "metadata": {
    "colab": {
     "base_uri": "https://localhost:8080/",
     "height": 391
    },
    "colab_type": "code",
    "id": "7l62Q1Uak5BF",
    "outputId": "eacdf066-bf01-4df9-a86e-8c4b5712ae33"
   },
   "outputs": [
    {
     "name": "stdout",
     "output_type": "stream",
     "text": [
      "Train on 700 samples, validate on 300 samples\n",
      "Epoch 1/10\n",
      "700/700 [==============================] - 35s 51ms/step - loss: 0.5829 - acc: 0.8029 - val_loss: 0.4959 - val_acc: 0.8067\n",
      "Epoch 2/10\n",
      "700/700 [==============================] - 31s 44ms/step - loss: 0.4467 - acc: 0.8414 - val_loss: 0.5018 - val_acc: 0.8067\n",
      "Epoch 3/10\n",
      "700/700 [==============================] - 30s 43ms/step - loss: 0.4427 - acc: 0.8414 - val_loss: 0.4941 - val_acc: 0.8067\n",
      "Epoch 4/10\n",
      "700/700 [==============================] - 31s 44ms/step - loss: 0.4313 - acc: 0.8414 - val_loss: 0.4909 - val_acc: 0.8067\n",
      "Epoch 5/10\n",
      "700/700 [==============================] - 30s 43ms/step - loss: 0.3336 - acc: 0.8714 - val_loss: 0.5434 - val_acc: 0.7533\n",
      "Epoch 6/10\n",
      "700/700 [==============================] - 30s 44ms/step - loss: 0.1704 - acc: 0.9400 - val_loss: 0.6260 - val_acc: 0.7667\n",
      "Epoch 7/10\n",
      "700/700 [==============================] - 32s 45ms/step - loss: 0.0920 - acc: 0.9643 - val_loss: 0.9163 - val_acc: 0.6767\n",
      "Epoch 8/10\n",
      "700/700 [==============================] - 30s 43ms/step - loss: 0.0750 - acc: 0.9729 - val_loss: 0.6972 - val_acc: 0.7767\n",
      "Epoch 9/10\n",
      "700/700 [==============================] - 30s 42ms/step - loss: 0.0393 - acc: 0.9829 - val_loss: 0.9316 - val_acc: 0.7900\n",
      "Epoch 10/10\n",
      "700/700 [==============================] - 30s 44ms/step - loss: 0.0223 - acc: 0.9900 - val_loss: 0.9740 - val_acc: 0.7633\n",
      "300/300 [==============================] - 8s 27ms/step\n"
     ]
    }
   ],
   "source": [
    "history_5 = model_5.fit(x_train, y_train, nb_epoch = 10, batch_size = 64, validation_data = (x_test, y_test))\n",
    "\n",
    "# Final evaluation of the model\n",
    "scores_5 = model_5.evaluate(x_test, y_test, verbose = 1)"
   ]
  },
  {
   "cell_type": "markdown",
   "metadata": {
    "colab_type": "text",
    "id": "2Az2-SUDlOaR"
   },
   "source": [
    "# Calling 'plotting' function to visualize epoch vs loss"
   ]
  },
  {
   "cell_type": "code",
   "execution_count": 134,
   "metadata": {
    "colab": {
     "base_uri": "https://localhost:8080/",
     "height": 294
    },
    "colab_type": "code",
    "id": "grc5Ye6llEo4",
    "outputId": "bc83fb93-145a-48bb-e377-e4f04c735f9a"
   },
   "outputs": [
    {
     "data": {
      "image/png": "[encoded data removed]",
      "text/plain": [
       "<Figure size 432x288 with 1 Axes>"
      ]
     },
     "metadata": {
      "tags": []
     },
     "output_type": "display_data"
    }
   ],
   "source": [
    "v_l_5, t_l_5 = plotting(history_5, 'loss')"
   ]
  },
  {
   "cell_type": "markdown",
   "metadata": {
    "colab_type": "text",
    "id": "7q4nP8gHlRYl"
   },
   "source": [
    "# Calling 'plotting' function to visualize epoch vs accuracy"
   ]
  },
  {
   "cell_type": "code",
   "execution_count": 135,
   "metadata": {
    "colab": {
     "base_uri": "https://localhost:8080/",
     "height": 294
    },
    "colab_type": "code",
    "id": "-EHjDbS8lQtc",
    "outputId": "59309f78-5ab7-4170-fb86-83ea5997d130"
   },
   "outputs": [
    {
     "data": {
      "image/png": "[encoded data removed]",
      "text/plain": [
       "<Figure size 432x288 with 1 Axes>"
      ]
     },
     "metadata": {
      "tags": []
     },
     "output_type": "display_data"
    }
   ],
   "source": [
    "v_a_5, t_a_5 = plotting(history_5, 'acc')"
   ]
  },
  {
   "cell_type": "markdown",
   "metadata": {
    "colab_type": "text",
    "id": "MnEik1HglYkG"
   },
   "source": [
    "# Observation"
   ]
  },
  {
   "cell_type": "code",
   "execution_count": 136,
   "metadata": {
    "colab": {
     "base_uri": "https://localhost:8080/",
     "height": 102
    },
    "colab_type": "code",
    "id": "W7-kXNvWln5R",
    "outputId": "77874c1a-fafc-45d0-b7b3-3fb9099a9574"
   },
   "outputs": [
    {
     "name": "stdout",
     "output_type": "stream",
     "text": [
      "Train accuracy: 0.99\n",
      "Validation accuracy: 0.807 \n",
      "\n",
      "Train loss: 0.022\n",
      "Validation loss: 0.677\n"
     ]
    }
   ],
   "source": [
    "tr_a_5 = np.round(max(t_a_5),3)\n",
    "va_a_5 = np.round(max(v_a_5),3)\n",
    "\n",
    "print(\"Train accuracy:\", tr_a_5)\n",
    "print(\"Validation accuracy:\", va_a_5, '\\n')\n",
    "\n",
    "tr_l_5 = np.round(min(t_l_5),3)\n",
    "va_l_5 = np.round(min(v_a_5),3)\n",
    "\n",
    "print(\"Train loss:\", tr_l_5)\n",
    "print(\"Validation loss:\", va_l_5)"
   ]
  },
  {
   "cell_type": "markdown",
   "metadata": {
    "colab_type": "text",
    "id": "PyKMlR08lq_R"
   },
   "source": [
    "# Pretty Table"
   ]
  },
  {
   "cell_type": "code",
   "execution_count": 22,
   "metadata": {
    "colab": {},
    "colab_type": "code",
    "id": "0ZtCCSy2mbYH"
   },
   "outputs": [
    {
     "name": "stdout",
     "output_type": "stream",
     "text": [
      "\n",
      "\n",
      "+------+-------------+----------+-----------+---------------+\n",
      "| S.No | LSTM Layers | Drop Out | Test Loss | Test Accuracy |\n",
      "+------+-------------+----------+-----------+---------------+\n",
      "|  1   |      1      |   0.5    |   0.258   |     0.903     |\n",
      "|  2   |      3      |   0.5    |   0.882   |      0.9      |\n",
      "+------+-------------+----------+-----------+---------------+\n"
     ]
    }
   ],
   "source": [
    "from prettytable import PrettyTable\n",
    "\n",
    "print('\\n')\n",
    "a = PrettyTable()\n",
    "a.field_names = ['S.No', 'LSTM Layers', 'Drop Out', 'Test Loss', 'Test Accuracy']\n",
    "a.add_row([1, 1, 0.5, va_l_1, va_a_1])\n",
    "a.add_row([2, 3, 0.5, va_l_3, va_a_3])\n",
    "\n",
    "print(a.get_string(title = \"LSTM 1 and 3 Activation: sigmoid,    Optimizer: adam\"))"
   ]
  },
  {
   "cell_type": "markdown",
   "metadata": {},
   "source": [
    "# Conclusion:\n",
    "\n",
    " - <b>LSTM layer 1:</b>\n",
    "    \n",
    "    - ___Test loss is 0.258 and test accuracy is high 90.3%___\n",
    "    \n",
    "    \n",
    " - <b>LSTM layer 3:</b>\n",
    "    \n",
    "    - ___Test loss is 0.882 and  test accuracy is high 90%___"
   ]
  },
  {
   "cell_type": "code",
   "execution_count": null,
   "metadata": {},
   "outputs": [],
   "source": []
  }
 ],
 "metadata": {
  "accelerator": "GPU",
  "colab": {
   "collapsed_sections": [],
   "name": "LSTM_IMDB.ipynb",
   "provenance": [],
   "version": "0.3.2"
  },
  "kernelspec": {
   "display_name": "Python 3",
   "language": "python",
   "name": "python3"
  },
  "language_info": {
   "codemirror_mode": {
    "name": "ipython",
    "version": 3
   },
   "file_extension": ".py",
   "mimetype": "text/x-python",
   "name": "python",
   "nbconvert_exporter": "python",
   "pygments_lexer": "ipython3",
   "version": "3.8.5"
  }
 },
 "nbformat": 4,
 "nbformat_minor": 1
}
