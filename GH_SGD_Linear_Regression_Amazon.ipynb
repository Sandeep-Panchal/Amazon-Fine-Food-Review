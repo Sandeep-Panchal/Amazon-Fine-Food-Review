{
 "cells": [
  {
   "cell_type": "markdown",
   "metadata": {},
   "source": [
    "# SGD Linear Regression on Boston House price"
   ]
  },
  {
   "cell_type": "markdown",
   "metadata": {},
   "source": [
    "# Attribute Information (in order):\n",
    "\n",
    "CRIM     per capita crime rate by town\n",
    "\n",
    "ZN       proportion of residential land zoned for lots over 25,000 sq.ft.\n",
    "\n",
    "INDUS    proportion of non-retail business acres per town\n",
    "\n",
    "CHAS     Charles River dummy variable (= 1 if tract bounds river; 0 otherwise)\n",
    "\n",
    "NOX      nitric oxides concentration (parts per 10 million)\n",
    "\n",
    "RM       average number of rooms per dwelling\n",
    "\n",
    "AGE      proportion of owner-occupied units built prior to 1940\n",
    "\n",
    "DIS      weighted distances to five Boston employment centres\n",
    "\n",
    "RAD      index of accessibility to radial highways\n",
    "\n",
    "TAX      full-value property-tax rate per $10,000\n",
    "\n",
    "PTRATIO  pupil-teacher ratio by town\n",
    "\n",
    "B        1000(Bk - 0.63)^2 where Bk is the proportion of blacks by town\n",
    "\n",
    "LSTAT    % lower status of the population\n",
    "\n",
    "MEDV     Median value of owner-occupied homes in $1000's\n",
    "\n",
    "# Objective:\n",
    "\n",
    "Based on the above attributes, we need to create a model such that it predicts the price of house."
   ]
  },
  {
   "cell_type": "code",
   "execution_count": 1,
   "metadata": {},
   "outputs": [],
   "source": [
    "import numpy as np\n",
    "import pandas as pd\n",
    "import matplotlib.pyplot as plt\n",
    "import seaborn as sns\n",
    "%matplotlib inline\n",
    "\n",
    "import warnings\n",
    "warnings.filterwarnings('ignore')\n"
   ]
  },
  {
   "cell_type": "code",
   "execution_count": 2,
   "metadata": {},
   "outputs": [
    {
     "name": "stdout",
     "output_type": "stream",
     "text": [
      ".. _boston_dataset:\n",
      "\n",
      "Boston house prices dataset\n",
      "---------------------------\n",
      "\n",
      "**Data Set Characteristics:**  \n",
      "\n",
      "    :Number of Instances: 506 \n",
      "\n",
      "    :Number of Attributes: 13 numeric/categorical predictive. Median Value (attribute 14) is usually the target.\n",
      "\n",
      "    :Attribute Information (in order):\n",
      "        - CRIM     per capita crime rate by town\n",
      "        - ZN       proportion of residential land zoned for lots over 25,000 sq.ft.\n",
      "        - INDUS    proportion of non-retail business acres per town\n",
      "        - CHAS     Charles River dummy variable (= 1 if tract bounds river; 0 otherwise)\n",
      "        - NOX      nitric oxides concentration (parts per 10 million)\n",
      "        - RM       average number of rooms per dwelling\n",
      "        - AGE      proportion of owner-occupied units built prior to 1940\n",
      "        - DIS      weighted distances to five Boston employment centres\n",
      "        - RAD      index of accessibility to radial highways\n",
      "        - TAX      full-value property-tax rate per $10,000\n",
      "        - PTRATIO  pupil-teacher ratio by town\n",
      "        - B        1000(Bk - 0.63)^2 where Bk is the proportion of blacks by town\n",
      "        - LSTAT    % lower status of the population\n",
      "        - MEDV     Median value of owner-occupied homes in $1000's\n",
      "\n",
      "    :Missing Attribute Values: None\n",
      "\n",
      "    :Creator: Harrison, D. and Rubinfeld, D.L.\n",
      "\n",
      "This is a copy of UCI ML housing dataset.\n",
      "https://archive.ics.uci.edu/ml/machine-learning-databases/housing/\n",
      "\n",
      "\n",
      "This dataset was taken from the StatLib library which is maintained at Carnegie Mellon University.\n",
      "\n",
      "The Boston house-price data of Harrison, D. and Rubinfeld, D.L. 'Hedonic\n",
      "prices and the demand for clean air', J. Environ. Economics & Management,\n",
      "vol.5, 81-102, 1978.   Used in Belsley, Kuh & Welsch, 'Regression diagnostics\n",
      "...', Wiley, 1980.   N.B. Various transformations are used in the table on\n",
      "pages 244-261 of the latter.\n",
      "\n",
      "The Boston house-price data has been used in many machine learning papers that address regression\n",
      "problems.   \n",
      "     \n",
      ".. topic:: References\n",
      "\n",
      "   - Belsley, Kuh & Welsch, 'Regression diagnostics: Identifying Influential Data and Sources of Collinearity', Wiley, 1980. 244-261.\n",
      "   - Quinlan,R. (1993). Combining Instance-Based and Model-Based Learning. In Proceedings on the Tenth International Conference of Machine Learning, 236-243, University of Massachusetts, Amherst. Morgan Kaufmann.\n",
      "\n"
     ]
    }
   ],
   "source": [
    "# Importing Boston house dataset\n",
    "\n",
    "from sklearn.datasets import load_boston\n",
    "\n",
    "boston = load_boston()\n",
    "\n",
    "# Getting the information of the dataset\n",
    "print(boston.DESCR)"
   ]
  },
  {
   "cell_type": "code",
   "execution_count": 3,
   "metadata": {},
   "outputs": [
    {
     "data": {
      "text/html": [
       "<div>\n",
       "<style scoped>\n",
       "    .dataframe tbody tr th:only-of-type {\n",
       "        vertical-align: middle;\n",
       "    }\n",
       "\n",
       "    .dataframe tbody tr th {\n",
       "        vertical-align: top;\n",
       "    }\n",
       "\n",
       "    .dataframe thead th {\n",
       "        text-align: right;\n",
       "    }\n",
       "</style>\n",
       "<table border=\"1\" class=\"dataframe\">\n",
       "  <thead>\n",
       "    <tr style=\"text-align: right;\">\n",
       "      <th></th>\n",
       "      <th>CRIM</th>\n",
       "      <th>ZN</th>\n",
       "      <th>INDUS</th>\n",
       "      <th>CHAS</th>\n",
       "      <th>NOX</th>\n",
       "      <th>RM</th>\n",
       "      <th>AGE</th>\n",
       "      <th>DIS</th>\n",
       "      <th>RAD</th>\n",
       "      <th>TAX</th>\n",
       "      <th>PTRATIO</th>\n",
       "      <th>B</th>\n",
       "      <th>LSTAT</th>\n",
       "    </tr>\n",
       "  </thead>\n",
       "  <tbody>\n",
       "    <tr>\n",
       "      <th>0</th>\n",
       "      <td>0.00632</td>\n",
       "      <td>18.0</td>\n",
       "      <td>2.31</td>\n",
       "      <td>0.0</td>\n",
       "      <td>0.538</td>\n",
       "      <td>6.575</td>\n",
       "      <td>65.2</td>\n",
       "      <td>4.0900</td>\n",
       "      <td>1.0</td>\n",
       "      <td>296.0</td>\n",
       "      <td>15.3</td>\n",
       "      <td>396.90</td>\n",
       "      <td>4.98</td>\n",
       "    </tr>\n",
       "    <tr>\n",
       "      <th>1</th>\n",
       "      <td>0.02731</td>\n",
       "      <td>0.0</td>\n",
       "      <td>7.07</td>\n",
       "      <td>0.0</td>\n",
       "      <td>0.469</td>\n",
       "      <td>6.421</td>\n",
       "      <td>78.9</td>\n",
       "      <td>4.9671</td>\n",
       "      <td>2.0</td>\n",
       "      <td>242.0</td>\n",
       "      <td>17.8</td>\n",
       "      <td>396.90</td>\n",
       "      <td>9.14</td>\n",
       "    </tr>\n",
       "    <tr>\n",
       "      <th>2</th>\n",
       "      <td>0.02729</td>\n",
       "      <td>0.0</td>\n",
       "      <td>7.07</td>\n",
       "      <td>0.0</td>\n",
       "      <td>0.469</td>\n",
       "      <td>7.185</td>\n",
       "      <td>61.1</td>\n",
       "      <td>4.9671</td>\n",
       "      <td>2.0</td>\n",
       "      <td>242.0</td>\n",
       "      <td>17.8</td>\n",
       "      <td>392.83</td>\n",
       "      <td>4.03</td>\n",
       "    </tr>\n",
       "    <tr>\n",
       "      <th>3</th>\n",
       "      <td>0.03237</td>\n",
       "      <td>0.0</td>\n",
       "      <td>2.18</td>\n",
       "      <td>0.0</td>\n",
       "      <td>0.458</td>\n",
       "      <td>6.998</td>\n",
       "      <td>45.8</td>\n",
       "      <td>6.0622</td>\n",
       "      <td>3.0</td>\n",
       "      <td>222.0</td>\n",
       "      <td>18.7</td>\n",
       "      <td>394.63</td>\n",
       "      <td>2.94</td>\n",
       "    </tr>\n",
       "    <tr>\n",
       "      <th>4</th>\n",
       "      <td>0.06905</td>\n",
       "      <td>0.0</td>\n",
       "      <td>2.18</td>\n",
       "      <td>0.0</td>\n",
       "      <td>0.458</td>\n",
       "      <td>7.147</td>\n",
       "      <td>54.2</td>\n",
       "      <td>6.0622</td>\n",
       "      <td>3.0</td>\n",
       "      <td>222.0</td>\n",
       "      <td>18.7</td>\n",
       "      <td>396.90</td>\n",
       "      <td>5.33</td>\n",
       "    </tr>\n",
       "  </tbody>\n",
       "</table>\n",
       "</div>"
      ],
      "text/plain": [
       "      CRIM    ZN  INDUS  CHAS    NOX     RM   AGE     DIS  RAD    TAX  \\\n",
       "0  0.00632  18.0   2.31   0.0  0.538  6.575  65.2  4.0900  1.0  296.0   \n",
       "1  0.02731   0.0   7.07   0.0  0.469  6.421  78.9  4.9671  2.0  242.0   \n",
       "2  0.02729   0.0   7.07   0.0  0.469  7.185  61.1  4.9671  2.0  242.0   \n",
       "3  0.03237   0.0   2.18   0.0  0.458  6.998  45.8  6.0622  3.0  222.0   \n",
       "4  0.06905   0.0   2.18   0.0  0.458  7.147  54.2  6.0622  3.0  222.0   \n",
       "\n",
       "   PTRATIO       B  LSTAT  \n",
       "0     15.3  396.90   4.98  \n",
       "1     17.8  396.90   9.14  \n",
       "2     17.8  392.83   4.03  \n",
       "3     18.7  394.63   2.94  \n",
       "4     18.7  396.90   5.33  "
      ]
     },
     "execution_count": 3,
     "metadata": {},
     "output_type": "execute_result"
    }
   ],
   "source": [
    "# Creating a dataframe\n",
    "\n",
    "df = pd.DataFrame(data = boston.data, columns = boston.feature_names)\n",
    "df.head()"
   ]
  },
  {
   "cell_type": "code",
   "execution_count": 4,
   "metadata": {},
   "outputs": [
    {
     "data": {
      "text/html": [
       "<div>\n",
       "<style scoped>\n",
       "    .dataframe tbody tr th:only-of-type {\n",
       "        vertical-align: middle;\n",
       "    }\n",
       "\n",
       "    .dataframe tbody tr th {\n",
       "        vertical-align: top;\n",
       "    }\n",
       "\n",
       "    .dataframe thead th {\n",
       "        text-align: right;\n",
       "    }\n",
       "</style>\n",
       "<table border=\"1\" class=\"dataframe\">\n",
       "  <thead>\n",
       "    <tr style=\"text-align: right;\">\n",
       "      <th></th>\n",
       "      <th>CRIM</th>\n",
       "      <th>ZN</th>\n",
       "      <th>INDUS</th>\n",
       "      <th>CHAS</th>\n",
       "      <th>NOX</th>\n",
       "      <th>RM</th>\n",
       "      <th>AGE</th>\n",
       "      <th>DIS</th>\n",
       "      <th>RAD</th>\n",
       "      <th>TAX</th>\n",
       "      <th>PTRATIO</th>\n",
       "      <th>B</th>\n",
       "      <th>LSTAT</th>\n",
       "      <th>Price</th>\n",
       "    </tr>\n",
       "  </thead>\n",
       "  <tbody>\n",
       "    <tr>\n",
       "      <th>0</th>\n",
       "      <td>0.00632</td>\n",
       "      <td>18.0</td>\n",
       "      <td>2.31</td>\n",
       "      <td>0.0</td>\n",
       "      <td>0.538</td>\n",
       "      <td>6.575</td>\n",
       "      <td>65.2</td>\n",
       "      <td>4.0900</td>\n",
       "      <td>1.0</td>\n",
       "      <td>296.0</td>\n",
       "      <td>15.3</td>\n",
       "      <td>396.90</td>\n",
       "      <td>4.98</td>\n",
       "      <td>24.0</td>\n",
       "    </tr>\n",
       "    <tr>\n",
       "      <th>1</th>\n",
       "      <td>0.02731</td>\n",
       "      <td>0.0</td>\n",
       "      <td>7.07</td>\n",
       "      <td>0.0</td>\n",
       "      <td>0.469</td>\n",
       "      <td>6.421</td>\n",
       "      <td>78.9</td>\n",
       "      <td>4.9671</td>\n",
       "      <td>2.0</td>\n",
       "      <td>242.0</td>\n",
       "      <td>17.8</td>\n",
       "      <td>396.90</td>\n",
       "      <td>9.14</td>\n",
       "      <td>21.6</td>\n",
       "    </tr>\n",
       "    <tr>\n",
       "      <th>2</th>\n",
       "      <td>0.02729</td>\n",
       "      <td>0.0</td>\n",
       "      <td>7.07</td>\n",
       "      <td>0.0</td>\n",
       "      <td>0.469</td>\n",
       "      <td>7.185</td>\n",
       "      <td>61.1</td>\n",
       "      <td>4.9671</td>\n",
       "      <td>2.0</td>\n",
       "      <td>242.0</td>\n",
       "      <td>17.8</td>\n",
       "      <td>392.83</td>\n",
       "      <td>4.03</td>\n",
       "      <td>34.7</td>\n",
       "    </tr>\n",
       "    <tr>\n",
       "      <th>3</th>\n",
       "      <td>0.03237</td>\n",
       "      <td>0.0</td>\n",
       "      <td>2.18</td>\n",
       "      <td>0.0</td>\n",
       "      <td>0.458</td>\n",
       "      <td>6.998</td>\n",
       "      <td>45.8</td>\n",
       "      <td>6.0622</td>\n",
       "      <td>3.0</td>\n",
       "      <td>222.0</td>\n",
       "      <td>18.7</td>\n",
       "      <td>394.63</td>\n",
       "      <td>2.94</td>\n",
       "      <td>33.4</td>\n",
       "    </tr>\n",
       "    <tr>\n",
       "      <th>4</th>\n",
       "      <td>0.06905</td>\n",
       "      <td>0.0</td>\n",
       "      <td>2.18</td>\n",
       "      <td>0.0</td>\n",
       "      <td>0.458</td>\n",
       "      <td>7.147</td>\n",
       "      <td>54.2</td>\n",
       "      <td>6.0622</td>\n",
       "      <td>3.0</td>\n",
       "      <td>222.0</td>\n",
       "      <td>18.7</td>\n",
       "      <td>396.90</td>\n",
       "      <td>5.33</td>\n",
       "      <td>36.2</td>\n",
       "    </tr>\n",
       "  </tbody>\n",
       "</table>\n",
       "</div>"
      ],
      "text/plain": [
       "      CRIM    ZN  INDUS  CHAS    NOX     RM   AGE     DIS  RAD    TAX  \\\n",
       "0  0.00632  18.0   2.31   0.0  0.538  6.575  65.2  4.0900  1.0  296.0   \n",
       "1  0.02731   0.0   7.07   0.0  0.469  6.421  78.9  4.9671  2.0  242.0   \n",
       "2  0.02729   0.0   7.07   0.0  0.469  7.185  61.1  4.9671  2.0  242.0   \n",
       "3  0.03237   0.0   2.18   0.0  0.458  6.998  45.8  6.0622  3.0  222.0   \n",
       "4  0.06905   0.0   2.18   0.0  0.458  7.147  54.2  6.0622  3.0  222.0   \n",
       "\n",
       "   PTRATIO       B  LSTAT  Price  \n",
       "0     15.3  396.90   4.98   24.0  \n",
       "1     17.8  396.90   9.14   21.6  \n",
       "2     17.8  392.83   4.03   34.7  \n",
       "3     18.7  394.63   2.94   33.4  \n",
       "4     18.7  396.90   5.33   36.2  "
      ]
     },
     "execution_count": 4,
     "metadata": {},
     "output_type": "execute_result"
    }
   ],
   "source": [
    "# Adding target column to the existing dataframe (df)\n",
    "\n",
    "df['Price'] = boston.target\n",
    "\n",
    "df.head()"
   ]
  },
  {
   "cell_type": "code",
   "execution_count": 5,
   "metadata": {},
   "outputs": [
    {
     "name": "stdout",
     "output_type": "stream",
     "text": [
      "Shape of dataframe is  (506, 14)\n",
      "Number of rows are  506\n",
      "Number of columns are  14\n"
     ]
    }
   ],
   "source": [
    "print(\"Shape of dataframe is \", df.shape)\n",
    "print(\"Number of rows are \", df.shape[0])\n",
    "print(\"Number of columns are \", df.shape[1])"
   ]
  },
  {
   "cell_type": "markdown",
   "metadata": {},
   "source": [
    "# Null values"
   ]
  },
  {
   "cell_type": "code",
   "execution_count": 6,
   "metadata": {},
   "outputs": [
    {
     "data": {
      "text/plain": [
       "<matplotlib.axes._subplots.AxesSubplot at 0x1a156b38>"
      ]
     },
     "execution_count": 6,
     "metadata": {},
     "output_type": "execute_result"
    },
    {
     "data": {
      "image/png": "[encoded data removed]",
      "text/plain": [
       "<Figure size 432x288 with 2 Axes>"
      ]
     },
     "metadata": {
      "needs_background": "light"
     },
     "output_type": "display_data"
    }
   ],
   "source": [
    "# sns heatmap to check null values\n",
    "\n",
    "sns.heatmap(df.isnull())"
   ]
  },
  {
   "cell_type": "markdown",
   "metadata": {},
   "source": [
    "# Observation:\n",
    "    \n",
    "From the above heatmap, we can notice no null values"
   ]
  },
  {
   "cell_type": "code",
   "execution_count": 7,
   "metadata": {},
   "outputs": [],
   "source": [
    "# Assigning independent variables to x and dependent variables to y\n",
    "\n",
    "x = df.drop('Price', axis = 1)\n",
    "y = df['Price']"
   ]
  },
  {
   "cell_type": "markdown",
   "metadata": {},
   "source": [
    "# Split into train and test data"
   ]
  },
  {
   "cell_type": "code",
   "execution_count": 8,
   "metadata": {},
   "outputs": [],
   "source": [
    "# Import train_test_split library\n",
    "from sklearn.model_selection import train_test_split\n",
    "\n",
    "# Split into train and test set\n",
    "x_train, x_test, y_train, y_test = train_test_split(x, y, random_state = 5, test_size = 0.327)"
   ]
  },
  {
   "cell_type": "markdown",
   "metadata": {},
   "source": [
    "# Standardization"
   ]
  },
  {
   "cell_type": "code",
   "execution_count": 9,
   "metadata": {},
   "outputs": [],
   "source": [
    "# Import StandardScaler\n",
    "from sklearn.preprocessing import StandardScaler, normalize\n",
    "\n",
    "# Create an instance\n",
    "sc = StandardScaler()\n",
    "\n",
    "# Fit and transform the train data\n",
    "x_train_s = sc.fit_transform(x_train)\n",
    "\n",
    "# Transform the test data\n",
    "x_test_s = sc.transform(x_test)"
   ]
  },
  {
   "cell_type": "code",
   "execution_count": 10,
   "metadata": {},
   "outputs": [
    {
     "name": "stdout",
     "output_type": "stream",
     "text": [
      "Shape of x_train is  (340, 13)\n",
      "Shape of y_train is  (340,)\n",
      "Shape of x_test is  (166, 13)\n",
      "Shape of y_test is  (166,)\n"
     ]
    }
   ],
   "source": [
    "print(\"Shape of x_train is \", x_train.shape)\n",
    "print(\"Shape of y_train is \", y_train.shape)\n",
    "print(\"Shape of x_test is \", x_test.shape)\n",
    "print(\"Shape of y_test is \", y_test.shape)"
   ]
  },
  {
   "cell_type": "code",
   "execution_count": 11,
   "metadata": {},
   "outputs": [],
   "source": [
    "# Converting x_train_s, x_test_s, y_train and y_test to numpy array in order to pass it in the algorithm.\n",
    "\n",
    "x_tr_ar = np.array(x_train_s)\n",
    "x_te_ar = np.array(x_test_s)\n",
    "\n",
    "y_tr_ar = np.array(y_train)\n",
    "y_te_ar = np.array(y_test)"
   ]
  },
  {
   "cell_type": "code",
   "execution_count": 12,
   "metadata": {},
   "outputs": [
    {
     "data": {
      "text/html": [
       "<div>\n",
       "<style scoped>\n",
       "    .dataframe tbody tr th:only-of-type {\n",
       "        vertical-align: middle;\n",
       "    }\n",
       "\n",
       "    .dataframe tbody tr th {\n",
       "        vertical-align: top;\n",
       "    }\n",
       "\n",
       "    .dataframe thead th {\n",
       "        text-align: right;\n",
       "    }\n",
       "</style>\n",
       "<table border=\"1\" class=\"dataframe\">\n",
       "  <thead>\n",
       "    <tr style=\"text-align: right;\">\n",
       "      <th></th>\n",
       "      <th>0</th>\n",
       "      <th>1</th>\n",
       "      <th>2</th>\n",
       "      <th>3</th>\n",
       "      <th>4</th>\n",
       "      <th>5</th>\n",
       "      <th>6</th>\n",
       "      <th>7</th>\n",
       "      <th>8</th>\n",
       "      <th>9</th>\n",
       "      <th>10</th>\n",
       "      <th>11</th>\n",
       "      <th>12</th>\n",
       "      <th>Price</th>\n",
       "    </tr>\n",
       "  </thead>\n",
       "  <tbody>\n",
       "    <tr>\n",
       "      <th>0</th>\n",
       "      <td>-0.337828</td>\n",
       "      <td>-0.501493</td>\n",
       "      <td>-0.420017</td>\n",
       "      <td>-0.256575</td>\n",
       "      <td>-0.125514</td>\n",
       "      <td>-0.682616</td>\n",
       "      <td>0.808408</td>\n",
       "      <td>0.438044</td>\n",
       "      <td>-0.640338</td>\n",
       "      <td>-0.581537</td>\n",
       "      <td>1.174696</td>\n",
       "      <td>0.199041</td>\n",
       "      <td>0.323687</td>\n",
       "      <td>16.6</td>\n",
       "    </tr>\n",
       "    <tr>\n",
       "      <th>1</th>\n",
       "      <td>0.914026</td>\n",
       "      <td>-0.501493</td>\n",
       "      <td>1.074845</td>\n",
       "      <td>-0.256575</td>\n",
       "      <td>1.636288</td>\n",
       "      <td>0.488430</td>\n",
       "      <td>0.960878</td>\n",
       "      <td>-0.825750</td>\n",
       "      <td>1.658659</td>\n",
       "      <td>1.555328</td>\n",
       "      <td>0.804155</td>\n",
       "      <td>-2.847570</td>\n",
       "      <td>1.524257</td>\n",
       "      <td>13.4</td>\n",
       "    </tr>\n",
       "    <tr>\n",
       "      <th>2</th>\n",
       "      <td>-0.411268</td>\n",
       "      <td>-0.501493</td>\n",
       "      <td>-1.129927</td>\n",
       "      <td>-0.256575</td>\n",
       "      <td>-0.552882</td>\n",
       "      <td>1.030899</td>\n",
       "      <td>0.666574</td>\n",
       "      <td>-0.184784</td>\n",
       "      <td>-0.870238</td>\n",
       "      <td>-0.801771</td>\n",
       "      <td>-0.307467</td>\n",
       "      <td>0.427454</td>\n",
       "      <td>-0.997507</td>\n",
       "      <td>23.6</td>\n",
       "    </tr>\n",
       "    <tr>\n",
       "      <th>3</th>\n",
       "      <td>0.125742</td>\n",
       "      <td>-0.501493</td>\n",
       "      <td>1.074845</td>\n",
       "      <td>-0.256575</td>\n",
       "      <td>1.444408</td>\n",
       "      <td>-3.914474</td>\n",
       "      <td>0.723308</td>\n",
       "      <td>-1.078528</td>\n",
       "      <td>1.658659</td>\n",
       "      <td>1.555328</td>\n",
       "      <td>0.804155</td>\n",
       "      <td>-0.054016</td>\n",
       "      <td>-0.767611</td>\n",
       "      <td>27.5</td>\n",
       "    </tr>\n",
       "    <tr>\n",
       "      <th>4</th>\n",
       "      <td>-0.405742</td>\n",
       "      <td>0.841792</td>\n",
       "      <td>-0.901795</td>\n",
       "      <td>-0.256575</td>\n",
       "      <td>-1.084911</td>\n",
       "      <td>0.099516</td>\n",
       "      <td>-0.517733</td>\n",
       "      <td>1.601122</td>\n",
       "      <td>-0.410439</td>\n",
       "      <td>-0.623203</td>\n",
       "      <td>-0.863278</td>\n",
       "      <td>0.151921</td>\n",
       "      <td>-0.185774</td>\n",
       "      <td>22.2</td>\n",
       "    </tr>\n",
       "  </tbody>\n",
       "</table>\n",
       "</div>"
      ],
      "text/plain": [
       "          0         1         2         3         4         5         6  \\\n",
       "0 -0.337828 -0.501493 -0.420017 -0.256575 -0.125514 -0.682616  0.808408   \n",
       "1  0.914026 -0.501493  1.074845 -0.256575  1.636288  0.488430  0.960878   \n",
       "2 -0.411268 -0.501493 -1.129927 -0.256575 -0.552882  1.030899  0.666574   \n",
       "3  0.125742 -0.501493  1.074845 -0.256575  1.444408 -3.914474  0.723308   \n",
       "4 -0.405742  0.841792 -0.901795 -0.256575 -1.084911  0.099516 -0.517733   \n",
       "\n",
       "          7         8         9        10        11        12  Price  \n",
       "0  0.438044 -0.640338 -0.581537  1.174696  0.199041  0.323687   16.6  \n",
       "1 -0.825750  1.658659  1.555328  0.804155 -2.847570  1.524257   13.4  \n",
       "2 -0.184784 -0.870238 -0.801771 -0.307467  0.427454 -0.997507   23.6  \n",
       "3 -1.078528  1.658659  1.555328  0.804155 -0.054016 -0.767611   27.5  \n",
       "4  1.601122 -0.410439 -0.623203 -0.863278  0.151921 -0.185774   22.2  "
      ]
     },
     "execution_count": 12,
     "metadata": {},
     "output_type": "execute_result"
    }
   ],
   "source": [
    "# Creating a new dataframe out of train data which later will be used create mini batches for SGD.\n",
    "\n",
    "d = pd.DataFrame(x_tr_ar)\n",
    "d['Price'] = y_tr_ar\n",
    "\n",
    "# Displaying head of 5\n",
    "d.head()"
   ]
  },
  {
   "cell_type": "markdown",
   "metadata": {},
   "source": [
    "# Defining a function to create own Stochastic Gradient Descent (SGD)\n",
    "\n",
    "SGD is the additional feature of GD which is reduces the number of iteration unlike GD.\n",
    "In SGD, suppose number of iteration is k and in GD number of iteration is n such that 1 < k < n.\n",
    "\n",
    "Referrences:\n",
    "\n",
    "https://stackoverflow.com/questions/50328545/stochastic-gradient-descent-for-linear-regression-on-partial-derivatives\n",
    "\n",
    "https://towardsdatascience.com/linear-regression-using-gradient-descent-in-10-lines-of-code-642f995339c0\n",
    "\n",
    "https://scikit-learn.org/stable/modules/generated/sklearn.linear_model.SGDRegressor.html"
   ]
  },
  {
   "cell_type": "code",
   "execution_count": 13,
   "metadata": {},
   "outputs": [],
   "source": [
    "# Defining a function to create own SGD\n",
    "\n",
    "def own_sgd(da, iteration, l_r, eta0, power_t = 0.25):\n",
    "                                                    # Number of iteration\n",
    "    rate = eta0                                     # Learning rate (we are taking 0.01)\n",
    "    ite = 1                                               \n",
    "    w_o = np.random.rand(13)                  # Initial random weights to pass in linear equation\n",
    "    b_o = np.random.rand()                                        # Initial intercept to pass in linear equation\n",
    "    \n",
    "    while (ite <= iteration):                                \n",
    "        \n",
    "        w_u = w_o                                   # Assigning initial weights to variable\n",
    "        b_u = b_o                                   # Assigning initial intercept to variable\n",
    "        \n",
    "        de = da.sample(n = 10, random_state = 1)\n",
    "        x = np.array(de.drop('Price', axis = 1))\n",
    "        y = np.array(de['Price'])\n",
    "        \n",
    "        w_dif = np.random.rand(13)           # Initial weights to pass in as differentiated weight\n",
    "        b_dif = np.random.rand()                              # Initial intercept to pass in as differentiated intercept\n",
    "        \n",
    "        for i in range(10):                      # For loop to work on partially differentiated linear cost function\n",
    "            \n",
    "            # partial differentiated w.r.t weight (w) equation - summation over (-2x) (y-(mx+c))\n",
    "            # partial differentiated w.r.t intercept (b) equation - summation over (-x) (y-(mx+c))\n",
    "            y_new = y[i] - (np.dot(w_u, x[i]) + b_u)    \n",
    "            w_dif += x[i] * y_new \n",
    "            b_dif += y_new\n",
    "            \n",
    "        w_dif *= (-2/x.shape[0])                    # Updating weights to pass in as partially differentiated weight         \n",
    "        b_dif *= (-2/x.shape[0])                    # Updating intercept to pass in as partially differentiated intercept\n",
    "    \n",
    "        w_o = w_u - np.dot(rate, w_dif)             # Calculating SGD for weights\n",
    "        b_o = b_u - np.dot(rate, b_dif)             # Calculating SGD for intercept\n",
    "        \n",
    "                                                    # Updating intercept to pass in linear equation\n",
    "        \n",
    "        if l_r == \"invscaling\":                     # If condition for optimal learning rate \"invscaling\"\n",
    "            rate = eta0 / pow(ite, power_t)\n",
    "             \n",
    "        ite += 1                                    # Incrementing till the defined iteration\n",
    "        \n",
    "    return w_o, b_o                                 # Returns weights and intercept\n",
    "    "
   ]
  },
  {
   "cell_type": "markdown",
   "metadata": {},
   "source": [
    "# Defining a function to predict on test data with above weights (w) and intercept (b).\n",
    "\n",
    "# Plotting actual values v/s predicted values\n",
    "# Finding mean squared error"
   ]
  },
  {
   "cell_type": "code",
   "execution_count": 14,
   "metadata": {},
   "outputs": [],
   "source": [
    "# Defining a function to predict on test data with above weights (w) and intercept (b)\n",
    "\n",
    "from sklearn.metrics import mean_squared_error\n",
    "\n",
    "def pred(x_te, y_te, w, b):\n",
    "\n",
    "    y_pred = []                                        # Stores all predicted values in it.\n",
    "    err = []\n",
    "    er = 0                                             # Initial error value as 0\n",
    "     \n",
    "    for i in range(len(x_te)):\n",
    "        p = np.asscalar(np.dot(w, x_te[i]) + b)        # Calculating linear equation mx+c\n",
    "        er += (y_te[i] - p)** 2\n",
    "        error = np.array(er)\n",
    "        \n",
    "        err.append(error)\n",
    "        y_pred.append(p)                               # Appends predicted values\n",
    "        \n",
    "    predicted = np.array(y_pred)\n",
    "    \n",
    "    # Plotting actual values v/s predicted values\n",
    "    plt.scatter(y_te, predicted)\n",
    "    plt.xlabel(\"Actual values\")\n",
    "    plt.ylabel(\"Predicted values\")\n",
    "    plt.title(\"Own SGD - Actual values v/s Predicted values\")\n",
    "    \n",
    "    # Mean Squared Error\n",
    "    return error/float(len(x_te))                       # Returns mean squared error"
   ]
  },
  {
   "cell_type": "markdown",
   "metadata": {},
   "source": [
    "# Defining function for sklearn SGD"
   ]
  },
  {
   "cell_type": "code",
   "execution_count": 15,
   "metadata": {},
   "outputs": [],
   "source": [
    "# Defining function for sklearn SGD\n",
    "\n",
    "from sklearn.linear_model import SGDRegressor\n",
    "\n",
    "def skl(x_tr, y_tr, x_te, y_te, l_r, et, n_iter):\n",
    "    \n",
    "    sg = SGDRegressor(learning_rate = l_r, eta0 = et, n_iter = n_iter)\n",
    "    sg = sg.fit(x_tr, y_tr)\n",
    "    sk_y_pred = sg.predict(x_te)\n",
    "    \n",
    "    # Plotting actual values v/s predicted values\n",
    "    plt.scatter(y_te, sk_y_pred)\n",
    "    plt.xlabel(\"Actual values\")\n",
    "    plt.ylabel(\"Predicted values\")\n",
    "    plt.title(\" sklearn SGD - Actual v/s Predicted\")\n",
    "    \n",
    "    return sg.coef_, sg.intercept_,  mean_squared_error(y_te, sk_y_pred)"
   ]
  },
  {
   "cell_type": "markdown",
   "metadata": {},
   "source": [
    "# Defining a function to get mean squared error, intercept and weights."
   ]
  },
  {
   "cell_type": "code",
   "execution_count": 16,
   "metadata": {},
   "outputs": [],
   "source": [
    "# Defining a function to get weights, intercept and mean squared error\n",
    "\n",
    "def miw(m_mse, m_b, m_w, s_mse, s_b, s_w):\n",
    "    \n",
    "    print(\"Manual SGD\")\n",
    "    print(\"-\"*25, '\\n')\n",
    "    print(\"Mean Squared Error: \", m_mse, '\\n')\n",
    "    print(\"Intercept: \", m_b, '\\n')\n",
    "    print(\"Weights:\", '\\n')\n",
    "    print(m_w, '\\n')\n",
    "    \n",
    "    print(\"*\"*50, '\\n')\n",
    "    \n",
    "    print(\"Sklearn SGD\")\n",
    "    print(\"-\"*25, '\\n')\n",
    "    print(\"Mean Squared Error: \", s_mse, '\\n')\n",
    "    print(\"Intercept: \", s_b, '\\n')\n",
    "    print(\"Weights:\", '\\n')\n",
    "    print(s_w)    "
   ]
  },
  {
   "cell_type": "code",
   "execution_count": 17,
   "metadata": {},
   "outputs": [],
   "source": [
    "# Creating table for learning rate 'constant'\n",
    "\n",
    "table_constant = pd.DataFrame(columns = ['S.No', 'SGD Regressor', 'Learning Rate', 'Initial Rate',\n",
    "                                          'Iteration', 'Power', 'Mean Squared Error'])"
   ]
  },
  {
   "cell_type": "markdown",
   "metadata": {},
   "source": [
    "# Calling functions with learning_rate = 'constant'"
   ]
  },
  {
   "cell_type": "markdown",
   "metadata": {},
   "source": [
    "# Own SGD implimentation\n",
    "\n",
    "learning rate = 'constant'\n",
    "\n",
    "iteration = 10\n",
    "\n",
    "eta0 (rate) = 0.01"
   ]
  },
  {
   "cell_type": "code",
   "execution_count": 18,
   "metadata": {},
   "outputs": [],
   "source": [
    "# Calling own_sgd function and assigning weights (w) and intercept (b)\n",
    "\n",
    "w_c_10, b_c_10 = own_sgd(d, 10, 'constant', 0.01)\n"
   ]
  },
  {
   "cell_type": "code",
   "execution_count": 19,
   "metadata": {},
   "outputs": [
    {
     "data": {
      "image/png": "[encoded data removed]",
      "text/plain": [
       "<Figure size 432x288 with 1 Axes>"
      ]
     },
     "metadata": {
      "needs_background": "light"
     },
     "output_type": "display_data"
    }
   ],
   "source": [
    "# Using obtained weights (w) and intercept (b), predicting test data\n",
    "\n",
    "mse_c_10 = pred(x_te_ar, y_te_ar, w_c_10, b_c_10)"
   ]
  },
  {
   "cell_type": "code",
   "execution_count": 20,
   "metadata": {},
   "outputs": [],
   "source": [
    "table_constant.loc[0] = [1, 'Manual SGD', 'constant', 0.01, 10, 0.25, mse_c_10]"
   ]
  },
  {
   "cell_type": "markdown",
   "metadata": {},
   "source": [
    "# sklearn SGD implimentation\n",
    "\n",
    "learning_rate = 'constant'\n",
    "\n",
    "iteration = 10\n",
    "\n",
    "eta0 (rate) = 0.01"
   ]
  },
  {
   "cell_type": "code",
   "execution_count": 21,
   "metadata": {},
   "outputs": [
    {
     "name": "stderr",
     "output_type": "stream",
     "text": [
      "c:\\users\\brothers\\appdata\\local\\programs\\python\\python36\\lib\\site-packages\\sklearn\\linear_model\\stochastic_gradient.py:130: DeprecationWarning: n_iter parameter is deprecated in 0.19 and will be removed in 0.21. Use max_iter and tol instead.\n",
      "  DeprecationWarning)\n"
     ]
    },
    {
     "data": {
      "image/png": "[encoded data removed]",
      "text/plain": [
       "<Figure size 432x288 with 1 Axes>"
      ]
     },
     "metadata": {
      "needs_background": "light"
     },
     "output_type": "display_data"
    }
   ],
   "source": [
    "s_w_c_10, s_b_c_10, s_mse_c_10 = skl(x_tr_ar, y_tr_ar, x_te_ar, y_te_ar, 'constant', 0.01, 10)"
   ]
  },
  {
   "cell_type": "code",
   "execution_count": 22,
   "metadata": {},
   "outputs": [],
   "source": [
    "table_constant.loc[1] = [2, 'Sklearn SGD', 'constant', 0.01, 10, 0.25, s_mse_c_10]"
   ]
  },
  {
   "cell_type": "markdown",
   "metadata": {},
   "source": [
    "# Weights, intercept and mean squared error"
   ]
  },
  {
   "cell_type": "code",
   "execution_count": 23,
   "metadata": {},
   "outputs": [
    {
     "name": "stdout",
     "output_type": "stream",
     "text": [
      "Manual SGD\n",
      "------------------------- \n",
      "\n",
      "Mean Squared Error:  353.249847948423 \n",
      "\n",
      "Intercept:  5.171469416422844 \n",
      "\n",
      "Weights: \n",
      "\n",
      "[ 0.27179477  1.96317313 -0.67224188 -0.36742571  0.08598312  3.79744361\n",
      " -0.39957943 -0.60419974 -0.21876118 -0.05121822 -1.72776806  0.8515834\n",
      " -1.5585484 ] \n",
      "\n",
      "************************************************** \n",
      "\n",
      "Sklearn SGD\n",
      "------------------------- \n",
      "\n",
      "Mean Squared Error:  28.31510882619527 \n",
      "\n",
      "Intercept:  [23.13770497] \n",
      "\n",
      "Weights: \n",
      "\n",
      "[-0.81807911  1.00617048 -0.13129044 -0.02696679 -1.61584677  2.58045168\n",
      " -0.25034417 -2.85746306  2.82931039 -1.75370798 -2.03980377  0.65442688\n",
      " -3.1696728 ]\n"
     ]
    }
   ],
   "source": [
    "# Calling miw function to get mse, intercept and weight\n",
    "\n",
    "miw(mse_c_10, b_c_10, w_c_10, s_mse_c_10, s_b_c_10, s_w_c_10)"
   ]
  },
  {
   "cell_type": "markdown",
   "metadata": {},
   "source": [
    "# Own SGD implimentation\n",
    "\n",
    "learning rate = 'constant'\n",
    "\n",
    "iteration = 100\n",
    "\n",
    "eta0 (rate) = 0.01"
   ]
  },
  {
   "cell_type": "code",
   "execution_count": 24,
   "metadata": {},
   "outputs": [],
   "source": [
    "# Calling own_sgd function and assigning weights (w) and intercept (b)\n",
    "\n",
    "w_c_100, b_c_100 = own_sgd(d, 100, 'constant', 0.01)"
   ]
  },
  {
   "cell_type": "code",
   "execution_count": 25,
   "metadata": {},
   "outputs": [
    {
     "data": {
      "image/png": "[encoded data removed]",
      "text/plain": [
       "<Figure size 432x288 with 1 Axes>"
      ]
     },
     "metadata": {
      "needs_background": "light"
     },
     "output_type": "display_data"
    }
   ],
   "source": [
    "# Using obtained weights (w) and intercept (b), predicting test data\n",
    "\n",
    "mse_c_100 = pred(x_te_ar, y_te_ar, w_c_100, b_c_100)"
   ]
  },
  {
   "cell_type": "code",
   "execution_count": 26,
   "metadata": {},
   "outputs": [],
   "source": [
    "table_constant.loc[2] = [3, 'Manual SGD', 'constant', 0.01, 100, 0.25, mse_c_100]"
   ]
  },
  {
   "cell_type": "markdown",
   "metadata": {},
   "source": [
    "# sklearn SGD implimentation\n",
    "\n",
    "learning_rate = 'constant'\n",
    "\n",
    "iteration = 100\n",
    "\n",
    "eta0 (rate) = 0.01"
   ]
  },
  {
   "cell_type": "code",
   "execution_count": 27,
   "metadata": {},
   "outputs": [
    {
     "name": "stderr",
     "output_type": "stream",
     "text": [
      "c:\\users\\brothers\\appdata\\local\\programs\\python\\python36\\lib\\site-packages\\sklearn\\linear_model\\stochastic_gradient.py:130: DeprecationWarning: n_iter parameter is deprecated in 0.19 and will be removed in 0.21. Use max_iter and tol instead.\n",
      "  DeprecationWarning)\n"
     ]
    },
    {
     "data": {
      "image/png": "[encoded data removed]",
      "text/plain": [
       "<Figure size 432x288 with 1 Axes>"
      ]
     },
     "metadata": {
      "needs_background": "light"
     },
     "output_type": "display_data"
    }
   ],
   "source": [
    "# Calling sklearn sgd function and assigning weights (w) and intercept (b)\n",
    "\n",
    "s_w_c_100, s_b_c_100, s_mse_c_100 = skl(x_tr_ar, y_tr_ar, x_te_ar, y_te_ar, 'constant', 0.01, 100)"
   ]
  },
  {
   "cell_type": "code",
   "execution_count": 28,
   "metadata": {},
   "outputs": [],
   "source": [
    "table_constant.loc[3] = [4, 'Sklearn SGD', 'constant', 0.01, 100, 0.25, s_mse_c_100]"
   ]
  },
  {
   "cell_type": "markdown",
   "metadata": {},
   "source": [
    "# Weight, intercept and mean squared error"
   ]
  },
  {
   "cell_type": "code",
   "execution_count": 29,
   "metadata": {},
   "outputs": [
    {
     "name": "stdout",
     "output_type": "stream",
     "text": [
      "Manual SGD\n",
      "------------------------- \n",
      "\n",
      "Mean Squared Error:  117.22163766211325 \n",
      "\n",
      "Intercept:  16.422119146182272 \n",
      "\n",
      "Weights: \n",
      "\n",
      "[-0.07483892  1.44262178 -0.18119362 -3.03208863  0.292717    6.90676442\n",
      "  0.70850848 -4.28385607  0.81842182  1.33686783 -2.22845316  2.06779038\n",
      " -5.7811177 ] \n",
      "\n",
      "************************************************** \n",
      "\n",
      "Sklearn SGD\n",
      "------------------------- \n",
      "\n",
      "Mean Squared Error:  30.35789114427949 \n",
      "\n",
      "Intercept:  [22.37771031] \n",
      "\n",
      "Weights: \n",
      "\n",
      "[-1.16475117  0.48493593 -0.04260192  0.1251348  -1.29508652  2.25038695\n",
      " -0.3322592  -2.79903287  3.10780979 -2.17041445 -1.72578418  1.07852831\n",
      " -3.05652661]\n"
     ]
    }
   ],
   "source": [
    "# Calling miw function to get mse, intercept and weight\n",
    "\n",
    "miw(mse_c_100, b_c_100, w_c_100, s_mse_c_100, s_b_c_100, s_w_c_100)"
   ]
  },
  {
   "cell_type": "markdown",
   "metadata": {},
   "source": [
    "# Own SGD implimentation\n",
    "\n",
    "learning_rate = 'constant'\n",
    "\n",
    "iteration = 1000\n",
    "\n",
    "eta0 (rate) = 0.01"
   ]
  },
  {
   "cell_type": "code",
   "execution_count": 30,
   "metadata": {},
   "outputs": [],
   "source": [
    "# Calling own_sgd function and assigning weights (w) and intercept (b)\n",
    "\n",
    "w_c_1k, b_c_1k = own_sgd(d, 1000, 'constant', 0.01)"
   ]
  },
  {
   "cell_type": "code",
   "execution_count": 31,
   "metadata": {},
   "outputs": [
    {
     "data": {
      "image/png": "[encoded data removed]",
      "text/plain": [
       "<Figure size 432x288 with 1 Axes>"
      ]
     },
     "metadata": {
      "needs_background": "light"
     },
     "output_type": "display_data"
    }
   ],
   "source": [
    "# Using obtained weights (w) and intercept (b), predicting test data\n",
    "\n",
    "mse_c_1k = pred(x_te_ar, y_te_ar, w_c_1k, b_c_1k)"
   ]
  },
  {
   "cell_type": "code",
   "execution_count": 32,
   "metadata": {},
   "outputs": [],
   "source": [
    "table_constant.loc[4] = (5, 'Manual SGD', 'constant', 0.01, 1000, 0.25, mse_c_1k)"
   ]
  },
  {
   "cell_type": "markdown",
   "metadata": {},
   "source": [
    "# Sklearn SGD implimentation\n",
    "\n",
    "learning_rate = 'constant'\n",
    "\n",
    "iteration = 1000\n",
    "\n",
    "eta0 (rate) = 0.01"
   ]
  },
  {
   "cell_type": "code",
   "execution_count": 33,
   "metadata": {},
   "outputs": [
    {
     "name": "stderr",
     "output_type": "stream",
     "text": [
      "c:\\users\\brothers\\appdata\\local\\programs\\python\\python36\\lib\\site-packages\\sklearn\\linear_model\\stochastic_gradient.py:130: DeprecationWarning: n_iter parameter is deprecated in 0.19 and will be removed in 0.21. Use max_iter and tol instead.\n",
      "  DeprecationWarning)\n"
     ]
    },
    {
     "data": {
      "image/png": "[encoded data removed]",
      "text/plain": [
       "<Figure size 432x288 with 1 Axes>"
      ]
     },
     "metadata": {
      "needs_background": "light"
     },
     "output_type": "display_data"
    }
   ],
   "source": [
    "# Calling sklearn sgd function and assigning weights (w) and intercept (b)\n",
    "\n",
    "s_w_c_1k, s_b_c_1k, s_mse_c_1k = skl(x_tr_ar, y_tr_ar, x_te_ar, y_te_ar, 'constant', 0.01, 1000)"
   ]
  },
  {
   "cell_type": "code",
   "execution_count": 34,
   "metadata": {},
   "outputs": [],
   "source": [
    "table_constant.loc[5] = [6, 'Sklearn SGD', 'constant', 0.01, 1000, 0.25, s_mse_c_1k]"
   ]
  },
  {
   "cell_type": "markdown",
   "metadata": {},
   "source": [
    "# Weights, intercept and mean squared error"
   ]
  },
  {
   "cell_type": "code",
   "execution_count": 35,
   "metadata": {},
   "outputs": [
    {
     "name": "stdout",
     "output_type": "stream",
     "text": [
      "Manual SGD\n",
      "------------------------- \n",
      "\n",
      "Mean Squared Error:  96.9315919448252 \n",
      "\n",
      "Intercept:  19.336921814498407 \n",
      "\n",
      "Weights: \n",
      "\n",
      "[ 1.31007953 -1.85045026 -1.06464053 -3.51743189 -1.20094719  4.40875563\n",
      "  0.22073633 -3.83996389  0.77463915  1.96784535 -1.56257856  1.51246222\n",
      " -8.84950696] \n",
      "\n",
      "************************************************** \n",
      "\n",
      "Sklearn SGD\n",
      "------------------------- \n",
      "\n",
      "Mean Squared Error:  35.174407471500906 \n",
      "\n",
      "Intercept:  [22.7284311] \n",
      "\n",
      "Weights: \n",
      "\n",
      "[-1.37390607  1.03202158 -0.3343032  -0.31369484 -1.87118993  2.08501959\n",
      " -0.75298369 -2.27266844  2.78750087 -2.41964381 -2.09549643  0.87354488\n",
      " -3.199621  ]\n"
     ]
    }
   ],
   "source": [
    "# Calling miw function to get mse, intercept and weight\n",
    "\n",
    "miw(mse_c_1k, b_c_1k, w_c_1k, s_mse_c_1k, s_b_c_1k, s_w_c_1k)"
   ]
  },
  {
   "cell_type": "markdown",
   "metadata": {},
   "source": [
    "# Own SGD implimentation\n",
    "\n",
    "learning_rate = 'constant'\n",
    "\n",
    "iteration = 10000\n",
    "\n",
    "eta0 (rate) = 0.01"
   ]
  },
  {
   "cell_type": "code",
   "execution_count": 36,
   "metadata": {},
   "outputs": [],
   "source": [
    "# Calling own_sgd function and assigning weights (w) and intercept (b)\n",
    "\n",
    "w_c_10k, b_c_10k = own_sgd(d, 10000, 'constant', 0.01)"
   ]
  },
  {
   "cell_type": "code",
   "execution_count": 37,
   "metadata": {},
   "outputs": [
    {
     "data": {
      "image/png": "[encoded data removed]",
      "text/plain": [
       "<Figure size 432x288 with 1 Axes>"
      ]
     },
     "metadata": {
      "needs_background": "light"
     },
     "output_type": "display_data"
    }
   ],
   "source": [
    "# Using obtained weights (w) and intercept (b), predicting test data\n",
    "\n",
    "mse_c_10k = pred(x_te_ar, y_te_ar, w_c_10k, b_c_10k)"
   ]
  },
  {
   "cell_type": "code",
   "execution_count": 38,
   "metadata": {},
   "outputs": [],
   "source": [
    "table_constant.loc[6] = [7, 'Manual SGD', 'constant', 0.01, 10000, 0.25, mse_c_10k]"
   ]
  },
  {
   "cell_type": "markdown",
   "metadata": {},
   "source": [
    "# Sklearn SGD implimentation\n",
    "\n",
    "learning_rate = 'constant'\n",
    "\n",
    "iteration = 10000\n",
    "\n",
    "eta0 (rate) = 0.01"
   ]
  },
  {
   "cell_type": "code",
   "execution_count": 39,
   "metadata": {},
   "outputs": [
    {
     "name": "stderr",
     "output_type": "stream",
     "text": [
      "c:\\users\\brothers\\appdata\\local\\programs\\python\\python36\\lib\\site-packages\\sklearn\\linear_model\\stochastic_gradient.py:130: DeprecationWarning: n_iter parameter is deprecated in 0.19 and will be removed in 0.21. Use max_iter and tol instead.\n",
      "  DeprecationWarning)\n"
     ]
    },
    {
     "data": {
      "image/png": "[encoded data removed]",
      "text/plain": [
       "<Figure size 432x288 with 1 Axes>"
      ]
     },
     "metadata": {
      "needs_background": "light"
     },
     "output_type": "display_data"
    }
   ],
   "source": [
    "# Calling sklearn sgd function and assigning weights (w) and intercept (b)\n",
    "\n",
    "s_w_c_10k, s_b_c_10k, s_mse_c_10k = skl(x_tr_ar, y_tr_ar, x_te_ar, y_te_ar, 'constant', 0.01, 10000)"
   ]
  },
  {
   "cell_type": "code",
   "execution_count": 40,
   "metadata": {},
   "outputs": [],
   "source": [
    "table_constant.loc[7] = [8, 'Sklearn SGD', 'constant', 0.01, 10000, 0.25, s_mse_c_10k]"
   ]
  },
  {
   "cell_type": "markdown",
   "metadata": {},
   "source": [
    "# Weights, intercept and mean squared error"
   ]
  },
  {
   "cell_type": "code",
   "execution_count": 41,
   "metadata": {},
   "outputs": [
    {
     "name": "stdout",
     "output_type": "stream",
     "text": [
      "Manual SGD\n",
      "------------------------- \n",
      "\n",
      "Mean Squared Error:  105.08070306417906 \n",
      "\n",
      "Intercept:  24.86708056776552 \n",
      "\n",
      "Weights: \n",
      "\n",
      "[ 5.14783900e+00 -8.70590763e-01 -6.90206176e-01  6.97549550e+00\n",
      "  4.94052285e-01  1.97753932e+00  1.85759230e+00 -6.67553926e-03\n",
      " -2.15273422e+00  9.37798605e-01 -3.35100387e+00  1.18816801e+00\n",
      " -7.37821785e+00] \n",
      "\n",
      "************************************************** \n",
      "\n",
      "Sklearn SGD\n",
      "------------------------- \n",
      "\n",
      "Mean Squared Error:  27.342820353794885 \n",
      "\n",
      "Intercept:  [22.55243219] \n",
      "\n",
      "Weights: \n",
      "\n",
      "[-1.23267106  0.68808455 -0.08130756  0.56605002 -1.58588697  2.9473358\n",
      " -0.34976532 -2.73954556  3.21291074 -2.20127116 -1.93000973  1.05554629\n",
      " -3.57745635]\n"
     ]
    }
   ],
   "source": [
    "# Calling miw function to get mse, intercept and weight\n",
    "\n",
    "miw(mse_c_10k, b_c_10k, w_c_10k, s_mse_c_10k, s_b_c_10k, s_w_c_10k)"
   ]
  },
  {
   "cell_type": "markdown",
   "metadata": {},
   "source": [
    "# Calling functions with learning_rate = 'invscaling'"
   ]
  },
  {
   "cell_type": "markdown",
   "metadata": {},
   "source": [
    "# Own SGD implimentation\n",
    "\n",
    "learning_rate = 'invscaling'\n",
    "\n",
    "iteration = 10\n",
    "\n",
    "eta0 (rate) = 0.01"
   ]
  },
  {
   "cell_type": "code",
   "execution_count": 42,
   "metadata": {},
   "outputs": [],
   "source": [
    "# Creating table for invscaling\n",
    "\n",
    "table_invscaling = pd.DataFrame(columns = ['S.No', 'SGD Regressor', 'Learning Rate', 'Initial Rate',\n",
    "                                            'Iteration', 'Power', 'Mean Squared Error'])"
   ]
  },
  {
   "cell_type": "code",
   "execution_count": 43,
   "metadata": {},
   "outputs": [],
   "source": [
    "# Calling own_sgd function and assigning weights (w) and intercept (b)\n",
    "\n",
    "w_i_10, b_i_10 = own_sgd(d, 10, 'invscaling', 0.01)"
   ]
  },
  {
   "cell_type": "code",
   "execution_count": 44,
   "metadata": {},
   "outputs": [
    {
     "data": {
      "image/png": "[encoded data removed]",
      "text/plain": [
       "<Figure size 432x288 with 1 Axes>"
      ]
     },
     "metadata": {
      "needs_background": "light"
     },
     "output_type": "display_data"
    }
   ],
   "source": [
    "# Using obtained weights (w) and intercept (b), predicting test data\n",
    "\n",
    "mse_i_10 = pred(x_te_ar, y_te_ar, w_i_10, b_i_10)"
   ]
  },
  {
   "cell_type": "code",
   "execution_count": 45,
   "metadata": {},
   "outputs": [],
   "source": [
    "table_invscaling.loc[0] = [1, 'Manual SGD', 'Invscaling', 0.01, 10, 0.25, mse_i_10]"
   ]
  },
  {
   "cell_type": "markdown",
   "metadata": {},
   "source": [
    "# Sklearn SGD implimentation\n",
    "\n",
    "learning_rate = 'invscaling'\n",
    "\n",
    "iteration = 10\n",
    "\n",
    "eta0 (rate) = 0.01"
   ]
  },
  {
   "cell_type": "code",
   "execution_count": 46,
   "metadata": {},
   "outputs": [
    {
     "name": "stderr",
     "output_type": "stream",
     "text": [
      "c:\\users\\brothers\\appdata\\local\\programs\\python\\python36\\lib\\site-packages\\sklearn\\linear_model\\stochastic_gradient.py:130: DeprecationWarning: n_iter parameter is deprecated in 0.19 and will be removed in 0.21. Use max_iter and tol instead.\n",
      "  DeprecationWarning)\n"
     ]
    },
    {
     "data": {
      "image/png": "[encoded data removed]",
      "text/plain": [
       "<Figure size 432x288 with 1 Axes>"
      ]
     },
     "metadata": {
      "needs_background": "light"
     },
     "output_type": "display_data"
    }
   ],
   "source": [
    "# Calling sklearn sgd function and assigning weights (w) and intercept (b)\n",
    "\n",
    "s_w_i_10, s_b_i_10, s_mse_i_10 = skl(x_tr_ar, y_tr_ar, x_te_ar, y_te_ar, 'invscaling', 0.01, 10)"
   ]
  },
  {
   "cell_type": "code",
   "execution_count": 47,
   "metadata": {},
   "outputs": [],
   "source": [
    "table_invscaling.loc[1] = [2, 'Sklearn SGD', 'Invscaling', 0.01, 10, 0.25, s_mse_i_10]"
   ]
  },
  {
   "cell_type": "markdown",
   "metadata": {},
   "source": [
    "# Weights, intercept and mean squared error"
   ]
  },
  {
   "cell_type": "code",
   "execution_count": 48,
   "metadata": {},
   "outputs": [
    {
     "name": "stdout",
     "output_type": "stream",
     "text": [
      "Manual SGD\n",
      "------------------------- \n",
      "\n",
      "Mean Squared Error:  398.9663666332191 \n",
      "\n",
      "Intercept:  3.784175578133705 \n",
      "\n",
      "Weights: \n",
      "\n",
      "[-0.34325302  1.18605718 -0.7765952  -0.19215884 -0.23300725  3.19580575\n",
      "  0.16263462 -0.71793853  0.24775709  0.38860039 -1.26380845  0.84046254\n",
      " -1.84877703] \n",
      "\n",
      "************************************************** \n",
      "\n",
      "Sklearn SGD\n",
      "------------------------- \n",
      "\n",
      "Mean Squared Error:  29.008218848045676 \n",
      "\n",
      "Intercept:  [22.48093298] \n",
      "\n",
      "Weights: \n",
      "\n",
      "[-1.01588836  0.48061415 -0.34949233  0.25854113 -0.91430763  3.05743569\n",
      " -0.30526643 -2.09661274  1.09038277 -0.50685262 -2.06025871  0.96651256\n",
      " -3.27291438]\n"
     ]
    }
   ],
   "source": [
    "# Calling miw function to get mse, intercept and weight\n",
    "\n",
    "miw(mse_i_10, b_i_10, w_i_10, s_mse_i_10, s_b_i_10, s_w_i_10)"
   ]
  },
  {
   "cell_type": "markdown",
   "metadata": {},
   "source": [
    "# Own SGD implimentation\n",
    "\n",
    "learning_rate = 'invscaling'\n",
    "\n",
    "iteration = 100\n",
    "\n",
    "eta0 (rate) = 0.01"
   ]
  },
  {
   "cell_type": "code",
   "execution_count": 49,
   "metadata": {},
   "outputs": [],
   "source": [
    "# Calling own_sgd function and assigning weights (w) and intercept (b)\n",
    "\n",
    "w_i_100, b_i_100 = own_sgd(d, 100, 'invscaling', 0.01)"
   ]
  },
  {
   "cell_type": "code",
   "execution_count": 50,
   "metadata": {},
   "outputs": [
    {
     "data": {
      "image/png": "[encoded data removed]",
      "text/plain": [
       "<Figure size 432x288 with 1 Axes>"
      ]
     },
     "metadata": {
      "needs_background": "light"
     },
     "output_type": "display_data"
    }
   ],
   "source": [
    "# Using obtained weights (w) and intercept (b), predicting test data\n",
    "\n",
    "mse_i_100 = pred(x_te_ar, y_te_ar, w_i_100, b_i_100)"
   ]
  },
  {
   "cell_type": "code",
   "execution_count": 51,
   "metadata": {},
   "outputs": [],
   "source": [
    "table_invscaling.loc[2] = [3, 'Manual SGD', 'Invscaling', 0.01, 100, 0.25, mse_i_100]"
   ]
  },
  {
   "cell_type": "markdown",
   "metadata": {},
   "source": [
    "# Sklearn SGD implimentation\n",
    "\n",
    "learning_rate = 'invscaling'\n",
    "\n",
    "iteration = 100\n",
    "\n",
    "eta0 (rate) = 0.01"
   ]
  },
  {
   "cell_type": "code",
   "execution_count": 52,
   "metadata": {},
   "outputs": [
    {
     "name": "stderr",
     "output_type": "stream",
     "text": [
      "c:\\users\\brothers\\appdata\\local\\programs\\python\\python36\\lib\\site-packages\\sklearn\\linear_model\\stochastic_gradient.py:130: DeprecationWarning: n_iter parameter is deprecated in 0.19 and will be removed in 0.21. Use max_iter and tol instead.\n",
      "  DeprecationWarning)\n"
     ]
    },
    {
     "data": {
      "image/png": "[encoded data removed]",
      "text/plain": [
       "<Figure size 432x288 with 1 Axes>"
      ]
     },
     "metadata": {
      "needs_background": "light"
     },
     "output_type": "display_data"
    }
   ],
   "source": [
    "# Calling sklearn sgd function and assigning weights (w) and intercept (b)\n",
    "\n",
    "s_w_i_100, s_b_i_100, s_mse_i_100 = skl(x_tr_ar, y_tr_ar, x_te_ar, y_te_ar, 'invscaling', 0.01, 100)"
   ]
  },
  {
   "cell_type": "code",
   "execution_count": 53,
   "metadata": {},
   "outputs": [],
   "source": [
    "table_invscaling.loc[3] = [4, 'Sklearn SGD', 'Invscaling', 0.01, 100, 0.25, s_mse_i_100]"
   ]
  },
  {
   "cell_type": "markdown",
   "metadata": {},
   "source": [
    "# Weights, intercept and mean squared error"
   ]
  },
  {
   "cell_type": "code",
   "execution_count": 54,
   "metadata": {},
   "outputs": [
    {
     "name": "stdout",
     "output_type": "stream",
     "text": [
      "Manual SGD\n",
      "------------------------- \n",
      "\n",
      "Mean Squared Error:  177.747871154381 \n",
      "\n",
      "Intercept:  12.27822739425763 \n",
      "\n",
      "Weights: \n",
      "\n",
      "[-0.42000389  2.27719924 -0.18973537 -2.62285762  0.16790996  6.64574759\n",
      "  0.24620195 -2.74331772  0.56939929  1.4625872  -3.13946775  1.54426312\n",
      " -3.57513566] \n",
      "\n",
      "************************************************** \n",
      "\n",
      "Sklearn SGD\n",
      "------------------------- \n",
      "\n",
      "Mean Squared Error:  28.712595482786003 \n",
      "\n",
      "Intercept:  [22.52437501] \n",
      "\n",
      "Weights: \n",
      "\n",
      "[-1.2975344   0.84343368 -0.28699428  0.21282437 -1.47768158  2.79166457\n",
      " -0.35242816 -2.76857487  2.60908479 -1.89031726 -2.11888424  1.05123389\n",
      " -3.32447132]\n"
     ]
    }
   ],
   "source": [
    "# Calling miw function to get mse, intercept and weight\n",
    "\n",
    "miw(mse_i_100, b_i_100, w_i_100, s_mse_i_100, s_b_i_100, s_w_i_100)"
   ]
  },
  {
   "cell_type": "markdown",
   "metadata": {},
   "source": [
    "# Own SGD implimentation\n",
    "\n",
    "learning_rate = 'invscaling'\n",
    "\n",
    "iteration = 1000\n",
    "\n",
    "eta0 (rate) = 0.01"
   ]
  },
  {
   "cell_type": "code",
   "execution_count": 55,
   "metadata": {},
   "outputs": [],
   "source": [
    "# Calling own_sgd function and assigning weights (w) and intercept (b)\n",
    "\n",
    "w_i_1k, b_i_1k = own_sgd(d, 1000, 'invscaling', 0.01)"
   ]
  },
  {
   "cell_type": "code",
   "execution_count": 56,
   "metadata": {},
   "outputs": [
    {
     "data": {
      "image/png": "[encoded data removed]",
      "text/plain": [
       "<Figure size 432x288 with 1 Axes>"
      ]
     },
     "metadata": {
      "needs_background": "light"
     },
     "output_type": "display_data"
    }
   ],
   "source": [
    "# Using obtained weights (w) and intercept (b), predicting test data\n",
    "\n",
    "mse_i_1k = pred(x_te_ar, y_te_ar, w_i_1k, b_i_1k)"
   ]
  },
  {
   "cell_type": "code",
   "execution_count": 57,
   "metadata": {},
   "outputs": [],
   "source": [
    "table_invscaling.loc[4] = [5, 'Manual SGD', 'Invscaling', 0.01, 1000, 0.25, mse_i_1k]"
   ]
  },
  {
   "cell_type": "markdown",
   "metadata": {},
   "source": [
    "# Sklearn SGD implimentation\n",
    "\n",
    "learning_rate = 'invscaling'\n",
    "\n",
    "iteration = 1000\n",
    "\n",
    "eta0 (rate) = 0.01"
   ]
  },
  {
   "cell_type": "code",
   "execution_count": 58,
   "metadata": {},
   "outputs": [
    {
     "name": "stderr",
     "output_type": "stream",
     "text": [
      "c:\\users\\brothers\\appdata\\local\\programs\\python\\python36\\lib\\site-packages\\sklearn\\linear_model\\stochastic_gradient.py:130: DeprecationWarning: n_iter parameter is deprecated in 0.19 and will be removed in 0.21. Use max_iter and tol instead.\n",
      "  DeprecationWarning)\n"
     ]
    },
    {
     "data": {
      "image/png": "[encoded data removed]",
      "text/plain": [
       "<Figure size 432x288 with 1 Axes>"
      ]
     },
     "metadata": {
      "needs_background": "light"
     },
     "output_type": "display_data"
    }
   ],
   "source": [
    "# Calling sklearn sgd function and assigning weights (w) and intercept (b)\n",
    "\n",
    "s_w_i_1k, s_b_i_1k, s_mse_i_1k = skl(x_tr_ar, y_tr_ar, x_te_ar, y_te_ar, 'invscaling', 0.01, 1000)"
   ]
  },
  {
   "cell_type": "code",
   "execution_count": 59,
   "metadata": {},
   "outputs": [],
   "source": [
    "table_invscaling.loc[5] = [6, 'Sklearn SGD', 'Invscaling', 0.01, 1000, 0.25, s_mse_i_1k]"
   ]
  },
  {
   "cell_type": "markdown",
   "metadata": {},
   "source": [
    "# Weights, intercept and mean squared error"
   ]
  },
  {
   "cell_type": "code",
   "execution_count": 60,
   "metadata": {},
   "outputs": [
    {
     "name": "stdout",
     "output_type": "stream",
     "text": [
      "Manual SGD\n",
      "------------------------- \n",
      "\n",
      "Mean Squared Error:  107.21980207612128 \n",
      "\n",
      "Intercept:  18.085226609658857 \n",
      "\n",
      "Weights: \n",
      "\n",
      "[ 5.21007957e-01  4.98938863e-03  9.20325139e-03 -3.94814123e+00\n",
      " -6.59753394e-01  5.89101337e+00  2.89225567e-01 -4.18850288e+00\n",
      "  6.43822235e-01  1.80946678e+00 -1.76028164e+00  2.18368709e+00\n",
      " -7.17334567e+00] \n",
      "\n",
      "************************************************** \n",
      "\n",
      "Sklearn SGD\n",
      "------------------------- \n",
      "\n",
      "Mean Squared Error:  28.577868333644517 \n",
      "\n",
      "Intercept:  [22.52438148] \n",
      "\n",
      "Weights: \n",
      "\n",
      "[-1.29864723  0.85442216 -0.16372529  0.18781855 -1.47231905  2.77440958\n",
      " -0.30875373 -2.77128219  2.97545953 -2.26025426 -2.12537746  1.05093109\n",
      " -3.32227417]\n"
     ]
    }
   ],
   "source": [
    "# Calling miw function to get mse, intercept and weight\n",
    "\n",
    "miw(mse_i_1k, b_i_1k, w_i_1k, s_mse_i_1k, s_b_i_1k, s_w_i_1k)"
   ]
  },
  {
   "cell_type": "markdown",
   "metadata": {},
   "source": [
    "# Own SGD implimentation\n",
    "\n",
    "learning_rate = 'invscaling'\n",
    "\n",
    "iteration = 10000\n",
    "\n",
    "eta0 (rate) = 0.01"
   ]
  },
  {
   "cell_type": "code",
   "execution_count": 61,
   "metadata": {},
   "outputs": [],
   "source": [
    "# Calling own_sgd function and assigning weights (w) and intercept (b)\n",
    "\n",
    "w_i_10k, b_i_10k = own_sgd(d, 10000, 'invscaling', 0.01)"
   ]
  },
  {
   "cell_type": "code",
   "execution_count": 62,
   "metadata": {},
   "outputs": [
    {
     "data": {
      "image/png": "[encoded data removed]",
      "text/plain": [
       "<Figure size 432x288 with 1 Axes>"
      ]
     },
     "metadata": {
      "needs_background": "light"
     },
     "output_type": "display_data"
    }
   ],
   "source": [
    "# Using obtained weights (w) and intercept (b), predicting test data\n",
    "\n",
    "mse_i_10k = pred(x_te_ar, y_te_ar, w_i_10k, b_i_10k)"
   ]
  },
  {
   "cell_type": "code",
   "execution_count": 63,
   "metadata": {},
   "outputs": [],
   "source": [
    "table_invscaling.loc[6] = [7, 'Manual SGD', 'Invscaling', 0.01, 10000, 0.25, mse_i_10k]"
   ]
  },
  {
   "cell_type": "markdown",
   "metadata": {},
   "source": [
    "# Sklearn SGD implimentation\n",
    "\n",
    "learning_rate = 'invscaling'\n",
    "\n",
    "iteration = 1500\n",
    "\n",
    "eta0 (rate) = 0.01"
   ]
  },
  {
   "cell_type": "code",
   "execution_count": 64,
   "metadata": {},
   "outputs": [
    {
     "name": "stderr",
     "output_type": "stream",
     "text": [
      "c:\\users\\brothers\\appdata\\local\\programs\\python\\python36\\lib\\site-packages\\sklearn\\linear_model\\stochastic_gradient.py:130: DeprecationWarning: n_iter parameter is deprecated in 0.19 and will be removed in 0.21. Use max_iter and tol instead.\n",
      "  DeprecationWarning)\n"
     ]
    },
    {
     "data": {
      "image/png": "[encoded data removed]",
      "text/plain": [
       "<Figure size 432x288 with 1 Axes>"
      ]
     },
     "metadata": {
      "needs_background": "light"
     },
     "output_type": "display_data"
    }
   ],
   "source": [
    "# Calling sklearn_sgd function and assigning weights (w) and intercept (b)\n",
    "\n",
    "s_w_i_10k, s_b_i_10k, s_mse_i_10k = skl(x_tr_ar, y_tr_ar, x_te_ar, y_te_ar, 'invscaling', 0.01, 10000)"
   ]
  },
  {
   "cell_type": "code",
   "execution_count": 65,
   "metadata": {},
   "outputs": [],
   "source": [
    "table_invscaling.loc[7] = [8, 'Sklearn SGD', 'Invscaling', 0.01, 10000, 0.25, s_mse_i_10k]"
   ]
  },
  {
   "cell_type": "markdown",
   "metadata": {},
   "source": [
    "# Weights, intercept and mean squared error"
   ]
  },
  {
   "cell_type": "code",
   "execution_count": 66,
   "metadata": {},
   "outputs": [
    {
     "name": "stdout",
     "output_type": "stream",
     "text": [
      "Manual SGD\n",
      "------------------------- \n",
      "\n",
      "Mean Squared Error:  82.14591904354263 \n",
      "\n",
      "Intercept:  19.821314350905173 \n",
      "\n",
      "Weights: \n",
      "\n",
      "[ 1.73716339 -2.05532967 -0.65231014 -2.64686101 -1.27573593  4.29291593\n",
      " -0.34791577 -3.6826553   0.66963565  1.76110782 -1.79878257  1.61226053\n",
      " -8.49229615] \n",
      "\n",
      "************************************************** \n",
      "\n",
      "Sklearn SGD\n",
      "------------------------- \n",
      "\n",
      "Mean Squared Error:  28.68467853222017 \n",
      "\n",
      "Intercept:  [22.52194578] \n",
      "\n",
      "Weights: \n",
      "\n",
      "[-1.31019777  0.85977304 -0.17214097  0.18884791 -1.48035072  2.7865439\n",
      " -0.31805979 -2.76315396  2.96724394 -2.26868899 -2.12908376  1.05527119\n",
      " -3.33277503]\n"
     ]
    }
   ],
   "source": [
    "# Calling miw function to get mse, intercept and weight\n",
    "\n",
    "miw(mse_i_10k, b_i_10k, w_i_10k, s_mse_i_10k, s_b_i_10k, s_w_i_10k)"
   ]
  },
  {
   "cell_type": "markdown",
   "metadata": {},
   "source": [
    "# Table for learning rate 'constant'"
   ]
  },
  {
   "cell_type": "code",
   "execution_count": 67,
   "metadata": {},
   "outputs": [
    {
     "name": "stdout",
     "output_type": "stream",
     "text": [
      "Table for learning rate 'constant'\n"
     ]
    },
    {
     "data": {
      "text/html": [
       "<div>\n",
       "<style scoped>\n",
       "    .dataframe tbody tr th:only-of-type {\n",
       "        vertical-align: middle;\n",
       "    }\n",
       "\n",
       "    .dataframe tbody tr th {\n",
       "        vertical-align: top;\n",
       "    }\n",
       "\n",
       "    .dataframe thead th {\n",
       "        text-align: right;\n",
       "    }\n",
       "</style>\n",
       "<table border=\"1\" class=\"dataframe\">\n",
       "  <thead>\n",
       "    <tr style=\"text-align: right;\">\n",
       "      <th></th>\n",
       "      <th>S.No</th>\n",
       "      <th>SGD Regressor</th>\n",
       "      <th>Learning Rate</th>\n",
       "      <th>Initial Rate</th>\n",
       "      <th>Iteration</th>\n",
       "      <th>Power</th>\n",
       "      <th>Mean Squared Error</th>\n",
       "    </tr>\n",
       "  </thead>\n",
       "  <tbody>\n",
       "    <tr>\n",
       "      <th>0</th>\n",
       "      <td>1</td>\n",
       "      <td>Manual SGD</td>\n",
       "      <td>constant</td>\n",
       "      <td>0.01</td>\n",
       "      <td>10</td>\n",
       "      <td>0.25</td>\n",
       "      <td>353.249848</td>\n",
       "    </tr>\n",
       "    <tr>\n",
       "      <th>1</th>\n",
       "      <td>2</td>\n",
       "      <td>Sklearn SGD</td>\n",
       "      <td>constant</td>\n",
       "      <td>0.01</td>\n",
       "      <td>10</td>\n",
       "      <td>0.25</td>\n",
       "      <td>28.315109</td>\n",
       "    </tr>\n",
       "    <tr>\n",
       "      <th>2</th>\n",
       "      <td>3</td>\n",
       "      <td>Manual SGD</td>\n",
       "      <td>constant</td>\n",
       "      <td>0.01</td>\n",
       "      <td>100</td>\n",
       "      <td>0.25</td>\n",
       "      <td>117.221638</td>\n",
       "    </tr>\n",
       "    <tr>\n",
       "      <th>3</th>\n",
       "      <td>4</td>\n",
       "      <td>Sklearn SGD</td>\n",
       "      <td>constant</td>\n",
       "      <td>0.01</td>\n",
       "      <td>100</td>\n",
       "      <td>0.25</td>\n",
       "      <td>30.357891</td>\n",
       "    </tr>\n",
       "    <tr>\n",
       "      <th>4</th>\n",
       "      <td>5</td>\n",
       "      <td>Manual SGD</td>\n",
       "      <td>constant</td>\n",
       "      <td>0.01</td>\n",
       "      <td>1000</td>\n",
       "      <td>0.25</td>\n",
       "      <td>96.931592</td>\n",
       "    </tr>\n",
       "    <tr>\n",
       "      <th>5</th>\n",
       "      <td>6</td>\n",
       "      <td>Sklearn SGD</td>\n",
       "      <td>constant</td>\n",
       "      <td>0.01</td>\n",
       "      <td>1000</td>\n",
       "      <td>0.25</td>\n",
       "      <td>35.174407</td>\n",
       "    </tr>\n",
       "    <tr>\n",
       "      <th>6</th>\n",
       "      <td>7</td>\n",
       "      <td>Manual SGD</td>\n",
       "      <td>constant</td>\n",
       "      <td>0.01</td>\n",
       "      <td>10000</td>\n",
       "      <td>0.25</td>\n",
       "      <td>105.080703</td>\n",
       "    </tr>\n",
       "    <tr>\n",
       "      <th>7</th>\n",
       "      <td>8</td>\n",
       "      <td>Sklearn SGD</td>\n",
       "      <td>constant</td>\n",
       "      <td>0.01</td>\n",
       "      <td>10000</td>\n",
       "      <td>0.25</td>\n",
       "      <td>27.342820</td>\n",
       "    </tr>\n",
       "  </tbody>\n",
       "</table>\n",
       "</div>"
      ],
      "text/plain": [
       "  S.No SGD Regressor Learning Rate  Initial Rate Iteration  Power  \\\n",
       "0    1    Manual SGD      constant          0.01        10   0.25   \n",
       "1    2   Sklearn SGD      constant          0.01        10   0.25   \n",
       "2    3    Manual SGD      constant          0.01       100   0.25   \n",
       "3    4   Sklearn SGD      constant          0.01       100   0.25   \n",
       "4    5    Manual SGD      constant          0.01      1000   0.25   \n",
       "5    6   Sklearn SGD      constant          0.01      1000   0.25   \n",
       "6    7    Manual SGD      constant          0.01     10000   0.25   \n",
       "7    8   Sklearn SGD      constant          0.01     10000   0.25   \n",
       "\n",
       "   Mean Squared Error  \n",
       "0          353.249848  \n",
       "1           28.315109  \n",
       "2          117.221638  \n",
       "3           30.357891  \n",
       "4           96.931592  \n",
       "5           35.174407  \n",
       "6          105.080703  \n",
       "7           27.342820  "
      ]
     },
     "execution_count": 67,
     "metadata": {},
     "output_type": "execute_result"
    }
   ],
   "source": [
    "print(\"Table for learning rate 'constant'\")\n",
    "\n",
    "table_constant"
   ]
  },
  {
   "cell_type": "markdown",
   "metadata": {},
   "source": [
    "# Table for learning rate 'invscaling'"
   ]
  },
  {
   "cell_type": "code",
   "execution_count": 68,
   "metadata": {},
   "outputs": [
    {
     "data": {
      "text/html": [
       "<div>\n",
       "<style scoped>\n",
       "    .dataframe tbody tr th:only-of-type {\n",
       "        vertical-align: middle;\n",
       "    }\n",
       "\n",
       "    .dataframe tbody tr th {\n",
       "        vertical-align: top;\n",
       "    }\n",
       "\n",
       "    .dataframe thead th {\n",
       "        text-align: right;\n",
       "    }\n",
       "</style>\n",
       "<table border=\"1\" class=\"dataframe\">\n",
       "  <thead>\n",
       "    <tr style=\"text-align: right;\">\n",
       "      <th></th>\n",
       "      <th>S.No</th>\n",
       "      <th>SGD Regressor</th>\n",
       "      <th>Learning Rate</th>\n",
       "      <th>Initial Rate</th>\n",
       "      <th>Iteration</th>\n",
       "      <th>Power</th>\n",
       "      <th>Mean Squared Error</th>\n",
       "    </tr>\n",
       "  </thead>\n",
       "  <tbody>\n",
       "    <tr>\n",
       "      <th>0</th>\n",
       "      <td>1</td>\n",
       "      <td>Manual SGD</td>\n",
       "      <td>Invscaling</td>\n",
       "      <td>0.01</td>\n",
       "      <td>10</td>\n",
       "      <td>0.25</td>\n",
       "      <td>398.966367</td>\n",
       "    </tr>\n",
       "    <tr>\n",
       "      <th>1</th>\n",
       "      <td>2</td>\n",
       "      <td>Sklearn SGD</td>\n",
       "      <td>Invscaling</td>\n",
       "      <td>0.01</td>\n",
       "      <td>10</td>\n",
       "      <td>0.25</td>\n",
       "      <td>29.008219</td>\n",
       "    </tr>\n",
       "    <tr>\n",
       "      <th>2</th>\n",
       "      <td>3</td>\n",
       "      <td>Manual SGD</td>\n",
       "      <td>Invscaling</td>\n",
       "      <td>0.01</td>\n",
       "      <td>100</td>\n",
       "      <td>0.25</td>\n",
       "      <td>177.747871</td>\n",
       "    </tr>\n",
       "    <tr>\n",
       "      <th>3</th>\n",
       "      <td>4</td>\n",
       "      <td>Sklearn SGD</td>\n",
       "      <td>Invscaling</td>\n",
       "      <td>0.01</td>\n",
       "      <td>100</td>\n",
       "      <td>0.25</td>\n",
       "      <td>28.712595</td>\n",
       "    </tr>\n",
       "    <tr>\n",
       "      <th>4</th>\n",
       "      <td>5</td>\n",
       "      <td>Manual SGD</td>\n",
       "      <td>Invscaling</td>\n",
       "      <td>0.01</td>\n",
       "      <td>1000</td>\n",
       "      <td>0.25</td>\n",
       "      <td>107.219802</td>\n",
       "    </tr>\n",
       "    <tr>\n",
       "      <th>5</th>\n",
       "      <td>6</td>\n",
       "      <td>Sklearn SGD</td>\n",
       "      <td>Invscaling</td>\n",
       "      <td>0.01</td>\n",
       "      <td>1000</td>\n",
       "      <td>0.25</td>\n",
       "      <td>28.577868</td>\n",
       "    </tr>\n",
       "    <tr>\n",
       "      <th>6</th>\n",
       "      <td>7</td>\n",
       "      <td>Manual SGD</td>\n",
       "      <td>Invscaling</td>\n",
       "      <td>0.01</td>\n",
       "      <td>10000</td>\n",
       "      <td>0.25</td>\n",
       "      <td>82.145919</td>\n",
       "    </tr>\n",
       "    <tr>\n",
       "      <th>7</th>\n",
       "      <td>8</td>\n",
       "      <td>Sklearn SGD</td>\n",
       "      <td>Invscaling</td>\n",
       "      <td>0.01</td>\n",
       "      <td>10000</td>\n",
       "      <td>0.25</td>\n",
       "      <td>28.684679</td>\n",
       "    </tr>\n",
       "  </tbody>\n",
       "</table>\n",
       "</div>"
      ],
      "text/plain": [
       "  S.No SGD Regressor Learning Rate  Initial Rate Iteration  Power  \\\n",
       "0    1    Manual SGD    Invscaling          0.01        10   0.25   \n",
       "1    2   Sklearn SGD    Invscaling          0.01        10   0.25   \n",
       "2    3    Manual SGD    Invscaling          0.01       100   0.25   \n",
       "3    4   Sklearn SGD    Invscaling          0.01       100   0.25   \n",
       "4    5    Manual SGD    Invscaling          0.01      1000   0.25   \n",
       "5    6   Sklearn SGD    Invscaling          0.01      1000   0.25   \n",
       "6    7    Manual SGD    Invscaling          0.01     10000   0.25   \n",
       "7    8   Sklearn SGD    Invscaling          0.01     10000   0.25   \n",
       "\n",
       "   Mean Squared Error  \n",
       "0          398.966367  \n",
       "1           29.008219  \n",
       "2          177.747871  \n",
       "3           28.712595  \n",
       "4          107.219802  \n",
       "5           28.577868  \n",
       "6           82.145919  \n",
       "7           28.684679  "
      ]
     },
     "execution_count": 68,
     "metadata": {},
     "output_type": "execute_result"
    }
   ],
   "source": [
    "# Table for learning rate 'invscaling'\n",
    "\n",
    "table_invscaling"
   ]
  },
  {
   "cell_type": "markdown",
   "metadata": {},
   "source": [
    "# Conclusion"
   ]
  },
  {
   "cell_type": "markdown",
   "metadata": {},
   "source": [
    "# Learning rate 'Constant' and 'invscaling'\n",
    "\n",
    "1) In both case, i.e learning rate 'constant' and 'invscaling', as iterations are increasing from 10 to 10000, mean squared error is decreasing.\n",
    "\n",
    "2) For the above particular dataset of 554 rows, as iterations are increasing mean squared errors are decreasing and number of iteration 10000 is good where mean squared error is very less i.e ~28."
   ]
  },
  {
   "cell_type": "code",
   "execution_count": null,
   "metadata": {},
   "outputs": [],
   "source": []
  },
  {
   "cell_type": "code",
   "execution_count": null,
   "metadata": {},
   "outputs": [],
   "source": []
  }
 ],
 "metadata": {
  "kernelspec": {
   "display_name": "Python 3",
   "language": "python",
   "name": "python3"
  },
  "language_info": {
   "codemirror_mode": {
    "name": "ipython",
    "version": 3
   },
   "file_extension": ".py",
   "mimetype": "text/x-python",
   "name": "python",
   "nbconvert_exporter": "python",
   "pygments_lexer": "ipython3",
   "version": "3.6.6"
  }
 },
 "nbformat": 4,
 "nbformat_minor": 2
}
